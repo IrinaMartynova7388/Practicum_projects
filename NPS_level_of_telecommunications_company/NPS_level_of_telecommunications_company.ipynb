{
 "cells": [
  {
   "cell_type": "markdown",
   "id": "a51e57be",
   "metadata": {},
   "source": [
    "# Анализ текущего уровня NPS телекоммуникационной компании среди клиентов из России"
   ]
  },
  {
   "cell_type": "markdown",
   "id": "34f9b877",
   "metadata": {},
   "source": [
    "Заказчик данного исследования — большая телекоммуникационная компания, которая оказывает услуги на территории всего СНГ. Перед компанией стоит задача определить текущий уровень потребительской лояльности, или NPS (от англ. Net Promoter Score), среди клиентов из России.\n",
    "\n",
    "Компания провела опрос и попросила вас подготовить дашборд с его итогами. Большую базу данных для такой задачи разворачивать не стали и выгрузили данные в SQLite.\n",
    "\n",
    "Чтобы оценить результаты опроса, оценки обычно делят на три группы:\n",
    "\n",
    "9-10 баллов — «cторонники» (англ. promoters);\n",
    "7-8 баллов — «нейтралы» (англ. passives);\n",
    "0-6 баллов — «критики» (англ. detractors).\n",
    "Итоговое значение NPS рассчитывается по формуле: % «сторонников» - % «критиков»."
   ]
  },
  {
   "cell_type": "markdown",
   "id": "cbc69f9c",
   "metadata": {},
   "source": [
    "Цель исследования — ответить на следующие вопросы:\n",
    "\n",
    "Как распределены участники опроса по возрасту, полу и возрасту? Каких пользователей больше: новых или старых? Пользователи из каких городов активнее участвовали в опросе?\n",
    "\n",
    "Какие группы пользователей наиболее лояльны к сервису? Какие менее?\n",
    "\n",
    "Какой общий NPS среди всех опрошенных?\n",
    "\n",
    "Как можно описать клиентов, которые относятся к группе cторонников (англ. promoters)?"
   ]
  },
  {
   "cell_type": "code",
   "execution_count": 1,
   "id": "fc7efa54",
   "metadata": {},
   "outputs": [],
   "source": [
    "# импортируем библиотеки\n",
    "import os\n",
    "import pandas as pd\n",
    "import numpy as np\n",
    "\n",
    "from sqlalchemy import create_engine"
   ]
  },
  {
   "cell_type": "code",
   "execution_count": 2,
   "id": "0017f8e7",
   "metadata": {},
   "outputs": [],
   "source": [
    "path_to_db_local = 'telecomm_csi.db'\n",
    "path_to_db_platform = '/datasets/telecomm_csi.db'\n",
    "path_to_db = None\n",
    "\n",
    "if os.path.exists(path_to_db_local):\n",
    "    path_to_db = path_to_db_local\n",
    "elif os.path.exists(path_to_db_platform):\n",
    "    path_to_db = path_to_db_platform\n",
    "else:\n",
    "    raise Exception('Файл с базой данных SQLite не найден!')\n",
    "\n",
    "if path_to_db:\n",
    "    engine = create_engine(f'sqlite:///{path_to_db}', echo=False)"
   ]
  },
  {
   "cell_type": "code",
   "execution_count": 3,
   "id": "84ebad43",
   "metadata": {},
   "outputs": [],
   "source": [
    "# SQL запрос\n",
    "query = \"\"\"\n",
    "SELECT u.user_id,\n",
    "       u.lt_day,\n",
    "       CASE \n",
    "           WHEN u.lt_day <= 365 THEN 'Новый'\n",
    "           ELSE 'Старый'\n",
    "           END AS is_new,\n",
    "       u.age,\n",
    "       CASE \n",
    "           WHEN u.gender_segment == 1 THEN 'Женщина'\n",
    "           WHEN u.gender_segment == 0 THEN 'Мужчина'\n",
    "           ELSE 'Не определен'\n",
    "           END AS gender_segment,\n",
    "       u.os_name,\n",
    "       u.cpe_type_name,\n",
    "       location.country,\n",
    "       location.city,\n",
    "       SUBSTR(age_segment.title, 4) AS age_segment,\n",
    "       SUBSTR(traffic_segment.title, 4) AS traffic_segment,\n",
    "       SUBSTR(lifetime_segment.title, 4) AS lifetime_segment,\n",
    "       u.nps_score,\n",
    "       CASE \n",
    "           WHEN u.nps_score >= 9 THEN 'Cторонник'\n",
    "           WHEN u.nps_score >= 7 THEN 'Нейтрал'\n",
    "           ELSE 'Критик'\n",
    "           END AS nps_group\n",
    "FROM user AS u\n",
    "JOIN location ON u.location_id = location.location_id\n",
    "JOIN age_segment ON u.age_gr_id = age_segment.age_gr_id\n",
    "JOIN traffic_segment ON u.tr_gr_id = traffic_segment.tr_gr_id\n",
    "JOIN lifetime_segment ON u.lt_gr_id = lifetime_segment.lt_gr_id;\n",
    "\"\"\""
   ]
  },
  {
   "cell_type": "code",
   "execution_count": 4,
   "id": "3965faf2",
   "metadata": {},
   "outputs": [
    {
     "data": {
      "text/html": [
       "<div>\n",
       "<style scoped>\n",
       "    .dataframe tbody tr th:only-of-type {\n",
       "        vertical-align: middle;\n",
       "    }\n",
       "\n",
       "    .dataframe tbody tr th {\n",
       "        vertical-align: top;\n",
       "    }\n",
       "\n",
       "    .dataframe thead th {\n",
       "        text-align: right;\n",
       "    }\n",
       "</style>\n",
       "<table border=\"1\" class=\"dataframe\">\n",
       "  <thead>\n",
       "    <tr style=\"text-align: right;\">\n",
       "      <th></th>\n",
       "      <th>user_id</th>\n",
       "      <th>lt_day</th>\n",
       "      <th>is_new</th>\n",
       "      <th>age</th>\n",
       "      <th>gender_segment</th>\n",
       "      <th>os_name</th>\n",
       "      <th>cpe_type_name</th>\n",
       "      <th>country</th>\n",
       "      <th>city</th>\n",
       "      <th>age_segment</th>\n",
       "      <th>traffic_segment</th>\n",
       "      <th>lifetime_segment</th>\n",
       "      <th>nps_score</th>\n",
       "      <th>nps_group</th>\n",
       "    </tr>\n",
       "  </thead>\n",
       "  <tbody>\n",
       "    <tr>\n",
       "      <th>0</th>\n",
       "      <td>A001A2</td>\n",
       "      <td>2320</td>\n",
       "      <td>Старый</td>\n",
       "      <td>45.0</td>\n",
       "      <td>Женщина</td>\n",
       "      <td>ANDROID</td>\n",
       "      <td>SMARTPHONE</td>\n",
       "      <td>Россия</td>\n",
       "      <td>Уфа</td>\n",
       "      <td>45-54</td>\n",
       "      <td>1-5</td>\n",
       "      <td>36+</td>\n",
       "      <td>10</td>\n",
       "      <td>Cторонник</td>\n",
       "    </tr>\n",
       "    <tr>\n",
       "      <th>1</th>\n",
       "      <td>A001WF</td>\n",
       "      <td>2344</td>\n",
       "      <td>Старый</td>\n",
       "      <td>53.0</td>\n",
       "      <td>Мужчина</td>\n",
       "      <td>ANDROID</td>\n",
       "      <td>SMARTPHONE</td>\n",
       "      <td>Россия</td>\n",
       "      <td>Киров</td>\n",
       "      <td>45-54</td>\n",
       "      <td>1-5</td>\n",
       "      <td>36+</td>\n",
       "      <td>10</td>\n",
       "      <td>Cторонник</td>\n",
       "    </tr>\n",
       "    <tr>\n",
       "      <th>2</th>\n",
       "      <td>A003Q7</td>\n",
       "      <td>467</td>\n",
       "      <td>Старый</td>\n",
       "      <td>57.0</td>\n",
       "      <td>Мужчина</td>\n",
       "      <td>ANDROID</td>\n",
       "      <td>SMARTPHONE</td>\n",
       "      <td>Россия</td>\n",
       "      <td>Москва</td>\n",
       "      <td>55-64</td>\n",
       "      <td>20-25</td>\n",
       "      <td>13-24</td>\n",
       "      <td>10</td>\n",
       "      <td>Cторонник</td>\n",
       "    </tr>\n",
       "    <tr>\n",
       "      <th>3</th>\n",
       "      <td>A004TB</td>\n",
       "      <td>4190</td>\n",
       "      <td>Старый</td>\n",
       "      <td>44.0</td>\n",
       "      <td>Женщина</td>\n",
       "      <td>IOS</td>\n",
       "      <td>SMARTPHONE</td>\n",
       "      <td>Россия</td>\n",
       "      <td>РостовнаДону</td>\n",
       "      <td>35-44</td>\n",
       "      <td>0.1-1</td>\n",
       "      <td>36+</td>\n",
       "      <td>10</td>\n",
       "      <td>Cторонник</td>\n",
       "    </tr>\n",
       "    <tr>\n",
       "      <th>4</th>\n",
       "      <td>A004XT</td>\n",
       "      <td>1163</td>\n",
       "      <td>Старый</td>\n",
       "      <td>24.0</td>\n",
       "      <td>Мужчина</td>\n",
       "      <td>ANDROID</td>\n",
       "      <td>SMARTPHONE</td>\n",
       "      <td>Россия</td>\n",
       "      <td>Рязань</td>\n",
       "      <td>16-24</td>\n",
       "      <td>5-10</td>\n",
       "      <td>36+</td>\n",
       "      <td>10</td>\n",
       "      <td>Cторонник</td>\n",
       "    </tr>\n",
       "    <tr>\n",
       "      <th>5</th>\n",
       "      <td>A005O0</td>\n",
       "      <td>5501</td>\n",
       "      <td>Старый</td>\n",
       "      <td>42.0</td>\n",
       "      <td>Женщина</td>\n",
       "      <td>ANDROID</td>\n",
       "      <td>SMARTPHONE</td>\n",
       "      <td>Россия</td>\n",
       "      <td>Омск</td>\n",
       "      <td>35-44</td>\n",
       "      <td>5-10</td>\n",
       "      <td>36+</td>\n",
       "      <td>6</td>\n",
       "      <td>Критик</td>\n",
       "    </tr>\n",
       "    <tr>\n",
       "      <th>6</th>\n",
       "      <td>A0061R</td>\n",
       "      <td>1236</td>\n",
       "      <td>Старый</td>\n",
       "      <td>45.0</td>\n",
       "      <td>Мужчина</td>\n",
       "      <td>ANDROID</td>\n",
       "      <td>SMARTPHONE</td>\n",
       "      <td>Россия</td>\n",
       "      <td>Уфа</td>\n",
       "      <td>45-54</td>\n",
       "      <td>10-15</td>\n",
       "      <td>36+</td>\n",
       "      <td>10</td>\n",
       "      <td>Cторонник</td>\n",
       "    </tr>\n",
       "    <tr>\n",
       "      <th>7</th>\n",
       "      <td>A009KS</td>\n",
       "      <td>313</td>\n",
       "      <td>Новый</td>\n",
       "      <td>35.0</td>\n",
       "      <td>Мужчина</td>\n",
       "      <td>ANDROID</td>\n",
       "      <td>SMARTPHONE</td>\n",
       "      <td>Россия</td>\n",
       "      <td>Москва</td>\n",
       "      <td>35-44</td>\n",
       "      <td>45-50</td>\n",
       "      <td>7-12</td>\n",
       "      <td>10</td>\n",
       "      <td>Cторонник</td>\n",
       "    </tr>\n",
       "    <tr>\n",
       "      <th>8</th>\n",
       "      <td>A00AES</td>\n",
       "      <td>3238</td>\n",
       "      <td>Старый</td>\n",
       "      <td>36.0</td>\n",
       "      <td>Женщина</td>\n",
       "      <td>ANDROID</td>\n",
       "      <td>SMARTPHONE</td>\n",
       "      <td>Россия</td>\n",
       "      <td>СанктПетербург</td>\n",
       "      <td>35-44</td>\n",
       "      <td>1-5</td>\n",
       "      <td>36+</td>\n",
       "      <td>10</td>\n",
       "      <td>Cторонник</td>\n",
       "    </tr>\n",
       "    <tr>\n",
       "      <th>9</th>\n",
       "      <td>A00F70</td>\n",
       "      <td>4479</td>\n",
       "      <td>Старый</td>\n",
       "      <td>54.0</td>\n",
       "      <td>Женщина</td>\n",
       "      <td>ANDROID</td>\n",
       "      <td>SMARTPHONE</td>\n",
       "      <td>Россия</td>\n",
       "      <td>Волгоград</td>\n",
       "      <td>45-54</td>\n",
       "      <td>15-20</td>\n",
       "      <td>36+</td>\n",
       "      <td>9</td>\n",
       "      <td>Cторонник</td>\n",
       "    </tr>\n",
       "  </tbody>\n",
       "</table>\n",
       "</div>"
      ],
      "text/plain": [
       "  user_id  lt_day  is_new   age gender_segment  os_name cpe_type_name country  \\\n",
       "0  A001A2    2320  Старый  45.0        Женщина  ANDROID    SMARTPHONE  Россия   \n",
       "1  A001WF    2344  Старый  53.0        Мужчина  ANDROID    SMARTPHONE  Россия   \n",
       "2  A003Q7     467  Старый  57.0        Мужчина  ANDROID    SMARTPHONE  Россия   \n",
       "3  A004TB    4190  Старый  44.0        Женщина      IOS    SMARTPHONE  Россия   \n",
       "4  A004XT    1163  Старый  24.0        Мужчина  ANDROID    SMARTPHONE  Россия   \n",
       "5  A005O0    5501  Старый  42.0        Женщина  ANDROID    SMARTPHONE  Россия   \n",
       "6  A0061R    1236  Старый  45.0        Мужчина  ANDROID    SMARTPHONE  Россия   \n",
       "7  A009KS     313   Новый  35.0        Мужчина  ANDROID    SMARTPHONE  Россия   \n",
       "8  A00AES    3238  Старый  36.0        Женщина  ANDROID    SMARTPHONE  Россия   \n",
       "9  A00F70    4479  Старый  54.0        Женщина  ANDROID    SMARTPHONE  Россия   \n",
       "\n",
       "             city age_segment traffic_segment lifetime_segment  nps_score  \\\n",
       "0             Уфа       45-54             1-5              36+         10   \n",
       "1           Киров       45-54             1-5              36+         10   \n",
       "2          Москва       55-64           20-25            13-24         10   \n",
       "3    РостовнаДону       35-44           0.1-1              36+         10   \n",
       "4          Рязань       16-24            5-10              36+         10   \n",
       "5            Омск       35-44            5-10              36+          6   \n",
       "6             Уфа       45-54           10-15              36+         10   \n",
       "7          Москва       35-44           45-50             7-12         10   \n",
       "8  СанктПетербург       35-44             1-5              36+         10   \n",
       "9       Волгоград       45-54           15-20              36+          9   \n",
       "\n",
       "   nps_group  \n",
       "0  Cторонник  \n",
       "1  Cторонник  \n",
       "2  Cторонник  \n",
       "3  Cторонник  \n",
       "4  Cторонник  \n",
       "5     Критик  \n",
       "6  Cторонник  \n",
       "7  Cторонник  \n",
       "8  Cторонник  \n",
       "9  Cторонник  "
      ]
     },
     "execution_count": 4,
     "metadata": {},
     "output_type": "execute_result"
    }
   ],
   "source": [
    "# создаём датафрейм по данным запроса\n",
    "df = pd.read_sql(query, engine)\n",
    "# выводим первые 10 строк датафрейма\n",
    "df.head(10)"
   ]
  },
  {
   "cell_type": "code",
   "execution_count": 5,
   "id": "7ddc7570",
   "metadata": {},
   "outputs": [
    {
     "name": "stdout",
     "output_type": "stream",
     "text": [
      "<class 'pandas.core.frame.DataFrame'>\n",
      "RangeIndex: 502493 entries, 0 to 502492\n",
      "Data columns (total 14 columns):\n",
      " #   Column            Non-Null Count   Dtype  \n",
      "---  ------            --------------   -----  \n",
      " 0   user_id           502493 non-null  object \n",
      " 1   lt_day            502493 non-null  int64  \n",
      " 2   is_new            502493 non-null  object \n",
      " 3   age               501939 non-null  float64\n",
      " 4   gender_segment    502493 non-null  object \n",
      " 5   os_name           502493 non-null  object \n",
      " 6   cpe_type_name     502493 non-null  object \n",
      " 7   country           502493 non-null  object \n",
      " 8   city              502493 non-null  object \n",
      " 9   age_segment       502493 non-null  object \n",
      " 10  traffic_segment   502493 non-null  object \n",
      " 11  lifetime_segment  502493 non-null  object \n",
      " 12  nps_score         502493 non-null  int64  \n",
      " 13  nps_group         502493 non-null  object \n",
      "dtypes: float64(1), int64(2), object(11)\n",
      "memory usage: 53.7+ MB\n"
     ]
    }
   ],
   "source": [
    "# выводим информацию о датафрейме\n",
    "df.info()"
   ]
  },
  {
   "cell_type": "markdown",
   "id": "100aafe8",
   "metadata": {},
   "source": [
    "В таблице 502493 строки и 14 столбцов:\n",
    "\n",
    "- user_id — идентификатор клиента\n",
    "- lt_day — количество дней «жизни» клиента\n",
    "- is_new — поле хранит информацию о том, является ли клиент новым\n",
    "- age — возраст\n",
    "- gender_segment — пол\n",
    "- os_name — тип операционной системы\n",
    "- cpe_type_name — тип устройства\n",
    "- country — страна проживания\n",
    "- city — город проживания\n",
    "- age_segment — возрастной сегмент\n",
    "- traffic_segment — сегмент по объёму потребляемого трафика\n",
    "- lifetime_segment — сегмент по количеству дней «жизни»\n",
    "- nps_score — оценка клиента в NPS-опросе\n",
    "- nps_group — поле хранит информацию о том, к какой группе относится оценка клиента в опросе"
   ]
  },
  {
   "cell_type": "code",
   "execution_count": 6,
   "id": "9db04858",
   "metadata": {},
   "outputs": [],
   "source": [
    "# получившуюся таблицу сохраняем как .csv файл.\n",
    "df.to_csv('telecomm_csi_tableau.csv', index=False)"
   ]
  },
  {
   "cell_type": "markdown",
   "id": "fe3976ca",
   "metadata": {},
   "source": [
    "# Ссылка на дашборд:\n",
    "\n",
    "https://public.tableau.com/views/_2_16862592983570/NPS_1_1?:language=en-US&:display_count=n&:origin=viz_share_link"
   ]
  },
  {
   "cell_type": "markdown",
   "id": "7f79bb42",
   "metadata": {},
   "source": [
    "# Ссылка на презентацию:\n",
    "\n",
    "https://disk.yandex.ru/i/KUjmjjTNfLGTOA"
   ]
  }
 ],
 "metadata": {
  "ExecuteTimeLog": [
   {
    "duration": 524,
    "start_time": "2023-06-03T13:36:57.564Z"
   },
   {
    "duration": 66,
    "start_time": "2023-06-03T13:36:58.090Z"
   },
   {
    "duration": 3,
    "start_time": "2023-06-03T13:36:58.158Z"
   },
   {
    "duration": 5270,
    "start_time": "2023-06-03T13:36:58.163Z"
   },
   {
    "duration": 4273,
    "start_time": "2023-06-03T13:37:03.435Z"
   },
   {
    "duration": 5236,
    "start_time": "2023-06-03T13:37:11.258Z"
   },
   {
    "duration": 529,
    "start_time": "2023-06-03T13:37:33.626Z"
   },
   {
    "duration": 4285,
    "start_time": "2023-06-03T13:37:37.995Z"
   },
   {
    "duration": 505,
    "start_time": "2023-06-03T13:37:45.896Z"
   },
   {
    "duration": 65,
    "start_time": "2023-06-03T13:37:46.403Z"
   },
   {
    "duration": 3,
    "start_time": "2023-06-03T13:37:46.470Z"
   },
   {
    "duration": 5365,
    "start_time": "2023-06-03T13:37:46.476Z"
   },
   {
    "duration": 529,
    "start_time": "2023-06-03T13:37:51.842Z"
   },
   {
    "duration": 4084,
    "start_time": "2023-06-03T13:37:52.377Z"
   },
   {
    "duration": 469,
    "start_time": "2023-06-08T21:38:27.416Z"
   },
   {
    "duration": 92,
    "start_time": "2023-06-08T21:38:27.887Z"
   },
   {
    "duration": 2,
    "start_time": "2023-06-08T21:38:27.981Z"
   },
   {
    "duration": 5010,
    "start_time": "2023-06-08T21:38:27.984Z"
   },
   {
    "duration": 527,
    "start_time": "2023-06-08T21:38:32.996Z"
   },
   {
    "duration": 3738,
    "start_time": "2023-06-08T21:38:33.525Z"
   },
   {
    "duration": 493,
    "start_time": "2023-06-08T21:46:56.360Z"
   },
   {
    "duration": 66,
    "start_time": "2023-06-08T21:46:56.855Z"
   },
   {
    "duration": 2,
    "start_time": "2023-06-08T21:46:56.923Z"
   },
   {
    "duration": 4683,
    "start_time": "2023-06-08T21:46:56.928Z"
   },
   {
    "duration": 549,
    "start_time": "2023-06-08T21:47:01.612Z"
   },
   {
    "duration": 4043,
    "start_time": "2023-06-08T21:47:02.162Z"
   },
   {
    "duration": 481,
    "start_time": "2023-06-08T21:47:53.456Z"
   },
   {
    "duration": 68,
    "start_time": "2023-06-08T21:47:53.939Z"
   },
   {
    "duration": 3,
    "start_time": "2023-06-08T21:47:54.008Z"
   },
   {
    "duration": 4930,
    "start_time": "2023-06-08T21:47:54.012Z"
   },
   {
    "duration": 537,
    "start_time": "2023-06-08T21:47:58.944Z"
   },
   {
    "duration": 4424,
    "start_time": "2023-06-08T21:47:59.484Z"
   },
   {
    "duration": 539,
    "start_time": "2023-06-09T04:48:55.247Z"
   },
   {
    "duration": 11,
    "start_time": "2023-06-09T04:48:55.788Z"
   },
   {
    "duration": 5,
    "start_time": "2023-06-09T04:48:55.801Z"
   },
   {
    "duration": 6072,
    "start_time": "2023-06-09T04:48:55.808Z"
   },
   {
    "duration": 626,
    "start_time": "2023-06-09T04:49:01.881Z"
   },
   {
    "duration": 4793,
    "start_time": "2023-06-09T04:49:02.508Z"
   },
   {
    "duration": 479,
    "start_time": "2023-06-13T14:32:35.275Z"
   },
   {
    "duration": 107,
    "start_time": "2023-06-13T14:32:35.756Z"
   },
   {
    "duration": 3,
    "start_time": "2023-06-13T14:32:35.865Z"
   },
   {
    "duration": 4980,
    "start_time": "2023-06-13T14:32:35.869Z"
   },
   {
    "duration": 482,
    "start_time": "2023-06-13T14:32:40.852Z"
   },
   {
    "duration": 3659,
    "start_time": "2023-06-13T14:32:41.335Z"
   },
   {
    "duration": 460,
    "start_time": "2023-06-13T14:34:21.179Z"
   },
   {
    "duration": 270,
    "start_time": "2023-06-13T14:34:21.641Z"
   },
   {
    "duration": 3,
    "start_time": "2023-06-13T14:34:21.912Z"
   },
   {
    "duration": 4409,
    "start_time": "2023-06-13T14:34:21.916Z"
   },
   {
    "duration": 475,
    "start_time": "2023-06-13T14:34:26.326Z"
   },
   {
    "duration": 3671,
    "start_time": "2023-06-13T14:34:26.803Z"
   },
   {
    "duration": 532,
    "start_time": "2023-06-14T04:18:41.373Z"
   },
   {
    "duration": 60,
    "start_time": "2023-06-14T04:18:41.907Z"
   },
   {
    "duration": 3,
    "start_time": "2023-06-14T04:18:41.969Z"
   },
   {
    "duration": 7000,
    "start_time": "2023-06-14T04:18:41.974Z"
   },
   {
    "duration": 622,
    "start_time": "2023-06-14T04:18:48.976Z"
   },
   {
    "duration": 5910,
    "start_time": "2023-06-14T04:18:49.601Z"
   }
  ],
  "kernelspec": {
   "display_name": "Python 3 (ipykernel)",
   "language": "python",
   "name": "python3"
  },
  "language_info": {
   "codemirror_mode": {
    "name": "ipython",
    "version": 3
   },
   "file_extension": ".py",
   "mimetype": "text/x-python",
   "name": "python",
   "nbconvert_exporter": "python",
   "pygments_lexer": "ipython3",
   "version": "3.10.9"
  },
  "toc": {
   "base_numbering": 1,
   "nav_menu": {},
   "number_sections": true,
   "sideBar": true,
   "skip_h1_title": true,
   "title_cell": "Table of Contents",
   "title_sidebar": "Contents",
   "toc_cell": false,
   "toc_position": {},
   "toc_section_display": true,
   "toc_window_display": false
  }
 },
 "nbformat": 4,
 "nbformat_minor": 5
}
