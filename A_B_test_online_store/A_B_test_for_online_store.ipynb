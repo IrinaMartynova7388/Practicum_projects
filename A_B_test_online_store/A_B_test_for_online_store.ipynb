{
 "cells": [
  {
   "cell_type": "markdown",
   "metadata": {},
   "source": [
    "# Проект: Проведение и анализ результатов А/B-теста для интернет магазина"
   ]
  },
  {
   "cell_type": "markdown",
   "metadata": {},
   "source": [
    "Вместе с отделом маркетинга мы подготовили список гипотез для увеличения выручки.\n",
    "Необходимо приоритизировать гипотезы, запустить A/B-тест и проанализировать результаты.\n",
    "\n",
    "**Цели исследования:**\n",
    "\n",
    "В данном исследовании будет произведена оценка кумулятивной выручки и кумулятивного среднего чека по группам, а также  относительного различия групп А и В. На основании произведенной оценки будет принято одно из решений: \n",
    "1. Остановить тест, зафиксировать победу одной из групп.\n",
    "2. Остановить тест, зафиксировать отсутствие различий между группами.\n",
    "3. Продолжить тест.\n",
    "\n",
    "**Ход исследования:**\n",
    "\n",
    "- Обзор и предобработка данных;\n",
    "- Приоритизация гипотез;\n",
    "- Анализ А/В-теста."
   ]
  },
  {
   "cell_type": "markdown",
   "metadata": {},
   "source": [
    "## Загрузка и предобработка данных"
   ]
  },
  {
   "cell_type": "code",
   "execution_count": 1,
   "metadata": {},
   "outputs": [],
   "source": [
    "# импорт библиотек\n",
    "import pandas as pd\n",
    "import numpy as np\n",
    "import datetime as dt\n",
    "import matplotlib.pyplot as plt\n",
    "import scipy.stats as stats"
   ]
  },
  {
   "cell_type": "code",
   "execution_count": 2,
   "metadata": {},
   "outputs": [],
   "source": [
    "# открытие файлов\n",
    "orders, visitors = (\n",
    "    pd.read_csv('/datasets/orders.csv'),  \n",
    "    pd.read_csv('/datasets/visitors.csv')\n",
    ")"
   ]
  },
  {
   "cell_type": "code",
   "execution_count": 3,
   "metadata": {},
   "outputs": [
    {
     "data": {
      "text/html": [
       "<div>\n",
       "<style scoped>\n",
       "    .dataframe tbody tr th:only-of-type {\n",
       "        vertical-align: middle;\n",
       "    }\n",
       "\n",
       "    .dataframe tbody tr th {\n",
       "        vertical-align: top;\n",
       "    }\n",
       "\n",
       "    .dataframe thead th {\n",
       "        text-align: right;\n",
       "    }\n",
       "</style>\n",
       "<table border=\"1\" class=\"dataframe\">\n",
       "  <thead>\n",
       "    <tr style=\"text-align: right;\">\n",
       "      <th></th>\n",
       "      <th>transactionId</th>\n",
       "      <th>visitorId</th>\n",
       "      <th>date</th>\n",
       "      <th>revenue</th>\n",
       "      <th>group</th>\n",
       "    </tr>\n",
       "  </thead>\n",
       "  <tbody>\n",
       "    <tr>\n",
       "      <th>0</th>\n",
       "      <td>3667963787</td>\n",
       "      <td>3312258926</td>\n",
       "      <td>2019-08-15</td>\n",
       "      <td>1650</td>\n",
       "      <td>B</td>\n",
       "    </tr>\n",
       "    <tr>\n",
       "      <th>1</th>\n",
       "      <td>2804400009</td>\n",
       "      <td>3642806036</td>\n",
       "      <td>2019-08-15</td>\n",
       "      <td>730</td>\n",
       "      <td>B</td>\n",
       "    </tr>\n",
       "    <tr>\n",
       "      <th>2</th>\n",
       "      <td>2961555356</td>\n",
       "      <td>4069496402</td>\n",
       "      <td>2019-08-15</td>\n",
       "      <td>400</td>\n",
       "      <td>A</td>\n",
       "    </tr>\n",
       "    <tr>\n",
       "      <th>3</th>\n",
       "      <td>3797467345</td>\n",
       "      <td>1196621759</td>\n",
       "      <td>2019-08-15</td>\n",
       "      <td>9759</td>\n",
       "      <td>B</td>\n",
       "    </tr>\n",
       "    <tr>\n",
       "      <th>4</th>\n",
       "      <td>2282983706</td>\n",
       "      <td>2322279887</td>\n",
       "      <td>2019-08-15</td>\n",
       "      <td>2308</td>\n",
       "      <td>B</td>\n",
       "    </tr>\n",
       "  </tbody>\n",
       "</table>\n",
       "</div>"
      ],
      "text/plain": [
       "   transactionId   visitorId        date  revenue group\n",
       "0     3667963787  3312258926  2019-08-15     1650     B\n",
       "1     2804400009  3642806036  2019-08-15      730     B\n",
       "2     2961555356  4069496402  2019-08-15      400     A\n",
       "3     3797467345  1196621759  2019-08-15     9759     B\n",
       "4     2282983706  2322279887  2019-08-15     2308     B"
      ]
     },
     "metadata": {},
     "output_type": "display_data"
    },
    {
     "name": "stdout",
     "output_type": "stream",
     "text": [
      "<class 'pandas.core.frame.DataFrame'>\n",
      "RangeIndex: 1197 entries, 0 to 1196\n",
      "Data columns (total 5 columns):\n",
      " #   Column         Non-Null Count  Dtype \n",
      "---  ------         --------------  ----- \n",
      " 0   transactionId  1197 non-null   int64 \n",
      " 1   visitorId      1197 non-null   int64 \n",
      " 2   date           1197 non-null   object\n",
      " 3   revenue        1197 non-null   int64 \n",
      " 4   group          1197 non-null   object\n",
      "dtypes: int64(3), object(2)\n",
      "memory usage: 46.9+ KB\n"
     ]
    },
    {
     "data": {
      "text/plain": [
       "None"
      ]
     },
     "metadata": {},
     "output_type": "display_data"
    },
    {
     "data": {
      "text/html": [
       "<div>\n",
       "<style scoped>\n",
       "    .dataframe tbody tr th:only-of-type {\n",
       "        vertical-align: middle;\n",
       "    }\n",
       "\n",
       "    .dataframe tbody tr th {\n",
       "        vertical-align: top;\n",
       "    }\n",
       "\n",
       "    .dataframe thead th {\n",
       "        text-align: right;\n",
       "    }\n",
       "</style>\n",
       "<table border=\"1\" class=\"dataframe\">\n",
       "  <thead>\n",
       "    <tr style=\"text-align: right;\">\n",
       "      <th></th>\n",
       "      <th>date</th>\n",
       "      <th>group</th>\n",
       "      <th>visitors</th>\n",
       "    </tr>\n",
       "  </thead>\n",
       "  <tbody>\n",
       "    <tr>\n",
       "      <th>0</th>\n",
       "      <td>2019-08-01</td>\n",
       "      <td>A</td>\n",
       "      <td>719</td>\n",
       "    </tr>\n",
       "    <tr>\n",
       "      <th>1</th>\n",
       "      <td>2019-08-02</td>\n",
       "      <td>A</td>\n",
       "      <td>619</td>\n",
       "    </tr>\n",
       "    <tr>\n",
       "      <th>2</th>\n",
       "      <td>2019-08-03</td>\n",
       "      <td>A</td>\n",
       "      <td>507</td>\n",
       "    </tr>\n",
       "    <tr>\n",
       "      <th>3</th>\n",
       "      <td>2019-08-04</td>\n",
       "      <td>A</td>\n",
       "      <td>717</td>\n",
       "    </tr>\n",
       "    <tr>\n",
       "      <th>4</th>\n",
       "      <td>2019-08-05</td>\n",
       "      <td>A</td>\n",
       "      <td>756</td>\n",
       "    </tr>\n",
       "  </tbody>\n",
       "</table>\n",
       "</div>"
      ],
      "text/plain": [
       "         date group  visitors\n",
       "0  2019-08-01     A       719\n",
       "1  2019-08-02     A       619\n",
       "2  2019-08-03     A       507\n",
       "3  2019-08-04     A       717\n",
       "4  2019-08-05     A       756"
      ]
     },
     "metadata": {},
     "output_type": "display_data"
    },
    {
     "name": "stdout",
     "output_type": "stream",
     "text": [
      "<class 'pandas.core.frame.DataFrame'>\n",
      "RangeIndex: 62 entries, 0 to 61\n",
      "Data columns (total 3 columns):\n",
      " #   Column    Non-Null Count  Dtype \n",
      "---  ------    --------------  ----- \n",
      " 0   date      62 non-null     object\n",
      " 1   group     62 non-null     object\n",
      " 2   visitors  62 non-null     int64 \n",
      "dtypes: int64(1), object(2)\n",
      "memory usage: 1.6+ KB\n"
     ]
    },
    {
     "data": {
      "text/plain": [
       "None"
      ]
     },
     "metadata": {},
     "output_type": "display_data"
    }
   ],
   "source": [
    "# просмотр информации о таблицах\n",
    "for i in [orders, visitors]:\n",
    "    display(i.head())\n",
    "    display(i.info())"
   ]
  },
  {
   "cell_type": "markdown",
   "metadata": {},
   "source": [
    "Структура orders:\n",
    "\n",
    "- transactionId — идентификатор заказа;\n",
    "- visitorId — идентификатор пользователя, совершившего заказ;\n",
    "- date — дата, когда был совершён заказ;\n",
    "- revenue — выручка заказа;\n",
    "- group — группа A/B-теста, в которую попал заказ.\n",
    "\n",
    "Структура visitors:\n",
    "\n",
    "- date — дата;\n",
    "- group — группа A/B-теста;\n",
    "- visitors — количество пользователей в указанную дату в указанной группе A/B-теста"
   ]
  },
  {
   "cell_type": "markdown",
   "metadata": {},
   "source": [
    "Пропусков нет. В датафреймах необходимо переименовать некоторые столбцы, а также привести столбцы с датой к корректному типу данных."
   ]
  },
  {
   "cell_type": "code",
   "execution_count": 4,
   "metadata": {},
   "outputs": [],
   "source": [
    "# приведём к нижнему регистру и добавим нижнее подчёркивание\n",
    "orders.columns = orders.columns.str.replace('Id', '_id') \n",
    "\n",
    "# приведём столбцы с датой к типу datetime\n",
    "orders['date'] = pd.to_datetime(orders['date'])\n",
    "visitors['date'] = pd.to_datetime(visitors['date'])"
   ]
  },
  {
   "cell_type": "code",
   "execution_count": 5,
   "metadata": {},
   "outputs": [
    {
     "data": {
      "text/html": [
       "<div>\n",
       "<style scoped>\n",
       "    .dataframe tbody tr th:only-of-type {\n",
       "        vertical-align: middle;\n",
       "    }\n",
       "\n",
       "    .dataframe tbody tr th {\n",
       "        vertical-align: top;\n",
       "    }\n",
       "\n",
       "    .dataframe thead th {\n",
       "        text-align: right;\n",
       "    }\n",
       "</style>\n",
       "<table border=\"1\" class=\"dataframe\">\n",
       "  <thead>\n",
       "    <tr style=\"text-align: right;\">\n",
       "      <th></th>\n",
       "      <th>transaction_id</th>\n",
       "      <th>visitor_id</th>\n",
       "      <th>date</th>\n",
       "      <th>revenue</th>\n",
       "      <th>group</th>\n",
       "    </tr>\n",
       "  </thead>\n",
       "  <tbody>\n",
       "    <tr>\n",
       "      <th>0</th>\n",
       "      <td>3667963787</td>\n",
       "      <td>3312258926</td>\n",
       "      <td>2019-08-15</td>\n",
       "      <td>1650</td>\n",
       "      <td>B</td>\n",
       "    </tr>\n",
       "    <tr>\n",
       "      <th>1</th>\n",
       "      <td>2804400009</td>\n",
       "      <td>3642806036</td>\n",
       "      <td>2019-08-15</td>\n",
       "      <td>730</td>\n",
       "      <td>B</td>\n",
       "    </tr>\n",
       "    <tr>\n",
       "      <th>2</th>\n",
       "      <td>2961555356</td>\n",
       "      <td>4069496402</td>\n",
       "      <td>2019-08-15</td>\n",
       "      <td>400</td>\n",
       "      <td>A</td>\n",
       "    </tr>\n",
       "    <tr>\n",
       "      <th>3</th>\n",
       "      <td>3797467345</td>\n",
       "      <td>1196621759</td>\n",
       "      <td>2019-08-15</td>\n",
       "      <td>9759</td>\n",
       "      <td>B</td>\n",
       "    </tr>\n",
       "    <tr>\n",
       "      <th>4</th>\n",
       "      <td>2282983706</td>\n",
       "      <td>2322279887</td>\n",
       "      <td>2019-08-15</td>\n",
       "      <td>2308</td>\n",
       "      <td>B</td>\n",
       "    </tr>\n",
       "  </tbody>\n",
       "</table>\n",
       "</div>"
      ],
      "text/plain": [
       "   transaction_id  visitor_id       date  revenue group\n",
       "0      3667963787  3312258926 2019-08-15     1650     B\n",
       "1      2804400009  3642806036 2019-08-15      730     B\n",
       "2      2961555356  4069496402 2019-08-15      400     A\n",
       "3      3797467345  1196621759 2019-08-15     9759     B\n",
       "4      2282983706  2322279887 2019-08-15     2308     B"
      ]
     },
     "metadata": {},
     "output_type": "display_data"
    },
    {
     "name": "stdout",
     "output_type": "stream",
     "text": [
      "<class 'pandas.core.frame.DataFrame'>\n",
      "RangeIndex: 1197 entries, 0 to 1196\n",
      "Data columns (total 5 columns):\n",
      " #   Column          Non-Null Count  Dtype         \n",
      "---  ------          --------------  -----         \n",
      " 0   transaction_id  1197 non-null   int64         \n",
      " 1   visitor_id      1197 non-null   int64         \n",
      " 2   date            1197 non-null   datetime64[ns]\n",
      " 3   revenue         1197 non-null   int64         \n",
      " 4   group           1197 non-null   object        \n",
      "dtypes: datetime64[ns](1), int64(3), object(1)\n",
      "memory usage: 46.9+ KB\n"
     ]
    },
    {
     "data": {
      "text/plain": [
       "None"
      ]
     },
     "metadata": {},
     "output_type": "display_data"
    },
    {
     "data": {
      "text/html": [
       "<div>\n",
       "<style scoped>\n",
       "    .dataframe tbody tr th:only-of-type {\n",
       "        vertical-align: middle;\n",
       "    }\n",
       "\n",
       "    .dataframe tbody tr th {\n",
       "        vertical-align: top;\n",
       "    }\n",
       "\n",
       "    .dataframe thead th {\n",
       "        text-align: right;\n",
       "    }\n",
       "</style>\n",
       "<table border=\"1\" class=\"dataframe\">\n",
       "  <thead>\n",
       "    <tr style=\"text-align: right;\">\n",
       "      <th></th>\n",
       "      <th>date</th>\n",
       "      <th>group</th>\n",
       "      <th>visitors</th>\n",
       "    </tr>\n",
       "  </thead>\n",
       "  <tbody>\n",
       "    <tr>\n",
       "      <th>0</th>\n",
       "      <td>2019-08-01</td>\n",
       "      <td>A</td>\n",
       "      <td>719</td>\n",
       "    </tr>\n",
       "    <tr>\n",
       "      <th>1</th>\n",
       "      <td>2019-08-02</td>\n",
       "      <td>A</td>\n",
       "      <td>619</td>\n",
       "    </tr>\n",
       "    <tr>\n",
       "      <th>2</th>\n",
       "      <td>2019-08-03</td>\n",
       "      <td>A</td>\n",
       "      <td>507</td>\n",
       "    </tr>\n",
       "    <tr>\n",
       "      <th>3</th>\n",
       "      <td>2019-08-04</td>\n",
       "      <td>A</td>\n",
       "      <td>717</td>\n",
       "    </tr>\n",
       "    <tr>\n",
       "      <th>4</th>\n",
       "      <td>2019-08-05</td>\n",
       "      <td>A</td>\n",
       "      <td>756</td>\n",
       "    </tr>\n",
       "  </tbody>\n",
       "</table>\n",
       "</div>"
      ],
      "text/plain": [
       "        date group  visitors\n",
       "0 2019-08-01     A       719\n",
       "1 2019-08-02     A       619\n",
       "2 2019-08-03     A       507\n",
       "3 2019-08-04     A       717\n",
       "4 2019-08-05     A       756"
      ]
     },
     "metadata": {},
     "output_type": "display_data"
    },
    {
     "name": "stdout",
     "output_type": "stream",
     "text": [
      "<class 'pandas.core.frame.DataFrame'>\n",
      "RangeIndex: 62 entries, 0 to 61\n",
      "Data columns (total 3 columns):\n",
      " #   Column    Non-Null Count  Dtype         \n",
      "---  ------    --------------  -----         \n",
      " 0   date      62 non-null     datetime64[ns]\n",
      " 1   group     62 non-null     object        \n",
      " 2   visitors  62 non-null     int64         \n",
      "dtypes: datetime64[ns](1), int64(1), object(1)\n",
      "memory usage: 1.6+ KB\n"
     ]
    },
    {
     "data": {
      "text/plain": [
       "None"
      ]
     },
     "metadata": {},
     "output_type": "display_data"
    }
   ],
   "source": [
    "# проверим внесение изменений\n",
    "for i in [orders, visitors]:\n",
    "    display(i.head())\n",
    "    display(i.info())"
   ]
  },
  {
   "cell_type": "markdown",
   "metadata": {},
   "source": [
    "Проверим датафреймы на наличие явных дубликатов."
   ]
  },
  {
   "cell_type": "code",
   "execution_count": 6,
   "metadata": {},
   "outputs": [
    {
     "data": {
      "text/plain": [
       "0"
      ]
     },
     "metadata": {},
     "output_type": "display_data"
    },
    {
     "data": {
      "text/plain": [
       "0"
      ]
     },
     "metadata": {},
     "output_type": "display_data"
    }
   ],
   "source": [
    "# проверяем наличие дубликатов\n",
    "for i in [orders, visitors]:\n",
    "    display(i.duplicated().sum())"
   ]
  },
  {
   "cell_type": "markdown",
   "metadata": {},
   "source": [
    "Явных дубликатов нет."
   ]
  },
  {
   "cell_type": "markdown",
   "metadata": {},
   "source": [
    "Проверим минимальную и максимальную даты для двух датафреймов."
   ]
  },
  {
   "cell_type": "code",
   "execution_count": 7,
   "metadata": {},
   "outputs": [
    {
     "data": {
      "text/plain": [
       "Timestamp('2019-08-01 00:00:00')"
      ]
     },
     "metadata": {},
     "output_type": "display_data"
    },
    {
     "data": {
      "text/plain": [
       "Timestamp('2019-08-31 00:00:00')"
      ]
     },
     "metadata": {},
     "output_type": "display_data"
    }
   ],
   "source": [
    "display(orders.date.min())\n",
    "display(orders.date.max())"
   ]
  },
  {
   "cell_type": "markdown",
   "metadata": {},
   "source": [
    "Минимальная и макисмальная даты для таблицы orders: 01.08.2019 и 31.08.2019."
   ]
  },
  {
   "cell_type": "code",
   "execution_count": 8,
   "metadata": {},
   "outputs": [
    {
     "data": {
      "text/plain": [
       "Timestamp('2019-08-01 00:00:00')"
      ]
     },
     "metadata": {},
     "output_type": "display_data"
    },
    {
     "data": {
      "text/plain": [
       "Timestamp('2019-08-31 00:00:00')"
      ]
     },
     "metadata": {},
     "output_type": "display_data"
    }
   ],
   "source": [
    "display(visitors.date.min())\n",
    "display(visitors.date.max())"
   ]
  },
  {
   "cell_type": "markdown",
   "metadata": {},
   "source": [
    "Минимальная и макисмальная даты для таблицы visitors также 01.08.2019 и 31.08.2019."
   ]
  },
  {
   "cell_type": "markdown",
   "metadata": {},
   "source": [
    "Проверим уникальные значения в столбце group в двух датафреймах и соотношение групп."
   ]
  },
  {
   "cell_type": "code",
   "execution_count": 9,
   "metadata": {},
   "outputs": [
    {
     "data": {
      "text/html": [
       "<div>\n",
       "<style scoped>\n",
       "    .dataframe tbody tr th:only-of-type {\n",
       "        vertical-align: middle;\n",
       "    }\n",
       "\n",
       "    .dataframe tbody tr th {\n",
       "        vertical-align: top;\n",
       "    }\n",
       "\n",
       "    .dataframe thead th {\n",
       "        text-align: right;\n",
       "    }\n",
       "</style>\n",
       "<table border=\"1\" class=\"dataframe\">\n",
       "  <thead>\n",
       "    <tr style=\"text-align: right;\">\n",
       "      <th></th>\n",
       "      <th>index</th>\n",
       "      <th>group</th>\n",
       "      <th>ratio</th>\n",
       "    </tr>\n",
       "  </thead>\n",
       "  <tbody>\n",
       "    <tr>\n",
       "      <th>0</th>\n",
       "      <td>B</td>\n",
       "      <td>640</td>\n",
       "      <td>0.53</td>\n",
       "    </tr>\n",
       "    <tr>\n",
       "      <th>1</th>\n",
       "      <td>A</td>\n",
       "      <td>557</td>\n",
       "      <td>0.47</td>\n",
       "    </tr>\n",
       "  </tbody>\n",
       "</table>\n",
       "</div>"
      ],
      "text/plain": [
       "  index  group  ratio\n",
       "0     B    640   0.53\n",
       "1     A    557   0.47"
      ]
     },
     "execution_count": 9,
     "metadata": {},
     "output_type": "execute_result"
    }
   ],
   "source": [
    "# проверяем уникальные значения в столбце group и соотношение количества строк для этих значений для датафрейма orders\n",
    "AB_ratio = orders.group.value_counts().reset_index()\n",
    "AB_ratio['ratio'] = round(AB_ratio['group'] / AB_ratio.group.sum(), 2)\n",
    "AB_ratio"
   ]
  },
  {
   "cell_type": "markdown",
   "metadata": {},
   "source": [
    "Соотношение количества строк датафрейма для групп А и В составляет 47% к 53% соответственно. Это не совсем корректно, соотношение должно быть ближе к 50 %."
   ]
  },
  {
   "cell_type": "code",
   "execution_count": 10,
   "metadata": {},
   "outputs": [
    {
     "data": {
      "text/plain": [
       "A    31\n",
       "B    31\n",
       "Name: group, dtype: int64"
      ]
     },
     "execution_count": 10,
     "metadata": {},
     "output_type": "execute_result"
    }
   ],
   "source": [
    "# проверяем уникальные значения в столбце group для датафрейма visitors\n",
    "visitors.group.value_counts()"
   ]
  },
  {
   "cell_type": "markdown",
   "metadata": {},
   "source": [
    "Здесь все корректно. 31 строка для обеих групп. Это соответствует 31 дню проведения теста."
   ]
  },
  {
   "cell_type": "markdown",
   "metadata": {},
   "source": [
    "Проверим есть ли в датафрейме orders пользователи, которые попали и в А и в В группы."
   ]
  },
  {
   "cell_type": "code",
   "execution_count": 11,
   "metadata": {},
   "outputs": [
    {
     "data": {
      "text/plain": [
       "1    973\n",
       "2     58\n",
       "Name: group, dtype: int64"
      ]
     },
     "execution_count": 11,
     "metadata": {},
     "output_type": "execute_result"
    }
   ],
   "source": [
    "count_AB = orders.groupby('visitor_id').agg({'group' : 'nunique'}).reset_index()\n",
    "count_AB.group.value_counts()"
   ]
  },
  {
   "cell_type": "markdown",
   "metadata": {},
   "source": [
    "В датафрейме всего 58 пользователей, которые попали в обе группы."
   ]
  },
  {
   "cell_type": "code",
   "execution_count": 12,
   "metadata": {},
   "outputs": [
    {
     "data": {
      "text/plain": [
       "array([   8300375,  199603092,  232979603,  237748145,  276558944,\n",
       "        351125977,  393266494,  457167155,  471551937,  477780734,\n",
       "        818047933,  963407295, 1230306981, 1294878855, 1316129916,\n",
       "       1333886533, 1404934699, 1602967004, 1614305549, 1648269707,\n",
       "       1668030113, 1738359350, 1801183820, 1959144690, 2038680547,\n",
       "       2044997962, 2378935119, 2458001652, 2579882178, 2587333274,\n",
       "       2600415354, 2654030115, 2686716486, 2712142231, 2716752286,\n",
       "       2780786433, 2927087541, 2949041841, 2954449915, 3062433592,\n",
       "       3202540741, 3234906277, 3656415546, 3717692402, 3766097110,\n",
       "       3803269165, 3891541246, 3941795274, 3951559397, 3957174400,\n",
       "       3963646447, 3972127743, 3984495233, 4069496402, 4120364173,\n",
       "       4186807279, 4256040402, 4266935830])"
      ]
     },
     "execution_count": 12,
     "metadata": {},
     "output_type": "execute_result"
    }
   ],
   "source": [
    "# id пользователей, которые попали в обе группы\n",
    "double_users = count_AB.query('group>1')['visitor_id'].unique()\n",
    "double_users"
   ]
  },
  {
   "cell_type": "markdown",
   "metadata": {},
   "source": [
    "## Приоритизация гипотез"
   ]
  },
  {
   "cell_type": "markdown",
   "metadata": {},
   "source": [
    "Изучим файл с гипотезами."
   ]
  },
  {
   "cell_type": "code",
   "execution_count": 15,
   "metadata": {},
   "outputs": [],
   "source": [
    "hypothesis = pd.read_csv('/datasets/hypothesis.csv')"
   ]
  },
  {
   "cell_type": "code",
   "execution_count": 16,
   "metadata": {},
   "outputs": [
    {
     "data": {
      "text/html": [
       "<div>\n",
       "<style scoped>\n",
       "    .dataframe tbody tr th:only-of-type {\n",
       "        vertical-align: middle;\n",
       "    }\n",
       "\n",
       "    .dataframe tbody tr th {\n",
       "        vertical-align: top;\n",
       "    }\n",
       "\n",
       "    .dataframe thead th {\n",
       "        text-align: right;\n",
       "    }\n",
       "</style>\n",
       "<table border=\"1\" class=\"dataframe\">\n",
       "  <thead>\n",
       "    <tr style=\"text-align: right;\">\n",
       "      <th></th>\n",
       "      <th>Hypothesis</th>\n",
       "      <th>Reach</th>\n",
       "      <th>Impact</th>\n",
       "      <th>Confidence</th>\n",
       "      <th>Efforts</th>\n",
       "    </tr>\n",
       "  </thead>\n",
       "  <tbody>\n",
       "    <tr>\n",
       "      <th>0</th>\n",
       "      <td>Добавить два новых канала привлечения трафика,...</td>\n",
       "      <td>3</td>\n",
       "      <td>10</td>\n",
       "      <td>8</td>\n",
       "      <td>6</td>\n",
       "    </tr>\n",
       "    <tr>\n",
       "      <th>1</th>\n",
       "      <td>Запустить собственную службу доставки, что сок...</td>\n",
       "      <td>2</td>\n",
       "      <td>5</td>\n",
       "      <td>4</td>\n",
       "      <td>10</td>\n",
       "    </tr>\n",
       "    <tr>\n",
       "      <th>2</th>\n",
       "      <td>Добавить блоки рекомендаций товаров на сайт ин...</td>\n",
       "      <td>8</td>\n",
       "      <td>3</td>\n",
       "      <td>7</td>\n",
       "      <td>3</td>\n",
       "    </tr>\n",
       "    <tr>\n",
       "      <th>3</th>\n",
       "      <td>Изменить структура категорий, что увеличит кон...</td>\n",
       "      <td>8</td>\n",
       "      <td>3</td>\n",
       "      <td>3</td>\n",
       "      <td>8</td>\n",
       "    </tr>\n",
       "    <tr>\n",
       "      <th>4</th>\n",
       "      <td>Изменить цвет фона главной страницы, чтобы уве...</td>\n",
       "      <td>3</td>\n",
       "      <td>1</td>\n",
       "      <td>1</td>\n",
       "      <td>1</td>\n",
       "    </tr>\n",
       "    <tr>\n",
       "      <th>5</th>\n",
       "      <td>Добавить страницу отзывов клиентов о магазине,...</td>\n",
       "      <td>3</td>\n",
       "      <td>2</td>\n",
       "      <td>2</td>\n",
       "      <td>3</td>\n",
       "    </tr>\n",
       "    <tr>\n",
       "      <th>6</th>\n",
       "      <td>Показать на главной странице баннеры с актуаль...</td>\n",
       "      <td>5</td>\n",
       "      <td>3</td>\n",
       "      <td>8</td>\n",
       "      <td>3</td>\n",
       "    </tr>\n",
       "    <tr>\n",
       "      <th>7</th>\n",
       "      <td>Добавить форму подписки на все основные страни...</td>\n",
       "      <td>10</td>\n",
       "      <td>7</td>\n",
       "      <td>8</td>\n",
       "      <td>5</td>\n",
       "    </tr>\n",
       "    <tr>\n",
       "      <th>8</th>\n",
       "      <td>Запустить акцию, дающую скидку на товар в день...</td>\n",
       "      <td>1</td>\n",
       "      <td>9</td>\n",
       "      <td>9</td>\n",
       "      <td>5</td>\n",
       "    </tr>\n",
       "  </tbody>\n",
       "</table>\n",
       "</div>"
      ],
      "text/plain": [
       "                                          Hypothesis  Reach  Impact  \\\n",
       "0  Добавить два новых канала привлечения трафика,...      3      10   \n",
       "1  Запустить собственную службу доставки, что сок...      2       5   \n",
       "2  Добавить блоки рекомендаций товаров на сайт ин...      8       3   \n",
       "3  Изменить структура категорий, что увеличит кон...      8       3   \n",
       "4  Изменить цвет фона главной страницы, чтобы уве...      3       1   \n",
       "5  Добавить страницу отзывов клиентов о магазине,...      3       2   \n",
       "6  Показать на главной странице баннеры с актуаль...      5       3   \n",
       "7  Добавить форму подписки на все основные страни...     10       7   \n",
       "8  Запустить акцию, дающую скидку на товар в день...      1       9   \n",
       "\n",
       "   Confidence  Efforts  \n",
       "0           8        6  \n",
       "1           4       10  \n",
       "2           7        3  \n",
       "3           3        8  \n",
       "4           1        1  \n",
       "5           2        3  \n",
       "6           8        3  \n",
       "7           8        5  \n",
       "8           9        5  "
      ]
     },
     "execution_count": 16,
     "metadata": {},
     "output_type": "execute_result"
    }
   ],
   "source": [
    "hypothesis"
   ]
  },
  {
   "cell_type": "code",
   "execution_count": 17,
   "metadata": {},
   "outputs": [
    {
     "name": "stdout",
     "output_type": "stream",
     "text": [
      "<class 'pandas.core.frame.DataFrame'>\n",
      "RangeIndex: 9 entries, 0 to 8\n",
      "Data columns (total 5 columns):\n",
      " #   Column      Non-Null Count  Dtype \n",
      "---  ------      --------------  ----- \n",
      " 0   Hypothesis  9 non-null      object\n",
      " 1   Reach       9 non-null      int64 \n",
      " 2   Impact      9 non-null      int64 \n",
      " 3   Confidence  9 non-null      int64 \n",
      " 4   Efforts     9 non-null      int64 \n",
      "dtypes: int64(4), object(1)\n",
      "memory usage: 488.0+ bytes\n"
     ]
    }
   ],
   "source": [
    "hypothesis.info()"
   ]
  },
  {
   "cell_type": "markdown",
   "metadata": {},
   "source": [
    "- Hypothesis — краткое описание гипотезы;\n",
    "- Reach — охват пользователей по 10-балльной шкале;\n",
    "- Impact — влияние на пользователей по 10-балльной шкале;\n",
    "- Confidence — уверенность в гипотезе по 10-балльной шкале;\n",
    "- Efforts — затраты ресурсов на проверку гипотезы по 10-балльной шкале. Чем больше значение Efforts, тем дороже проверка гипотезы."
   ]
  },
  {
   "cell_type": "code",
   "execution_count": 18,
   "metadata": {},
   "outputs": [
    {
     "data": {
      "text/plain": [
       "0              Добавить два новых канала привлечения трафика, что позволит привлекать на 30% больше пользователей\n",
       "1                                       Запустить собственную службу доставки, что сократит срок доставки заказов\n",
       "2    Добавить блоки рекомендаций товаров на сайт интернет магазина, чтобы повысить конверсию и средний чек заказа\n",
       "3             Изменить структура категорий, что увеличит конверсию, т.к. пользователи быстрее найдут нужный товар\n",
       "4                                Изменить цвет фона главной страницы, чтобы увеличить вовлеченность пользователей\n",
       "5                        Добавить страницу отзывов клиентов о магазине, что позволит увеличить количество заказов\n",
       "6            Показать на главной странице баннеры с актуальными акциями и распродажами, чтобы увеличить конверсию\n",
       "7                Добавить форму подписки на все основные страницы, чтобы собрать базу клиентов для email-рассылок\n",
       "8                                                         Запустить акцию, дающую скидку на товар в день рождения\n",
       "Name: Hypothesis, dtype: object"
      ]
     },
     "execution_count": 18,
     "metadata": {},
     "output_type": "execute_result"
    }
   ],
   "source": [
    "pd.set_option('display.max_colwidth', None)\n",
    "hypothesis.Hypothesis"
   ]
  },
  {
   "cell_type": "markdown",
   "metadata": {},
   "source": [
    "Применим фреймворк ICE для приоритизации гипотез."
   ]
  },
  {
   "cell_type": "code",
   "execution_count": 19,
   "metadata": {},
   "outputs": [
    {
     "data": {
      "text/html": [
       "<div>\n",
       "<style scoped>\n",
       "    .dataframe tbody tr th:only-of-type {\n",
       "        vertical-align: middle;\n",
       "    }\n",
       "\n",
       "    .dataframe tbody tr th {\n",
       "        vertical-align: top;\n",
       "    }\n",
       "\n",
       "    .dataframe thead th {\n",
       "        text-align: right;\n",
       "    }\n",
       "</style>\n",
       "<table border=\"1\" class=\"dataframe\">\n",
       "  <thead>\n",
       "    <tr style=\"text-align: right;\">\n",
       "      <th></th>\n",
       "      <th>Hypothesis</th>\n",
       "      <th>Reach</th>\n",
       "      <th>Impact</th>\n",
       "      <th>Confidence</th>\n",
       "      <th>Efforts</th>\n",
       "      <th>ICE</th>\n",
       "    </tr>\n",
       "  </thead>\n",
       "  <tbody>\n",
       "    <tr>\n",
       "      <th>8</th>\n",
       "      <td>Запустить акцию, дающую скидку на товар в день рождения</td>\n",
       "      <td>1</td>\n",
       "      <td>9</td>\n",
       "      <td>9</td>\n",
       "      <td>5</td>\n",
       "      <td>16.20</td>\n",
       "    </tr>\n",
       "    <tr>\n",
       "      <th>0</th>\n",
       "      <td>Добавить два новых канала привлечения трафика, что позволит привлекать на 30% больше пользователей</td>\n",
       "      <td>3</td>\n",
       "      <td>10</td>\n",
       "      <td>8</td>\n",
       "      <td>6</td>\n",
       "      <td>13.33</td>\n",
       "    </tr>\n",
       "    <tr>\n",
       "      <th>7</th>\n",
       "      <td>Добавить форму подписки на все основные страницы, чтобы собрать базу клиентов для email-рассылок</td>\n",
       "      <td>10</td>\n",
       "      <td>7</td>\n",
       "      <td>8</td>\n",
       "      <td>5</td>\n",
       "      <td>11.20</td>\n",
       "    </tr>\n",
       "    <tr>\n",
       "      <th>6</th>\n",
       "      <td>Показать на главной странице баннеры с актуальными акциями и распродажами, чтобы увеличить конверсию</td>\n",
       "      <td>5</td>\n",
       "      <td>3</td>\n",
       "      <td>8</td>\n",
       "      <td>3</td>\n",
       "      <td>8.00</td>\n",
       "    </tr>\n",
       "    <tr>\n",
       "      <th>2</th>\n",
       "      <td>Добавить блоки рекомендаций товаров на сайт интернет магазина, чтобы повысить конверсию и средний чек заказа</td>\n",
       "      <td>8</td>\n",
       "      <td>3</td>\n",
       "      <td>7</td>\n",
       "      <td>3</td>\n",
       "      <td>7.00</td>\n",
       "    </tr>\n",
       "    <tr>\n",
       "      <th>1</th>\n",
       "      <td>Запустить собственную службу доставки, что сократит срок доставки заказов</td>\n",
       "      <td>2</td>\n",
       "      <td>5</td>\n",
       "      <td>4</td>\n",
       "      <td>10</td>\n",
       "      <td>2.00</td>\n",
       "    </tr>\n",
       "    <tr>\n",
       "      <th>5</th>\n",
       "      <td>Добавить страницу отзывов клиентов о магазине, что позволит увеличить количество заказов</td>\n",
       "      <td>3</td>\n",
       "      <td>2</td>\n",
       "      <td>2</td>\n",
       "      <td>3</td>\n",
       "      <td>1.33</td>\n",
       "    </tr>\n",
       "    <tr>\n",
       "      <th>3</th>\n",
       "      <td>Изменить структура категорий, что увеличит конверсию, т.к. пользователи быстрее найдут нужный товар</td>\n",
       "      <td>8</td>\n",
       "      <td>3</td>\n",
       "      <td>3</td>\n",
       "      <td>8</td>\n",
       "      <td>1.12</td>\n",
       "    </tr>\n",
       "    <tr>\n",
       "      <th>4</th>\n",
       "      <td>Изменить цвет фона главной страницы, чтобы увеличить вовлеченность пользователей</td>\n",
       "      <td>3</td>\n",
       "      <td>1</td>\n",
       "      <td>1</td>\n",
       "      <td>1</td>\n",
       "      <td>1.00</td>\n",
       "    </tr>\n",
       "  </tbody>\n",
       "</table>\n",
       "</div>"
      ],
      "text/plain": [
       "                                                                                                     Hypothesis  \\\n",
       "8                                                       Запустить акцию, дающую скидку на товар в день рождения   \n",
       "0            Добавить два новых канала привлечения трафика, что позволит привлекать на 30% больше пользователей   \n",
       "7              Добавить форму подписки на все основные страницы, чтобы собрать базу клиентов для email-рассылок   \n",
       "6          Показать на главной странице баннеры с актуальными акциями и распродажами, чтобы увеличить конверсию   \n",
       "2  Добавить блоки рекомендаций товаров на сайт интернет магазина, чтобы повысить конверсию и средний чек заказа   \n",
       "1                                     Запустить собственную службу доставки, что сократит срок доставки заказов   \n",
       "5                      Добавить страницу отзывов клиентов о магазине, что позволит увеличить количество заказов   \n",
       "3           Изменить структура категорий, что увеличит конверсию, т.к. пользователи быстрее найдут нужный товар   \n",
       "4                              Изменить цвет фона главной страницы, чтобы увеличить вовлеченность пользователей   \n",
       "\n",
       "   Reach  Impact  Confidence  Efforts    ICE  \n",
       "8      1       9           9        5  16.20  \n",
       "0      3      10           8        6  13.33  \n",
       "7     10       7           8        5  11.20  \n",
       "6      5       3           8        3   8.00  \n",
       "2      8       3           7        3   7.00  \n",
       "1      2       5           4       10   2.00  \n",
       "5      3       2           2        3   1.33  \n",
       "3      8       3           3        8   1.12  \n",
       "4      3       1           1        1   1.00  "
      ]
     },
     "execution_count": 19,
     "metadata": {},
     "output_type": "execute_result"
    }
   ],
   "source": [
    "hypothesis['ICE'] = round((hypothesis['Impact'] * hypothesis['Confidence']) / hypothesis['Efforts'], 2)\n",
    "hypothesis.sort_values(by='ICE', ascending=False)"
   ]
  },
  {
   "cell_type": "markdown",
   "metadata": {},
   "source": [
    "8 гипотеза набрала больше всего очков - \"Запустить акцию, дающую скидку на товар в день рождения\"."
   ]
  },
  {
   "cell_type": "markdown",
   "metadata": {},
   "source": [
    "Применим фреймворк RICE для приоритизации гипотез."
   ]
  },
  {
   "cell_type": "code",
   "execution_count": 20,
   "metadata": {},
   "outputs": [
    {
     "data": {
      "text/html": [
       "<div>\n",
       "<style scoped>\n",
       "    .dataframe tbody tr th:only-of-type {\n",
       "        vertical-align: middle;\n",
       "    }\n",
       "\n",
       "    .dataframe tbody tr th {\n",
       "        vertical-align: top;\n",
       "    }\n",
       "\n",
       "    .dataframe thead th {\n",
       "        text-align: right;\n",
       "    }\n",
       "</style>\n",
       "<table border=\"1\" class=\"dataframe\">\n",
       "  <thead>\n",
       "    <tr style=\"text-align: right;\">\n",
       "      <th></th>\n",
       "      <th>Hypothesis</th>\n",
       "      <th>Reach</th>\n",
       "      <th>Impact</th>\n",
       "      <th>Confidence</th>\n",
       "      <th>Efforts</th>\n",
       "      <th>ICE</th>\n",
       "      <th>RICE</th>\n",
       "    </tr>\n",
       "  </thead>\n",
       "  <tbody>\n",
       "    <tr>\n",
       "      <th>7</th>\n",
       "      <td>Добавить форму подписки на все основные страницы, чтобы собрать базу клиентов для email-рассылок</td>\n",
       "      <td>10</td>\n",
       "      <td>7</td>\n",
       "      <td>8</td>\n",
       "      <td>5</td>\n",
       "      <td>11.20</td>\n",
       "      <td>112.0</td>\n",
       "    </tr>\n",
       "    <tr>\n",
       "      <th>2</th>\n",
       "      <td>Добавить блоки рекомендаций товаров на сайт интернет магазина, чтобы повысить конверсию и средний чек заказа</td>\n",
       "      <td>8</td>\n",
       "      <td>3</td>\n",
       "      <td>7</td>\n",
       "      <td>3</td>\n",
       "      <td>7.00</td>\n",
       "      <td>56.0</td>\n",
       "    </tr>\n",
       "    <tr>\n",
       "      <th>0</th>\n",
       "      <td>Добавить два новых канала привлечения трафика, что позволит привлекать на 30% больше пользователей</td>\n",
       "      <td>3</td>\n",
       "      <td>10</td>\n",
       "      <td>8</td>\n",
       "      <td>6</td>\n",
       "      <td>13.33</td>\n",
       "      <td>40.0</td>\n",
       "    </tr>\n",
       "    <tr>\n",
       "      <th>6</th>\n",
       "      <td>Показать на главной странице баннеры с актуальными акциями и распродажами, чтобы увеличить конверсию</td>\n",
       "      <td>5</td>\n",
       "      <td>3</td>\n",
       "      <td>8</td>\n",
       "      <td>3</td>\n",
       "      <td>8.00</td>\n",
       "      <td>40.0</td>\n",
       "    </tr>\n",
       "    <tr>\n",
       "      <th>8</th>\n",
       "      <td>Запустить акцию, дающую скидку на товар в день рождения</td>\n",
       "      <td>1</td>\n",
       "      <td>9</td>\n",
       "      <td>9</td>\n",
       "      <td>5</td>\n",
       "      <td>16.20</td>\n",
       "      <td>16.2</td>\n",
       "    </tr>\n",
       "    <tr>\n",
       "      <th>3</th>\n",
       "      <td>Изменить структура категорий, что увеличит конверсию, т.к. пользователи быстрее найдут нужный товар</td>\n",
       "      <td>8</td>\n",
       "      <td>3</td>\n",
       "      <td>3</td>\n",
       "      <td>8</td>\n",
       "      <td>1.12</td>\n",
       "      <td>9.0</td>\n",
       "    </tr>\n",
       "    <tr>\n",
       "      <th>1</th>\n",
       "      <td>Запустить собственную службу доставки, что сократит срок доставки заказов</td>\n",
       "      <td>2</td>\n",
       "      <td>5</td>\n",
       "      <td>4</td>\n",
       "      <td>10</td>\n",
       "      <td>2.00</td>\n",
       "      <td>4.0</td>\n",
       "    </tr>\n",
       "    <tr>\n",
       "      <th>5</th>\n",
       "      <td>Добавить страницу отзывов клиентов о магазине, что позволит увеличить количество заказов</td>\n",
       "      <td>3</td>\n",
       "      <td>2</td>\n",
       "      <td>2</td>\n",
       "      <td>3</td>\n",
       "      <td>1.33</td>\n",
       "      <td>4.0</td>\n",
       "    </tr>\n",
       "    <tr>\n",
       "      <th>4</th>\n",
       "      <td>Изменить цвет фона главной страницы, чтобы увеличить вовлеченность пользователей</td>\n",
       "      <td>3</td>\n",
       "      <td>1</td>\n",
       "      <td>1</td>\n",
       "      <td>1</td>\n",
       "      <td>1.00</td>\n",
       "      <td>3.0</td>\n",
       "    </tr>\n",
       "  </tbody>\n",
       "</table>\n",
       "</div>"
      ],
      "text/plain": [
       "                                                                                                     Hypothesis  \\\n",
       "7              Добавить форму подписки на все основные страницы, чтобы собрать базу клиентов для email-рассылок   \n",
       "2  Добавить блоки рекомендаций товаров на сайт интернет магазина, чтобы повысить конверсию и средний чек заказа   \n",
       "0            Добавить два новых канала привлечения трафика, что позволит привлекать на 30% больше пользователей   \n",
       "6          Показать на главной странице баннеры с актуальными акциями и распродажами, чтобы увеличить конверсию   \n",
       "8                                                       Запустить акцию, дающую скидку на товар в день рождения   \n",
       "3           Изменить структура категорий, что увеличит конверсию, т.к. пользователи быстрее найдут нужный товар   \n",
       "1                                     Запустить собственную службу доставки, что сократит срок доставки заказов   \n",
       "5                      Добавить страницу отзывов клиентов о магазине, что позволит увеличить количество заказов   \n",
       "4                              Изменить цвет фона главной страницы, чтобы увеличить вовлеченность пользователей   \n",
       "\n",
       "   Reach  Impact  Confidence  Efforts    ICE   RICE  \n",
       "7     10       7           8        5  11.20  112.0  \n",
       "2      8       3           7        3   7.00   56.0  \n",
       "0      3      10           8        6  13.33   40.0  \n",
       "6      5       3           8        3   8.00   40.0  \n",
       "8      1       9           9        5  16.20   16.2  \n",
       "3      8       3           3        8   1.12    9.0  \n",
       "1      2       5           4       10   2.00    4.0  \n",
       "5      3       2           2        3   1.33    4.0  \n",
       "4      3       1           1        1   1.00    3.0  "
      ]
     },
     "execution_count": 20,
     "metadata": {},
     "output_type": "execute_result"
    }
   ],
   "source": [
    "hypothesis['RICE'] = (hypothesis['Reach'] * hypothesis['Impact'] * hypothesis['Confidence']) / hypothesis['Efforts']\n",
    "hypothesis.sort_values(by='RICE', ascending=False)"
   ]
  },
  {
   "cell_type": "markdown",
   "metadata": {},
   "source": [
    "При применении фреймворка RICE наиболее приоритетной оказалась гипотеза \"Добавить форму подписки на все основные страницы, чтобы собрать базу клиентов для email-рассылок\"."
   ]
  },
  {
   "cell_type": "markdown",
   "metadata": {},
   "source": [
    "Приоритизация гипотез меняется в связи с тем, что при расчете RICE учитывает параметр Reach (охват пользователей). Действительно гипотеза \"Запустить акцию, дающую скидку на товар в день рождения\" имеет высокие показатели Impact и Confidence, но наиболее низкий показатель Reach. Охват пользователей в данном случае будет минимальным. Вместе с тем, гипотеза \"Добавить форму подписки на все основные страницы, чтобы собрать базу клиентов для email-рассылок\" имеет обширный охват пользователей и соответственно наибольший показатель Reach. "
   ]
  },
  {
   "cell_type": "markdown",
   "metadata": {},
   "source": [
    "## Анализ A/B-теста"
   ]
  },
  {
   "cell_type": "markdown",
   "metadata": {},
   "source": [
    "**Кумулятивная выручка по группам.**"
   ]
  },
  {
   "cell_type": "markdown",
   "metadata": {},
   "source": [
    "Создадим таблицы с агрегированными кумулятивными по дням данным о заказах и посетителях."
   ]
  },
  {
   "cell_type": "code",
   "execution_count": 21,
   "metadata": {},
   "outputs": [
    {
     "name": "stdout",
     "output_type": "stream",
     "text": [
      "        date group  orders  buyers  revenue  visitors\n",
      "0 2019-08-01     A      24      20   148579       719\n",
      "1 2019-08-01     B      21      20   101217       713\n",
      "2 2019-08-02     A      44      38   242401      1338\n",
      "3 2019-08-02     B      45      43   266748      1294\n",
      "4 2019-08-03     A      68      62   354874      1845\n"
     ]
    }
   ],
   "source": [
    "# создаем массив уникальных пар значений дат и групп теста\n",
    "datesGroups = orders[['date','group']].drop_duplicates()\n",
    "\n",
    "# получаем агрегированные кумулятивные по дням данные о заказах \n",
    "ordersAggregated = datesGroups.apply(lambda x: orders[np.logical_and(orders['date'] <= x['date'], orders['group'] == x['group'])].agg({'date' : 'max', 'group' : 'max', 'transaction_id' : 'nunique', 'visitor_id' : 'nunique', 'revenue' : 'sum'}), axis=1).sort_values(by=['date','group'])\n",
    "\n",
    "# получаем агрегированные кумулятивные по дням данные о посетителях интернет-магазина \n",
    "visitorsAggregated = datesGroups.apply(lambda x: visitors[np.logical_and(visitors['date'] <= x['date'], visitors['group'] == x['group'])].agg({'date' : 'max', 'group' : 'max', 'visitors' : 'sum'}), axis=1).sort_values(by=['date','group'])\n",
    "\n",
    "# объединяем кумулятивные данные в одной таблице и присваиваем ее столбцам понятные названия\n",
    "cumulativeData = ordersAggregated.merge(visitorsAggregated, left_on=['date', 'group'], right_on=['date', 'group'])\n",
    "cumulativeData.columns = ['date', 'group', 'orders', 'buyers', 'revenue', 'visitors']\n",
    "\n",
    "print(cumulativeData.head(5)) "
   ]
  },
  {
   "cell_type": "markdown",
   "metadata": {},
   "source": [
    "Проверим совпадают ли минимальная и макимальная даты датафрейма cumulativeData с исходными данными."
   ]
  },
  {
   "cell_type": "code",
   "execution_count": 22,
   "metadata": {},
   "outputs": [
    {
     "data": {
      "text/plain": [
       "Timestamp('2019-08-01 00:00:00')"
      ]
     },
     "metadata": {},
     "output_type": "display_data"
    },
    {
     "data": {
      "text/plain": [
       "Timestamp('2019-08-31 00:00:00')"
      ]
     },
     "metadata": {},
     "output_type": "display_data"
    }
   ],
   "source": [
    "display(cumulativeData.date.min())\n",
    "display(cumulativeData.date.max())"
   ]
  },
  {
   "cell_type": "markdown",
   "metadata": {},
   "source": [
    "Даты совпадают."
   ]
  },
  {
   "cell_type": "markdown",
   "metadata": {},
   "source": [
    "Построим графики кумулятивной выручки по дням и группам A/B-тестирования:"
   ]
  },
  {
   "cell_type": "code",
   "execution_count": 23,
   "metadata": {},
   "outputs": [
    {
     "data": {
      "image/png": "[encoded data removed]",
      "text/plain": [
       "<Figure size 864x576 with 1 Axes>"
      ]
     },
     "metadata": {
      "needs_background": "light"
     },
     "output_type": "display_data"
    }
   ],
   "source": [
    "# зададим размеры графика \n",
    "plt.figure(figsize=(12,8))  \n",
    "\n",
    "# датафрейм с кумулятивным количеством заказов и кумулятивной выручкой по дням в группе А\n",
    "cumulativeRevenueA = cumulativeData[cumulativeData['group']=='A'][['date','revenue', 'orders']]\n",
    "\n",
    "# датафрейм с кумулятивным количеством заказов и кумулятивной выручкой по дням в группе B\n",
    "cumulativeRevenueB = cumulativeData[cumulativeData['group']=='B'][['date','revenue', 'orders']]\n",
    "\n",
    "# строим график выручки группы А\n",
    "plt.plot(cumulativeRevenueA['date'], cumulativeRevenueA['revenue'], label='A')\n",
    "\n",
    "# строим график выручки группы B\n",
    "plt.plot(cumulativeRevenueB['date'], cumulativeRevenueB['revenue'], label='B')\n",
    "\n",
    "# описание графика\n",
    "plt.legend(['Группа А', 'Группа B']) \n",
    "plt.xlabel('Дата')\n",
    "plt.ylabel('Выручка') \n",
    "plt.title('Кумулятивная выручка по дням и группам A/B-тестирования') \n",
    "plt.show() "
   ]
  },
  {
   "cell_type": "markdown",
   "metadata": {},
   "source": [
    "Выручка растет на протяжении всего времени тестирования, однако группа В показывает лучший результат, кроме того, график имеет резкий рост 19 августа 2019 года. Это говорит, о том, что в этот день было большое количество заказов или очень дорогие заказы."
   ]
  },
  {
   "cell_type": "markdown",
   "metadata": {},
   "source": [
    "**Кумулятивный средний чек по группам.**"
   ]
  },
  {
   "cell_type": "markdown",
   "metadata": {},
   "source": [
    "Для нахождения кумулятивного среднего чека необходимо разделить кумулятивную выручку на кумулятивное число заказов."
   ]
  },
  {
   "cell_type": "code",
   "execution_count": 24,
   "metadata": {},
   "outputs": [
    {
     "data": {
      "image/png": "[encoded data removed]",
      "text/plain": [
       "<Figure size 864x576 with 1 Axes>"
      ]
     },
     "metadata": {
      "needs_background": "light"
     },
     "output_type": "display_data"
    }
   ],
   "source": [
    "# зададим размеры графика \n",
    "plt.figure(figsize=(12,8)) \n",
    "\n",
    "# построим графики среднего чека по группам — разделим кумулятивную выручку на кумулятивное число заказов:\n",
    "plt.plot(cumulativeRevenueA['date'], cumulativeRevenueA['revenue']/cumulativeRevenueA['orders'], label='A')\n",
    "plt.plot(cumulativeRevenueB['date'], cumulativeRevenueB['revenue']/cumulativeRevenueB['orders'], label='B')\n",
    "\n",
    "# описание графика\n",
    "plt.legend(['Группа А', 'Группа B']) \n",
    "plt.xlabel('Дата')\n",
    "plt.ylabel('Средний чек') \n",
    "plt.title('Кумулятивный средний чек по дням и группам A/B-тестирования') \n",
    "\n",
    "plt.show() "
   ]
  },
  {
   "cell_type": "markdown",
   "metadata": {},
   "source": [
    "Средний чек имеет неравномерное распределение в течение половины теста, кроме того в группе В произошел резкий всплеск 19 августа 2019 года (скорее всего в группу В попали крупные заказы). Далее средний чек имеет более ровное распределение, но из-за резкого роста значений для группы В нужно больше данных, чтобы прийти к реальному среднему чеку и установиться на его уровне."
   ]
  },
  {
   "cell_type": "markdown",
   "metadata": {},
   "source": [
    "**Относительное изменение кумулятивного среднего чека группы B к группе A.**"
   ]
  },
  {
   "cell_type": "code",
   "execution_count": 25,
   "metadata": {},
   "outputs": [
    {
     "data": {
      "image/png": "[encoded data removed]",
      "text/plain": [
       "<Figure size 864x576 with 1 Axes>"
      ]
     },
     "metadata": {
      "needs_background": "light"
     },
     "output_type": "display_data"
    }
   ],
   "source": [
    "# зададим размеры графика \n",
    "plt.figure(figsize=(12,8)) \n",
    "\n",
    "# собираем данные в одном датафрейме\n",
    "mergedCumulativeRevenue = cumulativeRevenueA.merge(cumulativeRevenueB, left_on='date', right_on='date', how='left', suffixes=['A', 'B'])\n",
    "\n",
    "# cтроим отношение средних чеков\n",
    "plt.plot(mergedCumulativeRevenue['date'], (mergedCumulativeRevenue['revenueB']/mergedCumulativeRevenue['ordersB'])/(mergedCumulativeRevenue['revenueA']/mergedCumulativeRevenue['ordersA'])-1)\n",
    "\n",
    "# добавляем ось X\n",
    "plt.axhline(y=0, color='black', linestyle='--') \n",
    "\n",
    "# описание графика\n",
    "plt.xlabel('Дата')\n",
    "plt.ylabel('Относительное изменение в %') \n",
    "plt.title('Относительное изменение кумулятивного среднего чека группы B к группе A') \n",
    "\n",
    "plt.show() "
   ]
  },
  {
   "cell_type": "markdown",
   "metadata": {},
   "source": [
    "В нескольких точках график различия между сегментами резко «скачет». Это свидетельствует о крупных заказах и выбросах."
   ]
  },
  {
   "cell_type": "markdown",
   "metadata": {},
   "source": [
    "**Кумулятивное среднее количество заказов на посетителя по группам.**"
   ]
  },
  {
   "cell_type": "code",
   "execution_count": 26,
   "metadata": {},
   "outputs": [
    {
     "data": {
      "image/png": "[encoded data removed]",
      "text/plain": [
       "<Figure size 864x576 with 1 Axes>"
      ]
     },
     "metadata": {
      "needs_background": "light"
     },
     "output_type": "display_data"
    }
   ],
   "source": [
    "# зададим размеры графика \n",
    "plt.figure(figsize=(12,8)) \n",
    "\n",
    "# считаем кумулятивную конверсию\n",
    "cumulativeData['conversion'] = cumulativeData['orders']/cumulativeData['visitors']\n",
    "\n",
    "# отделяем данные по группе A\n",
    "cumulativeDataA = cumulativeData[cumulativeData['group']=='A']\n",
    "\n",
    "# отделяем данные по группе B\n",
    "cumulativeDataB = cumulativeData[cumulativeData['group']=='B']\n",
    "\n",
    "# строим графики\n",
    "plt.plot(cumulativeDataA['date'], cumulativeDataA['conversion'], label='A')\n",
    "plt.plot(cumulativeDataB['date'], cumulativeDataB['conversion'], label='B')\n",
    "\n",
    "# описание графика\n",
    "plt.legend(['Группа А', 'Группа B']) \n",
    "plt.xlabel('Дата')\n",
    "plt.ylabel('Соотношение количества заказов к количеству посетителей в %') \n",
    "plt.title('Кумулятивное среднее количество заказов на посетителя по дням и группам A/B-тестирования') \n",
    "\n",
    "plt.show() "
   ]
  },
  {
   "cell_type": "markdown",
   "metadata": {},
   "source": [
    "Обе группы имеют колебания в значениях, но к окончанию теста группы имеют более равномерные распределения. При этом группа В имеет значительно более высокие показатели. "
   ]
  },
  {
   "cell_type": "markdown",
   "metadata": {},
   "source": [
    "**Относительное изменение кумулятивного среднего количества заказов на посетителя группы B к группе A.**"
   ]
  },
  {
   "cell_type": "code",
   "execution_count": 27,
   "metadata": {},
   "outputs": [
    {
     "data": {
      "image/png": "[encoded data removed]",
      "text/plain": [
       "<Figure size 864x576 with 1 Axes>"
      ]
     },
     "metadata": {
      "needs_background": "light"
     },
     "output_type": "display_data"
    }
   ],
   "source": [
    "# зададим размеры графика \n",
    "plt.figure(figsize=(12,8)) \n",
    "\n",
    "# собираем данные в одном датафрейме\n",
    "mergedCumulativeConversions = cumulativeDataA[['date','conversion']].merge(cumulativeDataB[['date','conversion']], left_on='date', right_on='date', how='left', suffixes=['A', 'B'])\n",
    "\n",
    "# cтроим отношение среднего количества заказов\n",
    "plt.plot(mergedCumulativeConversions['date'], mergedCumulativeConversions['conversionB']/mergedCumulativeConversions['conversionA']-1, label=\"Относительный прирост конверсии группы B относительно группы A\")\n",
    "\n",
    "# добавляем ось X c нулевым приростом и отметку в 15 % \n",
    "plt.axhline(y=0, color='black', linestyle='--')\n",
    "plt.axhline(y=0.15, color='grey', linestyle='--')\n",
    "\n",
    "# описание графика\n",
    "plt.xlabel('Дата')\n",
    "plt.ylabel('Относительное изменение в %') \n",
    "plt.title('Относительное изменение кумулятивного среднего количества заказов на посетителя группы B к группе A') \n",
    "\n",
    "plt.show() "
   ]
  },
  {
   "cell_type": "markdown",
   "metadata": {},
   "source": [
    "К середине теста относительное изменение кумулятивного среднего количества заказов на посетителя достигло более 20 %, затем этот показатель начал снижаться, но находился на уровне от 10 до 15% до конца теста."
   ]
  },
  {
   "cell_type": "markdown",
   "metadata": {},
   "source": [
    "**Точечный график количества заказов по пользователям.**"
   ]
  },
  {
   "cell_type": "markdown",
   "metadata": {},
   "source": [
    "Подсчитаем количество заказов по пользователям."
   ]
  },
  {
   "cell_type": "code",
   "execution_count": 28,
   "metadata": {},
   "outputs": [
    {
     "name": "stdout",
     "output_type": "stream",
     "text": [
      "         user_id  orders\n",
      "1023  4256040402      11\n",
      "591   2458001652      11\n",
      "569   2378935119       9\n",
      "487   2038680547       8\n",
      "44     199603092       5\n",
      "744   3062433592       5\n",
      "55     237748145       5\n",
      "917   3803269165       5\n",
      "299   1230306981       5\n",
      "897   3717692402       5\n"
     ]
    }
   ],
   "source": [
    "ordersByUsers = (\n",
    "    orders.groupby('visitor_id', as_index=False)\n",
    "    .agg({'transaction_id': 'nunique'})\n",
    ")\n",
    "\n",
    "ordersByUsers.columns = ['user_id', 'orders']\n",
    "\n",
    "print(ordersByUsers.sort_values(by='orders', ascending=False).head(10))"
   ]
  },
  {
   "cell_type": "markdown",
   "metadata": {},
   "source": [
    "На основе полученной таблицы построим точечную диаграмму:"
   ]
  },
  {
   "cell_type": "code",
   "execution_count": 29,
   "metadata": {},
   "outputs": [
    {
     "data": {
      "image/png": "[encoded data removed]",
      "text/plain": [
       "<Figure size 864x576 with 1 Axes>"
      ]
     },
     "metadata": {
      "needs_background": "light"
     },
     "output_type": "display_data"
    }
   ],
   "source": [
    "# зададим размеры графика \n",
    "plt.figure(figsize=(12,8)) \n",
    "\n",
    "# серия из чисел от 0 до количества наблюдений в ordersByUsers \n",
    "x_values = pd.Series(range(0,len(ordersByUsers)))\n",
    "\n",
    "# построим график \n",
    "plt.scatter(x_values, ordersByUsers['orders']) \n",
    "\n",
    "# описание графика\n",
    "plt.ylabel('Количество заказов') \n",
    "plt.xlabel('Количество пользователей') \n",
    "plt.title('Распределение количества заказов по пользователям') \n",
    "plt.show() "
   ]
  },
  {
   "cell_type": "markdown",
   "metadata": {},
   "source": [
    "В основном пользователи делают один заказ. Два заказа также нередкий случай. Есть пользователи, которые совершают от 3 до 5 заказов. Но их точная доля не ясна — непонятно, считать их аномалиями или нет. "
   ]
  },
  {
   "cell_type": "markdown",
   "metadata": {},
   "source": [
    "**Подсчёт 95-й и 99-й перцентили количества заказов на пользователя.**"
   ]
  },
  {
   "cell_type": "markdown",
   "metadata": {},
   "source": [
    "Посчитаем выборочные перцентили количества заказов на одного пользователя:"
   ]
  },
  {
   "cell_type": "code",
   "execution_count": 30,
   "metadata": {},
   "outputs": [
    {
     "name": "stdout",
     "output_type": "stream",
     "text": [
      "[2. 4.]\n"
     ]
    }
   ],
   "source": [
    "print(np.percentile(ordersByUsers['orders'], [95, 99])) "
   ]
  },
  {
   "cell_type": "markdown",
   "metadata": {},
   "source": [
    "Не более 5% пользователей оформляли больше чем 2 заказа. И только 1% пользователей заказывали больше 4-х раз. Разумно выбрать 3 заказа на одного пользователя за верхнюю границу числа заказов, и отсеять аномальных пользователей по ней."
   ]
  },
  {
   "cell_type": "markdown",
   "metadata": {},
   "source": [
    "**Точечный график стоимостей заказов.**"
   ]
  },
  {
   "cell_type": "code",
   "execution_count": 31,
   "metadata": {},
   "outputs": [
    {
     "data": {
      "image/png": "[encoded data removed]",
      "text/plain": [
       "<Figure size 864x576 with 1 Axes>"
      ]
     },
     "metadata": {
      "needs_background": "light"
     },
     "output_type": "display_data"
    }
   ],
   "source": [
    "# зададим размеры графика \n",
    "plt.figure(figsize=(12,8)) \n",
    "\n",
    "# серия из чисел от 0 до количества наблюдений в orders \n",
    "x_values = pd.Series(range(0,len(orders['revenue'])))\n",
    "\n",
    "# построим график \n",
    "plt.scatter(x_values, orders['revenue']) \n",
    "\n",
    "# описание графика\n",
    "plt.ylabel('Стоимость заказов') \n",
    "plt.xlabel('Количество пользователей') \n",
    "plt.title('Распределение заказов по стоимости') \n",
    "plt.show() "
   ]
  },
  {
   "cell_type": "markdown",
   "metadata": {},
   "source": [
    "В данных есть аномально высокие значения в 200 тысяч и даже более 1.200.000."
   ]
  },
  {
   "cell_type": "markdown",
   "metadata": {},
   "source": [
    "**Подсчёт 95-й и 99-й перцентили стоимости заказов.**"
   ]
  },
  {
   "cell_type": "markdown",
   "metadata": {},
   "source": [
    "Посчитаем выборочные перцентили стоимости заказов:"
   ]
  },
  {
   "cell_type": "code",
   "execution_count": 32,
   "metadata": {},
   "outputs": [
    {
     "name": "stdout",
     "output_type": "stream",
     "text": [
      "[28000.  58233.2]\n"
     ]
    }
   ],
   "source": [
    "print(np.percentile(orders['revenue'], [95, 99])) "
   ]
  },
  {
   "cell_type": "markdown",
   "metadata": {},
   "source": [
    "Не более 5% заказов имеют стоимость более 28000, не более 1% заказов имеют стоимость более 58233. Выберем 28000 за верхнюю границу стоимости заказов."
   ]
  },
  {
   "cell_type": "markdown",
   "metadata": {},
   "source": [
    "**Статистическая значимость различий в среднем количестве заказов на посетителя между группами по «сырым» данным.**"
   ]
  },
  {
   "cell_type": "markdown",
   "metadata": {},
   "source": [
    "Посчитаем статистическую значимость различий в среднем числе заказов на пользователя по «сырым» данным — без удаления аномальных пользователей."
   ]
  },
  {
   "cell_type": "markdown",
   "metadata": {},
   "source": [
    "Сформулируем гипотезы. Нулевая: различий в среднем количестве заказов между группами нет. Альтернативная: различия в среднем между группами есть."
   ]
  },
  {
   "cell_type": "markdown",
   "metadata": {},
   "source": [
    "Подготовим данные и посчитаем p-value, а также выведем относительный прирост среднего числа заказов группы B."
   ]
  },
  {
   "cell_type": "code",
   "execution_count": 33,
   "metadata": {},
   "outputs": [
    {
     "name": "stdout",
     "output_type": "stream",
     "text": [
      "        date  ordersPerDateA  revenuePerDateA  ordersPerDateB  \\\n",
      "0 2019-08-01              24           148579              21   \n",
      "1 2019-08-02              20            93822              24   \n",
      "2 2019-08-03              24           112473              16   \n",
      "3 2019-08-04              16            70825              17   \n",
      "4 2019-08-05              25           124218              23   \n",
      "\n",
      "   revenuePerDateB  ordersCummulativeA  revenueCummulativeA  \\\n",
      "0           101217                  24               148579   \n",
      "1           165531                  44               242401   \n",
      "2           114248                  68               354874   \n",
      "3           108571                  84               425699   \n",
      "4            92428                 109               549917   \n",
      "\n",
      "   ordersCummulativeB  revenueCummulativeB  visitorsPerDateA  \\\n",
      "0                  21               101217               719   \n",
      "1                  45               266748               619   \n",
      "2                  61               380996               507   \n",
      "3                  78               489567               717   \n",
      "4                 101               581995               756   \n",
      "\n",
      "   visitorsPerDateB  visitorsCummulativeA  visitorsCummulativeB  \n",
      "0               713                   719                   713  \n",
      "1               581                  1338                  1294  \n",
      "2               509                  1845                  1803  \n",
      "3               770                  2562                  2573  \n",
      "4               707                  3318                  3280  \n",
      "P-value: 0.017\n",
      "Относительный прирост среднего количества заказов группы B к группе A: 0.138\n"
     ]
    }
   ],
   "source": [
    "visitorsADaily = visitors[visitors['group'] == 'A'][['date', 'visitors']]\n",
    "visitorsADaily.columns = ['date', 'visitorsPerDateA']\n",
    "\n",
    "visitorsACummulative = visitorsADaily.apply(\n",
    "    lambda x: visitorsADaily[visitorsADaily['date'] <= x['date']].agg(\n",
    "        {'date': 'max', 'visitorsPerDateA': 'sum'}\n",
    "    ),\n",
    "    axis=1,\n",
    ")\n",
    "visitorsACummulative.columns = ['date', 'visitorsCummulativeA']\n",
    "\n",
    "visitorsBDaily = visitors[visitors['group'] == 'B'][['date', 'visitors']]\n",
    "visitorsBDaily.columns = ['date', 'visitorsPerDateB']\n",
    "\n",
    "visitorsBCummulative = visitorsBDaily.apply(\n",
    "    lambda x: visitorsBDaily[visitorsBDaily['date'] <= x['date']].agg(\n",
    "        {'date': 'max', 'visitorsPerDateB': 'sum'}\n",
    "    ),\n",
    "    axis=1,\n",
    ")\n",
    "visitorsBCummulative.columns = ['date', 'visitorsCummulativeB']\n",
    "\n",
    "ordersADaily = (\n",
    "    orders[orders['group'] == 'A'][['date', 'transaction_id', 'visitor_id', 'revenue']]\n",
    "    .groupby('date', as_index=False)\n",
    "    .agg({'transaction_id': pd.Series.nunique, 'revenue': 'sum'})\n",
    ")\n",
    "ordersADaily.columns = ['date', 'ordersPerDateA', 'revenuePerDateA']\n",
    "\n",
    "ordersACummulative = ordersADaily.apply(\n",
    "    lambda x: ordersADaily[ordersADaily['date'] <= x['date']].agg(\n",
    "        {'date': 'max', 'ordersPerDateA': 'sum', 'revenuePerDateA': 'sum'}\n",
    "    ),\n",
    "    axis=1,\n",
    ").sort_values(by=['date'])\n",
    "ordersACummulative.columns = [\n",
    "    'date',\n",
    "    'ordersCummulativeA',\n",
    "    'revenueCummulativeA',\n",
    "]\n",
    "\n",
    "ordersBDaily = (\n",
    "    orders[orders['group'] == 'B'][['date', 'transaction_id', 'visitor_id', 'revenue']]\n",
    "    .groupby('date', as_index=False)\n",
    "    .agg({'transaction_id': pd.Series.nunique, 'revenue': 'sum'})\n",
    ")\n",
    "ordersBDaily.columns = ['date', 'ordersPerDateB', 'revenuePerDateB']\n",
    "\n",
    "ordersBCummulative = ordersBDaily.apply(\n",
    "    lambda x: ordersBDaily[ordersBDaily['date'] <= x['date']].agg(\n",
    "        {'date': 'max', 'ordersPerDateB': 'sum', 'revenuePerDateB': 'sum'}\n",
    "    ),\n",
    "    axis=1,\n",
    ").sort_values(by=['date'])\n",
    "ordersBCummulative.columns = [\n",
    "    'date',\n",
    "    'ordersCummulativeB',\n",
    "    'revenueCummulativeB',\n",
    "]\n",
    "\n",
    "data = (\n",
    "    ordersADaily.merge(\n",
    "        ordersBDaily, left_on='date', right_on='date', how='left'\n",
    "    )\n",
    "    .merge(ordersACummulative, left_on='date', right_on='date', how='left')\n",
    "    .merge(ordersBCummulative, left_on='date', right_on='date', how='left')\n",
    "    .merge(visitorsADaily, left_on='date', right_on='date', how='left')\n",
    "    .merge(visitorsBDaily, left_on='date', right_on='date', how='left')\n",
    "    .merge(visitorsACummulative, left_on='date', right_on='date', how='left')\n",
    "    .merge(visitorsBCummulative, left_on='date', right_on='date', how='left')\n",
    ")\n",
    "\n",
    "print(data.head(5))\n",
    "\n",
    "ordersByUsersA = (\n",
    "    orders[orders['group'] == 'A']\n",
    "    .groupby('visitor_id', as_index=False)\n",
    "    .agg({'transaction_id': pd.Series.nunique})\n",
    ")\n",
    "ordersByUsersA.columns = ['userId', 'orders']\n",
    "\n",
    "ordersByUsersB = (\n",
    "    orders[orders['group'] == 'B']\n",
    "    .groupby('visitor_id', as_index=False)\n",
    "    .agg({'transaction_id': pd.Series.nunique})\n",
    ")\n",
    "ordersByUsersB.columns = ['userId', 'orders']\n",
    "\n",
    "sampleA = pd.concat([ordersByUsersA['orders'],pd.Series(0, index=np.arange(data['visitorsPerDateA'].sum() - len(ordersByUsersA['orders'])), name='orders')],axis=0)\n",
    "\n",
    "sampleB = pd.concat([ordersByUsersB['orders'],pd.Series(0, index=np.arange(data['visitorsPerDateB'].sum() - len(ordersByUsersB['orders'])), name='orders')],axis=0) \n",
    "\n",
    "print(\"P-value: {0:.3f}\".format(stats.mannwhitneyu(sampleA, sampleB)[1]))\n",
    "\n",
    "print(\"Относительный прирост среднего количества заказов группы B к группе A: {0:.3f}\".format(sampleB.mean() / sampleA.mean() - 1))"
   ]
  },
  {
   "cell_type": "markdown",
   "metadata": {},
   "source": [
    "P-value меньше 0.05, потому нулевую гипотезу отвергаем. Анализ «сырых данных» сообщает, что в среднем количестве заказов между группами есть статистически значимые различия. Относительный прирост среднего группы B к конверсии группы A равен 13.8%."
   ]
  },
  {
   "cell_type": "markdown",
   "metadata": {},
   "source": [
    "**Cтатистическая значимость различий в среднем чеке заказа между группами по «сырым» данным.** "
   ]
  },
  {
   "cell_type": "markdown",
   "metadata": {},
   "source": [
    "Нулевая гипотеза: различий в среднем чеке между группами нет. Альтернативная гипотеза: различия в среднем чеке между группами есть. "
   ]
  },
  {
   "cell_type": "markdown",
   "metadata": {},
   "source": [
    "Найдём относительные различия в среднем чеке между группами."
   ]
  },
  {
   "cell_type": "code",
   "execution_count": 34,
   "metadata": {},
   "outputs": [
    {
     "name": "stdout",
     "output_type": "stream",
     "text": [
      "P-value: 0.729\n",
      "Относительная разница среднего чека группы В к группе А: 0.259\n"
     ]
    }
   ],
   "source": [
    "print('P-value: {0:.3f}'.format(stats.mannwhitneyu(orders[orders['group']=='A']['revenue'], orders[orders['group']=='B']['revenue'])[1]))\n",
    "print('Относительная разница среднего чека группы В к группе А: {0:.3f}'.format(orders[orders['group']=='B']['revenue'].mean()/orders[orders['group']=='A']['revenue'].mean()-1)) "
   ]
  },
  {
   "cell_type": "markdown",
   "metadata": {},
   "source": [
    "P-value значительно больше 0.05. Значит, причин отвергать нулевую гипотезу и считать, что в среднем чеке есть различия, нет. Впрочем, средний чек группы B выше среднего чека группы A на 25%."
   ]
  },
  {
   "cell_type": "markdown",
   "metadata": {},
   "source": [
    "**Статистическая значимость различий в среднем количестве заказов на посетителя между группами по «очищенным» данным.**"
   ]
  },
  {
   "cell_type": "markdown",
   "metadata": {},
   "source": [
    "Ранее мы нашли 95-й и 99-й перцентили средних чеков, которые равны 28000 и 58233.2 рублям. А 95-й и 99-й перцентили количества заказов на одного пользователя, которые равны 2 и 4 заказа на пользователя.\n",
    "Примем за аномальных пользователей тех, кто совершил более 2 заказов или совершил заказ дороже 28 000 рублей. Так мы уберём 5% пользователей с наибольшим числом заказов и от 1% до 5% пользователей с дорогими заказами. "
   ]
  },
  {
   "cell_type": "code",
   "execution_count": 35,
   "metadata": {},
   "outputs": [
    {
     "name": "stdout",
     "output_type": "stream",
     "text": [
      "1099    148427295\n",
      "18      199603092\n",
      "928     204675465\n",
      "23      237748145\n",
      "37      249864742\n",
      "dtype: int64\n",
      "74\n"
     ]
    }
   ],
   "source": [
    "# собираем пользователей с большим кол-вом заказов \n",
    "usersWithManyOrders = pd.concat(\n",
    "    [\n",
    "        ordersByUsersA[ordersByUsersA['orders'] > 2]['userId'],\n",
    "        ordersByUsersB[ordersByUsersB['orders'] > 2]['userId'],\n",
    "    ],\n",
    "    axis=0,\n",
    ")\n",
    "\n",
    "# собираем пользователей с слишком дорогими заказами\n",
    "usersWithExpensiveOrders = orders[orders['revenue'] > 28000]['visitor_id']\n",
    "abnormalUsers = (\n",
    "    pd.concat([usersWithManyOrders, usersWithExpensiveOrders], axis=0)\n",
    "    .drop_duplicates()\n",
    "    .sort_values()\n",
    ")\n",
    "\n",
    "print(abnormalUsers.head(5))\n",
    "print(abnormalUsers.shape[0]) "
   ]
  },
  {
   "cell_type": "markdown",
   "metadata": {},
   "source": [
    "Всего 74 аномальных пользователя. "
   ]
  },
  {
   "cell_type": "markdown",
   "metadata": {},
   "source": [
    "Посчитаем статистическую значимость различий в среднем количестве заказов между группами теста по очищенным данным. Сначала подготовим выборки количества заказов по пользователям по группам теста:"
   ]
  },
  {
   "cell_type": "code",
   "execution_count": 36,
   "metadata": {},
   "outputs": [],
   "source": [
    "sampleAFiltered = pd.concat(\n",
    "    [\n",
    "        ordersByUsersA[\n",
    "            np.logical_not(ordersByUsersA['userId'].isin(abnormalUsers))\n",
    "        ]['orders'],\n",
    "        pd.Series(\n",
    "            0,\n",
    "            index=np.arange(\n",
    "                data['visitorsPerDateA'].sum() - len(ordersByUsersA['orders'])\n",
    "            ),\n",
    "            name='orders',\n",
    "        ),\n",
    "    ],\n",
    "    axis=0,\n",
    ")\n",
    "\n",
    "sampleBFiltered = pd.concat(\n",
    "    [\n",
    "        ordersByUsersB[\n",
    "            np.logical_not(ordersByUsersB['userId'].isin(abnormalUsers))\n",
    "        ]['orders'],\n",
    "        pd.Series(\n",
    "            0,\n",
    "            index=np.arange(\n",
    "                data['visitorsPerDateB'].sum() - len(ordersByUsersB['orders'])\n",
    "            ),\n",
    "            name='orders',\n",
    "        ),\n",
    "    ],\n",
    "    axis=0,\n",
    ") "
   ]
  },
  {
   "cell_type": "code",
   "execution_count": 37,
   "metadata": {},
   "outputs": [
    {
     "name": "stdout",
     "output_type": "stream",
     "text": [
      "P-value: 0.013\n",
      "Относительный прирост среднего количества заказов группы B к группе A: 0.173\n"
     ]
    }
   ],
   "source": [
    "print('P-value: {0:.3f}'.format(stats.mannwhitneyu(sampleAFiltered, sampleBFiltered)[1]))\n",
    "print('Относительный прирост среднего количества заказов группы B к группе A: {0:.3f}'.format(sampleBFiltered.mean()/sampleAFiltered.mean()-1)) "
   ]
  },
  {
   "cell_type": "markdown",
   "metadata": {},
   "source": [
    "P-value меньше 0.05, потому нулевую гипотезу отвергаем. Сегмент B значительно лучше сегмента A."
   ]
  },
  {
   "cell_type": "markdown",
   "metadata": {},
   "source": [
    "**Статистическая значимость различий в среднем чеке заказа между группами по «очищенным» данным.**"
   ]
  },
  {
   "cell_type": "code",
   "execution_count": 38,
   "metadata": {},
   "outputs": [
    {
     "name": "stdout",
     "output_type": "stream",
     "text": [
      "P-value: 0.738\n",
      "Относительная разница среднего чека группы В к группе А: -0.020\n"
     ]
    }
   ],
   "source": [
    "print(\n",
    "    'P-value: {0:.3f}'.format(\n",
    "        stats.mannwhitneyu(\n",
    "            orders[\n",
    "                np.logical_and(\n",
    "                    orders['group'] == 'A',\n",
    "                    np.logical_not(orders['visitor_id'].isin(abnormalUsers)),\n",
    "                )\n",
    "            ]['revenue'],\n",
    "            orders[\n",
    "                np.logical_and(\n",
    "                    orders['group'] == 'B',\n",
    "                    np.logical_not(orders['visitor_id'].isin(abnormalUsers)),\n",
    "                )\n",
    "            ]['revenue'],\n",
    "        )[1]\n",
    "    )\n",
    ")\n",
    "\n",
    "print(\n",
    "    \"Относительная разница среднего чека группы В к группе А: {0:.3f}\".format(\n",
    "        orders[\n",
    "            np.logical_and(\n",
    "                orders['group'] == 'B',\n",
    "                np.logical_not(orders['visitor_id'].isin(abnormalUsers)),\n",
    "            )\n",
    "        ]['revenue'].mean()\n",
    "        / orders[\n",
    "            np.logical_and(\n",
    "                orders['group'] == 'A',\n",
    "                np.logical_not(orders['visitor_id'].isin(abnormalUsers)),\n",
    "            )\n",
    "        ]['revenue'].mean()\n",
    "        - 1\n",
    "    )\n",
    ") "
   ]
  },
  {
   "cell_type": "markdown",
   "metadata": {},
   "source": [
    "Как и в случае с сырыми данными, P-value значительно больше 0.05. Значит, причин отвергать нулевую гипотезу нет. Но разница между сегментами сократилась с 25% до практически нулевой, средний чек в группе B даже стал ниже чем в группе A."
   ]
  },
  {
   "cell_type": "markdown",
   "metadata": {},
   "source": [
    "## Общий вывод"
   ]
  },
  {
   "cell_type": "markdown",
   "metadata": {},
   "source": [
    "По результатам А/В-теста можно сделать следующие выводы:\n",
    "\n",
    "- Есть статистически значимые различия по среднему количеству заказов между группами и по «сырым», и по данным после фильтрации аномалий;\n",
    "\n",
    "- Нет статистически значимого различия по среднему чеку между группами ни по «сырым», ни по данным после фильтрации аномалий;\n",
    "\n",
    "- График различия среднего количества заказов между группами сообщает, что результаты группы B лучше группы A;\n",
    "\n",
    "- График различия среднего чека говорит о том, что результаты группы B лучше группы А, но при исключении аномальных значений анамалий средний чек практически не меняется. \n",
    "\n",
    "Исходя из вышеизложенного, тест следует остановить и признать его успешным."
   ]
  }
 ],
 "metadata": {
  "ExecuteTimeLog": [
   {
    "duration": 446,
    "start_time": "2023-11-22T07:47:04.060Z"
   },
   {
    "duration": 63,
    "start_time": "2023-11-22T07:49:32.520Z"
   },
   {
    "duration": 15,
    "start_time": "2023-11-22T07:49:49.392Z"
   },
   {
    "duration": 11,
    "start_time": "2023-11-22T07:50:03.718Z"
   },
   {
    "duration": 8,
    "start_time": "2023-11-22T07:51:25.430Z"
   },
   {
    "duration": 10,
    "start_time": "2023-11-22T07:52:48.677Z"
   },
   {
    "duration": 71,
    "start_time": "2023-11-22T07:54:33.444Z"
   },
   {
    "duration": 9,
    "start_time": "2023-11-22T07:56:45.707Z"
   },
   {
    "duration": 4,
    "start_time": "2023-11-22T07:57:04.366Z"
   },
   {
    "duration": 4,
    "start_time": "2023-11-22T07:57:46.203Z"
   },
   {
    "duration": 3,
    "start_time": "2023-11-22T07:58:11.003Z"
   },
   {
    "duration": 5,
    "start_time": "2023-11-22T07:58:17.031Z"
   },
   {
    "duration": 12,
    "start_time": "2023-11-22T08:04:55.850Z"
   },
   {
    "duration": 8,
    "start_time": "2023-11-22T08:06:47.144Z"
   },
   {
    "duration": 9,
    "start_time": "2023-11-22T08:07:44.542Z"
   },
   {
    "duration": 11,
    "start_time": "2023-11-22T08:09:04.441Z"
   },
   {
    "duration": 12,
    "start_time": "2023-11-22T08:09:11.447Z"
   },
   {
    "duration": 145,
    "start_time": "2023-11-22T08:36:10.132Z"
   },
   {
    "duration": 29,
    "start_time": "2023-11-22T08:36:41.645Z"
   },
   {
    "duration": 432,
    "start_time": "2023-11-22T08:38:03.645Z"
   },
   {
    "duration": 27,
    "start_time": "2023-11-22T08:38:04.079Z"
   },
   {
    "duration": 14,
    "start_time": "2023-11-22T08:38:04.107Z"
   },
   {
    "duration": 14,
    "start_time": "2023-11-22T08:38:04.123Z"
   },
   {
    "duration": 7,
    "start_time": "2023-11-22T08:38:04.139Z"
   },
   {
    "duration": 9,
    "start_time": "2023-11-22T08:38:04.147Z"
   },
   {
    "duration": 26,
    "start_time": "2023-11-22T08:38:04.158Z"
   },
   {
    "duration": 11,
    "start_time": "2023-11-22T08:38:04.185Z"
   },
   {
    "duration": 70,
    "start_time": "2023-11-22T08:38:04.197Z"
   },
   {
    "duration": 27,
    "start_time": "2023-11-22T08:38:04.269Z"
   },
   {
    "duration": 9,
    "start_time": "2023-11-22T09:09:59.476Z"
   },
   {
    "duration": 30,
    "start_time": "2023-11-22T09:10:42.731Z"
   },
   {
    "duration": 7,
    "start_time": "2023-11-22T09:11:57.965Z"
   },
   {
    "duration": 1103,
    "start_time": "2023-11-22T09:13:18.972Z"
   },
   {
    "duration": 3,
    "start_time": "2023-11-22T09:13:41.843Z"
   },
   {
    "duration": 210,
    "start_time": "2023-11-22T09:15:42.178Z"
   },
   {
    "duration": 152,
    "start_time": "2023-11-22T09:16:14.210Z"
   },
   {
    "duration": 24,
    "start_time": "2023-11-22T09:33:06.653Z"
   },
   {
    "duration": 3,
    "start_time": "2023-11-22T09:34:10.251Z"
   },
   {
    "duration": 646,
    "start_time": "2023-11-22T09:34:15.796Z"
   },
   {
    "duration": 28,
    "start_time": "2023-11-22T09:34:16.444Z"
   },
   {
    "duration": 31,
    "start_time": "2023-11-22T09:34:16.474Z"
   },
   {
    "duration": 34,
    "start_time": "2023-11-22T09:34:16.507Z"
   },
   {
    "duration": 31,
    "start_time": "2023-11-22T09:34:16.543Z"
   },
   {
    "duration": 36,
    "start_time": "2023-11-22T09:34:16.576Z"
   },
   {
    "duration": 29,
    "start_time": "2023-11-22T09:34:16.614Z"
   },
   {
    "duration": 38,
    "start_time": "2023-11-22T09:34:16.645Z"
   },
   {
    "duration": 94,
    "start_time": "2023-11-22T09:34:16.685Z"
   },
   {
    "duration": 29,
    "start_time": "2023-11-22T09:34:16.781Z"
   },
   {
    "duration": 14,
    "start_time": "2023-11-22T09:34:16.811Z"
   },
   {
    "duration": 53,
    "start_time": "2023-11-22T09:34:16.827Z"
   },
   {
    "duration": 24,
    "start_time": "2023-11-22T09:34:16.882Z"
   },
   {
    "duration": 101,
    "start_time": "2023-11-22T09:34:16.909Z"
   },
   {
    "duration": 25,
    "start_time": "2023-11-22T09:36:10.894Z"
   },
   {
    "duration": 279,
    "start_time": "2023-11-22T09:36:23.667Z"
   },
   {
    "duration": 270,
    "start_time": "2023-11-22T09:38:23.730Z"
   },
   {
    "duration": 265,
    "start_time": "2023-11-22T09:39:54.384Z"
   },
   {
    "duration": 202,
    "start_time": "2023-11-22T09:40:43.930Z"
   },
   {
    "duration": 201,
    "start_time": "2023-11-22T09:42:10.771Z"
   },
   {
    "duration": 268,
    "start_time": "2023-11-22T09:42:42.944Z"
   },
   {
    "duration": 813,
    "start_time": "2023-11-24T07:08:04.591Z"
   },
   {
    "duration": 63,
    "start_time": "2023-11-24T07:08:05.406Z"
   },
   {
    "duration": 16,
    "start_time": "2023-11-24T07:08:05.470Z"
   },
   {
    "duration": 13,
    "start_time": "2023-11-24T07:08:05.489Z"
   },
   {
    "duration": 20,
    "start_time": "2023-11-24T07:08:05.504Z"
   },
   {
    "duration": 36,
    "start_time": "2023-11-24T07:08:05.526Z"
   },
   {
    "duration": 16,
    "start_time": "2023-11-24T07:08:05.563Z"
   },
   {
    "duration": 13,
    "start_time": "2023-11-24T07:08:05.580Z"
   },
   {
    "duration": 140,
    "start_time": "2023-11-24T07:08:05.595Z"
   },
   {
    "duration": 27,
    "start_time": "2023-11-24T07:08:05.737Z"
   },
   {
    "duration": 7,
    "start_time": "2023-11-24T07:08:05.766Z"
   },
   {
    "duration": 41,
    "start_time": "2023-11-24T07:08:05.775Z"
   },
   {
    "duration": 9,
    "start_time": "2023-11-24T07:08:05.818Z"
   },
   {
    "duration": 337,
    "start_time": "2023-11-24T07:08:05.829Z"
   },
   {
    "duration": 314,
    "start_time": "2023-11-24T07:08:06.168Z"
   },
   {
    "duration": 175,
    "start_time": "2023-11-24T07:12:03.359Z"
   },
   {
    "duration": 189,
    "start_time": "2023-11-24T07:12:26.793Z"
   },
   {
    "duration": 390,
    "start_time": "2023-11-24T07:14:04.798Z"
   },
   {
    "duration": 193,
    "start_time": "2023-11-24T07:21:48.955Z"
   },
   {
    "duration": 331,
    "start_time": "2023-11-24T07:22:37.545Z"
   },
   {
    "duration": 303,
    "start_time": "2023-11-24T07:27:52.377Z"
   },
   {
    "duration": 73,
    "start_time": "2023-11-24T07:30:06.055Z"
   },
   {
    "duration": 834,
    "start_time": "2023-11-27T07:00:54.960Z"
   },
   {
    "duration": 59,
    "start_time": "2023-11-27T07:00:55.798Z"
   },
   {
    "duration": 11,
    "start_time": "2023-11-27T07:00:55.859Z"
   },
   {
    "duration": 10,
    "start_time": "2023-11-27T07:00:55.872Z"
   },
   {
    "duration": 3,
    "start_time": "2023-11-27T07:00:55.884Z"
   },
   {
    "duration": 11,
    "start_time": "2023-11-27T07:00:55.889Z"
   },
   {
    "duration": 13,
    "start_time": "2023-11-27T07:00:55.901Z"
   },
   {
    "duration": 11,
    "start_time": "2023-11-27T07:00:55.915Z"
   },
   {
    "duration": 127,
    "start_time": "2023-11-27T07:00:55.928Z"
   },
   {
    "duration": 28,
    "start_time": "2023-11-27T07:00:56.056Z"
   },
   {
    "duration": 6,
    "start_time": "2023-11-27T07:00:56.085Z"
   },
   {
    "duration": 28,
    "start_time": "2023-11-27T07:00:56.093Z"
   },
   {
    "duration": 7,
    "start_time": "2023-11-27T07:00:56.122Z"
   },
   {
    "duration": 298,
    "start_time": "2023-11-27T07:00:56.130Z"
   },
   {
    "duration": 291,
    "start_time": "2023-11-27T07:00:56.429Z"
   },
   {
    "duration": 189,
    "start_time": "2023-11-27T07:00:56.722Z"
   },
   {
    "duration": 313,
    "start_time": "2023-11-27T07:00:56.913Z"
   },
   {
    "duration": 228,
    "start_time": "2023-11-27T07:00:57.228Z"
   },
   {
    "duration": 307,
    "start_time": "2023-11-27T07:00:57.458Z"
   },
   {
    "duration": 78,
    "start_time": "2023-11-27T07:00:57.766Z"
   },
   {
    "duration": 603,
    "start_time": "2023-11-27T07:11:07.446Z"
   },
   {
    "duration": 59,
    "start_time": "2023-11-27T07:11:08.051Z"
   },
   {
    "duration": 29,
    "start_time": "2023-11-27T07:11:08.112Z"
   },
   {
    "duration": 6,
    "start_time": "2023-11-27T07:11:08.143Z"
   },
   {
    "duration": 27,
    "start_time": "2023-11-27T07:11:08.150Z"
   },
   {
    "duration": 8,
    "start_time": "2023-11-27T07:11:08.178Z"
   },
   {
    "duration": 16,
    "start_time": "2023-11-27T07:11:08.187Z"
   },
   {
    "duration": 9,
    "start_time": "2023-11-27T07:11:08.205Z"
   },
   {
    "duration": 18,
    "start_time": "2023-11-27T07:11:08.215Z"
   },
   {
    "duration": 12,
    "start_time": "2023-11-27T07:11:08.236Z"
   },
   {
    "duration": 14,
    "start_time": "2023-11-27T07:11:08.249Z"
   },
   {
    "duration": 21,
    "start_time": "2023-11-27T07:11:08.265Z"
   },
   {
    "duration": 9,
    "start_time": "2023-11-27T07:11:08.288Z"
   },
   {
    "duration": 268,
    "start_time": "2023-11-27T07:11:08.298Z"
   },
   {
    "duration": 278,
    "start_time": "2023-11-27T07:11:08.567Z"
   },
   {
    "duration": 186,
    "start_time": "2023-11-27T07:11:08.847Z"
   },
   {
    "duration": 227,
    "start_time": "2023-11-27T07:11:09.034Z"
   },
   {
    "duration": 229,
    "start_time": "2023-11-27T07:11:09.262Z"
   },
   {
    "duration": 292,
    "start_time": "2023-11-27T07:11:09.492Z"
   },
   {
    "duration": 72,
    "start_time": "2023-11-27T07:11:09.785Z"
   },
   {
    "duration": 247,
    "start_time": "2023-11-27T07:21:40.436Z"
   },
   {
    "duration": 243,
    "start_time": "2023-11-27T07:21:46.913Z"
   },
   {
    "duration": 586,
    "start_time": "2023-11-27T07:28:01.007Z"
   },
   {
    "duration": 59,
    "start_time": "2023-11-27T07:28:01.594Z"
   },
   {
    "duration": 27,
    "start_time": "2023-11-27T07:28:01.655Z"
   },
   {
    "duration": 5,
    "start_time": "2023-11-27T07:28:01.684Z"
   },
   {
    "duration": 53,
    "start_time": "2023-11-27T07:28:01.690Z"
   },
   {
    "duration": 13,
    "start_time": "2023-11-27T07:28:01.744Z"
   },
   {
    "duration": 26,
    "start_time": "2023-11-27T07:28:01.758Z"
   },
   {
    "duration": 7,
    "start_time": "2023-11-27T07:28:01.786Z"
   },
   {
    "duration": 21,
    "start_time": "2023-11-27T07:28:01.794Z"
   },
   {
    "duration": 26,
    "start_time": "2023-11-27T07:28:01.817Z"
   },
   {
    "duration": 30,
    "start_time": "2023-11-27T07:28:01.845Z"
   },
   {
    "duration": 30,
    "start_time": "2023-11-27T07:28:01.877Z"
   },
   {
    "duration": 17,
    "start_time": "2023-11-27T07:28:01.909Z"
   },
   {
    "duration": 264,
    "start_time": "2023-11-27T07:28:01.927Z"
   },
   {
    "duration": 282,
    "start_time": "2023-11-27T07:28:02.193Z"
   },
   {
    "duration": 186,
    "start_time": "2023-11-27T07:28:02.476Z"
   },
   {
    "duration": 281,
    "start_time": "2023-11-27T07:28:02.663Z"
   },
   {
    "duration": 243,
    "start_time": "2023-11-27T07:28:02.945Z"
   },
   {
    "duration": 283,
    "start_time": "2023-11-27T07:28:03.189Z"
   },
   {
    "duration": 71,
    "start_time": "2023-11-27T07:28:03.473Z"
   },
   {
    "duration": 191,
    "start_time": "2023-11-27T07:50:52.800Z"
   },
   {
    "duration": 296,
    "start_time": "2023-11-27T08:01:59.091Z"
   },
   {
    "duration": 323,
    "start_time": "2023-11-27T08:06:19.273Z"
   },
   {
    "duration": 215,
    "start_time": "2023-11-27T08:13:19.241Z"
   },
   {
    "duration": 199,
    "start_time": "2023-11-27T08:15:40.093Z"
   },
   {
    "duration": 267,
    "start_time": "2023-11-27T08:24:46.732Z"
   },
   {
    "duration": 309,
    "start_time": "2023-11-27T08:28:07.891Z"
   },
   {
    "duration": 294,
    "start_time": "2023-11-27T08:28:30.251Z"
   },
   {
    "duration": 325,
    "start_time": "2023-11-27T08:35:02.357Z"
   },
   {
    "duration": 340,
    "start_time": "2023-11-27T08:35:54.256Z"
   },
   {
    "duration": 9,
    "start_time": "2023-11-27T08:51:06.041Z"
   },
   {
    "duration": 108,
    "start_time": "2023-11-27T08:52:39.385Z"
   },
   {
    "duration": 140,
    "start_time": "2023-11-27T08:54:48.881Z"
   },
   {
    "duration": 4,
    "start_time": "2023-11-27T09:02:27.933Z"
   },
   {
    "duration": 85,
    "start_time": "2023-11-27T09:06:33.852Z"
   },
   {
    "duration": 120,
    "start_time": "2023-11-27T09:08:50.034Z"
   },
   {
    "duration": 165,
    "start_time": "2023-11-27T09:11:42.392Z"
   },
   {
    "duration": 111,
    "start_time": "2023-11-27T09:19:08.282Z"
   },
   {
    "duration": 4,
    "start_time": "2023-11-27T09:19:17.968Z"
   },
   {
    "duration": 75,
    "start_time": "2023-11-27T09:26:05.318Z"
   },
   {
    "duration": 18,
    "start_time": "2023-11-27T09:37:55.711Z"
   },
   {
    "duration": 134,
    "start_time": "2023-11-27T09:39:44.776Z"
   },
   {
    "duration": 1539,
    "start_time": "2023-11-27T09:44:52.695Z"
   },
   {
    "duration": 98,
    "start_time": "2023-11-27T09:48:34.985Z"
   },
   {
    "duration": 95,
    "start_time": "2023-11-27T09:51:20.496Z"
   },
   {
    "duration": 105,
    "start_time": "2023-11-27T09:52:12.169Z"
   },
   {
    "duration": 309,
    "start_time": "2023-11-27T09:52:43.108Z"
   },
   {
    "duration": 470,
    "start_time": "2023-11-27T09:53:13.386Z"
   },
   {
    "duration": 324,
    "start_time": "2023-11-27T09:53:20.459Z"
   },
   {
    "duration": 115,
    "start_time": "2023-11-27T10:32:11.502Z"
   },
   {
    "duration": 10,
    "start_time": "2023-11-27T10:34:08.845Z"
   },
   {
    "duration": 374,
    "start_time": "2023-11-27T10:37:33.541Z"
   },
   {
    "duration": 79,
    "start_time": "2023-11-27T10:40:24.548Z"
   },
   {
    "duration": 1347,
    "start_time": "2023-11-27T10:46:12.755Z"
   },
   {
    "duration": 1374,
    "start_time": "2023-11-27T10:46:44.491Z"
   },
   {
    "duration": 8,
    "start_time": "2023-11-27T10:47:21.652Z"
   },
   {
    "duration": 7,
    "start_time": "2023-11-27T10:49:30.283Z"
   },
   {
    "duration": 10,
    "start_time": "2023-11-27T10:49:33.154Z"
   },
   {
    "duration": 23,
    "start_time": "2023-11-27T10:49:50.914Z"
   },
   {
    "duration": 9,
    "start_time": "2023-11-27T10:51:53.897Z"
   },
   {
    "duration": 131,
    "start_time": "2023-11-27T11:09:00.958Z"
   },
   {
    "duration": 1341,
    "start_time": "2023-11-27T11:09:38.562Z"
   },
   {
    "duration": 12,
    "start_time": "2023-11-27T11:10:19.783Z"
   },
   {
    "duration": 8,
    "start_time": "2023-11-27T11:33:49.401Z"
   },
   {
    "duration": 7,
    "start_time": "2023-11-27T11:34:00.544Z"
   },
   {
    "duration": 23,
    "start_time": "2023-11-27T11:34:02.928Z"
   },
   {
    "duration": 12,
    "start_time": "2023-11-27T11:34:11.888Z"
   },
   {
    "duration": 1102,
    "start_time": "2023-11-27T11:36:44.982Z"
   },
   {
    "duration": 59,
    "start_time": "2023-11-27T11:36:46.086Z"
   },
   {
    "duration": 28,
    "start_time": "2023-11-27T11:36:46.146Z"
   },
   {
    "duration": 26,
    "start_time": "2023-11-27T11:36:46.176Z"
   },
   {
    "duration": 24,
    "start_time": "2023-11-27T11:36:46.203Z"
   },
   {
    "duration": 5,
    "start_time": "2023-11-27T11:36:46.229Z"
   },
   {
    "duration": 15,
    "start_time": "2023-11-27T11:36:46.235Z"
   },
   {
    "duration": 7,
    "start_time": "2023-11-27T11:36:46.251Z"
   },
   {
    "duration": 13,
    "start_time": "2023-11-27T11:36:46.259Z"
   },
   {
    "duration": 2,
    "start_time": "2023-11-27T11:36:46.274Z"
   },
   {
    "duration": 4,
    "start_time": "2023-11-27T11:36:46.281Z"
   },
   {
    "duration": 10,
    "start_time": "2023-11-27T11:36:46.287Z"
   },
   {
    "duration": 9,
    "start_time": "2023-11-27T11:36:46.298Z"
   },
   {
    "duration": 273,
    "start_time": "2023-11-27T11:36:46.309Z"
   },
   {
    "duration": 285,
    "start_time": "2023-11-27T11:36:46.584Z"
   },
   {
    "duration": 198,
    "start_time": "2023-11-27T11:36:46.870Z"
   },
   {
    "duration": 317,
    "start_time": "2023-11-27T11:36:47.069Z"
   },
   {
    "duration": 220,
    "start_time": "2023-11-27T11:36:47.387Z"
   },
   {
    "duration": 299,
    "start_time": "2023-11-27T11:36:47.609Z"
   },
   {
    "duration": 7,
    "start_time": "2023-11-27T11:36:47.910Z"
   },
   {
    "duration": 150,
    "start_time": "2023-11-27T11:36:47.919Z"
   },
   {
    "duration": 12,
    "start_time": "2023-11-27T11:36:48.070Z"
   },
   {
    "duration": 156,
    "start_time": "2023-11-27T11:36:48.083Z"
   },
   {
    "duration": 4,
    "start_time": "2023-11-27T11:36:48.240Z"
   },
   {
    "duration": 351,
    "start_time": "2023-11-27T11:36:48.245Z"
   },
   {
    "duration": 9,
    "start_time": "2023-11-27T11:36:48.597Z"
   },
   {
    "duration": 7,
    "start_time": "2023-11-27T11:36:48.608Z"
   },
   {
    "duration": 11,
    "start_time": "2023-11-27T11:36:48.618Z"
   },
   {
    "duration": 24,
    "start_time": "2023-11-27T11:36:48.630Z"
   },
   {
    "duration": 34,
    "start_time": "2023-11-27T11:36:48.655Z"
   },
   {
    "duration": 3,
    "start_time": "2023-11-27T11:36:48.690Z"
   },
   {
    "duration": 12,
    "start_time": "2023-11-27T11:38:53.004Z"
   },
   {
    "duration": 1772,
    "start_time": "2023-11-27T12:24:50.957Z"
   },
   {
    "duration": 1077,
    "start_time": "2023-11-27T12:28:30.582Z"
   },
   {
    "duration": 58,
    "start_time": "2023-11-27T12:28:31.662Z"
   },
   {
    "duration": 28,
    "start_time": "2023-11-27T12:28:31.722Z"
   },
   {
    "duration": 12,
    "start_time": "2023-11-27T12:28:31.751Z"
   },
   {
    "duration": 38,
    "start_time": "2023-11-27T12:28:31.764Z"
   },
   {
    "duration": 6,
    "start_time": "2023-11-27T12:28:31.803Z"
   },
   {
    "duration": 32,
    "start_time": "2023-11-27T12:28:31.810Z"
   },
   {
    "duration": 33,
    "start_time": "2023-11-27T12:28:31.843Z"
   },
   {
    "duration": 26,
    "start_time": "2023-11-27T12:28:31.877Z"
   },
   {
    "duration": 117,
    "start_time": "2023-11-27T12:28:31.904Z"
   },
   {
    "duration": 0,
    "start_time": "2023-11-27T12:28:32.023Z"
   },
   {
    "duration": 0,
    "start_time": "2023-11-27T12:28:32.024Z"
   },
   {
    "duration": 0,
    "start_time": "2023-11-27T12:28:32.025Z"
   },
   {
    "duration": 0,
    "start_time": "2023-11-27T12:28:32.026Z"
   },
   {
    "duration": 0,
    "start_time": "2023-11-27T12:28:32.027Z"
   },
   {
    "duration": 0,
    "start_time": "2023-11-27T12:28:32.028Z"
   },
   {
    "duration": 0,
    "start_time": "2023-11-27T12:28:32.029Z"
   },
   {
    "duration": 0,
    "start_time": "2023-11-27T12:28:32.030Z"
   },
   {
    "duration": 0,
    "start_time": "2023-11-27T12:28:32.031Z"
   },
   {
    "duration": 0,
    "start_time": "2023-11-27T12:28:32.032Z"
   },
   {
    "duration": 0,
    "start_time": "2023-11-27T12:28:32.033Z"
   },
   {
    "duration": 0,
    "start_time": "2023-11-27T12:28:32.034Z"
   },
   {
    "duration": 0,
    "start_time": "2023-11-27T12:28:32.035Z"
   },
   {
    "duration": 0,
    "start_time": "2023-11-27T12:28:32.036Z"
   },
   {
    "duration": 0,
    "start_time": "2023-11-27T12:28:32.037Z"
   },
   {
    "duration": 0,
    "start_time": "2023-11-27T12:28:32.038Z"
   },
   {
    "duration": 0,
    "start_time": "2023-11-27T12:28:32.038Z"
   },
   {
    "duration": 0,
    "start_time": "2023-11-27T12:28:32.039Z"
   },
   {
    "duration": 0,
    "start_time": "2023-11-27T12:28:32.040Z"
   },
   {
    "duration": 1136,
    "start_time": "2023-11-27T12:28:53.790Z"
   },
   {
    "duration": 59,
    "start_time": "2023-11-27T12:28:54.928Z"
   },
   {
    "duration": 31,
    "start_time": "2023-11-27T12:28:54.988Z"
   },
   {
    "duration": 6,
    "start_time": "2023-11-27T12:28:55.021Z"
   },
   {
    "duration": 35,
    "start_time": "2023-11-27T12:28:55.028Z"
   },
   {
    "duration": 23,
    "start_time": "2023-11-27T12:28:55.064Z"
   },
   {
    "duration": 14,
    "start_time": "2023-11-27T12:28:55.089Z"
   },
   {
    "duration": 22,
    "start_time": "2023-11-27T12:28:55.104Z"
   },
   {
    "duration": 8,
    "start_time": "2023-11-27T12:28:55.128Z"
   },
   {
    "duration": 4,
    "start_time": "2023-11-27T12:28:55.138Z"
   },
   {
    "duration": 10,
    "start_time": "2023-11-27T12:28:55.144Z"
   },
   {
    "duration": 15,
    "start_time": "2023-11-27T12:28:55.156Z"
   },
   {
    "duration": 263,
    "start_time": "2023-11-27T12:28:55.182Z"
   },
   {
    "duration": 279,
    "start_time": "2023-11-27T12:28:55.447Z"
   },
   {
    "duration": 207,
    "start_time": "2023-11-27T12:28:55.727Z"
   },
   {
    "duration": 271,
    "start_time": "2023-11-27T12:28:55.935Z"
   },
   {
    "duration": 233,
    "start_time": "2023-11-27T12:28:56.207Z"
   },
   {
    "duration": 298,
    "start_time": "2023-11-27T12:28:56.442Z"
   },
   {
    "duration": 9,
    "start_time": "2023-11-27T12:28:56.742Z"
   },
   {
    "duration": 156,
    "start_time": "2023-11-27T12:28:56.752Z"
   },
   {
    "duration": 4,
    "start_time": "2023-11-27T12:28:56.910Z"
   },
   {
    "duration": 168,
    "start_time": "2023-11-27T12:28:56.916Z"
   },
   {
    "duration": 4,
    "start_time": "2023-11-27T12:28:57.086Z"
   },
   {
    "duration": 341,
    "start_time": "2023-11-27T12:28:57.092Z"
   },
   {
    "duration": 10,
    "start_time": "2023-11-27T12:28:57.435Z"
   },
   {
    "duration": 9,
    "start_time": "2023-11-27T12:28:57.447Z"
   },
   {
    "duration": 27,
    "start_time": "2023-11-27T12:28:57.457Z"
   },
   {
    "duration": 23,
    "start_time": "2023-11-27T12:28:57.487Z"
   },
   {
    "duration": 13,
    "start_time": "2023-11-27T12:28:57.511Z"
   },
   {
    "duration": 1249,
    "start_time": "2023-11-27T18:25:16.925Z"
   },
   {
    "duration": 152,
    "start_time": "2023-11-27T18:25:18.175Z"
   },
   {
    "duration": 31,
    "start_time": "2023-11-27T18:25:18.328Z"
   },
   {
    "duration": 6,
    "start_time": "2023-11-27T18:25:18.360Z"
   },
   {
    "duration": 34,
    "start_time": "2023-11-27T18:25:18.368Z"
   },
   {
    "duration": 7,
    "start_time": "2023-11-27T18:25:18.414Z"
   },
   {
    "duration": 60,
    "start_time": "2023-11-27T18:25:18.423Z"
   },
   {
    "duration": 8,
    "start_time": "2023-11-27T18:25:18.484Z"
   },
   {
    "duration": 27,
    "start_time": "2023-11-27T18:25:18.493Z"
   },
   {
    "duration": 5,
    "start_time": "2023-11-27T18:25:18.521Z"
   },
   {
    "duration": 14,
    "start_time": "2023-11-27T18:25:18.527Z"
   },
   {
    "duration": 9,
    "start_time": "2023-11-27T18:25:18.543Z"
   },
   {
    "duration": 293,
    "start_time": "2023-11-27T18:25:18.554Z"
   },
   {
    "duration": 302,
    "start_time": "2023-11-27T18:25:18.851Z"
   },
   {
    "duration": 228,
    "start_time": "2023-11-27T18:25:19.155Z"
   },
   {
    "duration": 382,
    "start_time": "2023-11-27T18:25:19.384Z"
   },
   {
    "duration": 225,
    "start_time": "2023-11-27T18:25:19.767Z"
   },
   {
    "duration": 331,
    "start_time": "2023-11-27T18:25:19.994Z"
   },
   {
    "duration": 10,
    "start_time": "2023-11-27T18:25:20.326Z"
   },
   {
    "duration": 184,
    "start_time": "2023-11-27T18:25:20.337Z"
   },
   {
    "duration": 4,
    "start_time": "2023-11-27T18:25:20.524Z"
   },
   {
    "duration": 183,
    "start_time": "2023-11-27T18:25:20.530Z"
   },
   {
    "duration": 4,
    "start_time": "2023-11-27T18:25:20.715Z"
   },
   {
    "duration": 356,
    "start_time": "2023-11-27T18:25:20.721Z"
   },
   {
    "duration": 10,
    "start_time": "2023-11-27T18:25:21.079Z"
   },
   {
    "duration": 27,
    "start_time": "2023-11-27T18:25:21.091Z"
   },
   {
    "duration": 8,
    "start_time": "2023-11-27T18:25:21.120Z"
   },
   {
    "duration": 40,
    "start_time": "2023-11-27T18:25:21.129Z"
   },
   {
    "duration": 13,
    "start_time": "2023-11-27T18:25:21.171Z"
   },
   {
    "duration": 12,
    "start_time": "2023-11-27T18:28:25.460Z"
   },
   {
    "duration": 1145,
    "start_time": "2023-11-27T18:28:59.401Z"
   },
   {
    "duration": 64,
    "start_time": "2023-11-27T18:29:00.548Z"
   },
   {
    "duration": 34,
    "start_time": "2023-11-27T18:29:00.613Z"
   },
   {
    "duration": 6,
    "start_time": "2023-11-27T18:29:00.649Z"
   },
   {
    "duration": 45,
    "start_time": "2023-11-27T18:29:00.657Z"
   },
   {
    "duration": 7,
    "start_time": "2023-11-27T18:29:00.715Z"
   },
   {
    "duration": 45,
    "start_time": "2023-11-27T18:29:00.724Z"
   },
   {
    "duration": 20,
    "start_time": "2023-11-27T18:29:00.770Z"
   },
   {
    "duration": 35,
    "start_time": "2023-11-27T18:29:00.792Z"
   },
   {
    "duration": 25,
    "start_time": "2023-11-27T18:29:00.829Z"
   },
   {
    "duration": 49,
    "start_time": "2023-11-27T18:29:00.856Z"
   },
   {
    "duration": 43,
    "start_time": "2023-11-27T18:29:00.907Z"
   },
   {
    "duration": 308,
    "start_time": "2023-11-27T18:29:00.952Z"
   },
   {
    "duration": 298,
    "start_time": "2023-11-27T18:29:01.261Z"
   },
   {
    "duration": 223,
    "start_time": "2023-11-27T18:29:01.560Z"
   },
   {
    "duration": 342,
    "start_time": "2023-11-27T18:29:01.784Z"
   },
   {
    "duration": 266,
    "start_time": "2023-11-27T18:29:02.128Z"
   },
   {
    "duration": 343,
    "start_time": "2023-11-27T18:29:02.396Z"
   },
   {
    "duration": 9,
    "start_time": "2023-11-27T18:29:02.741Z"
   },
   {
    "duration": 170,
    "start_time": "2023-11-27T18:29:02.752Z"
   },
   {
    "duration": 5,
    "start_time": "2023-11-27T18:29:02.924Z"
   },
   {
    "duration": 174,
    "start_time": "2023-11-27T18:29:02.931Z"
   },
   {
    "duration": 10,
    "start_time": "2023-11-27T18:29:03.107Z"
   },
   {
    "duration": 352,
    "start_time": "2023-11-27T18:29:03.119Z"
   },
   {
    "duration": 11,
    "start_time": "2023-11-27T18:29:03.473Z"
   },
   {
    "duration": 14,
    "start_time": "2023-11-27T18:29:03.485Z"
   },
   {
    "duration": 19,
    "start_time": "2023-11-27T18:29:03.501Z"
   },
   {
    "duration": 24,
    "start_time": "2023-11-27T18:29:03.524Z"
   },
   {
    "duration": 13,
    "start_time": "2023-11-27T18:29:03.549Z"
   },
   {
    "duration": 1105,
    "start_time": "2023-11-27T19:03:29.879Z"
   },
   {
    "duration": 64,
    "start_time": "2023-11-27T19:03:30.986Z"
   },
   {
    "duration": 35,
    "start_time": "2023-11-27T19:03:31.051Z"
   },
   {
    "duration": 7,
    "start_time": "2023-11-27T19:03:31.088Z"
   },
   {
    "duration": 44,
    "start_time": "2023-11-27T19:03:31.096Z"
   },
   {
    "duration": 6,
    "start_time": "2023-11-27T19:03:31.141Z"
   },
   {
    "duration": 29,
    "start_time": "2023-11-27T19:03:31.149Z"
   },
   {
    "duration": 87,
    "start_time": "2023-11-27T19:03:31.179Z"
   },
   {
    "duration": 35,
    "start_time": "2023-11-27T19:03:31.268Z"
   },
   {
    "duration": 27,
    "start_time": "2023-11-27T19:03:31.305Z"
   },
   {
    "duration": 28,
    "start_time": "2023-11-27T19:03:31.333Z"
   },
   {
    "duration": 32,
    "start_time": "2023-11-27T19:03:31.363Z"
   },
   {
    "duration": 281,
    "start_time": "2023-11-27T19:03:31.397Z"
   },
   {
    "duration": 297,
    "start_time": "2023-11-27T19:03:31.680Z"
   },
   {
    "duration": 218,
    "start_time": "2023-11-27T19:03:31.979Z"
   },
   {
    "duration": 322,
    "start_time": "2023-11-27T19:03:32.199Z"
   },
   {
    "duration": 231,
    "start_time": "2023-11-27T19:03:32.522Z"
   },
   {
    "duration": 284,
    "start_time": "2023-11-27T19:03:32.754Z"
   },
   {
    "duration": 10,
    "start_time": "2023-11-27T19:03:33.040Z"
   },
   {
    "duration": 166,
    "start_time": "2023-11-27T19:03:33.052Z"
   },
   {
    "duration": 4,
    "start_time": "2023-11-27T19:03:33.219Z"
   },
   {
    "duration": 173,
    "start_time": "2023-11-27T19:03:33.224Z"
   },
   {
    "duration": 4,
    "start_time": "2023-11-27T19:03:33.398Z"
   },
   {
    "duration": 346,
    "start_time": "2023-11-27T19:03:33.415Z"
   },
   {
    "duration": 10,
    "start_time": "2023-11-27T19:03:33.763Z"
   },
   {
    "duration": 15,
    "start_time": "2023-11-27T19:03:33.775Z"
   },
   {
    "duration": 25,
    "start_time": "2023-11-27T19:03:33.791Z"
   },
   {
    "duration": 27,
    "start_time": "2023-11-27T19:03:33.820Z"
   },
   {
    "duration": 15,
    "start_time": "2023-11-27T19:03:33.849Z"
   },
   {
    "duration": 1067,
    "start_time": "2023-11-27T19:05:38.809Z"
   },
   {
    "duration": 63,
    "start_time": "2023-11-27T19:05:39.878Z"
   },
   {
    "duration": 32,
    "start_time": "2023-11-27T19:05:39.942Z"
   },
   {
    "duration": 5,
    "start_time": "2023-11-27T19:05:39.976Z"
   },
   {
    "duration": 58,
    "start_time": "2023-11-27T19:05:39.982Z"
   },
   {
    "duration": 7,
    "start_time": "2023-11-27T19:05:40.041Z"
   },
   {
    "duration": 49,
    "start_time": "2023-11-27T19:05:40.050Z"
   },
   {
    "duration": 28,
    "start_time": "2023-11-27T19:05:40.100Z"
   },
   {
    "duration": 37,
    "start_time": "2023-11-27T19:05:40.130Z"
   },
   {
    "duration": 35,
    "start_time": "2023-11-27T19:05:40.170Z"
   },
   {
    "duration": 28,
    "start_time": "2023-11-27T19:05:40.207Z"
   },
   {
    "duration": 20,
    "start_time": "2023-11-27T19:05:40.237Z"
   },
   {
    "duration": 287,
    "start_time": "2023-11-27T19:05:40.258Z"
   },
   {
    "duration": 299,
    "start_time": "2023-11-27T19:05:40.547Z"
   },
   {
    "duration": 221,
    "start_time": "2023-11-27T19:05:40.848Z"
   },
   {
    "duration": 296,
    "start_time": "2023-11-27T19:05:41.071Z"
   },
   {
    "duration": 225,
    "start_time": "2023-11-27T19:05:41.368Z"
   },
   {
    "duration": 329,
    "start_time": "2023-11-27T19:05:41.595Z"
   },
   {
    "duration": 8,
    "start_time": "2023-11-27T19:05:41.925Z"
   },
   {
    "duration": 156,
    "start_time": "2023-11-27T19:05:41.935Z"
   },
   {
    "duration": 4,
    "start_time": "2023-11-27T19:05:42.093Z"
   },
   {
    "duration": 187,
    "start_time": "2023-11-27T19:05:42.098Z"
   },
   {
    "duration": 3,
    "start_time": "2023-11-27T19:05:42.287Z"
   },
   {
    "duration": 345,
    "start_time": "2023-11-27T19:05:42.292Z"
   },
   {
    "duration": 9,
    "start_time": "2023-11-27T19:05:42.638Z"
   },
   {
    "duration": 18,
    "start_time": "2023-11-27T19:05:42.648Z"
   },
   {
    "duration": 14,
    "start_time": "2023-11-27T19:05:42.668Z"
   },
   {
    "duration": 36,
    "start_time": "2023-11-27T19:05:42.684Z"
   },
   {
    "duration": 12,
    "start_time": "2023-11-27T19:05:42.721Z"
   },
   {
    "duration": 89,
    "start_time": "2023-11-29T07:02:58.599Z"
   },
   {
    "duration": 44,
    "start_time": "2023-11-29T07:07:27.868Z"
   },
   {
    "duration": 1372,
    "start_time": "2023-11-29T07:07:36.737Z"
   },
   {
    "duration": 150,
    "start_time": "2023-11-29T07:07:38.112Z"
   },
   {
    "duration": 35,
    "start_time": "2023-11-29T07:07:38.273Z"
   },
   {
    "duration": 6,
    "start_time": "2023-11-29T07:07:38.309Z"
   },
   {
    "duration": 56,
    "start_time": "2023-11-29T07:07:38.317Z"
   },
   {
    "duration": 11,
    "start_time": "2023-11-29T07:07:38.375Z"
   },
   {
    "duration": 7,
    "start_time": "2023-11-29T07:07:38.388Z"
   },
   {
    "duration": 49,
    "start_time": "2023-11-29T07:07:38.398Z"
   },
   {
    "duration": 8,
    "start_time": "2023-11-29T07:07:38.448Z"
   },
   {
    "duration": 25,
    "start_time": "2023-11-29T07:07:38.458Z"
   },
   {
    "duration": 6,
    "start_time": "2023-11-29T07:07:38.485Z"
   },
   {
    "duration": 22,
    "start_time": "2023-11-29T07:07:38.493Z"
   },
   {
    "duration": 17,
    "start_time": "2023-11-29T07:07:38.517Z"
   },
   {
    "duration": 333,
    "start_time": "2023-11-29T07:07:38.538Z"
   },
   {
    "duration": 343,
    "start_time": "2023-11-29T07:07:38.873Z"
   },
   {
    "duration": 238,
    "start_time": "2023-11-29T07:07:39.218Z"
   },
   {
    "duration": 392,
    "start_time": "2023-11-29T07:07:39.458Z"
   },
   {
    "duration": 261,
    "start_time": "2023-11-29T07:07:39.851Z"
   },
   {
    "duration": 324,
    "start_time": "2023-11-29T07:07:40.114Z"
   },
   {
    "duration": 22,
    "start_time": "2023-11-29T07:07:40.440Z"
   },
   {
    "duration": 184,
    "start_time": "2023-11-29T07:07:40.464Z"
   },
   {
    "duration": 17,
    "start_time": "2023-11-29T07:07:40.650Z"
   },
   {
    "duration": 184,
    "start_time": "2023-11-29T07:07:40.669Z"
   },
   {
    "duration": 8,
    "start_time": "2023-11-29T07:07:40.858Z"
   },
   {
    "duration": 417,
    "start_time": "2023-11-29T07:07:40.870Z"
   },
   {
    "duration": 11,
    "start_time": "2023-11-29T07:07:41.288Z"
   },
   {
    "duration": 11,
    "start_time": "2023-11-29T07:07:41.300Z"
   },
   {
    "duration": 8,
    "start_time": "2023-11-29T07:07:41.312Z"
   },
   {
    "duration": 57,
    "start_time": "2023-11-29T07:07:41.322Z"
   },
   {
    "duration": 14,
    "start_time": "2023-11-29T07:07:41.381Z"
   },
   {
    "duration": 6,
    "start_time": "2023-11-29T07:10:22.487Z"
   },
   {
    "duration": 6,
    "start_time": "2023-11-29T07:11:15.391Z"
   },
   {
    "duration": 6,
    "start_time": "2023-11-29T07:13:40.975Z"
   },
   {
    "duration": 4,
    "start_time": "2023-11-29T07:15:03.102Z"
   },
   {
    "duration": 4,
    "start_time": "2023-11-29T07:15:23.212Z"
   },
   {
    "duration": 5,
    "start_time": "2023-11-29T07:16:09.310Z"
   },
   {
    "duration": 5,
    "start_time": "2023-11-29T07:16:11.484Z"
   },
   {
    "duration": 11,
    "start_time": "2023-11-29T07:21:55.556Z"
   },
   {
    "duration": 95,
    "start_time": "2023-11-29T07:22:35.340Z"
   },
   {
    "duration": 9,
    "start_time": "2023-11-29T07:22:41.132Z"
   },
   {
    "duration": 11,
    "start_time": "2023-11-29T07:22:51.179Z"
   },
   {
    "duration": 1103,
    "start_time": "2023-11-29T07:28:01.892Z"
   },
   {
    "duration": 62,
    "start_time": "2023-11-29T07:28:02.997Z"
   },
   {
    "duration": 34,
    "start_time": "2023-11-29T07:28:03.061Z"
   },
   {
    "duration": 6,
    "start_time": "2023-11-29T07:28:03.097Z"
   },
   {
    "duration": 64,
    "start_time": "2023-11-29T07:28:03.105Z"
   },
   {
    "duration": 8,
    "start_time": "2023-11-29T07:28:03.170Z"
   },
   {
    "duration": 5,
    "start_time": "2023-11-29T07:28:03.179Z"
   },
   {
    "duration": 6,
    "start_time": "2023-11-29T07:28:03.185Z"
   },
   {
    "duration": 5,
    "start_time": "2023-11-29T07:28:03.192Z"
   },
   {
    "duration": 4,
    "start_time": "2023-11-29T07:28:03.199Z"
   },
   {
    "duration": 54,
    "start_time": "2023-11-29T07:28:03.205Z"
   },
   {
    "duration": 4,
    "start_time": "2023-11-29T07:28:03.261Z"
   },
   {
    "duration": 15,
    "start_time": "2023-11-29T07:28:03.267Z"
   },
   {
    "duration": 9,
    "start_time": "2023-11-29T07:28:03.283Z"
   },
   {
    "duration": 5,
    "start_time": "2023-11-29T07:28:03.294Z"
   },
   {
    "duration": 17,
    "start_time": "2023-11-29T07:28:03.300Z"
   },
   {
    "duration": 7,
    "start_time": "2023-11-29T07:28:03.318Z"
   },
   {
    "duration": 40,
    "start_time": "2023-11-29T07:28:03.327Z"
   },
   {
    "duration": 8,
    "start_time": "2023-11-29T07:28:03.368Z"
   },
   {
    "duration": 11,
    "start_time": "2023-11-29T07:28:03.377Z"
   },
   {
    "duration": 23,
    "start_time": "2023-11-29T07:28:03.390Z"
   },
   {
    "duration": 310,
    "start_time": "2023-11-29T07:28:03.414Z"
   },
   {
    "duration": 316,
    "start_time": "2023-11-29T07:28:03.726Z"
   },
   {
    "duration": 238,
    "start_time": "2023-11-29T07:28:04.043Z"
   },
   {
    "duration": 297,
    "start_time": "2023-11-29T07:28:04.283Z"
   },
   {
    "duration": 247,
    "start_time": "2023-11-29T07:28:04.582Z"
   },
   {
    "duration": 351,
    "start_time": "2023-11-29T07:28:04.830Z"
   },
   {
    "duration": 8,
    "start_time": "2023-11-29T07:28:05.184Z"
   },
   {
    "duration": 184,
    "start_time": "2023-11-29T07:28:05.194Z"
   },
   {
    "duration": 4,
    "start_time": "2023-11-29T07:28:05.379Z"
   },
   {
    "duration": 198,
    "start_time": "2023-11-29T07:28:05.385Z"
   },
   {
    "duration": 4,
    "start_time": "2023-11-29T07:28:05.584Z"
   },
   {
    "duration": 375,
    "start_time": "2023-11-29T07:28:05.589Z"
   },
   {
    "duration": 9,
    "start_time": "2023-11-29T07:28:05.965Z"
   },
   {
    "duration": 37,
    "start_time": "2023-11-29T07:28:05.976Z"
   },
   {
    "duration": 44,
    "start_time": "2023-11-29T07:28:06.015Z"
   },
   {
    "duration": 33,
    "start_time": "2023-11-29T07:28:06.060Z"
   },
   {
    "duration": 13,
    "start_time": "2023-11-29T07:28:06.094Z"
   },
   {
    "duration": 10,
    "start_time": "2023-11-29T07:28:50.706Z"
   },
   {
    "duration": 1123,
    "start_time": "2023-11-29T07:31:39.711Z"
   },
   {
    "duration": 61,
    "start_time": "2023-11-29T07:31:40.836Z"
   },
   {
    "duration": 34,
    "start_time": "2023-11-29T07:31:40.899Z"
   },
   {
    "duration": 7,
    "start_time": "2023-11-29T07:31:40.935Z"
   },
   {
    "duration": 29,
    "start_time": "2023-11-29T07:31:40.943Z"
   },
   {
    "duration": 7,
    "start_time": "2023-11-29T07:31:40.974Z"
   },
   {
    "duration": 6,
    "start_time": "2023-11-29T07:31:40.982Z"
   },
   {
    "duration": 8,
    "start_time": "2023-11-29T07:31:40.989Z"
   },
   {
    "duration": 5,
    "start_time": "2023-11-29T07:31:40.998Z"
   },
   {
    "duration": 4,
    "start_time": "2023-11-29T07:31:41.006Z"
   },
   {
    "duration": 4,
    "start_time": "2023-11-29T07:31:41.059Z"
   },
   {
    "duration": 5,
    "start_time": "2023-11-29T07:31:41.065Z"
   },
   {
    "duration": 11,
    "start_time": "2023-11-29T07:31:41.071Z"
   },
   {
    "duration": 8,
    "start_time": "2023-11-29T07:31:41.084Z"
   },
   {
    "duration": 13,
    "start_time": "2023-11-29T07:31:41.094Z"
   },
   {
    "duration": 12,
    "start_time": "2023-11-29T07:31:41.108Z"
   },
   {
    "duration": 25,
    "start_time": "2023-11-29T07:31:41.158Z"
   },
   {
    "duration": 8,
    "start_time": "2023-11-29T07:31:41.184Z"
   },
   {
    "duration": 14,
    "start_time": "2023-11-29T07:31:41.194Z"
   },
   {
    "duration": 15,
    "start_time": "2023-11-29T07:31:41.209Z"
   },
   {
    "duration": 17,
    "start_time": "2023-11-29T07:31:41.226Z"
   },
   {
    "duration": 31,
    "start_time": "2023-11-29T07:31:41.244Z"
   },
   {
    "duration": 299,
    "start_time": "2023-11-29T07:31:41.277Z"
   },
   {
    "duration": 322,
    "start_time": "2023-11-29T07:31:41.577Z"
   },
   {
    "duration": 235,
    "start_time": "2023-11-29T07:31:41.901Z"
   },
   {
    "duration": 350,
    "start_time": "2023-11-29T07:31:42.138Z"
   },
   {
    "duration": 248,
    "start_time": "2023-11-29T07:31:42.490Z"
   },
   {
    "duration": 364,
    "start_time": "2023-11-29T07:31:42.742Z"
   },
   {
    "duration": 9,
    "start_time": "2023-11-29T07:31:43.108Z"
   },
   {
    "duration": 177,
    "start_time": "2023-11-29T07:31:43.119Z"
   },
   {
    "duration": 4,
    "start_time": "2023-11-29T07:31:43.298Z"
   },
   {
    "duration": 190,
    "start_time": "2023-11-29T07:31:43.304Z"
   },
   {
    "duration": 5,
    "start_time": "2023-11-29T07:31:43.496Z"
   },
   {
    "duration": 383,
    "start_time": "2023-11-29T07:31:43.503Z"
   },
   {
    "duration": 11,
    "start_time": "2023-11-29T07:31:43.888Z"
   },
   {
    "duration": 20,
    "start_time": "2023-11-29T07:31:43.900Z"
   },
   {
    "duration": 23,
    "start_time": "2023-11-29T07:31:43.922Z"
   },
   {
    "duration": 42,
    "start_time": "2023-11-29T07:31:43.947Z"
   },
   {
    "duration": 14,
    "start_time": "2023-11-29T07:31:43.991Z"
   },
   {
    "duration": 8,
    "start_time": "2023-11-29T07:32:27.438Z"
   },
   {
    "duration": 5,
    "start_time": "2023-11-29T07:33:09.417Z"
   },
   {
    "duration": 11,
    "start_time": "2023-11-29T07:33:11.230Z"
   },
   {
    "duration": 7,
    "start_time": "2023-11-29T07:33:47.734Z"
   },
   {
    "duration": 6,
    "start_time": "2023-11-29T07:35:55.901Z"
   },
   {
    "duration": 1202,
    "start_time": "2023-11-29T07:36:16.929Z"
   },
   {
    "duration": 62,
    "start_time": "2023-11-29T07:36:18.132Z"
   },
   {
    "duration": 35,
    "start_time": "2023-11-29T07:36:18.196Z"
   },
   {
    "duration": 7,
    "start_time": "2023-11-29T07:36:18.233Z"
   },
   {
    "duration": 32,
    "start_time": "2023-11-29T07:36:18.242Z"
   },
   {
    "duration": 8,
    "start_time": "2023-11-29T07:36:18.275Z"
   },
   {
    "duration": 15,
    "start_time": "2023-11-29T07:36:18.285Z"
   },
   {
    "duration": 14,
    "start_time": "2023-11-29T07:36:18.302Z"
   },
   {
    "duration": 8,
    "start_time": "2023-11-29T07:36:18.318Z"
   },
   {
    "duration": 7,
    "start_time": "2023-11-29T07:36:18.329Z"
   },
   {
    "duration": 23,
    "start_time": "2023-11-29T07:36:18.337Z"
   },
   {
    "duration": 11,
    "start_time": "2023-11-29T07:36:18.362Z"
   },
   {
    "duration": 36,
    "start_time": "2023-11-29T07:36:18.375Z"
   },
   {
    "duration": 19,
    "start_time": "2023-11-29T07:36:18.412Z"
   },
   {
    "duration": 18,
    "start_time": "2023-11-29T07:36:18.432Z"
   },
   {
    "duration": 5,
    "start_time": "2023-11-29T07:36:18.452Z"
   },
   {
    "duration": 30,
    "start_time": "2023-11-29T07:36:18.459Z"
   },
   {
    "duration": 20,
    "start_time": "2023-11-29T07:36:18.491Z"
   },
   {
    "duration": 8,
    "start_time": "2023-11-29T07:36:18.513Z"
   },
   {
    "duration": 19,
    "start_time": "2023-11-29T07:36:18.523Z"
   },
   {
    "duration": 7,
    "start_time": "2023-11-29T07:36:18.544Z"
   },
   {
    "duration": 16,
    "start_time": "2023-11-29T07:36:18.552Z"
   },
   {
    "duration": 16,
    "start_time": "2023-11-29T07:36:18.570Z"
   },
   {
    "duration": 311,
    "start_time": "2023-11-29T07:36:18.588Z"
   },
   {
    "duration": 333,
    "start_time": "2023-11-29T07:36:18.900Z"
   },
   {
    "duration": 247,
    "start_time": "2023-11-29T07:36:19.234Z"
   },
   {
    "duration": 331,
    "start_time": "2023-11-29T07:36:19.483Z"
   },
   {
    "duration": 265,
    "start_time": "2023-11-29T07:36:19.817Z"
   },
   {
    "duration": 330,
    "start_time": "2023-11-29T07:36:20.084Z"
   },
   {
    "duration": 11,
    "start_time": "2023-11-29T07:36:20.416Z"
   },
   {
    "duration": 178,
    "start_time": "2023-11-29T07:36:20.428Z"
   },
   {
    "duration": 4,
    "start_time": "2023-11-29T07:36:20.608Z"
   },
   {
    "duration": 191,
    "start_time": "2023-11-29T07:36:20.613Z"
   },
   {
    "duration": 4,
    "start_time": "2023-11-29T07:36:20.805Z"
   },
   {
    "duration": 408,
    "start_time": "2023-11-29T07:36:20.811Z"
   },
   {
    "duration": 12,
    "start_time": "2023-11-29T07:36:21.221Z"
   },
   {
    "duration": 28,
    "start_time": "2023-11-29T07:36:21.235Z"
   },
   {
    "duration": 8,
    "start_time": "2023-11-29T07:36:21.265Z"
   },
   {
    "duration": 31,
    "start_time": "2023-11-29T07:36:21.275Z"
   },
   {
    "duration": 15,
    "start_time": "2023-11-29T07:36:21.307Z"
   },
   {
    "duration": 11,
    "start_time": "2023-11-29T07:39:10.395Z"
   },
   {
    "duration": 6,
    "start_time": "2023-11-29T07:40:14.629Z"
   },
   {
    "duration": 10,
    "start_time": "2023-11-29T07:40:41.652Z"
   },
   {
    "duration": 112,
    "start_time": "2023-11-29T07:41:10.907Z"
   },
   {
    "duration": 12,
    "start_time": "2023-11-29T07:41:17.210Z"
   },
   {
    "duration": 8,
    "start_time": "2023-11-29T07:42:03.716Z"
   },
   {
    "duration": 11,
    "start_time": "2023-11-29T07:47:07.913Z"
   },
   {
    "duration": 5,
    "start_time": "2023-11-29T07:47:10.849Z"
   },
   {
    "duration": 10,
    "start_time": "2023-11-29T07:47:13.872Z"
   },
   {
    "duration": 7,
    "start_time": "2023-11-29T07:48:53.247Z"
   },
   {
    "duration": 8,
    "start_time": "2023-11-29T07:49:07.241Z"
   },
   {
    "duration": 1136,
    "start_time": "2023-11-29T07:49:15.284Z"
   },
   {
    "duration": 60,
    "start_time": "2023-11-29T07:49:16.423Z"
   },
   {
    "duration": 32,
    "start_time": "2023-11-29T07:49:16.485Z"
   },
   {
    "duration": 25,
    "start_time": "2023-11-29T07:49:16.519Z"
   },
   {
    "duration": 60,
    "start_time": "2023-11-29T07:49:16.545Z"
   },
   {
    "duration": 13,
    "start_time": "2023-11-29T07:49:16.607Z"
   },
   {
    "duration": 37,
    "start_time": "2023-11-29T07:49:16.622Z"
   },
   {
    "duration": 37,
    "start_time": "2023-11-29T07:49:16.660Z"
   },
   {
    "duration": 28,
    "start_time": "2023-11-29T07:49:16.698Z"
   },
   {
    "duration": 26,
    "start_time": "2023-11-29T07:49:16.729Z"
   },
   {
    "duration": 35,
    "start_time": "2023-11-29T07:49:16.756Z"
   },
   {
    "duration": 43,
    "start_time": "2023-11-29T07:49:16.792Z"
   },
   {
    "duration": 52,
    "start_time": "2023-11-29T07:49:16.837Z"
   },
   {
    "duration": 34,
    "start_time": "2023-11-29T07:49:16.891Z"
   },
   {
    "duration": 19,
    "start_time": "2023-11-29T07:49:16.927Z"
   },
   {
    "duration": 29,
    "start_time": "2023-11-29T07:49:16.948Z"
   },
   {
    "duration": 29,
    "start_time": "2023-11-29T07:49:16.979Z"
   },
   {
    "duration": 11,
    "start_time": "2023-11-29T07:49:17.010Z"
   },
   {
    "duration": 28,
    "start_time": "2023-11-29T07:49:17.022Z"
   },
   {
    "duration": 26,
    "start_time": "2023-11-29T07:49:17.052Z"
   },
   {
    "duration": 55,
    "start_time": "2023-11-29T07:49:17.080Z"
   },
   {
    "duration": 30,
    "start_time": "2023-11-29T07:49:17.137Z"
   },
   {
    "duration": 290,
    "start_time": "2023-11-29T07:49:17.168Z"
   },
   {
    "duration": 342,
    "start_time": "2023-11-29T07:49:17.460Z"
   },
   {
    "duration": 229,
    "start_time": "2023-11-29T07:49:17.803Z"
   },
   {
    "duration": 330,
    "start_time": "2023-11-29T07:49:18.034Z"
   },
   {
    "duration": 247,
    "start_time": "2023-11-29T07:49:18.365Z"
   },
   {
    "duration": 300,
    "start_time": "2023-11-29T07:49:18.616Z"
   },
   {
    "duration": 9,
    "start_time": "2023-11-29T07:49:18.917Z"
   },
   {
    "duration": 182,
    "start_time": "2023-11-29T07:49:18.928Z"
   },
   {
    "duration": 4,
    "start_time": "2023-11-29T07:49:19.112Z"
   },
   {
    "duration": 181,
    "start_time": "2023-11-29T07:49:19.118Z"
   },
   {
    "duration": 4,
    "start_time": "2023-11-29T07:49:19.300Z"
   },
   {
    "duration": 393,
    "start_time": "2023-11-29T07:49:19.306Z"
   },
   {
    "duration": 10,
    "start_time": "2023-11-29T07:49:19.700Z"
   },
   {
    "duration": 18,
    "start_time": "2023-11-29T07:49:19.711Z"
   },
   {
    "duration": 10,
    "start_time": "2023-11-29T07:49:19.730Z"
   },
   {
    "duration": 35,
    "start_time": "2023-11-29T07:49:19.742Z"
   },
   {
    "duration": 14,
    "start_time": "2023-11-29T07:49:19.779Z"
   },
   {
    "duration": 5,
    "start_time": "2023-11-29T07:49:53.439Z"
   },
   {
    "duration": 8,
    "start_time": "2023-11-29T07:50:43.910Z"
   },
   {
    "duration": 1124,
    "start_time": "2023-11-29T07:52:43.069Z"
   },
   {
    "duration": 61,
    "start_time": "2023-11-29T07:52:44.194Z"
   },
   {
    "duration": 33,
    "start_time": "2023-11-29T07:52:44.257Z"
   },
   {
    "duration": 7,
    "start_time": "2023-11-29T07:52:44.292Z"
   },
   {
    "duration": 59,
    "start_time": "2023-11-29T07:52:44.300Z"
   },
   {
    "duration": 8,
    "start_time": "2023-11-29T07:52:44.360Z"
   },
   {
    "duration": 16,
    "start_time": "2023-11-29T07:52:44.370Z"
   },
   {
    "duration": 5,
    "start_time": "2023-11-29T07:52:44.388Z"
   },
   {
    "duration": 7,
    "start_time": "2023-11-29T07:52:44.396Z"
   },
   {
    "duration": 7,
    "start_time": "2023-11-29T07:52:44.405Z"
   },
   {
    "duration": 5,
    "start_time": "2023-11-29T07:52:44.414Z"
   },
   {
    "duration": 4,
    "start_time": "2023-11-29T07:52:44.458Z"
   },
   {
    "duration": 8,
    "start_time": "2023-11-29T07:52:44.464Z"
   },
   {
    "duration": 8,
    "start_time": "2023-11-29T07:52:44.474Z"
   },
   {
    "duration": 5,
    "start_time": "2023-11-29T07:52:44.484Z"
   },
   {
    "duration": 9,
    "start_time": "2023-11-29T07:52:44.491Z"
   },
   {
    "duration": 17,
    "start_time": "2023-11-29T07:52:44.502Z"
   },
   {
    "duration": 39,
    "start_time": "2023-11-29T07:52:44.521Z"
   },
   {
    "duration": 13,
    "start_time": "2023-11-29T07:52:44.562Z"
   },
   {
    "duration": 7,
    "start_time": "2023-11-29T07:52:44.577Z"
   },
   {
    "duration": 12,
    "start_time": "2023-11-29T07:52:44.586Z"
   },
   {
    "duration": 20,
    "start_time": "2023-11-29T07:52:44.601Z"
   },
   {
    "duration": 332,
    "start_time": "2023-11-29T07:52:44.623Z"
   },
   {
    "duration": 341,
    "start_time": "2023-11-29T07:52:44.959Z"
   },
   {
    "duration": 241,
    "start_time": "2023-11-29T07:52:45.302Z"
   },
   {
    "duration": 320,
    "start_time": "2023-11-29T07:52:45.545Z"
   },
   {
    "duration": 249,
    "start_time": "2023-11-29T07:52:45.867Z"
   },
   {
    "duration": 351,
    "start_time": "2023-11-29T07:52:46.119Z"
   },
   {
    "duration": 9,
    "start_time": "2023-11-29T07:52:46.472Z"
   },
   {
    "duration": 378,
    "start_time": "2023-11-29T07:52:46.483Z"
   },
   {
    "duration": 4,
    "start_time": "2023-11-29T07:52:46.863Z"
   },
   {
    "duration": 393,
    "start_time": "2023-11-29T07:52:46.868Z"
   },
   {
    "duration": 4,
    "start_time": "2023-11-29T07:52:47.262Z"
   },
   {
    "duration": 725,
    "start_time": "2023-11-29T07:52:47.268Z"
   },
   {
    "duration": 11,
    "start_time": "2023-11-29T07:52:47.994Z"
   },
   {
    "duration": 52,
    "start_time": "2023-11-29T07:52:48.007Z"
   },
   {
    "duration": 11,
    "start_time": "2023-11-29T07:52:48.061Z"
   },
   {
    "duration": 44,
    "start_time": "2023-11-29T07:52:48.074Z"
   },
   {
    "duration": 39,
    "start_time": "2023-11-29T07:52:48.120Z"
   },
   {
    "duration": 102,
    "start_time": "2023-11-29T07:55:06.092Z"
   },
   {
    "duration": 18,
    "start_time": "2023-11-29T07:55:51.567Z"
   },
   {
    "duration": 5,
    "start_time": "2023-11-29T07:56:10.757Z"
   },
   {
    "duration": 13,
    "start_time": "2023-11-29T07:56:18.420Z"
   },
   {
    "duration": 5,
    "start_time": "2023-11-29T07:56:38.477Z"
   },
   {
    "duration": 1126,
    "start_time": "2023-11-29T07:57:02.186Z"
   },
   {
    "duration": 62,
    "start_time": "2023-11-29T07:57:03.314Z"
   },
   {
    "duration": 34,
    "start_time": "2023-11-29T07:57:03.377Z"
   },
   {
    "duration": 7,
    "start_time": "2023-11-29T07:57:03.412Z"
   },
   {
    "duration": 82,
    "start_time": "2023-11-29T07:57:03.420Z"
   },
   {
    "duration": 7,
    "start_time": "2023-11-29T07:57:03.504Z"
   },
   {
    "duration": 28,
    "start_time": "2023-11-29T07:57:03.513Z"
   },
   {
    "duration": 26,
    "start_time": "2023-11-29T07:57:03.543Z"
   },
   {
    "duration": 15,
    "start_time": "2023-11-29T07:57:03.571Z"
   },
   {
    "duration": 25,
    "start_time": "2023-11-29T07:57:03.587Z"
   },
   {
    "duration": 29,
    "start_time": "2023-11-29T07:57:03.614Z"
   },
   {
    "duration": 36,
    "start_time": "2023-11-29T07:57:03.644Z"
   },
   {
    "duration": 40,
    "start_time": "2023-11-29T07:57:03.682Z"
   },
   {
    "duration": 13,
    "start_time": "2023-11-29T07:57:03.727Z"
   },
   {
    "duration": 8,
    "start_time": "2023-11-29T07:57:03.742Z"
   },
   {
    "duration": 13,
    "start_time": "2023-11-29T07:57:03.751Z"
   },
   {
    "duration": 32,
    "start_time": "2023-11-29T07:57:03.765Z"
   },
   {
    "duration": 10,
    "start_time": "2023-11-29T07:57:03.798Z"
   },
   {
    "duration": 29,
    "start_time": "2023-11-29T07:57:03.809Z"
   },
   {
    "duration": 18,
    "start_time": "2023-11-29T07:57:03.840Z"
   },
   {
    "duration": 41,
    "start_time": "2023-11-29T07:57:03.860Z"
   },
   {
    "duration": 23,
    "start_time": "2023-11-29T07:57:03.902Z"
   },
   {
    "duration": 307,
    "start_time": "2023-11-29T07:57:03.927Z"
   },
   {
    "duration": 333,
    "start_time": "2023-11-29T07:57:04.235Z"
   },
   {
    "duration": 235,
    "start_time": "2023-11-29T07:57:04.569Z"
   },
   {
    "duration": 457,
    "start_time": "2023-11-29T07:57:04.806Z"
   },
   {
    "duration": 507,
    "start_time": "2023-11-29T07:57:05.264Z"
   },
   {
    "duration": 502,
    "start_time": "2023-11-29T07:57:05.776Z"
   },
   {
    "duration": 9,
    "start_time": "2023-11-29T07:57:06.279Z"
   },
   {
    "duration": 333,
    "start_time": "2023-11-29T07:57:06.289Z"
   },
   {
    "duration": 5,
    "start_time": "2023-11-29T07:57:06.623Z"
   },
   {
    "duration": 202,
    "start_time": "2023-11-29T07:57:06.629Z"
   },
   {
    "duration": 5,
    "start_time": "2023-11-29T07:57:06.833Z"
   },
   {
    "duration": 397,
    "start_time": "2023-11-29T07:57:06.840Z"
   },
   {
    "duration": 22,
    "start_time": "2023-11-29T07:57:07.239Z"
   },
   {
    "duration": 9,
    "start_time": "2023-11-29T07:57:07.262Z"
   },
   {
    "duration": 8,
    "start_time": "2023-11-29T07:57:07.273Z"
   },
   {
    "duration": 28,
    "start_time": "2023-11-29T07:57:07.282Z"
   },
   {
    "duration": 13,
    "start_time": "2023-11-29T07:57:07.312Z"
   },
   {
    "duration": 2,
    "start_time": "2023-11-29T07:57:22.826Z"
   },
   {
    "duration": 5,
    "start_time": "2023-11-29T07:57:26.244Z"
   },
   {
    "duration": 9,
    "start_time": "2023-11-29T07:57:30.891Z"
   },
   {
    "duration": 13,
    "start_time": "2023-11-29T07:58:56.613Z"
   },
   {
    "duration": 9,
    "start_time": "2023-11-29T07:59:11.437Z"
   },
   {
    "duration": 7,
    "start_time": "2023-11-29T07:59:32.812Z"
   },
   {
    "duration": 1576,
    "start_time": "2023-11-29T08:00:19.746Z"
   },
   {
    "duration": 11,
    "start_time": "2023-11-29T08:00:27.131Z"
   },
   {
    "duration": 12,
    "start_time": "2023-11-29T08:00:50.553Z"
   },
   {
    "duration": 12,
    "start_time": "2023-11-29T08:01:26.497Z"
   },
   {
    "duration": 7,
    "start_time": "2023-11-29T08:01:48.987Z"
   },
   {
    "duration": 1146,
    "start_time": "2023-11-29T08:01:55.980Z"
   },
   {
    "duration": 62,
    "start_time": "2023-11-29T08:01:57.128Z"
   },
   {
    "duration": 46,
    "start_time": "2023-11-29T08:01:57.192Z"
   },
   {
    "duration": 9,
    "start_time": "2023-11-29T08:01:57.240Z"
   },
   {
    "duration": 81,
    "start_time": "2023-11-29T08:01:57.251Z"
   },
   {
    "duration": 8,
    "start_time": "2023-11-29T08:01:57.333Z"
   },
   {
    "duration": 13,
    "start_time": "2023-11-29T08:01:57.343Z"
   },
   {
    "duration": 5,
    "start_time": "2023-11-29T08:01:57.358Z"
   },
   {
    "duration": 5,
    "start_time": "2023-11-29T08:01:57.365Z"
   },
   {
    "duration": 5,
    "start_time": "2023-11-29T08:01:57.372Z"
   },
   {
    "duration": 6,
    "start_time": "2023-11-29T08:01:57.378Z"
   },
   {
    "duration": 5,
    "start_time": "2023-11-29T08:01:57.385Z"
   },
   {
    "duration": 10,
    "start_time": "2023-11-29T08:01:57.391Z"
   },
   {
    "duration": 7,
    "start_time": "2023-11-29T08:01:57.403Z"
   },
   {
    "duration": 47,
    "start_time": "2023-11-29T08:01:57.412Z"
   },
   {
    "duration": 9,
    "start_time": "2023-11-29T08:01:57.461Z"
   },
   {
    "duration": 19,
    "start_time": "2023-11-29T08:01:57.471Z"
   },
   {
    "duration": 9,
    "start_time": "2023-11-29T08:01:57.492Z"
   },
   {
    "duration": 21,
    "start_time": "2023-11-29T08:01:57.502Z"
   },
   {
    "duration": 6,
    "start_time": "2023-11-29T08:01:57.525Z"
   },
   {
    "duration": 12,
    "start_time": "2023-11-29T08:01:57.532Z"
   },
   {
    "duration": 26,
    "start_time": "2023-11-29T08:01:57.545Z"
   },
   {
    "duration": 293,
    "start_time": "2023-11-29T08:01:57.573Z"
   },
   {
    "duration": 322,
    "start_time": "2023-11-29T08:01:57.868Z"
   },
   {
    "duration": 247,
    "start_time": "2023-11-29T08:01:58.192Z"
   },
   {
    "duration": 326,
    "start_time": "2023-11-29T08:01:58.441Z"
   },
   {
    "duration": 237,
    "start_time": "2023-11-29T08:01:58.768Z"
   },
   {
    "duration": 299,
    "start_time": "2023-11-29T08:01:59.008Z"
   },
   {
    "duration": 9,
    "start_time": "2023-11-29T08:01:59.309Z"
   },
   {
    "duration": 195,
    "start_time": "2023-11-29T08:01:59.319Z"
   },
   {
    "duration": 4,
    "start_time": "2023-11-29T08:01:59.516Z"
   },
   {
    "duration": 181,
    "start_time": "2023-11-29T08:01:59.522Z"
   },
   {
    "duration": 4,
    "start_time": "2023-11-29T08:01:59.705Z"
   },
   {
    "duration": 372,
    "start_time": "2023-11-29T08:01:59.711Z"
   },
   {
    "duration": 9,
    "start_time": "2023-11-29T08:02:00.084Z"
   },
   {
    "duration": 28,
    "start_time": "2023-11-29T08:02:00.095Z"
   },
   {
    "duration": 33,
    "start_time": "2023-11-29T08:02:00.124Z"
   },
   {
    "duration": 49,
    "start_time": "2023-11-29T08:02:00.158Z"
   },
   {
    "duration": 14,
    "start_time": "2023-11-29T08:02:00.208Z"
   },
   {
    "duration": 12,
    "start_time": "2023-11-29T08:02:52.714Z"
   },
   {
    "duration": 5,
    "start_time": "2023-11-29T08:30:10.695Z"
   },
   {
    "duration": 5,
    "start_time": "2023-11-29T08:30:34.861Z"
   },
   {
    "duration": 7,
    "start_time": "2023-11-29T08:32:08.716Z"
   },
   {
    "duration": 8,
    "start_time": "2023-11-29T08:38:02.603Z"
   },
   {
    "duration": 10,
    "start_time": "2023-11-29T08:40:51.763Z"
   },
   {
    "duration": 1164,
    "start_time": "2023-11-29T08:41:34.960Z"
   },
   {
    "duration": 61,
    "start_time": "2023-11-29T08:41:36.126Z"
   },
   {
    "duration": 33,
    "start_time": "2023-11-29T08:41:36.188Z"
   },
   {
    "duration": 6,
    "start_time": "2023-11-29T08:41:36.224Z"
   },
   {
    "duration": 34,
    "start_time": "2023-11-29T08:41:36.232Z"
   },
   {
    "duration": 7,
    "start_time": "2023-11-29T08:41:36.268Z"
   },
   {
    "duration": 6,
    "start_time": "2023-11-29T08:41:36.276Z"
   },
   {
    "duration": 9,
    "start_time": "2023-11-29T08:41:36.283Z"
   },
   {
    "duration": 14,
    "start_time": "2023-11-29T08:41:36.293Z"
   },
   {
    "duration": 5,
    "start_time": "2023-11-29T08:41:36.310Z"
   },
   {
    "duration": 49,
    "start_time": "2023-11-29T08:41:36.316Z"
   },
   {
    "duration": 7,
    "start_time": "2023-11-29T08:41:36.367Z"
   },
   {
    "duration": 9,
    "start_time": "2023-11-29T08:41:36.375Z"
   },
   {
    "duration": 11,
    "start_time": "2023-11-29T08:41:36.386Z"
   },
   {
    "duration": 30,
    "start_time": "2023-11-29T08:41:36.398Z"
   },
   {
    "duration": 9,
    "start_time": "2023-11-29T08:41:36.429Z"
   },
   {
    "duration": 25,
    "start_time": "2023-11-29T08:41:36.440Z"
   },
   {
    "duration": 7,
    "start_time": "2023-11-29T08:41:36.468Z"
   },
   {
    "duration": 15,
    "start_time": "2023-11-29T08:41:36.477Z"
   },
   {
    "duration": 28,
    "start_time": "2023-11-29T08:41:36.494Z"
   },
   {
    "duration": 305,
    "start_time": "2023-11-29T08:41:36.524Z"
   },
   {
    "duration": 367,
    "start_time": "2023-11-29T08:41:36.831Z"
   },
   {
    "duration": 240,
    "start_time": "2023-11-29T08:41:37.200Z"
   },
   {
    "duration": 337,
    "start_time": "2023-11-29T08:41:37.442Z"
   },
   {
    "duration": 394,
    "start_time": "2023-11-29T08:41:37.781Z"
   },
   {
    "duration": 516,
    "start_time": "2023-11-29T08:41:38.176Z"
   },
   {
    "duration": 9,
    "start_time": "2023-11-29T08:41:38.694Z"
   },
   {
    "duration": 331,
    "start_time": "2023-11-29T08:41:38.758Z"
   },
   {
    "duration": 5,
    "start_time": "2023-11-29T08:41:39.090Z"
   },
   {
    "duration": 369,
    "start_time": "2023-11-29T08:41:39.096Z"
   },
   {
    "duration": 4,
    "start_time": "2023-11-29T08:41:39.467Z"
   },
   {
    "duration": 450,
    "start_time": "2023-11-29T08:41:39.473Z"
   },
   {
    "duration": 11,
    "start_time": "2023-11-29T08:41:39.925Z"
   },
   {
    "duration": 34,
    "start_time": "2023-11-29T08:41:39.938Z"
   },
   {
    "duration": 35,
    "start_time": "2023-11-29T08:41:39.973Z"
   },
   {
    "duration": 71,
    "start_time": "2023-11-29T08:41:40.010Z"
   },
   {
    "duration": 22,
    "start_time": "2023-11-29T08:41:40.083Z"
   },
   {
    "duration": 87,
    "start_time": "2023-11-29T08:43:02.672Z"
   },
   {
    "duration": 106,
    "start_time": "2023-11-29T08:44:11.391Z"
   },
   {
    "duration": 5,
    "start_time": "2023-11-29T08:44:19.586Z"
   },
   {
    "duration": 7,
    "start_time": "2023-11-29T08:44:57.407Z"
   },
   {
    "duration": 316,
    "start_time": "2023-11-29T08:48:12.488Z"
   },
   {
    "duration": 311,
    "start_time": "2023-11-29T08:51:03.926Z"
   },
   {
    "duration": 247,
    "start_time": "2023-11-29T08:51:13.334Z"
   },
   {
    "duration": 324,
    "start_time": "2023-11-29T08:51:44.258Z"
   },
   {
    "duration": 1212,
    "start_time": "2023-11-29T08:57:46.050Z"
   },
   {
    "duration": 61,
    "start_time": "2023-11-29T08:57:47.264Z"
   },
   {
    "duration": 34,
    "start_time": "2023-11-29T08:57:47.327Z"
   },
   {
    "duration": 10,
    "start_time": "2023-11-29T08:57:47.364Z"
   },
   {
    "duration": 62,
    "start_time": "2023-11-29T08:57:47.376Z"
   },
   {
    "duration": 26,
    "start_time": "2023-11-29T08:57:47.440Z"
   },
   {
    "duration": 7,
    "start_time": "2023-11-29T08:57:47.468Z"
   },
   {
    "duration": 14,
    "start_time": "2023-11-29T08:57:47.477Z"
   },
   {
    "duration": 32,
    "start_time": "2023-11-29T08:57:47.493Z"
   },
   {
    "duration": 18,
    "start_time": "2023-11-29T08:57:47.529Z"
   },
   {
    "duration": 30,
    "start_time": "2023-11-29T08:57:47.548Z"
   },
   {
    "duration": 29,
    "start_time": "2023-11-29T08:57:47.580Z"
   },
   {
    "duration": 12,
    "start_time": "2023-11-29T08:57:47.612Z"
   },
   {
    "duration": 27,
    "start_time": "2023-11-29T08:57:47.625Z"
   },
   {
    "duration": 25,
    "start_time": "2023-11-29T08:57:47.654Z"
   },
   {
    "duration": 21,
    "start_time": "2023-11-29T08:57:47.681Z"
   },
   {
    "duration": 23,
    "start_time": "2023-11-29T08:57:47.703Z"
   },
   {
    "duration": 22,
    "start_time": "2023-11-29T08:57:47.728Z"
   },
   {
    "duration": 24,
    "start_time": "2023-11-29T08:57:47.752Z"
   },
   {
    "duration": 31,
    "start_time": "2023-11-29T08:57:47.778Z"
   },
   {
    "duration": 291,
    "start_time": "2023-11-29T08:57:47.811Z"
   },
   {
    "duration": 6,
    "start_time": "2023-11-29T08:57:48.104Z"
   },
   {
    "duration": 349,
    "start_time": "2023-11-29T08:57:48.112Z"
   },
   {
    "duration": 244,
    "start_time": "2023-11-29T08:57:48.463Z"
   },
   {
    "duration": 351,
    "start_time": "2023-11-29T08:57:48.709Z"
   },
   {
    "duration": 310,
    "start_time": "2023-11-29T08:57:49.062Z"
   },
   {
    "duration": 343,
    "start_time": "2023-11-29T08:57:49.374Z"
   },
   {
    "duration": 9,
    "start_time": "2023-11-29T08:57:49.721Z"
   },
   {
    "duration": 177,
    "start_time": "2023-11-29T08:57:49.731Z"
   },
   {
    "duration": 5,
    "start_time": "2023-11-29T08:57:49.910Z"
   },
   {
    "duration": 193,
    "start_time": "2023-11-29T08:57:49.918Z"
   },
   {
    "duration": 4,
    "start_time": "2023-11-29T08:57:50.113Z"
   },
   {
    "duration": 473,
    "start_time": "2023-11-29T08:57:50.119Z"
   },
   {
    "duration": 10,
    "start_time": "2023-11-29T08:57:50.594Z"
   },
   {
    "duration": 34,
    "start_time": "2023-11-29T08:57:50.606Z"
   },
   {
    "duration": 31,
    "start_time": "2023-11-29T08:57:50.642Z"
   },
   {
    "duration": 56,
    "start_time": "2023-11-29T08:57:50.675Z"
   },
   {
    "duration": 25,
    "start_time": "2023-11-29T08:57:50.732Z"
   },
   {
    "duration": 361,
    "start_time": "2023-11-29T09:00:22.420Z"
   },
   {
    "duration": 449,
    "start_time": "2023-11-29T09:00:42.708Z"
   },
   {
    "duration": 367,
    "start_time": "2023-11-29T09:03:31.279Z"
   },
   {
    "duration": 83,
    "start_time": "2023-11-29T09:04:20.914Z"
   },
   {
    "duration": 13,
    "start_time": "2023-11-29T09:04:38.186Z"
   },
   {
    "duration": 14,
    "start_time": "2023-11-29T09:05:05.539Z"
   },
   {
    "duration": 12,
    "start_time": "2023-11-29T09:06:30.955Z"
   },
   {
    "duration": 25,
    "start_time": "2023-11-29T09:07:16.193Z"
   },
   {
    "duration": 24,
    "start_time": "2023-11-29T09:07:48.953Z"
   },
   {
    "duration": 15,
    "start_time": "2023-11-29T09:08:22.753Z"
   },
   {
    "duration": 13,
    "start_time": "2023-11-29T09:08:49.856Z"
   },
   {
    "duration": 1123,
    "start_time": "2023-11-29T09:09:08.322Z"
   },
   {
    "duration": 62,
    "start_time": "2023-11-29T09:09:09.447Z"
   },
   {
    "duration": 34,
    "start_time": "2023-11-29T09:09:09.511Z"
   },
   {
    "duration": 6,
    "start_time": "2023-11-29T09:09:09.547Z"
   },
   {
    "duration": 33,
    "start_time": "2023-11-29T09:09:09.554Z"
   },
   {
    "duration": 8,
    "start_time": "2023-11-29T09:09:09.588Z"
   },
   {
    "duration": 7,
    "start_time": "2023-11-29T09:09:09.597Z"
   },
   {
    "duration": 6,
    "start_time": "2023-11-29T09:09:09.606Z"
   },
   {
    "duration": 54,
    "start_time": "2023-11-29T09:09:09.613Z"
   },
   {
    "duration": 5,
    "start_time": "2023-11-29T09:09:09.670Z"
   },
   {
    "duration": 21,
    "start_time": "2023-11-29T09:09:09.677Z"
   },
   {
    "duration": 9,
    "start_time": "2023-11-29T09:09:09.700Z"
   },
   {
    "duration": 4,
    "start_time": "2023-11-29T09:09:09.711Z"
   },
   {
    "duration": 5,
    "start_time": "2023-11-29T09:09:09.716Z"
   },
   {
    "duration": 17,
    "start_time": "2023-11-29T09:09:09.723Z"
   },
   {
    "duration": 20,
    "start_time": "2023-11-29T09:09:09.742Z"
   },
   {
    "duration": 10,
    "start_time": "2023-11-29T09:09:09.764Z"
   },
   {
    "duration": 7,
    "start_time": "2023-11-29T09:09:09.776Z"
   },
   {
    "duration": 12,
    "start_time": "2023-11-29T09:09:09.785Z"
   },
   {
    "duration": 18,
    "start_time": "2023-11-29T09:09:09.798Z"
   },
   {
    "duration": 314,
    "start_time": "2023-11-29T09:09:09.817Z"
   },
   {
    "duration": 5,
    "start_time": "2023-11-29T09:09:10.133Z"
   },
   {
    "duration": 331,
    "start_time": "2023-11-29T09:09:10.140Z"
   },
   {
    "duration": 237,
    "start_time": "2023-11-29T09:09:10.473Z"
   },
   {
    "duration": 316,
    "start_time": "2023-11-29T09:09:10.711Z"
   },
   {
    "duration": 300,
    "start_time": "2023-11-29T09:09:11.028Z"
   },
   {
    "duration": 340,
    "start_time": "2023-11-29T09:09:11.329Z"
   },
   {
    "duration": 8,
    "start_time": "2023-11-29T09:09:11.672Z"
   },
   {
    "duration": 171,
    "start_time": "2023-11-29T09:09:11.682Z"
   },
   {
    "duration": 5,
    "start_time": "2023-11-29T09:09:11.855Z"
   },
   {
    "duration": 178,
    "start_time": "2023-11-29T09:09:11.861Z"
   },
   {
    "duration": 5,
    "start_time": "2023-11-29T09:09:12.040Z"
   },
   {
    "duration": 380,
    "start_time": "2023-11-29T09:09:12.058Z"
   },
   {
    "duration": 23,
    "start_time": "2023-11-29T09:09:12.440Z"
   },
   {
    "duration": 11,
    "start_time": "2023-11-29T09:09:12.465Z"
   },
   {
    "duration": 22,
    "start_time": "2023-11-29T09:09:12.479Z"
   },
   {
    "duration": 27,
    "start_time": "2023-11-29T09:09:12.503Z"
   },
   {
    "duration": 29,
    "start_time": "2023-11-29T09:09:12.531Z"
   },
   {
    "duration": 1167,
    "start_time": "2023-11-29T09:10:05.664Z"
   },
   {
    "duration": 63,
    "start_time": "2023-11-29T09:10:06.833Z"
   },
   {
    "duration": 39,
    "start_time": "2023-11-29T09:10:06.898Z"
   },
   {
    "duration": 8,
    "start_time": "2023-11-29T09:10:06.939Z"
   },
   {
    "duration": 39,
    "start_time": "2023-11-29T09:10:06.949Z"
   },
   {
    "duration": 9,
    "start_time": "2023-11-29T09:10:06.990Z"
   },
   {
    "duration": 7,
    "start_time": "2023-11-29T09:10:07.001Z"
   },
   {
    "duration": 8,
    "start_time": "2023-11-29T09:10:07.010Z"
   },
   {
    "duration": 45,
    "start_time": "2023-11-29T09:10:07.020Z"
   },
   {
    "duration": 23,
    "start_time": "2023-11-29T09:10:07.069Z"
   },
   {
    "duration": 18,
    "start_time": "2023-11-29T09:10:07.094Z"
   },
   {
    "duration": 9,
    "start_time": "2023-11-29T09:10:07.114Z"
   },
   {
    "duration": 4,
    "start_time": "2023-11-29T09:10:07.125Z"
   },
   {
    "duration": 5,
    "start_time": "2023-11-29T09:10:07.130Z"
   },
   {
    "duration": 24,
    "start_time": "2023-11-29T09:10:07.137Z"
   },
   {
    "duration": 9,
    "start_time": "2023-11-29T09:10:07.162Z"
   },
   {
    "duration": 22,
    "start_time": "2023-11-29T09:10:07.172Z"
   },
   {
    "duration": 11,
    "start_time": "2023-11-29T09:10:07.195Z"
   },
   {
    "duration": 16,
    "start_time": "2023-11-29T09:10:07.208Z"
   },
   {
    "duration": 34,
    "start_time": "2023-11-29T09:10:07.226Z"
   },
   {
    "duration": 304,
    "start_time": "2023-11-29T09:10:07.262Z"
   },
   {
    "duration": 6,
    "start_time": "2023-11-29T09:10:07.567Z"
   },
   {
    "duration": 323,
    "start_time": "2023-11-29T09:10:07.575Z"
   },
   {
    "duration": 249,
    "start_time": "2023-11-29T09:10:07.900Z"
   },
   {
    "duration": 341,
    "start_time": "2023-11-29T09:10:08.158Z"
   },
   {
    "duration": 339,
    "start_time": "2023-11-29T09:10:08.501Z"
   },
   {
    "duration": 372,
    "start_time": "2023-11-29T09:10:08.842Z"
   },
   {
    "duration": 9,
    "start_time": "2023-11-29T09:10:09.217Z"
   },
   {
    "duration": 209,
    "start_time": "2023-11-29T09:10:09.227Z"
   },
   {
    "duration": 21,
    "start_time": "2023-11-29T09:10:09.438Z"
   },
   {
    "duration": 226,
    "start_time": "2023-11-29T09:10:09.460Z"
   },
   {
    "duration": 4,
    "start_time": "2023-11-29T09:10:09.687Z"
   },
   {
    "duration": 383,
    "start_time": "2023-11-29T09:10:09.693Z"
   },
   {
    "duration": 11,
    "start_time": "2023-11-29T09:10:10.077Z"
   },
   {
    "duration": 9,
    "start_time": "2023-11-29T09:10:10.089Z"
   },
   {
    "duration": 31,
    "start_time": "2023-11-29T09:10:10.100Z"
   },
   {
    "duration": 27,
    "start_time": "2023-11-29T09:10:10.133Z"
   },
   {
    "duration": 13,
    "start_time": "2023-11-29T09:10:10.162Z"
   },
   {
    "duration": 1024,
    "start_time": "2024-11-25T09:49:32.344Z"
   },
   {
    "duration": 168,
    "start_time": "2024-11-25T09:49:33.369Z"
   },
   {
    "duration": 53,
    "start_time": "2024-11-25T09:49:33.538Z"
   },
   {
    "duration": 30,
    "start_time": "2024-11-25T09:49:33.593Z"
   },
   {
    "duration": 54,
    "start_time": "2024-11-25T09:49:33.626Z"
   },
   {
    "duration": 10,
    "start_time": "2024-11-25T09:49:33.682Z"
   },
   {
    "duration": 41,
    "start_time": "2024-11-25T09:49:33.694Z"
   },
   {
    "duration": 21,
    "start_time": "2024-11-25T09:49:33.737Z"
   },
   {
    "duration": 17,
    "start_time": "2024-11-25T09:49:33.760Z"
   },
   {
    "duration": 6,
    "start_time": "2024-11-25T09:49:33.780Z"
   },
   {
    "duration": 36,
    "start_time": "2024-11-25T09:49:33.788Z"
   },
   {
    "duration": 39,
    "start_time": "2024-11-25T09:49:33.826Z"
   },
   {
    "duration": 48,
    "start_time": "2024-11-25T09:49:33.866Z"
   },
   {
    "duration": 20,
    "start_time": "2024-11-25T09:49:33.918Z"
   },
   {
    "duration": 67,
    "start_time": "2024-11-25T09:49:33.940Z"
   },
   {
    "duration": 8,
    "start_time": "2024-11-25T09:49:34.009Z"
   },
   {
    "duration": 11,
    "start_time": "2024-11-25T09:49:34.019Z"
   },
   {
    "duration": 24,
    "start_time": "2024-11-25T09:49:34.032Z"
   },
   {
    "duration": 20,
    "start_time": "2024-11-25T09:49:34.058Z"
   },
   {
    "duration": 37,
    "start_time": "2024-11-25T09:49:34.080Z"
   },
   {
    "duration": 309,
    "start_time": "2024-11-25T09:49:34.119Z"
   },
   {
    "duration": 5,
    "start_time": "2024-11-25T09:49:34.430Z"
   },
   {
    "duration": 306,
    "start_time": "2024-11-25T09:49:34.437Z"
   },
   {
    "duration": 219,
    "start_time": "2024-11-25T09:49:34.745Z"
   },
   {
    "duration": 347,
    "start_time": "2024-11-25T09:49:34.965Z"
   },
   {
    "duration": 267,
    "start_time": "2024-11-25T09:49:35.314Z"
   },
   {
    "duration": 354,
    "start_time": "2024-11-25T09:49:35.583Z"
   },
   {
    "duration": 9,
    "start_time": "2024-11-25T09:49:35.939Z"
   },
   {
    "duration": 172,
    "start_time": "2024-11-25T09:49:35.950Z"
   },
   {
    "duration": 5,
    "start_time": "2024-11-25T09:49:36.124Z"
   },
   {
    "duration": 214,
    "start_time": "2024-11-25T09:49:36.130Z"
   },
   {
    "duration": 5,
    "start_time": "2024-11-25T09:49:36.345Z"
   },
   {
    "duration": 359,
    "start_time": "2024-11-25T09:49:36.352Z"
   },
   {
    "duration": 10,
    "start_time": "2024-11-25T09:49:36.712Z"
   },
   {
    "duration": 19,
    "start_time": "2024-11-25T09:49:36.724Z"
   },
   {
    "duration": 23,
    "start_time": "2024-11-25T09:49:36.745Z"
   },
   {
    "duration": 43,
    "start_time": "2024-11-25T09:49:36.770Z"
   },
   {
    "duration": 14,
    "start_time": "2024-11-25T09:49:36.815Z"
   },
   {
    "duration": 1108,
    "start_time": "2024-11-25T10:10:00.368Z"
   },
   {
    "duration": 62,
    "start_time": "2024-11-25T10:10:01.477Z"
   },
   {
    "duration": 32,
    "start_time": "2024-11-25T10:10:01.541Z"
   },
   {
    "duration": 7,
    "start_time": "2024-11-25T10:10:01.574Z"
   },
   {
    "duration": 67,
    "start_time": "2024-11-25T10:10:01.583Z"
   },
   {
    "duration": 68,
    "start_time": "2024-11-25T10:10:01.652Z"
   },
   {
    "duration": 10,
    "start_time": "2024-11-25T10:10:01.722Z"
   },
   {
    "duration": 25,
    "start_time": "2024-11-25T10:10:01.735Z"
   },
   {
    "duration": 50,
    "start_time": "2024-11-25T10:10:01.762Z"
   },
   {
    "duration": 6,
    "start_time": "2024-11-25T10:10:01.814Z"
   },
   {
    "duration": 37,
    "start_time": "2024-11-25T10:10:01.821Z"
   },
   {
    "duration": 32,
    "start_time": "2024-11-25T10:10:01.860Z"
   },
   {
    "duration": 247,
    "start_time": "2024-11-25T10:10:01.894Z"
   },
   {
    "duration": 61,
    "start_time": "2024-11-25T10:10:02.145Z"
   },
   {
    "duration": 56,
    "start_time": "2024-11-25T10:10:02.208Z"
   },
   {
    "duration": 28,
    "start_time": "2024-11-25T10:10:02.266Z"
   },
   {
    "duration": 63,
    "start_time": "2024-11-25T10:10:02.296Z"
   },
   {
    "duration": 26,
    "start_time": "2024-11-25T10:10:02.361Z"
   },
   {
    "duration": 45,
    "start_time": "2024-11-25T10:10:02.389Z"
   },
   {
    "duration": 43,
    "start_time": "2024-11-25T10:10:02.436Z"
   },
   {
    "duration": 310,
    "start_time": "2024-11-25T10:10:02.481Z"
   },
   {
    "duration": 10,
    "start_time": "2024-11-25T10:10:02.792Z"
   },
   {
    "duration": 370,
    "start_time": "2024-11-25T10:10:02.804Z"
   },
   {
    "duration": 241,
    "start_time": "2024-11-25T10:10:03.176Z"
   },
   {
    "duration": 313,
    "start_time": "2024-11-25T10:10:03.419Z"
   },
   {
    "duration": 264,
    "start_time": "2024-11-25T10:10:03.734Z"
   },
   {
    "duration": 323,
    "start_time": "2024-11-25T10:10:04.000Z"
   },
   {
    "duration": 9,
    "start_time": "2024-11-25T10:10:04.325Z"
   },
   {
    "duration": 191,
    "start_time": "2024-11-25T10:10:04.336Z"
   },
   {
    "duration": 4,
    "start_time": "2024-11-25T10:10:04.529Z"
   },
   {
    "duration": 174,
    "start_time": "2024-11-25T10:10:04.534Z"
   },
   {
    "duration": 5,
    "start_time": "2024-11-25T10:10:04.709Z"
   },
   {
    "duration": 355,
    "start_time": "2024-11-25T10:10:04.716Z"
   },
   {
    "duration": 10,
    "start_time": "2024-11-25T10:10:05.073Z"
   },
   {
    "duration": 20,
    "start_time": "2024-11-25T10:10:05.084Z"
   },
   {
    "duration": 54,
    "start_time": "2024-11-25T10:10:05.105Z"
   },
   {
    "duration": 23,
    "start_time": "2024-11-25T10:10:05.161Z"
   },
   {
    "duration": 27,
    "start_time": "2024-11-25T10:10:05.186Z"
   },
   {
    "duration": 1045,
    "start_time": "2024-11-25T10:11:25.055Z"
   },
   {
    "duration": 61,
    "start_time": "2024-11-25T10:11:26.102Z"
   },
   {
    "duration": 39,
    "start_time": "2024-11-25T10:11:26.165Z"
   },
   {
    "duration": 8,
    "start_time": "2024-11-25T10:11:26.207Z"
   },
   {
    "duration": 38,
    "start_time": "2024-11-25T10:11:26.216Z"
   },
   {
    "duration": 47,
    "start_time": "2024-11-25T10:11:26.256Z"
   },
   {
    "duration": 5,
    "start_time": "2024-11-25T10:11:26.305Z"
   },
   {
    "duration": 7,
    "start_time": "2024-11-25T10:11:26.312Z"
   },
   {
    "duration": 12,
    "start_time": "2024-11-25T10:11:26.320Z"
   },
   {
    "duration": 5,
    "start_time": "2024-11-25T10:11:26.334Z"
   },
   {
    "duration": 9,
    "start_time": "2024-11-25T10:11:26.341Z"
   },
   {
    "duration": 56,
    "start_time": "2024-11-25T10:11:26.351Z"
   },
   {
    "duration": 4,
    "start_time": "2024-11-25T10:11:26.409Z"
   },
   {
    "duration": 13,
    "start_time": "2024-11-25T10:11:26.415Z"
   },
   {
    "duration": 16,
    "start_time": "2024-11-25T10:11:26.430Z"
   },
   {
    "duration": 9,
    "start_time": "2024-11-25T10:11:26.448Z"
   },
   {
    "duration": 11,
    "start_time": "2024-11-25T10:11:26.459Z"
   },
   {
    "duration": 28,
    "start_time": "2024-11-25T10:11:26.472Z"
   },
   {
    "duration": 11,
    "start_time": "2024-11-25T10:11:26.501Z"
   },
   {
    "duration": 37,
    "start_time": "2024-11-25T10:11:26.513Z"
   },
   {
    "duration": 287,
    "start_time": "2024-11-25T10:11:26.551Z"
   },
   {
    "duration": 6,
    "start_time": "2024-11-25T10:11:26.840Z"
   },
   {
    "duration": 322,
    "start_time": "2024-11-25T10:11:26.847Z"
   },
   {
    "duration": 253,
    "start_time": "2024-11-25T10:11:27.171Z"
   },
   {
    "duration": 330,
    "start_time": "2024-11-25T10:11:27.425Z"
   },
   {
    "duration": 292,
    "start_time": "2024-11-25T10:11:27.757Z"
   },
   {
    "duration": 298,
    "start_time": "2024-11-25T10:11:28.051Z"
   },
   {
    "duration": 10,
    "start_time": "2024-11-25T10:11:28.353Z"
   },
   {
    "duration": 172,
    "start_time": "2024-11-25T10:11:28.365Z"
   },
   {
    "duration": 5,
    "start_time": "2024-11-25T10:11:28.538Z"
   },
   {
    "duration": 205,
    "start_time": "2024-11-25T10:11:28.545Z"
   },
   {
    "duration": 4,
    "start_time": "2024-11-25T10:11:28.752Z"
   },
   {
    "duration": 395,
    "start_time": "2024-11-25T10:11:28.758Z"
   },
   {
    "duration": 11,
    "start_time": "2024-11-25T10:11:29.155Z"
   },
   {
    "duration": 9,
    "start_time": "2024-11-25T10:11:29.168Z"
   },
   {
    "duration": 25,
    "start_time": "2024-11-25T10:11:29.179Z"
   },
   {
    "duration": 28,
    "start_time": "2024-11-25T10:11:29.206Z"
   },
   {
    "duration": 14,
    "start_time": "2024-11-25T10:11:29.236Z"
   },
   {
    "duration": 1161,
    "start_time": "2024-11-25T10:14:27.911Z"
   },
   {
    "duration": 61,
    "start_time": "2024-11-25T10:14:29.074Z"
   },
   {
    "duration": 35,
    "start_time": "2024-11-25T10:14:29.137Z"
   },
   {
    "duration": 6,
    "start_time": "2024-11-25T10:14:29.174Z"
   },
   {
    "duration": 30,
    "start_time": "2024-11-25T10:14:29.182Z"
   },
   {
    "duration": 8,
    "start_time": "2024-11-25T10:14:29.213Z"
   },
   {
    "duration": 7,
    "start_time": "2024-11-25T10:14:29.223Z"
   },
   {
    "duration": 10,
    "start_time": "2024-11-25T10:14:29.232Z"
   },
   {
    "duration": 18,
    "start_time": "2024-11-25T10:14:29.243Z"
   },
   {
    "duration": 6,
    "start_time": "2024-11-25T10:14:29.262Z"
   },
   {
    "duration": 9,
    "start_time": "2024-11-25T10:14:29.301Z"
   },
   {
    "duration": 10,
    "start_time": "2024-11-25T10:14:29.311Z"
   },
   {
    "duration": 8,
    "start_time": "2024-11-25T10:14:29.322Z"
   },
   {
    "duration": 15,
    "start_time": "2024-11-25T10:14:29.333Z"
   },
   {
    "duration": 36,
    "start_time": "2024-11-25T10:14:29.350Z"
   },
   {
    "duration": 7,
    "start_time": "2024-11-25T10:14:29.388Z"
   },
   {
    "duration": 11,
    "start_time": "2024-11-25T10:14:29.397Z"
   },
   {
    "duration": 6,
    "start_time": "2024-11-25T10:14:29.410Z"
   },
   {
    "duration": 18,
    "start_time": "2024-11-25T10:14:29.417Z"
   },
   {
    "duration": 19,
    "start_time": "2024-11-25T10:14:29.437Z"
   },
   {
    "duration": 283,
    "start_time": "2024-11-25T10:14:29.458Z"
   },
   {
    "duration": 6,
    "start_time": "2024-11-25T10:14:29.743Z"
   },
   {
    "duration": 321,
    "start_time": "2024-11-25T10:14:29.750Z"
   },
   {
    "duration": 273,
    "start_time": "2024-11-25T10:14:30.073Z"
   },
   {
    "duration": 310,
    "start_time": "2024-11-25T10:14:30.347Z"
   },
   {
    "duration": 286,
    "start_time": "2024-11-25T10:14:30.659Z"
   },
   {
    "duration": 300,
    "start_time": "2024-11-25T10:14:30.947Z"
   },
   {
    "duration": 10,
    "start_time": "2024-11-25T10:14:31.249Z"
   },
   {
    "duration": 175,
    "start_time": "2024-11-25T10:14:31.261Z"
   },
   {
    "duration": 5,
    "start_time": "2024-11-25T10:14:31.438Z"
   },
   {
    "duration": 193,
    "start_time": "2024-11-25T10:14:31.445Z"
   },
   {
    "duration": 5,
    "start_time": "2024-11-25T10:14:31.640Z"
   },
   {
    "duration": 438,
    "start_time": "2024-11-25T10:14:31.647Z"
   },
   {
    "duration": 23,
    "start_time": "2024-11-25T10:14:32.087Z"
   },
   {
    "duration": 11,
    "start_time": "2024-11-25T10:14:32.112Z"
   },
   {
    "duration": 65,
    "start_time": "2024-11-25T10:14:32.125Z"
   },
   {
    "duration": 78,
    "start_time": "2024-11-25T10:14:32.192Z"
   },
   {
    "duration": 13,
    "start_time": "2024-11-25T10:14:32.271Z"
   }
  ],
  "kernelspec": {
   "display_name": "Python 3 (ipykernel)",
   "language": "python",
   "name": "python3"
  },
  "language_info": {
   "codemirror_mode": {
    "name": "ipython",
    "version": 3
   },
   "file_extension": ".py",
   "mimetype": "text/x-python",
   "name": "python",
   "nbconvert_exporter": "python",
   "pygments_lexer": "ipython3",
   "version": "3.10.9"
  },
  "toc": {
   "base_numbering": 1,
   "nav_menu": {},
   "number_sections": true,
   "sideBar": true,
   "skip_h1_title": true,
   "title_cell": "Table of Contents",
   "title_sidebar": "Contents",
   "toc_cell": false,
   "toc_position": {},
   "toc_section_display": true,
   "toc_window_display": true
  }
 },
 "nbformat": 4,
 "nbformat_minor": 2
}
