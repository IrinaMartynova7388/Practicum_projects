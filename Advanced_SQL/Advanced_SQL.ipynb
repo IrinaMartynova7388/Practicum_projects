{
 "cells": [
  {
   "cell_type": "markdown",
   "id": "0891c459",
   "metadata": {},
   "source": [
    "## Исследование базы данных вопросов и ответов StackOverflow"
   ]
  },
  {
   "cell_type": "markdown",
   "id": "615610e5",
   "metadata": {},
   "source": [
    "В данном исследовании будет осуществлена работа с базой данных StackOverflow — сервиса вопросов и ответов о программировании. StackOverflow похож на социальную сеть — пользователи сервиса задают вопросы, отвечают на посты, оставляют комментарии и ставят оценки другим ответам.\n",
    "Работать предстоит с версией базы, где хранятся данные о постах за 2008 год, но в таблицах будет информация и о более поздних оценках, которые эти посты получили. "
   ]
  },
  {
   "cell_type": "markdown",
   "id": "26fb7c70",
   "metadata": {},
   "source": [
    "## Первая часть"
   ]
  },
  {
   "cell_type": "markdown",
   "id": "d563cafa",
   "metadata": {},
   "source": [
    "### Задание 1"
   ]
  },
  {
   "cell_type": "markdown",
   "id": "e9579fea",
   "metadata": {},
   "source": [
    "Найдите количество вопросов, которые набрали больше 300 очков или как минимум 100 раз были добавлены в «Закладки»."
   ]
  },
  {
   "cell_type": "code",
   "execution_count": null,
   "id": "3d7b3464",
   "metadata": {},
   "outputs": [],
   "source": [
    "'''\n",
    "SELECT COUNT(id)\n",
    "FROM stackoverflow.posts\n",
    "WHERE (score > 300 OR favorites_count >= 100) AND post_type_id = 1\n",
    "'''"
   ]
  },
  {
   "cell_type": "markdown",
   "id": "49f6450b",
   "metadata": {},
   "source": [
    "### Задание 2"
   ]
  },
  {
   "cell_type": "markdown",
   "id": "a5e6cbbe",
   "metadata": {},
   "source": [
    "Сколько в среднем в день задавали вопросов с 1 по 18 ноября 2008 включительно? Результат округлите до целого числа."
   ]
  },
  {
   "cell_type": "code",
   "execution_count": null,
   "id": "239675b9",
   "metadata": {},
   "outputs": [],
   "source": [
    "'''\n",
    "WITH\n",
    "cnt AS\n",
    "(SELECT CAST(DATE_TRUNC('day', p.creation_date) AS date) AS date, COUNT(p.id)\n",
    "FROM stackoverflow.posts p\n",
    "WHERE post_type_id = 1\n",
    "GROUP BY CAST(DATE_TRUNC('day', p.creation_date) AS date)\n",
    "HAVING CAST(DATE_TRUNC('day', p.creation_date) AS date) BETWEEN '2008-11-01' AND '2008-11-18')\n",
    "\n",
    "SELECT ROUND(AVG(count)) FROM cnt\n",
    "'''"
   ]
  },
  {
   "cell_type": "markdown",
   "id": "b2177e69",
   "metadata": {},
   "source": [
    "### Задание 3"
   ]
  },
  {
   "cell_type": "markdown",
   "id": "9e49a4e0",
   "metadata": {},
   "source": [
    "Сколько пользователей получили значки сразу в день регистрации? Выведите количество уникальных пользователей."
   ]
  },
  {
   "cell_type": "code",
   "execution_count": null,
   "id": "90700625",
   "metadata": {},
   "outputs": [],
   "source": [
    "'''\n",
    "SELECT COUNT(DISTINCT(u.id))\n",
    "FROM stackoverflow.users u\n",
    "JOIN stackoverflow.badges b\n",
    "ON u.id = b.user_id\n",
    "WHERE CAST(DATE_TRUNC('day', u.creation_date) AS date) = CAST(DATE_TRUNC('day', b.creation_date) AS date)\n",
    "'''"
   ]
  },
  {
   "cell_type": "markdown",
   "id": "da025bff",
   "metadata": {},
   "source": [
    "### Задание 4"
   ]
  },
  {
   "cell_type": "markdown",
   "id": "4dd43d5d",
   "metadata": {},
   "source": [
    "Сколько уникальных постов пользователя с именем Joel Coehoorn получили хотя бы один голос?"
   ]
  },
  {
   "cell_type": "code",
   "execution_count": null,
   "id": "32b76e1a",
   "metadata": {},
   "outputs": [],
   "source": [
    "'''\n",
    "SELECT COUNT(DISTINCT(p.id))\n",
    "FROM stackoverflow.posts p\n",
    "JOIN stackoverflow.users u\n",
    "ON p.user_id = u.id\n",
    "RIGHT JOIN stackoverflow.votes v\n",
    "ON p.id = v.post_id\n",
    "WHERE u.display_name LIKE 'Joel Coehoorn'\n",
    "'''"
   ]
  },
  {
   "cell_type": "markdown",
   "id": "f4093a1c",
   "metadata": {},
   "source": [
    "### Задание 5"
   ]
  },
  {
   "cell_type": "markdown",
   "id": "3032317b",
   "metadata": {},
   "source": [
    "Выгрузите все поля таблицы vote_types. Добавьте к таблице поле rank, в которое войдут номера записей в обратном порядке. Таблица должна быть отсортирована по полю id."
   ]
  },
  {
   "cell_type": "code",
   "execution_count": null,
   "id": "b19d17f6",
   "metadata": {},
   "outputs": [],
   "source": [
    "'''\n",
    "SELECT *, RANK() OVER (ORDER BY id DESC) AS rank\n",
    "FROM stackoverflow.vote_types\n",
    "ORDER BY id\n",
    "'''"
   ]
  },
  {
   "cell_type": "markdown",
   "id": "c88c3e99",
   "metadata": {},
   "source": [
    "### Задание 6"
   ]
  },
  {
   "cell_type": "markdown",
   "id": "eda55bab",
   "metadata": {},
   "source": [
    "Отберите 10 пользователей, которые поставили больше всего голосов типа Close. Отобразите таблицу из двух полей: идентификатором пользователя и количеством голосов. Отсортируйте данные сначала по убыванию количества голосов, потом по убыванию значения идентификатора пользователя."
   ]
  },
  {
   "cell_type": "code",
   "execution_count": null,
   "id": "bed4856d",
   "metadata": {},
   "outputs": [],
   "source": [
    "'''\n",
    "SELECT v.user_id, COUNT(v.id)\n",
    "FROM stackoverflow.votes v\n",
    "WHERE vote_type_id = 6\n",
    "GROUP BY v.user_id\n",
    "ORDER BY COUNT(v.id) DESC, v.user_id DESC\n",
    "LIMIT 10\n",
    "'''"
   ]
  },
  {
   "cell_type": "markdown",
   "id": "9e6e118c",
   "metadata": {},
   "source": [
    "### Задание 7"
   ]
  },
  {
   "cell_type": "markdown",
   "id": "a7d2e9eb",
   "metadata": {},
   "source": [
    "Отберите 10 пользователей по количеству значков, полученных в период с 15 ноября по 15 декабря 2008 года включительно.\n",
    "Отобразите несколько полей:\n",
    "- идентификатор пользователя;\n",
    "- число значков;\n",
    "- место в рейтинге — чем больше значков, тем выше рейтинг.\n",
    "\n",
    "Пользователям, которые набрали одинаковое количество значков, присвойте одно и то же место в рейтинге.\n",
    "Отсортируйте записи по количеству значков по убыванию, а затем по возрастанию значения идентификатора пользователя."
   ]
  },
  {
   "cell_type": "code",
   "execution_count": null,
   "id": "1104fb4d",
   "metadata": {},
   "outputs": [],
   "source": [
    "'''\n",
    "SELECT b.user_id, COUNT(b.id), DENSE_RANK() OVER (ORDER BY COUNT(b.id) DESC)\n",
    "FROM stackoverflow.badges b\n",
    "WHERE CAST(creation_date AS date) BETWEEN '2008-11-15' AND '2008-12-15'\n",
    "GROUP BY b.user_id\n",
    "ORDER BY COUNT(b.id) DESC, b.user_id\n",
    "LIMIT 10\n",
    "'''"
   ]
  },
  {
   "cell_type": "markdown",
   "id": "6f2bb3ac",
   "metadata": {},
   "source": [
    "### Задание 8"
   ]
  },
  {
   "cell_type": "markdown",
   "id": "9c8fbf71",
   "metadata": {},
   "source": [
    "Сколько в среднем очков получает пост каждого пользователя?\n",
    "Сформируйте таблицу из следующих полей:\n",
    "- заголовок поста;\n",
    "- идентификатор пользователя;\n",
    "- число очков поста;\n",
    "- среднее число очков пользователя за пост, округлённое до целого числа.\n",
    "\n",
    "Не учитывайте посты без заголовка, а также те, что набрали ноль очков."
   ]
  },
  {
   "cell_type": "code",
   "execution_count": null,
   "id": "a28fbe55",
   "metadata": {},
   "outputs": [],
   "source": [
    "'''\n",
    "SELECT p.title, p.user_id, p.score,\n",
    "ROUND(AVG(p.score) OVER (PARTITION BY p.user_id))\n",
    "FROM stackoverflow.posts p\n",
    "WHERE p.score <> 0 AND p.title IS NOT NULL\n",
    "'''"
   ]
  },
  {
   "cell_type": "markdown",
   "id": "434cd309",
   "metadata": {},
   "source": [
    "### Задание 9"
   ]
  },
  {
   "cell_type": "markdown",
   "id": "5726ebe0",
   "metadata": {},
   "source": [
    "Отобразите заголовки постов, которые были написаны пользователями, получившими более 1000 значков. Посты без заголовков не должны попасть в список."
   ]
  },
  {
   "cell_type": "code",
   "execution_count": null,
   "id": "fc73fcec",
   "metadata": {},
   "outputs": [],
   "source": [
    "'''\n",
    "SELECT p.title\n",
    "FROM stackoverflow.posts p\n",
    "WHERE p.user_id IN\n",
    "(SELECT user_id FROM stackoverflow.badges GROUP BY user_id HAVING COUNT(id)>1000)\n",
    "AND p.title IS NOT NULL\n",
    "'''"
   ]
  },
  {
   "cell_type": "markdown",
   "id": "2377e7df",
   "metadata": {},
   "source": [
    "### Задание 10"
   ]
  },
  {
   "cell_type": "markdown",
   "id": "1889da2a",
   "metadata": {},
   "source": [
    "Напишите запрос, который выгрузит данные о пользователях из Канады (англ. Canada). Разделите пользователей на три группы в зависимости от количества просмотров их профилей:\n",
    "- пользователям с числом просмотров больше либо равным 350 присвойте группу 1;\n",
    "- пользователям с числом просмотров меньше 350, но больше либо равно 100 — группу 2;\n",
    "- пользователям с числом просмотров меньше 100 — группу 3.\n",
    "\n",
    "Отобразите в итоговой таблице идентификатор пользователя, количество просмотров профиля и группу. Пользователи с количеством просмотров меньше либо равным нулю не должны войти в итоговую таблицу."
   ]
  },
  {
   "cell_type": "code",
   "execution_count": null,
   "id": "964bad0a",
   "metadata": {},
   "outputs": [],
   "source": [
    "'''\n",
    "SELECT id, views,\n",
    "CASE\n",
    "    WHEN views <100 THEN 3\n",
    "    WHEN (views <350 AND views >= 100) THEN 2\n",
    "    WHEN views>=350 THEN 1\n",
    "END\n",
    "FROM stackoverflow.users\n",
    "WHERE location LIKE '%Canada%' AND views > 0\n",
    "'''"
   ]
  },
  {
   "cell_type": "markdown",
   "id": "052016e5",
   "metadata": {},
   "source": [
    "### Задание 11"
   ]
  },
  {
   "cell_type": "markdown",
   "id": "904613f2",
   "metadata": {},
   "source": [
    "Дополните предыдущий запрос. Отобразите лидеров каждой группы — пользователей, которые набрали максимальное число просмотров в своей группе. Выведите поля с идентификатором пользователя, группой и количеством просмотров. Отсортируйте таблицу по убыванию просмотров, а затем по возрастанию значения идентификатора."
   ]
  },
  {
   "cell_type": "code",
   "execution_count": null,
   "id": "9b02b24d",
   "metadata": {},
   "outputs": [],
   "source": [
    "'''\n",
    "WITH ca_users AS (\n",
    "    SELECT id AS user_id,\n",
    "           views AS views_cnt,\n",
    "           CASE\n",
    "              WHEN views < 100 THEN 3\n",
    "              WHEN views >= 100 AND views < 350  THEN 2\n",
    "              ELSE 1\n",
    "           END AS groups\n",
    "     FROM stackoverflow.users\n",
    "     WHERE location LIKE '%Canada%' AND views != 0)\n",
    "\n",
    "SELECT user_id,\n",
    "       groups,\n",
    "       views_cnt\n",
    "FROM (   \n",
    "    SELECT user_id,\n",
    "           views_cnt,\n",
    "           groups,\n",
    "           MAX(views_cnt) OVER (PARTITION BY groups ORDER BY views_cnt DESC) AS max_views\n",
    "    FROM ca_users) AS max_ca\n",
    "WHERE views_cnt =  max_views\n",
    "ORDER BY views_cnt DESC, user_id;\n",
    "'''"
   ]
  },
  {
   "cell_type": "markdown",
   "id": "11e1a0f3",
   "metadata": {},
   "source": [
    "### Задание 12"
   ]
  },
  {
   "cell_type": "markdown",
   "id": "d814a747",
   "metadata": {},
   "source": [
    "Посчитайте ежедневный прирост новых пользователей в ноябре 2008 года. Сформируйте таблицу с полями:\n",
    "- номер дня;\n",
    "- число пользователей, зарегистрированных в этот день;\n",
    "- сумму пользователей с накоплением."
   ]
  },
  {
   "cell_type": "code",
   "execution_count": null,
   "id": "c8ce08d3",
   "metadata": {},
   "outputs": [],
   "source": [
    "'''\n",
    "WITH\n",
    "t1 AS\n",
    "(SELECT CAST(DATE_TRUNC('day', creation_date) AS date) AS dt, COUNT(id) AS val\n",
    "FROM stackoverflow.users\n",
    "GROUP BY CAST(DATE_TRUNC('day', creation_date) AS date)\n",
    "ORDER BY CAST(DATE_TRUNC('day', creation_date) AS date))\n",
    "\n",
    "SELECT RANK() OVER(ORDER BY dt), val,\n",
    "SUM(val) OVER (ORDER BY dt) AS cum\n",
    "FROM t1 \n",
    "WHERE CAST(DATE_TRUNC('day', dt) AS date) BETWEEN '2008-11-01' AND '2008-11-30'\n",
    "'''"
   ]
  },
  {
   "cell_type": "markdown",
   "id": "cbab7067",
   "metadata": {},
   "source": [
    "### Задание 13"
   ]
  },
  {
   "cell_type": "markdown",
   "id": "09337ccf",
   "metadata": {},
   "source": [
    "Для каждого пользователя, который написал хотя бы один пост, найдите интервал между регистрацией и временем создания первого поста. Отобразите:\n",
    "- идентификатор пользователя;\n",
    "- разницу во времени между регистрацией и первым постом."
   ]
  },
  {
   "cell_type": "code",
   "execution_count": null,
   "id": "e90fed5b",
   "metadata": {},
   "outputs": [],
   "source": [
    "'''\n",
    "WITH p AS \n",
    "(SELECT user_id, creation_date,\n",
    "RANK() OVER (PARTITION BY user_id ORDER BY creation_date) AS first_pub\n",
    "FROM stackoverflow.posts \n",
    "ORDER BY user_id)\n",
    "\n",
    "SELECT user_id, p.creation_date - u.creation_date FROM p\n",
    "JOIN stackoverflow.users u ON p.user_id = u.id\n",
    "WHERE first_pub = 1 \n",
    "'''"
   ]
  },
  {
   "cell_type": "markdown",
   "id": "56a9f5f3",
   "metadata": {},
   "source": [
    "## Вторая часть"
   ]
  },
  {
   "cell_type": "markdown",
   "id": "e67a42f5",
   "metadata": {},
   "source": [
    "### Задание 1"
   ]
  },
  {
   "cell_type": "markdown",
   "id": "b544b047",
   "metadata": {},
   "source": [
    "Выведите общую сумму просмотров у постов, опубликованных в каждый месяц 2008 года. Если данных за какой-либо месяц в базе нет, такой месяц можно пропустить. Результат отсортируйте по убыванию общего количества просмотров."
   ]
  },
  {
   "cell_type": "code",
   "execution_count": null,
   "id": "9703f36f",
   "metadata": {},
   "outputs": [],
   "source": [
    "'''\n",
    "SELECT CAST(DATE_TRUNC('month', creation_date) AS date) AS month, \n",
    "       SUM(views_count) AS sum\n",
    "FROM stackoverflow.posts\n",
    "WHERE creation_date::date BETWEEN '2008-01-01' AND '2008-12-31'\n",
    "GROUP BY CAST(DATE_TRUNC('month', creation_date) AS date)\n",
    "ORDER BY sum DESC\n",
    "'''"
   ]
  },
  {
   "cell_type": "markdown",
   "id": "153043d8",
   "metadata": {},
   "source": [
    "### Задание 2"
   ]
  },
  {
   "cell_type": "markdown",
   "id": "f9c3ff4e",
   "metadata": {},
   "source": [
    "Выведите имена самых активных пользователей, которые в первый месяц после регистрации (включая день регистрации) дали больше 100 ответов. Вопросы, которые задавали пользователи, не учитывайте. Для каждого имени пользователя выведите количество уникальных значений user_id. Отсортируйте результат по полю с именами в лексикографическом порядке."
   ]
  },
  {
   "cell_type": "code",
   "execution_count": null,
   "id": "a0a94013",
   "metadata": {},
   "outputs": [],
   "source": [
    "'''\n",
    "SELECT display_name,\n",
    "       COUNT(DISTINCT(user_id))\n",
    "FROM stackoverflow.users AS u \n",
    "JOIN stackoverflow.posts AS p ON u.id=p.user_id\n",
    "JOIN stackoverflow.post_types AS t ON p.post_type_id=t.id\n",
    "WHERE (DATE_TRUNC('day', p.creation_date) <= DATE_TRUNC('day', u.creation_date) + INTERVAL '1 month') AND (p.post_type_id=2)\n",
    "GROUP BY display_name\n",
    "HAVING COUNT(p.id) > 100\n",
    "'''"
   ]
  },
  {
   "cell_type": "markdown",
   "id": "26141811",
   "metadata": {},
   "source": [
    "### Задание 3"
   ]
  },
  {
   "cell_type": "markdown",
   "id": "f96fcb0d",
   "metadata": {},
   "source": [
    "Выведите количество постов за 2008 год по месяцам. Отберите посты от пользователей, которые зарегистрировались в сентябре 2008 года и сделали хотя бы один пост в декабре того же года. Отсортируйте таблицу по значению месяца по убыванию."
   ]
  },
  {
   "cell_type": "code",
   "execution_count": null,
   "id": "edbb4e09",
   "metadata": {},
   "outputs": [],
   "source": [
    "'''\n",
    "WITH\n",
    "t1 AS \n",
    "(SELECT u.id\n",
    "FROM stackoverflow.users AS u \n",
    "JOIN stackoverflow.posts AS p ON u.id=p.user_id\n",
    "WHERE (u.creation_date::date BETWEEN '2008-09-01' AND '2008-09-30')\n",
    "AND ((p.creation_date::date BETWEEN '2008-12-01' AND '2008-12-31'))\n",
    "GROUP BY u.id)\n",
    "\n",
    "SELECT CAST(DATE_TRUNC('month', p.creation_date) AS date) AS month, \n",
    "       COUNT(p.id) AS cnt\n",
    "FROM stackoverflow.users AS u \n",
    "JOIN stackoverflow.posts AS p ON u.id=p.user_id\n",
    "WHERE (p.creation_date::date BETWEEN '2008-01-01' AND '2008-12-31')\n",
    "AND p.user_id IN (SELECT * FROM t1)\n",
    "GROUP BY CAST(DATE_TRUNC('month', p.creation_date) AS date)\n",
    "ORDER BY CAST(DATE_TRUNC('month', p.creation_date) AS date) DESC\n",
    "'''"
   ]
  },
  {
   "cell_type": "markdown",
   "id": "fd149bcc",
   "metadata": {},
   "source": [
    "### Задание 4"
   ]
  },
  {
   "cell_type": "markdown",
   "id": "24d5e68b",
   "metadata": {},
   "source": [
    "Используя данные о постах, выведите несколько полей:\n",
    "- идентификатор пользователя, который написал пост;\n",
    "- дата создания поста;\n",
    "- количество просмотров у текущего поста;\n",
    "- сумма просмотров постов автора с накоплением.\n",
    "\n",
    "Данные в таблице должны быть отсортированы по возрастанию идентификаторов пользователей, а данные об одном и том же пользователе — по возрастанию даты создания поста."
   ]
  },
  {
   "cell_type": "code",
   "execution_count": null,
   "id": "4d422376",
   "metadata": {},
   "outputs": [],
   "source": [
    "'''\n",
    "SELECT user_id, \n",
    "       creation_date, \n",
    "       views_count,\n",
    "       SUM(views_count) OVER (PARTITION BY user_id ORDER BY creation_date)\n",
    "FROM stackoverflow.posts \n",
    "ORDER BY user_id, creation_date\n",
    "'''"
   ]
  },
  {
   "cell_type": "markdown",
   "id": "79136b86",
   "metadata": {},
   "source": [
    "### Задание 5"
   ]
  },
  {
   "cell_type": "markdown",
   "id": "f3afd580",
   "metadata": {},
   "source": [
    "Сколько в среднем дней в период с 1 по 7 декабря 2008 года включительно пользователи взаимодействовали с платформой? Для каждого пользователя отберите дни, в которые он или она опубликовали хотя бы один пост. Нужно получить одно целое число — не забудьте округлить результат."
   ]
  },
  {
   "cell_type": "code",
   "execution_count": null,
   "id": "72e5e7e2",
   "metadata": {},
   "outputs": [],
   "source": [
    "'''\n",
    "WITH users AS (SELECT p.user_id, \n",
    "      COUNT(distinct p.creation_date::date)\n",
    "FROM stackoverflow.posts AS p\n",
    "WHERE CAST(creation_date AS date) BETWEEN '2008-12-1' AND '2008-12-7' \n",
    "GROUP BY p.user_id\n",
    "HAVING COUNT(p.id)>=1)\n",
    "SELECT ROUND(AVG(count))\n",
    "FROM users\n",
    "'''"
   ]
  },
  {
   "cell_type": "markdown",
   "id": "5ad02265",
   "metadata": {},
   "source": [
    "### Задание 6"
   ]
  },
  {
   "cell_type": "markdown",
   "id": "d763a4d9",
   "metadata": {},
   "source": [
    "На сколько процентов менялось количество постов ежемесячно с 1 сентября по 31 декабря 2008 года? Отобразите таблицу со следующими полями:\n",
    "- Номер месяца.\n",
    "- Количество постов за месяц.\n",
    "- Процент, который показывает, насколько изменилось количество постов в текущем месяце по сравнению с предыдущим.\n",
    "\n",
    "Если постов стало меньше, значение процента должно быть отрицательным, если больше — положительным. Округлите значение процента до двух знаков после запятой.\n",
    "Напомним, что при делении одного целого числа на другое в PostgreSQL в результате получится целое число, округлённое до ближайшего целого вниз. Чтобы этого избежать, переведите делимое в тип numeric."
   ]
  },
  {
   "cell_type": "code",
   "execution_count": null,
   "id": "1dc53167",
   "metadata": {},
   "outputs": [],
   "source": [
    "'''\n",
    "with a AS (SELECT EXTRACT(month from creation_date) AS num, COUNT(id) AS cnt\n",
    "           FROM stackoverflow.posts\n",
    "           WHERE creation_date::date BETWEEN '2008-09-01' AND '2008-12-31'\n",
    "           GROUP BY 1)\n",
    "\n",
    "SELECT num, cnt, ROUND(((cnt::numeric/LAG(cnt) OVER (ORDER BY num))-1)*100,2)\n",
    "FROM a\n",
    "'''"
   ]
  },
  {
   "cell_type": "markdown",
   "id": "404a4486",
   "metadata": {},
   "source": [
    "### Задание 7"
   ]
  },
  {
   "cell_type": "markdown",
   "id": "2527f97b",
   "metadata": {},
   "source": [
    "Найдите пользователя, который опубликовал больше всего постов за всё время с момента регистрации. Выведите данные его активности за октябрь 2008 года в таком виде:\n",
    "- номер недели;\n",
    "- дата и время последнего поста, опубликованного на этой неделе."
   ]
  },
  {
   "cell_type": "code",
   "execution_count": null,
   "id": "7507031a",
   "metadata": {},
   "outputs": [],
   "source": [
    "'''\n",
    "WITH week AS (   \n",
    "      SELECT EXTRACT(WEEK FROM creation_date) AS week_number,\n",
    "             MAX(creation_date) OVER (ORDER BY EXTRACT(WEEK FROM creation_date))\n",
    "      FROM stackoverflow.posts \n",
    "      WHERE user_id = (\n",
    "                 SELECT user_id\n",
    "                 FROM stackoverflow.posts \n",
    "                 GROUP BY user_id \n",
    "                 ORDER BY COUNT(id) DESC\n",
    "                 LIMIT 1\n",
    "                     ) \n",
    "                 AND creation_date :: date BETWEEN '2008-10-01' AND '2008-10-31'\n",
    "                 ORDER BY creation_date\n",
    "             )\n",
    "   \n",
    "SELECT DISTINCT *\n",
    "FROM week\n",
    "ORDER BY week_number\n",
    "'''"
   ]
  }
 ],
 "metadata": {
  "kernelspec": {
   "display_name": "Python 3 (ipykernel)",
   "language": "python",
   "name": "python3"
  },
  "language_info": {
   "codemirror_mode": {
    "name": "ipython",
    "version": 3
   },
   "file_extension": ".py",
   "mimetype": "text/x-python",
   "name": "python",
   "nbconvert_exporter": "python",
   "pygments_lexer": "ipython3",
   "version": "3.10.9"
  }
 },
 "nbformat": 4,
 "nbformat_minor": 5
}
