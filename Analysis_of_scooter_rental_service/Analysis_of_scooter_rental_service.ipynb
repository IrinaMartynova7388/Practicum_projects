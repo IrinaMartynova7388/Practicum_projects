{
 "cells": [
  {
   "cell_type": "markdown",
   "id": "6bc365e4",
   "metadata": {},
   "source": [
    "# Проект: Анализ сервиса аренды самокатов GoFast"
   ]
  },
  {
   "cell_type": "markdown",
   "id": "8655da65",
   "metadata": {},
   "source": [
    "Есть данные популярного сервиса аренды самокатов GoFast о некоторых пользователях из нескольких городов, а также об их поездках. \n",
    "\n",
    "Чтобы совершать поездки по городу, пользователи сервиса GoFast пользуются мобильным приложением. Сервисом можно пользоваться:\n",
    "\n",
    "- без подписки:\n",
    "абонентская плата отсутствует;\n",
    "стоимость одной минуты поездки — \n",
    "8 рублей;\n",
    "стоимость старта (начала поездки) — \n",
    "50 рублей;\n",
    "\n",
    "- с подпиской Ultra:\n",
    "абонентская плата — \n",
    "199 рублей в месяц;\n",
    "стоимость одной минуты поездки — \n",
    "6 рублей;\n",
    "стоимость старта — бесплатно.\n",
    "\n",
    "Данные представлены в трех таблицах users_go.csv, rides_go.csv,  subscriptions_go.csv.\n",
    "\n",
    "**Цель исследования:**\n",
    "\n",
    "Необходимо проанализировать данные и проверить некоторые гипотезы, которые могут помочь бизнесу вырасти.\n",
    "\n",
    "**Ход исследования:**\n",
    "\n",
    "- Обзор и предобработка данных.\n",
    "- Исследовательский анализ данных.\n",
    "- Объединение данных.\n",
    "- Подсчет выручки.\n",
    "- Проверка гипотез."
   ]
  },
  {
   "cell_type": "code",
   "execution_count": 1,
   "id": "72576667",
   "metadata": {},
   "outputs": [],
   "source": [
    "# импорт библиотек\n",
    "import warnings\n",
    "warnings.filterwarnings('ignore')\n",
    "import pandas as pd\n",
    "import matplotlib.pyplot as plt\n",
    "import seaborn as sns\n",
    "import numpy as np\n",
    "from scipy import stats as st"
   ]
  },
  {
   "cell_type": "markdown",
   "id": "c42cbe00",
   "metadata": {},
   "source": [
    "#### Шаг 1. Загрузка данных"
   ]
  },
  {
   "cell_type": "markdown",
   "id": "9203a827",
   "metadata": {},
   "source": [
    "Пути к файлам: \n",
    "- Пользователи: /datasets/users_go.csv\n",
    "- Поездки: /datasets/rides_go.csv\n",
    "- Подписки: /datasets/subscriptions_go.csv"
   ]
  },
  {
   "cell_type": "code",
   "execution_count": 3,
   "id": "4cea7c07",
   "metadata": {
    "scrolled": true
   },
   "outputs": [
    {
     "data": {
      "text/html": [
       "<div>\n",
       "<style scoped>\n",
       "    .dataframe tbody tr th:only-of-type {\n",
       "        vertical-align: middle;\n",
       "    }\n",
       "\n",
       "    .dataframe tbody tr th {\n",
       "        vertical-align: top;\n",
       "    }\n",
       "\n",
       "    .dataframe thead th {\n",
       "        text-align: right;\n",
       "    }\n",
       "</style>\n",
       "<table border=\"1\" class=\"dataframe\">\n",
       "  <thead>\n",
       "    <tr style=\"text-align: right;\">\n",
       "      <th></th>\n",
       "      <th>user_id</th>\n",
       "      <th>name</th>\n",
       "      <th>age</th>\n",
       "      <th>city</th>\n",
       "      <th>subscription_type</th>\n",
       "    </tr>\n",
       "  </thead>\n",
       "  <tbody>\n",
       "    <tr>\n",
       "      <th>0</th>\n",
       "      <td>1</td>\n",
       "      <td>Кира</td>\n",
       "      <td>22</td>\n",
       "      <td>Тюмень</td>\n",
       "      <td>ultra</td>\n",
       "    </tr>\n",
       "    <tr>\n",
       "      <th>1</th>\n",
       "      <td>2</td>\n",
       "      <td>Станислав</td>\n",
       "      <td>31</td>\n",
       "      <td>Омск</td>\n",
       "      <td>ultra</td>\n",
       "    </tr>\n",
       "    <tr>\n",
       "      <th>2</th>\n",
       "      <td>3</td>\n",
       "      <td>Алексей</td>\n",
       "      <td>20</td>\n",
       "      <td>Москва</td>\n",
       "      <td>ultra</td>\n",
       "    </tr>\n",
       "    <tr>\n",
       "      <th>3</th>\n",
       "      <td>4</td>\n",
       "      <td>Константин</td>\n",
       "      <td>26</td>\n",
       "      <td>Ростов-на-Дону</td>\n",
       "      <td>ultra</td>\n",
       "    </tr>\n",
       "    <tr>\n",
       "      <th>4</th>\n",
       "      <td>5</td>\n",
       "      <td>Адель</td>\n",
       "      <td>28</td>\n",
       "      <td>Омск</td>\n",
       "      <td>ultra</td>\n",
       "    </tr>\n",
       "  </tbody>\n",
       "</table>\n",
       "</div>"
      ],
      "text/plain": [
       "   user_id        name  age            city subscription_type\n",
       "0        1        Кира   22          Тюмень             ultra\n",
       "1        2   Станислав   31            Омск             ultra\n",
       "2        3     Алексей   20          Москва             ultra\n",
       "3        4  Константин   26  Ростов-на-Дону             ultra\n",
       "4        5       Адель   28            Омск             ultra"
      ]
     },
     "metadata": {},
     "output_type": "display_data"
    },
    {
     "name": "stdout",
     "output_type": "stream",
     "text": [
      "<class 'pandas.core.frame.DataFrame'>\n",
      "RangeIndex: 1565 entries, 0 to 1564\n",
      "Data columns (total 5 columns):\n",
      " #   Column             Non-Null Count  Dtype \n",
      "---  ------             --------------  ----- \n",
      " 0   user_id            1565 non-null   int64 \n",
      " 1   name               1565 non-null   object\n",
      " 2   age                1565 non-null   int64 \n",
      " 3   city               1565 non-null   object\n",
      " 4   subscription_type  1565 non-null   object\n",
      "dtypes: int64(2), object(3)\n",
      "memory usage: 61.3+ KB\n"
     ]
    },
    {
     "data": {
      "text/plain": [
       "None"
      ]
     },
     "metadata": {},
     "output_type": "display_data"
    },
    {
     "data": {
      "text/html": [
       "<div>\n",
       "<style scoped>\n",
       "    .dataframe tbody tr th:only-of-type {\n",
       "        vertical-align: middle;\n",
       "    }\n",
       "\n",
       "    .dataframe tbody tr th {\n",
       "        vertical-align: top;\n",
       "    }\n",
       "\n",
       "    .dataframe thead th {\n",
       "        text-align: right;\n",
       "    }\n",
       "</style>\n",
       "<table border=\"1\" class=\"dataframe\">\n",
       "  <thead>\n",
       "    <tr style=\"text-align: right;\">\n",
       "      <th></th>\n",
       "      <th>user_id</th>\n",
       "      <th>distance</th>\n",
       "      <th>duration</th>\n",
       "      <th>date</th>\n",
       "    </tr>\n",
       "  </thead>\n",
       "  <tbody>\n",
       "    <tr>\n",
       "      <th>0</th>\n",
       "      <td>1</td>\n",
       "      <td>4409.919140</td>\n",
       "      <td>25.599769</td>\n",
       "      <td>2021-01-01</td>\n",
       "    </tr>\n",
       "    <tr>\n",
       "      <th>1</th>\n",
       "      <td>1</td>\n",
       "      <td>2617.592153</td>\n",
       "      <td>15.816871</td>\n",
       "      <td>2021-01-18</td>\n",
       "    </tr>\n",
       "    <tr>\n",
       "      <th>2</th>\n",
       "      <td>1</td>\n",
       "      <td>754.159807</td>\n",
       "      <td>6.232113</td>\n",
       "      <td>2021-04-20</td>\n",
       "    </tr>\n",
       "    <tr>\n",
       "      <th>3</th>\n",
       "      <td>1</td>\n",
       "      <td>2694.783254</td>\n",
       "      <td>18.511000</td>\n",
       "      <td>2021-08-11</td>\n",
       "    </tr>\n",
       "    <tr>\n",
       "      <th>4</th>\n",
       "      <td>1</td>\n",
       "      <td>4028.687306</td>\n",
       "      <td>26.265803</td>\n",
       "      <td>2021-08-28</td>\n",
       "    </tr>\n",
       "  </tbody>\n",
       "</table>\n",
       "</div>"
      ],
      "text/plain": [
       "   user_id     distance   duration        date\n",
       "0        1  4409.919140  25.599769  2021-01-01\n",
       "1        1  2617.592153  15.816871  2021-01-18\n",
       "2        1   754.159807   6.232113  2021-04-20\n",
       "3        1  2694.783254  18.511000  2021-08-11\n",
       "4        1  4028.687306  26.265803  2021-08-28"
      ]
     },
     "metadata": {},
     "output_type": "display_data"
    },
    {
     "name": "stdout",
     "output_type": "stream",
     "text": [
      "<class 'pandas.core.frame.DataFrame'>\n",
      "RangeIndex: 18068 entries, 0 to 18067\n",
      "Data columns (total 4 columns):\n",
      " #   Column    Non-Null Count  Dtype  \n",
      "---  ------    --------------  -----  \n",
      " 0   user_id   18068 non-null  int64  \n",
      " 1   distance  18068 non-null  float64\n",
      " 2   duration  18068 non-null  float64\n",
      " 3   date      18068 non-null  object \n",
      "dtypes: float64(2), int64(1), object(1)\n",
      "memory usage: 564.8+ KB\n"
     ]
    },
    {
     "data": {
      "text/plain": [
       "None"
      ]
     },
     "metadata": {},
     "output_type": "display_data"
    },
    {
     "data": {
      "text/html": [
       "<div>\n",
       "<style scoped>\n",
       "    .dataframe tbody tr th:only-of-type {\n",
       "        vertical-align: middle;\n",
       "    }\n",
       "\n",
       "    .dataframe tbody tr th {\n",
       "        vertical-align: top;\n",
       "    }\n",
       "\n",
       "    .dataframe thead th {\n",
       "        text-align: right;\n",
       "    }\n",
       "</style>\n",
       "<table border=\"1\" class=\"dataframe\">\n",
       "  <thead>\n",
       "    <tr style=\"text-align: right;\">\n",
       "      <th></th>\n",
       "      <th>subscription_type</th>\n",
       "      <th>minute_price</th>\n",
       "      <th>start_ride_price</th>\n",
       "      <th>subscription_fee</th>\n",
       "    </tr>\n",
       "  </thead>\n",
       "  <tbody>\n",
       "    <tr>\n",
       "      <th>0</th>\n",
       "      <td>free</td>\n",
       "      <td>8</td>\n",
       "      <td>50</td>\n",
       "      <td>0</td>\n",
       "    </tr>\n",
       "    <tr>\n",
       "      <th>1</th>\n",
       "      <td>ultra</td>\n",
       "      <td>6</td>\n",
       "      <td>0</td>\n",
       "      <td>199</td>\n",
       "    </tr>\n",
       "  </tbody>\n",
       "</table>\n",
       "</div>"
      ],
      "text/plain": [
       "  subscription_type  minute_price  start_ride_price  subscription_fee\n",
       "0              free             8                50                 0\n",
       "1             ultra             6                 0               199"
      ]
     },
     "metadata": {},
     "output_type": "display_data"
    },
    {
     "name": "stdout",
     "output_type": "stream",
     "text": [
      "<class 'pandas.core.frame.DataFrame'>\n",
      "RangeIndex: 2 entries, 0 to 1\n",
      "Data columns (total 4 columns):\n",
      " #   Column             Non-Null Count  Dtype \n",
      "---  ------             --------------  ----- \n",
      " 0   subscription_type  2 non-null      object\n",
      " 1   minute_price       2 non-null      int64 \n",
      " 2   start_ride_price   2 non-null      int64 \n",
      " 3   subscription_fee   2 non-null      int64 \n",
      "dtypes: int64(3), object(1)\n",
      "memory usage: 192.0+ bytes\n"
     ]
    },
    {
     "data": {
      "text/plain": [
       "None"
      ]
     },
     "metadata": {},
     "output_type": "display_data"
    }
   ],
   "source": [
    "# просмотр информации о таблицах\n",
    "for i in [users, riders, subscriptions]:\n",
    "    display(i.head())\n",
    "    display(i.info())"
   ]
  },
  {
   "cell_type": "markdown",
   "id": "09eeedc2",
   "metadata": {},
   "source": [
    "Структура users_go.csv:\n",
    "- user_id - уникальный идентификатор пользователя\n",
    "- name - имя пользователя\n",
    "- age - возраст\n",
    "- city - город\n",
    "- subscription_type - тип подписки (free, ultra)\n",
    "\n",
    "Структура rides_go.csv:\n",
    "- user_id - уникальный идентификатор пользователя\n",
    "- distance - расстояние, которое пользователь проехал в текущей сессии (в метрах)\n",
    "- duration - продолжительность сессии (в минутах) — время с того момента, как пользователь нажал кнопку «Начать поездку» до момента, как он нажал кнопку «Завершить поездку»\n",
    "- date - дата совершения поездки\n",
    "\n",
    "Структура subscriptions_go.csv:\n",
    "\n",
    "- subscription_type - тип подписки\n",
    "- minute_price - стоимость одной минуты поездки по данной подписке\n",
    "- start_ride_price - стоимость начала поездки\n",
    "- subscription_fee - стоимость ежемесячного платежа   "
   ]
  },
  {
   "cell_type": "markdown",
   "id": "b1a4c2d1",
   "metadata": {},
   "source": [
    "Пропусков в таблицах нет. В таблице riders необходимо привести столбец с датой к корректному типу данных."
   ]
  },
  {
   "cell_type": "markdown",
   "id": "aeed16dc",
   "metadata": {},
   "source": [
    "Посмотрим распределение значений в столбцах с количественными показателями."
   ]
  },
  {
   "cell_type": "code",
   "execution_count": 4,
   "id": "b326651c",
   "metadata": {},
   "outputs": [
    {
     "data": {
      "text/plain": [
       "count    1565.000000\n",
       "mean       24.922045\n",
       "std         4.553496\n",
       "min        12.000000\n",
       "25%        22.000000\n",
       "50%        25.000000\n",
       "75%        28.000000\n",
       "max        43.000000\n",
       "Name: age, dtype: float64"
      ]
     },
     "execution_count": 4,
     "metadata": {},
     "output_type": "execute_result"
    }
   ],
   "source": [
    "users['age'].describe()"
   ]
  },
  {
   "cell_type": "markdown",
   "id": "c865e09b",
   "metadata": {},
   "source": [
    "Минимальный возраст 12, максимальный 43, здесь все в порядке."
   ]
  },
  {
   "cell_type": "code",
   "execution_count": 5,
   "id": "8bd679cd",
   "metadata": {},
   "outputs": [
    {
     "data": {
      "image/png": "[encoded data removed]",
      "text/plain": [
       "<Figure size 720x504 with 1 Axes>"
      ]
     },
     "metadata": {
      "needs_background": "light"
     },
     "output_type": "display_data"
    }
   ],
   "source": [
    "riders['distance'].hist(bins=15, figsize=(10, 7))\n",
    "plt.show()"
   ]
  },
  {
   "cell_type": "markdown",
   "id": "c3e08b5b",
   "metadata": {},
   "source": [
    "В столбце distance датафрейма riders есть значения, равные нулю. Возможно пользователи принимали решение не ехать на самокате."
   ]
  },
  {
   "cell_type": "code",
   "execution_count": 6,
   "id": "a0e1dd65",
   "metadata": {},
   "outputs": [
    {
     "data": {
      "image/png": "[encoded data removed]",
      "text/plain": [
       "<Figure size 720x504 with 1 Axes>"
      ]
     },
     "metadata": {
      "needs_background": "light"
     },
     "output_type": "display_data"
    }
   ],
   "source": [
    "riders['duration'].hist(bins=15, figsize=(10, 7))\n",
    "plt.show()"
   ]
  },
  {
   "cell_type": "markdown",
   "id": "3bae5bed",
   "metadata": {},
   "source": [
    "В столбце duration датафрейма riders есть значения, близкие к нулю. Такое возможно, но необходимо проверить значения преодоленного расстояния для таких сессий."
   ]
  },
  {
   "cell_type": "code",
   "execution_count": 7,
   "id": "2ebab55b",
   "metadata": {},
   "outputs": [
    {
     "data": {
      "image/png": "[encoded data removed]",
      "text/plain": [
       "<Figure size 720x504 with 4 Axes>"
      ]
     },
     "metadata": {
      "needs_background": "light"
     },
     "output_type": "display_data"
    }
   ],
   "source": [
    "subscriptions.hist(bins=15, figsize=(10, 7))\n",
    "plt.show()"
   ]
  },
  {
   "cell_type": "markdown",
   "id": "de83af64",
   "metadata": {},
   "source": [
    "В датафрейме subscriptions значения корректные."
   ]
  },
  {
   "cell_type": "markdown",
   "id": "e95ebca7",
   "metadata": {},
   "source": [
    "#### Шаг 2. Предобработка данных"
   ]
  },
  {
   "cell_type": "markdown",
   "id": "6f4cc486",
   "metadata": {},
   "source": [
    "Данные о времени приведем к соответствующему типу."
   ]
  },
  {
   "cell_type": "code",
   "execution_count": 8,
   "id": "b01ecc60",
   "metadata": {},
   "outputs": [],
   "source": [
    "# меняем тип данных\n",
    "riders['date'] = pd.to_datetime(riders['date'])"
   ]
  },
  {
   "cell_type": "code",
   "execution_count": 9,
   "id": "d2da163f",
   "metadata": {},
   "outputs": [
    {
     "name": "stdout",
     "output_type": "stream",
     "text": [
      "<class 'pandas.core.frame.DataFrame'>\n",
      "RangeIndex: 18068 entries, 0 to 18067\n",
      "Data columns (total 4 columns):\n",
      " #   Column    Non-Null Count  Dtype         \n",
      "---  ------    --------------  -----         \n",
      " 0   user_id   18068 non-null  int64         \n",
      " 1   distance  18068 non-null  float64       \n",
      " 2   duration  18068 non-null  float64       \n",
      " 3   date      18068 non-null  datetime64[ns]\n",
      "dtypes: datetime64[ns](1), float64(2), int64(1)\n",
      "memory usage: 564.8 KB\n"
     ]
    }
   ],
   "source": [
    "# проверяем типы данных в датафрейме\n",
    "riders.info()"
   ]
  },
  {
   "cell_type": "markdown",
   "id": "1ae9ac54",
   "metadata": {},
   "source": [
    "Проверим датафреймы на наличие явных дубликатов."
   ]
  },
  {
   "cell_type": "code",
   "execution_count": 10,
   "id": "b1754519",
   "metadata": {},
   "outputs": [
    {
     "data": {
      "text/plain": [
       "31"
      ]
     },
     "metadata": {},
     "output_type": "display_data"
    },
    {
     "data": {
      "text/plain": [
       "0"
      ]
     },
     "metadata": {},
     "output_type": "display_data"
    },
    {
     "data": {
      "text/plain": [
       "0"
      ]
     },
     "metadata": {},
     "output_type": "display_data"
    }
   ],
   "source": [
    "# проверяем наличие дубликатов\n",
    "for i in [users, riders, subscriptions]:\n",
    "    display(i.duplicated().sum())"
   ]
  },
  {
   "cell_type": "markdown",
   "id": "6cd309ee",
   "metadata": {},
   "source": [
    "Есть дубликаты в датафрейме users. Удалим их."
   ]
  },
  {
   "cell_type": "code",
   "execution_count": 11,
   "id": "5f49f902",
   "metadata": {},
   "outputs": [],
   "source": [
    "# удаляем явные дубликаты\n",
    "users.drop_duplicates(inplace=True)"
   ]
  },
  {
   "cell_type": "markdown",
   "id": "c0335375",
   "metadata": {},
   "source": [
    "Изучим категориальные значения в датафреймах."
   ]
  },
  {
   "cell_type": "code",
   "execution_count": 12,
   "id": "9f4665d0",
   "metadata": {},
   "outputs": [
    {
     "data": {
      "text/plain": [
       "array(['Екатеринбург', 'Краснодар', 'Москва', 'Омск', 'Пятигорск',\n",
       "       'Ростов-на-Дону', 'Сочи', 'Тюмень'], dtype=object)"
      ]
     },
     "execution_count": 12,
     "metadata": {},
     "output_type": "execute_result"
    }
   ],
   "source": [
    "users['city'].sort_values().unique()"
   ]
  },
  {
   "cell_type": "code",
   "execution_count": 13,
   "id": "6647ace6",
   "metadata": {},
   "outputs": [
    {
     "data": {
      "text/plain": [
       "array(['free', 'ultra'], dtype=object)"
      ]
     },
     "execution_count": 13,
     "metadata": {},
     "output_type": "execute_result"
    }
   ],
   "source": [
    "users['subscription_type'].sort_values().unique()"
   ]
  },
  {
   "cell_type": "markdown",
   "id": "27c20662",
   "metadata": {},
   "source": [
    "Неявных дубликатов нет."
   ]
  },
  {
   "cell_type": "markdown",
   "id": "7aa7c46c",
   "metadata": {},
   "source": [
    "Проверим количественные значения. В начале исследования было выявлено, что в столбцах distance и duration возможно присутствуют выбросы. Построим диаграмму размаха для каждого из столбцов, чтобы исключить такие значения."
   ]
  },
  {
   "cell_type": "code",
   "execution_count": 14,
   "id": "aa6aaadf",
   "metadata": {},
   "outputs": [
    {
     "data": {
      "image/png": "[encoded data removed]",
      "text/plain": [
       "<Figure size 432x288 with 1 Axes>"
      ]
     },
     "metadata": {
      "needs_background": "light"
     },
     "output_type": "display_data"
    }
   ],
   "source": [
    "# диаграмма размаха для столбца distance:\n",
    "sns.boxplot(riders['distance'])\n",
    "plt.title('Диаграмма размаха')\n",
    "plt.xlabel('Расстояние, которое пользователь проехал в текущей сессии (в метрах)')\n",
    "plt.xlim(0, 7000)\n",
    "plt.show()"
   ]
  },
  {
   "cell_type": "code",
   "execution_count": 15,
   "id": "d0549e02",
   "metadata": {},
   "outputs": [
    {
     "data": {
      "text/plain": [
       "count    18068.000000\n",
       "mean      3070.659976\n",
       "std       1116.831209\n",
       "min          0.855683\n",
       "25%       2543.226360\n",
       "50%       3133.609994\n",
       "75%       3776.222735\n",
       "max       7211.007745\n",
       "Name: distance, dtype: float64"
      ]
     },
     "execution_count": 15,
     "metadata": {},
     "output_type": "execute_result"
    }
   ],
   "source": [
    "riders['distance'].describe()"
   ]
  },
  {
   "cell_type": "markdown",
   "id": "82113b57",
   "metadata": {},
   "source": [
    "Нормальные значения для столбца distance находятся в диапозоне от 600 до 5600 метров. Исключать другие значения не станем, так как пользователь мог проехать и 7000 метров, и не ехать вообще, если например передумал."
   ]
  },
  {
   "cell_type": "code",
   "execution_count": 16,
   "id": "5dfca722",
   "metadata": {},
   "outputs": [
    {
     "data": {
      "image/png": "[encoded data removed]",
      "text/plain": [
       "<Figure size 432x288 with 1 Axes>"
      ]
     },
     "metadata": {
      "needs_background": "light"
     },
     "output_type": "display_data"
    }
   ],
   "source": [
    "# диаграмма размаха для столбца duration:\n",
    "sns.boxplot(riders['duration'])\n",
    "plt.title('Диаграмма размаха')\n",
    "plt.xlabel('Продолжительность сессии (в минутах)')\n",
    "plt.xlim(0, 40)\n",
    "plt.show()"
   ]
  },
  {
   "cell_type": "code",
   "execution_count": 17,
   "id": "e550524e",
   "metadata": {},
   "outputs": [
    {
     "data": {
      "text/plain": [
       "count    18068.000000\n",
       "mean        17.805011\n",
       "std          6.091051\n",
       "min          0.500000\n",
       "25%         13.597563\n",
       "50%         17.678395\n",
       "75%         21.724800\n",
       "max         40.823963\n",
       "Name: duration, dtype: float64"
      ]
     },
     "execution_count": 17,
     "metadata": {},
     "output_type": "execute_result"
    }
   ],
   "source": [
    "riders['duration'].describe()"
   ]
  },
  {
   "cell_type": "markdown",
   "id": "c9a7093c",
   "metadata": {},
   "source": [
    "Нормальные значения лежат в промежутке от 2 до 35 минут. При этом минимальное значение составляет 0.5. Посмотрим на строки, где продолжительность поездки составила 0.5 минут."
   ]
  },
  {
   "cell_type": "code",
   "execution_count": 18,
   "id": "37e14e8e",
   "metadata": {},
   "outputs": [
    {
     "data": {
      "text/html": [
       "<div>\n",
       "<style scoped>\n",
       "    .dataframe tbody tr th:only-of-type {\n",
       "        vertical-align: middle;\n",
       "    }\n",
       "\n",
       "    .dataframe tbody tr th {\n",
       "        vertical-align: top;\n",
       "    }\n",
       "\n",
       "    .dataframe thead th {\n",
       "        text-align: right;\n",
       "    }\n",
       "</style>\n",
       "<table border=\"1\" class=\"dataframe\">\n",
       "  <thead>\n",
       "    <tr style=\"text-align: right;\">\n",
       "      <th></th>\n",
       "      <th>user_id</th>\n",
       "      <th>distance</th>\n",
       "      <th>duration</th>\n",
       "      <th>date</th>\n",
       "    </tr>\n",
       "  </thead>\n",
       "  <tbody>\n",
       "    <tr>\n",
       "      <th>6531</th>\n",
       "      <td>701</td>\n",
       "      <td>4196.445201</td>\n",
       "      <td>0.5</td>\n",
       "      <td>2021-08-31</td>\n",
       "    </tr>\n",
       "    <tr>\n",
       "      <th>6570</th>\n",
       "      <td>704</td>\n",
       "      <td>4830.824371</td>\n",
       "      <td>0.5</td>\n",
       "      <td>2021-10-14</td>\n",
       "    </tr>\n",
       "    <tr>\n",
       "      <th>6680</th>\n",
       "      <td>712</td>\n",
       "      <td>4684.004397</td>\n",
       "      <td>0.5</td>\n",
       "      <td>2021-03-04</td>\n",
       "    </tr>\n",
       "    <tr>\n",
       "      <th>6695</th>\n",
       "      <td>713</td>\n",
       "      <td>5215.642710</td>\n",
       "      <td>0.5</td>\n",
       "      <td>2021-02-25</td>\n",
       "    </tr>\n",
       "    <tr>\n",
       "      <th>6768</th>\n",
       "      <td>718</td>\n",
       "      <td>5197.436649</td>\n",
       "      <td>0.5</td>\n",
       "      <td>2021-02-11</td>\n",
       "    </tr>\n",
       "    <tr>\n",
       "      <th>...</th>\n",
       "      <td>...</td>\n",
       "      <td>...</td>\n",
       "      <td>...</td>\n",
       "      <td>...</td>\n",
       "    </tr>\n",
       "    <tr>\n",
       "      <th>17004</th>\n",
       "      <td>1460</td>\n",
       "      <td>5531.335845</td>\n",
       "      <td>0.5</td>\n",
       "      <td>2021-01-19</td>\n",
       "    </tr>\n",
       "    <tr>\n",
       "      <th>17242</th>\n",
       "      <td>1477</td>\n",
       "      <td>6724.932981</td>\n",
       "      <td>0.5</td>\n",
       "      <td>2021-01-12</td>\n",
       "    </tr>\n",
       "    <tr>\n",
       "      <th>17314</th>\n",
       "      <td>1483</td>\n",
       "      <td>4445.481070</td>\n",
       "      <td>0.5</td>\n",
       "      <td>2021-03-06</td>\n",
       "    </tr>\n",
       "    <tr>\n",
       "      <th>17505</th>\n",
       "      <td>1496</td>\n",
       "      <td>5722.551787</td>\n",
       "      <td>0.5</td>\n",
       "      <td>2021-02-14</td>\n",
       "    </tr>\n",
       "    <tr>\n",
       "      <th>17909</th>\n",
       "      <td>1524</td>\n",
       "      <td>4103.998874</td>\n",
       "      <td>0.5</td>\n",
       "      <td>2021-06-18</td>\n",
       "    </tr>\n",
       "  </tbody>\n",
       "</table>\n",
       "<p>95 rows × 4 columns</p>\n",
       "</div>"
      ],
      "text/plain": [
       "       user_id     distance  duration       date\n",
       "6531       701  4196.445201       0.5 2021-08-31\n",
       "6570       704  4830.824371       0.5 2021-10-14\n",
       "6680       712  4684.004397       0.5 2021-03-04\n",
       "6695       713  5215.642710       0.5 2021-02-25\n",
       "6768       718  5197.436649       0.5 2021-02-11\n",
       "...        ...          ...       ...        ...\n",
       "17004     1460  5531.335845       0.5 2021-01-19\n",
       "17242     1477  6724.932981       0.5 2021-01-12\n",
       "17314     1483  4445.481070       0.5 2021-03-06\n",
       "17505     1496  5722.551787       0.5 2021-02-14\n",
       "17909     1524  4103.998874       0.5 2021-06-18\n",
       "\n",
       "[95 rows x 4 columns]"
      ]
     },
     "execution_count": 18,
     "metadata": {},
     "output_type": "execute_result"
    }
   ],
   "source": [
    "duration_05 = riders.loc[(riders['duration'] == 0.5)]\n",
    "duration_05"
   ]
  },
  {
   "cell_type": "markdown",
   "id": "45771591",
   "metadata": {},
   "source": [
    "Таких строк 95. Следуюет обратить внимание на преодоленное расстояние в эти сессии. За полминуты невозможно проехать такие расстояния. Это технический сбой."
   ]
  },
  {
   "cell_type": "markdown",
   "id": "643db555",
   "metadata": {},
   "source": [
    "Посчитаем долю сессий с продолжительностью 0.5 минуты относительно всего датафрейма. Если доля будет меньше 5%, то удалим строки."
   ]
  },
  {
   "cell_type": "code",
   "execution_count": 19,
   "id": "0e3ffbf8",
   "metadata": {},
   "outputs": [
    {
     "data": {
      "text/plain": [
       "0.5257914545052026"
      ]
     },
     "execution_count": 19,
     "metadata": {},
     "output_type": "execute_result"
    }
   ],
   "source": [
    "(100 * len(riders.loc[(riders['duration'] == 0.5)])) / len(riders)"
   ]
  },
  {
   "cell_type": "markdown",
   "id": "cddf59c7",
   "metadata": {},
   "source": [
    "Доля составила менее одного процента, удалим строки."
   ]
  },
  {
   "cell_type": "code",
   "execution_count": 20,
   "id": "41879f82",
   "metadata": {},
   "outputs": [
    {
     "name": "stdout",
     "output_type": "stream",
     "text": [
      "<class 'pandas.core.frame.DataFrame'>\n",
      "Int64Index: 17973 entries, 0 to 18067\n",
      "Data columns (total 4 columns):\n",
      " #   Column    Non-Null Count  Dtype         \n",
      "---  ------    --------------  -----         \n",
      " 0   user_id   17973 non-null  int64         \n",
      " 1   distance  17973 non-null  float64       \n",
      " 2   duration  17973 non-null  float64       \n",
      " 3   date      17973 non-null  datetime64[ns]\n",
      "dtypes: datetime64[ns](1), float64(2), int64(1)\n",
      "memory usage: 702.1 KB\n"
     ]
    }
   ],
   "source": [
    "riders = riders.loc[(riders['duration'] != 0.5)]\n",
    "riders.info()"
   ]
  },
  {
   "cell_type": "markdown",
   "id": "3fa0d221",
   "metadata": {},
   "source": [
    "Добавим столбец с номером месяца. Для начала посмотрим за какие года представлены данные."
   ]
  },
  {
   "cell_type": "code",
   "execution_count": 21,
   "id": "d51735d6",
   "metadata": {},
   "outputs": [
    {
     "data": {
      "text/plain": [
       "array([2021])"
      ]
     },
     "execution_count": 21,
     "metadata": {},
     "output_type": "execute_result"
    }
   ],
   "source": [
    "riders['date'].dt.year.unique()"
   ]
  },
  {
   "cell_type": "markdown",
   "id": "b69e882c",
   "metadata": {},
   "source": [
    "Данные представлены за 2021 год. Можно добавить столбец с указанием месяца без года."
   ]
  },
  {
   "cell_type": "code",
   "execution_count": 22,
   "id": "208d817a",
   "metadata": {},
   "outputs": [
    {
     "data": {
      "text/html": [
       "<div>\n",
       "<style scoped>\n",
       "    .dataframe tbody tr th:only-of-type {\n",
       "        vertical-align: middle;\n",
       "    }\n",
       "\n",
       "    .dataframe tbody tr th {\n",
       "        vertical-align: top;\n",
       "    }\n",
       "\n",
       "    .dataframe thead th {\n",
       "        text-align: right;\n",
       "    }\n",
       "</style>\n",
       "<table border=\"1\" class=\"dataframe\">\n",
       "  <thead>\n",
       "    <tr style=\"text-align: right;\">\n",
       "      <th></th>\n",
       "      <th>user_id</th>\n",
       "      <th>distance</th>\n",
       "      <th>duration</th>\n",
       "      <th>date</th>\n",
       "      <th>month</th>\n",
       "    </tr>\n",
       "  </thead>\n",
       "  <tbody>\n",
       "    <tr>\n",
       "      <th>0</th>\n",
       "      <td>1</td>\n",
       "      <td>4409.919140</td>\n",
       "      <td>25.599769</td>\n",
       "      <td>2021-01-01</td>\n",
       "      <td>1</td>\n",
       "    </tr>\n",
       "    <tr>\n",
       "      <th>1</th>\n",
       "      <td>1</td>\n",
       "      <td>2617.592153</td>\n",
       "      <td>15.816871</td>\n",
       "      <td>2021-01-18</td>\n",
       "      <td>1</td>\n",
       "    </tr>\n",
       "    <tr>\n",
       "      <th>2</th>\n",
       "      <td>1</td>\n",
       "      <td>754.159807</td>\n",
       "      <td>6.232113</td>\n",
       "      <td>2021-04-20</td>\n",
       "      <td>4</td>\n",
       "    </tr>\n",
       "    <tr>\n",
       "      <th>3</th>\n",
       "      <td>1</td>\n",
       "      <td>2694.783254</td>\n",
       "      <td>18.511000</td>\n",
       "      <td>2021-08-11</td>\n",
       "      <td>8</td>\n",
       "    </tr>\n",
       "    <tr>\n",
       "      <th>4</th>\n",
       "      <td>1</td>\n",
       "      <td>4028.687306</td>\n",
       "      <td>26.265803</td>\n",
       "      <td>2021-08-28</td>\n",
       "      <td>8</td>\n",
       "    </tr>\n",
       "  </tbody>\n",
       "</table>\n",
       "</div>"
      ],
      "text/plain": [
       "   user_id     distance   duration       date  month\n",
       "0        1  4409.919140  25.599769 2021-01-01      1\n",
       "1        1  2617.592153  15.816871 2021-01-18      1\n",
       "2        1   754.159807   6.232113 2021-04-20      4\n",
       "3        1  2694.783254  18.511000 2021-08-11      8\n",
       "4        1  4028.687306  26.265803 2021-08-28      8"
      ]
     },
     "execution_count": 22,
     "metadata": {},
     "output_type": "execute_result"
    }
   ],
   "source": [
    "riders['month'] = riders['date'].dt.month\n",
    "riders.head()"
   ]
  },
  {
   "cell_type": "markdown",
   "id": "212593c7",
   "metadata": {},
   "source": [
    "#### Шаг 3. Исследовательский анализ данных"
   ]
  },
  {
   "cell_type": "markdown",
   "id": "31fbbc3a",
   "metadata": {},
   "source": [
    "**Частота встречаемости городов**"
   ]
  },
  {
   "cell_type": "markdown",
   "id": "a8aa7c0d",
   "metadata": {},
   "source": [
    "Создадим сводную таблицу по количеству пользователей по городам."
   ]
  },
  {
   "cell_type": "code",
   "execution_count": 23,
   "id": "b44e8fa5",
   "metadata": {},
   "outputs": [
    {
     "data": {
      "text/html": [
       "<div>\n",
       "<style scoped>\n",
       "    .dataframe tbody tr th:only-of-type {\n",
       "        vertical-align: middle;\n",
       "    }\n",
       "\n",
       "    .dataframe tbody tr th {\n",
       "        vertical-align: top;\n",
       "    }\n",
       "\n",
       "    .dataframe thead th {\n",
       "        text-align: right;\n",
       "    }\n",
       "</style>\n",
       "<table border=\"1\" class=\"dataframe\">\n",
       "  <thead>\n",
       "    <tr style=\"text-align: right;\">\n",
       "      <th></th>\n",
       "      <th>city</th>\n",
       "      <th>count</th>\n",
       "      <th>ratio</th>\n",
       "    </tr>\n",
       "  </thead>\n",
       "  <tbody>\n",
       "    <tr>\n",
       "      <th>0</th>\n",
       "      <td>Пятигорск</td>\n",
       "      <td>219</td>\n",
       "      <td>14.0</td>\n",
       "    </tr>\n",
       "    <tr>\n",
       "      <th>1</th>\n",
       "      <td>Екатеринбург</td>\n",
       "      <td>204</td>\n",
       "      <td>13.0</td>\n",
       "    </tr>\n",
       "    <tr>\n",
       "      <th>2</th>\n",
       "      <td>Ростов-на-Дону</td>\n",
       "      <td>198</td>\n",
       "      <td>13.0</td>\n",
       "    </tr>\n",
       "    <tr>\n",
       "      <th>3</th>\n",
       "      <td>Краснодар</td>\n",
       "      <td>193</td>\n",
       "      <td>13.0</td>\n",
       "    </tr>\n",
       "    <tr>\n",
       "      <th>4</th>\n",
       "      <td>Сочи</td>\n",
       "      <td>189</td>\n",
       "      <td>12.0</td>\n",
       "    </tr>\n",
       "    <tr>\n",
       "      <th>5</th>\n",
       "      <td>Омск</td>\n",
       "      <td>183</td>\n",
       "      <td>12.0</td>\n",
       "    </tr>\n",
       "    <tr>\n",
       "      <th>6</th>\n",
       "      <td>Тюмень</td>\n",
       "      <td>180</td>\n",
       "      <td>12.0</td>\n",
       "    </tr>\n",
       "    <tr>\n",
       "      <th>7</th>\n",
       "      <td>Москва</td>\n",
       "      <td>168</td>\n",
       "      <td>11.0</td>\n",
       "    </tr>\n",
       "  </tbody>\n",
       "</table>\n",
       "</div>"
      ],
      "text/plain": [
       "             city  count  ratio\n",
       "0       Пятигорск    219   14.0\n",
       "1    Екатеринбург    204   13.0\n",
       "2  Ростов-на-Дону    198   13.0\n",
       "3       Краснодар    193   13.0\n",
       "4            Сочи    189   12.0\n",
       "5            Омск    183   12.0\n",
       "6          Тюмень    180   12.0\n",
       "7          Москва    168   11.0"
      ]
     },
     "execution_count": 23,
     "metadata": {},
     "output_type": "execute_result"
    }
   ],
   "source": [
    "# создаем сводную таблицу по городам\n",
    "count_by_city = users.groupby('city')['user_id'].agg('count').sort_values(ascending = False).reset_index()\n",
    "count_by_city.columns = ['city', 'count']\n",
    "count_by_city['ratio'] = round(count_by_city['count'] / count_by_city['count'].sum(), 2) * 100\n",
    "count_by_city"
   ]
  },
  {
   "cell_type": "code",
   "execution_count": 24,
   "id": "735976b7",
   "metadata": {},
   "outputs": [
    {
     "data": {
      "image/png": "[encoded data removed]",
      "text/plain": [
       "<Figure size 648x360 with 1 Axes>"
      ]
     },
     "metadata": {
      "needs_background": "light"
     },
     "output_type": "display_data"
    }
   ],
   "source": [
    "# создаем график, отображающий распределение пользователей по городам\n",
    "(count_by_city.sort_values(by='count', ascending=False)\n",
    "    .plot(kind='bar', figsize=(9, 5), x='city', y='count', title='Распределение пользователей по городам', \n",
    "          legend = False))\n",
    "plt.ylabel('Количество пользователей')\n",
    "plt.show()"
   ]
  },
  {
   "cell_type": "markdown",
   "id": "43772b8b",
   "metadata": {},
   "source": [
    "Больше всего пользователей в Пятигорске - 219 пользователей, что составляет 14% от общего числа пользователей. Меньше всего в Москве - 168 пользователей. "
   ]
  },
  {
   "cell_type": "markdown",
   "id": "dcfb5d6e",
   "metadata": {},
   "source": [
    "**Соотношение пользователей с подпиской и без подписки**"
   ]
  },
  {
   "cell_type": "markdown",
   "id": "ae5e6def",
   "metadata": {},
   "source": [
    "Создадим сводную таблицу по соотношению пользователей с подпиской и без подписки."
   ]
  },
  {
   "cell_type": "code",
   "execution_count": 25,
   "id": "fed65a45",
   "metadata": {},
   "outputs": [
    {
     "data": {
      "text/html": [
       "<div>\n",
       "<style scoped>\n",
       "    .dataframe tbody tr th:only-of-type {\n",
       "        vertical-align: middle;\n",
       "    }\n",
       "\n",
       "    .dataframe tbody tr th {\n",
       "        vertical-align: top;\n",
       "    }\n",
       "\n",
       "    .dataframe thead th {\n",
       "        text-align: right;\n",
       "    }\n",
       "</style>\n",
       "<table border=\"1\" class=\"dataframe\">\n",
       "  <thead>\n",
       "    <tr style=\"text-align: right;\">\n",
       "      <th></th>\n",
       "      <th>subscription_type</th>\n",
       "      <th>count</th>\n",
       "      <th>ratio</th>\n",
       "    </tr>\n",
       "  </thead>\n",
       "  <tbody>\n",
       "    <tr>\n",
       "      <th>0</th>\n",
       "      <td>free</td>\n",
       "      <td>835</td>\n",
       "      <td>54.0</td>\n",
       "    </tr>\n",
       "    <tr>\n",
       "      <th>1</th>\n",
       "      <td>ultra</td>\n",
       "      <td>699</td>\n",
       "      <td>46.0</td>\n",
       "    </tr>\n",
       "  </tbody>\n",
       "</table>\n",
       "</div>"
      ],
      "text/plain": [
       "  subscription_type  count  ratio\n",
       "0              free    835   54.0\n",
       "1             ultra    699   46.0"
      ]
     },
     "execution_count": 25,
     "metadata": {},
     "output_type": "execute_result"
    }
   ],
   "source": [
    "# создаем сводную таблицу по пользователям с подпиской и без\n",
    "count_subscription_type = users['subscription_type'].value_counts().sort_values(ascending = False).reset_index()\n",
    "count_subscription_type.columns = ['subscription_type', 'count']\n",
    "count_subscription_type['ratio'] = round(count_subscription_type['count'] / count_subscription_type['count'].sum(), 2) * 100\n",
    "count_subscription_type"
   ]
  },
  {
   "cell_type": "code",
   "execution_count": 26,
   "id": "5aa93198",
   "metadata": {},
   "outputs": [
    {
     "data": {
      "image/png": "[encoded data removed]",
      "text/plain": [
       "<Figure size 648x360 with 1 Axes>"
      ]
     },
     "metadata": {
      "needs_background": "light"
     },
     "output_type": "display_data"
    }
   ],
   "source": [
    "# создаем график, отображающий распределение пользователей с подпиской и без\n",
    "(count_subscription_type.sort_values(by='count', ascending=False)\n",
    "    .plot(kind='bar', figsize=(9, 5), x='subscription_type', y='count', \n",
    "          title='Соотношение пользователей с подпиской и без подписки', \n",
    "          legend = False))\n",
    "plt.ylabel('Количество пользователей')\n",
    "plt.show()"
   ]
  },
  {
   "cell_type": "markdown",
   "id": "af18171a",
   "metadata": {},
   "source": [
    "Больше пользователей без подписки - 54% против 46%."
   ]
  },
  {
   "cell_type": "markdown",
   "id": "796c1e0e",
   "metadata": {},
   "source": [
    "**Возраст пользователей**"
   ]
  },
  {
   "cell_type": "markdown",
   "id": "c23eba2f",
   "metadata": {},
   "source": [
    "Построим график, отображающий распределение пользователей по возрасту."
   ]
  },
  {
   "cell_type": "code",
   "execution_count": 27,
   "id": "b35ef30d",
   "metadata": {},
   "outputs": [
    {
     "data": {
      "image/png": "[encoded data removed]",
      "text/plain": [
       "<Figure size 720x432 with 1 Axes>"
      ]
     },
     "metadata": {
      "needs_background": "light"
     },
     "output_type": "display_data"
    }
   ],
   "source": [
    "users.plot(kind='hist', y='age', title='Распределение пользователей по возрасту', \n",
    "              bins=10, range = (0, 50), figsize=(10,6), grid=True)\n",
    "\n",
    "plt.xlabel('Возраст')\n",
    "plt.ylabel('Количество пользователей')\n",
    "plt.show()"
   ]
  },
  {
   "cell_type": "markdown",
   "id": "3ef51388",
   "metadata": {},
   "source": [
    "Чаще всего самокатами пользуются в возрасте от 20 до 30 лет."
   ]
  },
  {
   "cell_type": "markdown",
   "id": "19ac5732",
   "metadata": {},
   "source": [
    "**Расстояние, которое пользователь преодолел за одну поездку**"
   ]
  },
  {
   "cell_type": "code",
   "execution_count": 28,
   "id": "a99bb933",
   "metadata": {},
   "outputs": [
    {
     "data": {
      "text/plain": [
       "count    17973.000000\n",
       "mean      3059.863833\n",
       "std       1108.814612\n",
       "min          0.855683\n",
       "25%       2538.839628\n",
       "50%       3129.029255\n",
       "75%       3762.636244\n",
       "max       7066.003772\n",
       "Name: distance, dtype: float64"
      ]
     },
     "execution_count": 28,
     "metadata": {},
     "output_type": "execute_result"
    }
   ],
   "source": [
    "riders['distance'].describe()"
   ]
  },
  {
   "cell_type": "markdown",
   "id": "d4b48c90",
   "metadata": {},
   "source": [
    "Минимальное расстояние за одну сессию составляет 0.86 метров. Максимальное - 7066 метров."
   ]
  },
  {
   "cell_type": "markdown",
   "id": "36ac304d",
   "metadata": {},
   "source": [
    "Построим график, отображающий распределение преодоленных за сессию расстояний."
   ]
  },
  {
   "cell_type": "code",
   "execution_count": 29,
   "id": "ad47674f",
   "metadata": {},
   "outputs": [
    {
     "data": {
      "image/png": "[encoded data removed]",
      "text/plain": [
       "<Figure size 720x432 with 1 Axes>"
      ]
     },
     "metadata": {
      "needs_background": "light"
     },
     "output_type": "display_data"
    }
   ],
   "source": [
    "riders.plot(kind='hist', y='distance', title='Распределение сессий по расстоянию', \n",
    "              bins=20, range = (0, 8000), figsize=(10,6), grid=True)\n",
    "\n",
    "plt.xlabel('Расстояние в метрах')\n",
    "plt.ylabel('Количество сессий')\n",
    "plt.show()"
   ]
  },
  {
   "cell_type": "markdown",
   "id": "d2d2bc00",
   "metadata": {},
   "source": [
    "Чаще всего расстояния составляют от 2500 до 3500 метров."
   ]
  },
  {
   "cell_type": "markdown",
   "id": "03001f05",
   "metadata": {},
   "source": [
    "**Продолжительность поездок**"
   ]
  },
  {
   "cell_type": "code",
   "execution_count": 30,
   "id": "6601e2cb",
   "metadata": {},
   "outputs": [
    {
     "data": {
      "text/plain": [
       "count    17973.000000\n",
       "mean        17.896480\n",
       "std          5.975424\n",
       "min          2.035632\n",
       "25%         13.670439\n",
       "50%         17.714122\n",
       "75%         21.747016\n",
       "max         40.823963\n",
       "Name: duration, dtype: float64"
      ]
     },
     "execution_count": 30,
     "metadata": {},
     "output_type": "execute_result"
    }
   ],
   "source": [
    "riders['duration'].describe()"
   ]
  },
  {
   "cell_type": "markdown",
   "id": "f51bd64b",
   "metadata": {},
   "source": [
    "Построим график по продолжительности сессий."
   ]
  },
  {
   "cell_type": "code",
   "execution_count": 31,
   "id": "acc45e4a",
   "metadata": {},
   "outputs": [
    {
     "data": {
      "image/png": "[encoded data removed]",
      "text/plain": [
       "<Figure size 720x432 with 1 Axes>"
      ]
     },
     "metadata": {
      "needs_background": "light"
     },
     "output_type": "display_data"
    }
   ],
   "source": [
    "riders.plot(kind='hist', y='duration', title='Распределение сессий по продолжительности', \n",
    "              bins=20, range = (0, 50), figsize=(10,6), grid=True)\n",
    "\n",
    "plt.xlabel('Продолжительность в минутах')\n",
    "plt.ylabel('Количество сессий')\n",
    "plt.show()"
   ]
  },
  {
   "cell_type": "markdown",
   "id": "c7ac5c5c",
   "metadata": {},
   "source": [
    "Чаще всего поездка длится от 10 до 25 минут. "
   ]
  },
  {
   "cell_type": "markdown",
   "id": "ec2a5509",
   "metadata": {},
   "source": [
    "**Вывод:**"
   ]
  },
  {
   "cell_type": "markdown",
   "id": "5296f6a9",
   "metadata": {},
   "source": [
    "Количество пользователей по городам распределены примерно одинаково в пределах 11-14%. При этом наибольшее количество приходится на Пятигорск - 219 пользователей, а наименьшее в Москве - 168. Возможно это связано с тем, что в Москве выше конкуренция. \n",
    "\n",
    "Чаще пользователи пользуются приложением без подписки: 54 % против 46%.\n",
    "\n",
    "Чаще всего самокатами пользуются люди в возрасте от 20 до 30 лет.\n",
    "\n",
    "Одна поездка в среднем составляет примерно 3000 метров и длится от 10 до 25 минут."
   ]
  },
  {
   "cell_type": "markdown",
   "id": "4ef51331",
   "metadata": {},
   "source": [
    "#### Шаг 4. Объединение данных"
   ]
  },
  {
   "cell_type": "markdown",
   "id": "664199e9",
   "metadata": {},
   "source": [
    "Объединим таблицы."
   ]
  },
  {
   "cell_type": "code",
   "execution_count": 32,
   "id": "4a27ca28",
   "metadata": {},
   "outputs": [],
   "source": [
    "merge_data = users.merge(riders)\n",
    "merge_data = merge_data.merge(subscriptions)"
   ]
  },
  {
   "cell_type": "code",
   "execution_count": 33,
   "id": "635c3599",
   "metadata": {},
   "outputs": [
    {
     "name": "stdout",
     "output_type": "stream",
     "text": [
      "<class 'pandas.core.frame.DataFrame'>\n",
      "Int64Index: 17973 entries, 0 to 17972\n",
      "Data columns (total 12 columns):\n",
      " #   Column             Non-Null Count  Dtype         \n",
      "---  ------             --------------  -----         \n",
      " 0   user_id            17973 non-null  int64         \n",
      " 1   name               17973 non-null  object        \n",
      " 2   age                17973 non-null  int64         \n",
      " 3   city               17973 non-null  object        \n",
      " 4   subscription_type  17973 non-null  object        \n",
      " 5   distance           17973 non-null  float64       \n",
      " 6   duration           17973 non-null  float64       \n",
      " 7   date               17973 non-null  datetime64[ns]\n",
      " 8   month              17973 non-null  int64         \n",
      " 9   minute_price       17973 non-null  int64         \n",
      " 10  start_ride_price   17973 non-null  int64         \n",
      " 11  subscription_fee   17973 non-null  int64         \n",
      "dtypes: datetime64[ns](1), float64(2), int64(6), object(3)\n",
      "memory usage: 1.8+ MB\n"
     ]
    }
   ],
   "source": [
    "merge_data.info()"
   ]
  },
  {
   "cell_type": "markdown",
   "id": "fc00d57e",
   "metadata": {},
   "source": [
    "В результате объединения получился датафрейм с 17973 строками, что соответствует количеству строк в таблице users."
   ]
  },
  {
   "cell_type": "markdown",
   "id": "f1fbc671",
   "metadata": {},
   "source": [
    "Создадим датафреймы с данными о пользователях с подпиской и без."
   ]
  },
  {
   "cell_type": "code",
   "execution_count": 34,
   "id": "b0991108",
   "metadata": {},
   "outputs": [
    {
     "data": {
      "text/html": [
       "<div>\n",
       "<style scoped>\n",
       "    .dataframe tbody tr th:only-of-type {\n",
       "        vertical-align: middle;\n",
       "    }\n",
       "\n",
       "    .dataframe tbody tr th {\n",
       "        vertical-align: top;\n",
       "    }\n",
       "\n",
       "    .dataframe thead th {\n",
       "        text-align: right;\n",
       "    }\n",
       "</style>\n",
       "<table border=\"1\" class=\"dataframe\">\n",
       "  <thead>\n",
       "    <tr style=\"text-align: right;\">\n",
       "      <th></th>\n",
       "      <th>user_id</th>\n",
       "      <th>name</th>\n",
       "      <th>age</th>\n",
       "      <th>city</th>\n",
       "      <th>subscription_type</th>\n",
       "      <th>distance</th>\n",
       "      <th>duration</th>\n",
       "      <th>date</th>\n",
       "      <th>month</th>\n",
       "      <th>minute_price</th>\n",
       "      <th>start_ride_price</th>\n",
       "      <th>subscription_fee</th>\n",
       "    </tr>\n",
       "  </thead>\n",
       "  <tbody>\n",
       "    <tr>\n",
       "      <th>0</th>\n",
       "      <td>1</td>\n",
       "      <td>Кира</td>\n",
       "      <td>22</td>\n",
       "      <td>Тюмень</td>\n",
       "      <td>ultra</td>\n",
       "      <td>4409.919140</td>\n",
       "      <td>25.599769</td>\n",
       "      <td>2021-01-01</td>\n",
       "      <td>1</td>\n",
       "      <td>6</td>\n",
       "      <td>0</td>\n",
       "      <td>199</td>\n",
       "    </tr>\n",
       "    <tr>\n",
       "      <th>1</th>\n",
       "      <td>1</td>\n",
       "      <td>Кира</td>\n",
       "      <td>22</td>\n",
       "      <td>Тюмень</td>\n",
       "      <td>ultra</td>\n",
       "      <td>2617.592153</td>\n",
       "      <td>15.816871</td>\n",
       "      <td>2021-01-18</td>\n",
       "      <td>1</td>\n",
       "      <td>6</td>\n",
       "      <td>0</td>\n",
       "      <td>199</td>\n",
       "    </tr>\n",
       "    <tr>\n",
       "      <th>2</th>\n",
       "      <td>1</td>\n",
       "      <td>Кира</td>\n",
       "      <td>22</td>\n",
       "      <td>Тюмень</td>\n",
       "      <td>ultra</td>\n",
       "      <td>754.159807</td>\n",
       "      <td>6.232113</td>\n",
       "      <td>2021-04-20</td>\n",
       "      <td>4</td>\n",
       "      <td>6</td>\n",
       "      <td>0</td>\n",
       "      <td>199</td>\n",
       "    </tr>\n",
       "    <tr>\n",
       "      <th>3</th>\n",
       "      <td>1</td>\n",
       "      <td>Кира</td>\n",
       "      <td>22</td>\n",
       "      <td>Тюмень</td>\n",
       "      <td>ultra</td>\n",
       "      <td>2694.783254</td>\n",
       "      <td>18.511000</td>\n",
       "      <td>2021-08-11</td>\n",
       "      <td>8</td>\n",
       "      <td>6</td>\n",
       "      <td>0</td>\n",
       "      <td>199</td>\n",
       "    </tr>\n",
       "    <tr>\n",
       "      <th>4</th>\n",
       "      <td>1</td>\n",
       "      <td>Кира</td>\n",
       "      <td>22</td>\n",
       "      <td>Тюмень</td>\n",
       "      <td>ultra</td>\n",
       "      <td>4028.687306</td>\n",
       "      <td>26.265803</td>\n",
       "      <td>2021-08-28</td>\n",
       "      <td>8</td>\n",
       "      <td>6</td>\n",
       "      <td>0</td>\n",
       "      <td>199</td>\n",
       "    </tr>\n",
       "    <tr>\n",
       "      <th>...</th>\n",
       "      <td>...</td>\n",
       "      <td>...</td>\n",
       "      <td>...</td>\n",
       "      <td>...</td>\n",
       "      <td>...</td>\n",
       "      <td>...</td>\n",
       "      <td>...</td>\n",
       "      <td>...</td>\n",
       "      <td>...</td>\n",
       "      <td>...</td>\n",
       "      <td>...</td>\n",
       "      <td>...</td>\n",
       "    </tr>\n",
       "    <tr>\n",
       "      <th>6495</th>\n",
       "      <td>699</td>\n",
       "      <td>Оксана</td>\n",
       "      <td>22</td>\n",
       "      <td>Москва</td>\n",
       "      <td>ultra</td>\n",
       "      <td>3973.046497</td>\n",
       "      <td>24.671163</td>\n",
       "      <td>2021-08-29</td>\n",
       "      <td>8</td>\n",
       "      <td>6</td>\n",
       "      <td>0</td>\n",
       "      <td>199</td>\n",
       "    </tr>\n",
       "    <tr>\n",
       "      <th>6496</th>\n",
       "      <td>699</td>\n",
       "      <td>Оксана</td>\n",
       "      <td>22</td>\n",
       "      <td>Москва</td>\n",
       "      <td>ultra</td>\n",
       "      <td>3288.702563</td>\n",
       "      <td>15.892886</td>\n",
       "      <td>2021-09-12</td>\n",
       "      <td>9</td>\n",
       "      <td>6</td>\n",
       "      <td>0</td>\n",
       "      <td>199</td>\n",
       "    </tr>\n",
       "    <tr>\n",
       "      <th>6497</th>\n",
       "      <td>699</td>\n",
       "      <td>Оксана</td>\n",
       "      <td>22</td>\n",
       "      <td>Москва</td>\n",
       "      <td>ultra</td>\n",
       "      <td>3076.159348</td>\n",
       "      <td>14.389525</td>\n",
       "      <td>2021-09-26</td>\n",
       "      <td>9</td>\n",
       "      <td>6</td>\n",
       "      <td>0</td>\n",
       "      <td>199</td>\n",
       "    </tr>\n",
       "    <tr>\n",
       "      <th>6498</th>\n",
       "      <td>699</td>\n",
       "      <td>Оксана</td>\n",
       "      <td>22</td>\n",
       "      <td>Москва</td>\n",
       "      <td>ultra</td>\n",
       "      <td>4707.845501</td>\n",
       "      <td>15.839579</td>\n",
       "      <td>2021-10-17</td>\n",
       "      <td>10</td>\n",
       "      <td>6</td>\n",
       "      <td>0</td>\n",
       "      <td>199</td>\n",
       "    </tr>\n",
       "    <tr>\n",
       "      <th>6499</th>\n",
       "      <td>699</td>\n",
       "      <td>Оксана</td>\n",
       "      <td>22</td>\n",
       "      <td>Москва</td>\n",
       "      <td>ultra</td>\n",
       "      <td>3202.890770</td>\n",
       "      <td>25.217345</td>\n",
       "      <td>2021-12-03</td>\n",
       "      <td>12</td>\n",
       "      <td>6</td>\n",
       "      <td>0</td>\n",
       "      <td>199</td>\n",
       "    </tr>\n",
       "  </tbody>\n",
       "</table>\n",
       "<p>6500 rows × 12 columns</p>\n",
       "</div>"
      ],
      "text/plain": [
       "      user_id    name  age    city subscription_type     distance   duration  \\\n",
       "0           1    Кира   22  Тюмень             ultra  4409.919140  25.599769   \n",
       "1           1    Кира   22  Тюмень             ultra  2617.592153  15.816871   \n",
       "2           1    Кира   22  Тюмень             ultra   754.159807   6.232113   \n",
       "3           1    Кира   22  Тюмень             ultra  2694.783254  18.511000   \n",
       "4           1    Кира   22  Тюмень             ultra  4028.687306  26.265803   \n",
       "...       ...     ...  ...     ...               ...          ...        ...   \n",
       "6495      699  Оксана   22  Москва             ultra  3973.046497  24.671163   \n",
       "6496      699  Оксана   22  Москва             ultra  3288.702563  15.892886   \n",
       "6497      699  Оксана   22  Москва             ultra  3076.159348  14.389525   \n",
       "6498      699  Оксана   22  Москва             ultra  4707.845501  15.839579   \n",
       "6499      699  Оксана   22  Москва             ultra  3202.890770  25.217345   \n",
       "\n",
       "           date  month  minute_price  start_ride_price  subscription_fee  \n",
       "0    2021-01-01      1             6                 0               199  \n",
       "1    2021-01-18      1             6                 0               199  \n",
       "2    2021-04-20      4             6                 0               199  \n",
       "3    2021-08-11      8             6                 0               199  \n",
       "4    2021-08-28      8             6                 0               199  \n",
       "...         ...    ...           ...               ...               ...  \n",
       "6495 2021-08-29      8             6                 0               199  \n",
       "6496 2021-09-12      9             6                 0               199  \n",
       "6497 2021-09-26      9             6                 0               199  \n",
       "6498 2021-10-17     10             6                 0               199  \n",
       "6499 2021-12-03     12             6                 0               199  \n",
       "\n",
       "[6500 rows x 12 columns]"
      ]
     },
     "execution_count": 34,
     "metadata": {},
     "output_type": "execute_result"
    }
   ],
   "source": [
    "# создаем датафрейм с пользователями с подпиской\n",
    "ultra_subscriptions = merge_data.query(\"subscription_type == 'ultra'\")\n",
    "ultra_subscriptions"
   ]
  },
  {
   "cell_type": "code",
   "execution_count": 35,
   "id": "b6190a35",
   "metadata": {},
   "outputs": [
    {
     "data": {
      "text/html": [
       "<div>\n",
       "<style scoped>\n",
       "    .dataframe tbody tr th:only-of-type {\n",
       "        vertical-align: middle;\n",
       "    }\n",
       "\n",
       "    .dataframe tbody tr th {\n",
       "        vertical-align: top;\n",
       "    }\n",
       "\n",
       "    .dataframe thead th {\n",
       "        text-align: right;\n",
       "    }\n",
       "</style>\n",
       "<table border=\"1\" class=\"dataframe\">\n",
       "  <thead>\n",
       "    <tr style=\"text-align: right;\">\n",
       "      <th></th>\n",
       "      <th>user_id</th>\n",
       "      <th>name</th>\n",
       "      <th>age</th>\n",
       "      <th>city</th>\n",
       "      <th>subscription_type</th>\n",
       "      <th>distance</th>\n",
       "      <th>duration</th>\n",
       "      <th>date</th>\n",
       "      <th>month</th>\n",
       "      <th>minute_price</th>\n",
       "      <th>start_ride_price</th>\n",
       "      <th>subscription_fee</th>\n",
       "    </tr>\n",
       "  </thead>\n",
       "  <tbody>\n",
       "    <tr>\n",
       "      <th>6500</th>\n",
       "      <td>700</td>\n",
       "      <td>Айдар</td>\n",
       "      <td>22</td>\n",
       "      <td>Омск</td>\n",
       "      <td>free</td>\n",
       "      <td>2515.690719</td>\n",
       "      <td>14.944286</td>\n",
       "      <td>2021-01-02</td>\n",
       "      <td>1</td>\n",
       "      <td>8</td>\n",
       "      <td>50</td>\n",
       "      <td>0</td>\n",
       "    </tr>\n",
       "    <tr>\n",
       "      <th>6501</th>\n",
       "      <td>700</td>\n",
       "      <td>Айдар</td>\n",
       "      <td>22</td>\n",
       "      <td>Омск</td>\n",
       "      <td>free</td>\n",
       "      <td>846.932642</td>\n",
       "      <td>16.234663</td>\n",
       "      <td>2021-02-01</td>\n",
       "      <td>2</td>\n",
       "      <td>8</td>\n",
       "      <td>50</td>\n",
       "      <td>0</td>\n",
       "    </tr>\n",
       "    <tr>\n",
       "      <th>6502</th>\n",
       "      <td>700</td>\n",
       "      <td>Айдар</td>\n",
       "      <td>22</td>\n",
       "      <td>Омск</td>\n",
       "      <td>free</td>\n",
       "      <td>4004.434142</td>\n",
       "      <td>20.016628</td>\n",
       "      <td>2021-02-04</td>\n",
       "      <td>2</td>\n",
       "      <td>8</td>\n",
       "      <td>50</td>\n",
       "      <td>0</td>\n",
       "    </tr>\n",
       "    <tr>\n",
       "      <th>6503</th>\n",
       "      <td>700</td>\n",
       "      <td>Айдар</td>\n",
       "      <td>22</td>\n",
       "      <td>Омск</td>\n",
       "      <td>free</td>\n",
       "      <td>1205.911290</td>\n",
       "      <td>9.782872</td>\n",
       "      <td>2021-02-10</td>\n",
       "      <td>2</td>\n",
       "      <td>8</td>\n",
       "      <td>50</td>\n",
       "      <td>0</td>\n",
       "    </tr>\n",
       "    <tr>\n",
       "      <th>6504</th>\n",
       "      <td>700</td>\n",
       "      <td>Айдар</td>\n",
       "      <td>22</td>\n",
       "      <td>Омск</td>\n",
       "      <td>free</td>\n",
       "      <td>3047.379435</td>\n",
       "      <td>17.427673</td>\n",
       "      <td>2021-02-14</td>\n",
       "      <td>2</td>\n",
       "      <td>8</td>\n",
       "      <td>50</td>\n",
       "      <td>0</td>\n",
       "    </tr>\n",
       "    <tr>\n",
       "      <th>...</th>\n",
       "      <td>...</td>\n",
       "      <td>...</td>\n",
       "      <td>...</td>\n",
       "      <td>...</td>\n",
       "      <td>...</td>\n",
       "      <td>...</td>\n",
       "      <td>...</td>\n",
       "      <td>...</td>\n",
       "      <td>...</td>\n",
       "      <td>...</td>\n",
       "      <td>...</td>\n",
       "      <td>...</td>\n",
       "    </tr>\n",
       "    <tr>\n",
       "      <th>17968</th>\n",
       "      <td>1534</td>\n",
       "      <td>Альберт</td>\n",
       "      <td>25</td>\n",
       "      <td>Краснодар</td>\n",
       "      <td>free</td>\n",
       "      <td>3781.098080</td>\n",
       "      <td>19.822962</td>\n",
       "      <td>2021-11-04</td>\n",
       "      <td>11</td>\n",
       "      <td>8</td>\n",
       "      <td>50</td>\n",
       "      <td>0</td>\n",
       "    </tr>\n",
       "    <tr>\n",
       "      <th>17969</th>\n",
       "      <td>1534</td>\n",
       "      <td>Альберт</td>\n",
       "      <td>25</td>\n",
       "      <td>Краснодар</td>\n",
       "      <td>free</td>\n",
       "      <td>2840.423057</td>\n",
       "      <td>21.409799</td>\n",
       "      <td>2021-11-16</td>\n",
       "      <td>11</td>\n",
       "      <td>8</td>\n",
       "      <td>50</td>\n",
       "      <td>0</td>\n",
       "    </tr>\n",
       "    <tr>\n",
       "      <th>17970</th>\n",
       "      <td>1534</td>\n",
       "      <td>Альберт</td>\n",
       "      <td>25</td>\n",
       "      <td>Краснодар</td>\n",
       "      <td>free</td>\n",
       "      <td>3826.185507</td>\n",
       "      <td>18.435051</td>\n",
       "      <td>2021-11-18</td>\n",
       "      <td>11</td>\n",
       "      <td>8</td>\n",
       "      <td>50</td>\n",
       "      <td>0</td>\n",
       "    </tr>\n",
       "    <tr>\n",
       "      <th>17971</th>\n",
       "      <td>1534</td>\n",
       "      <td>Альберт</td>\n",
       "      <td>25</td>\n",
       "      <td>Краснодар</td>\n",
       "      <td>free</td>\n",
       "      <td>2902.308661</td>\n",
       "      <td>16.674362</td>\n",
       "      <td>2021-11-27</td>\n",
       "      <td>11</td>\n",
       "      <td>8</td>\n",
       "      <td>50</td>\n",
       "      <td>0</td>\n",
       "    </tr>\n",
       "    <tr>\n",
       "      <th>17972</th>\n",
       "      <td>1534</td>\n",
       "      <td>Альберт</td>\n",
       "      <td>25</td>\n",
       "      <td>Краснодар</td>\n",
       "      <td>free</td>\n",
       "      <td>2371.711192</td>\n",
       "      <td>15.893917</td>\n",
       "      <td>2021-12-29</td>\n",
       "      <td>12</td>\n",
       "      <td>8</td>\n",
       "      <td>50</td>\n",
       "      <td>0</td>\n",
       "    </tr>\n",
       "  </tbody>\n",
       "</table>\n",
       "<p>11473 rows × 12 columns</p>\n",
       "</div>"
      ],
      "text/plain": [
       "       user_id     name  age       city subscription_type     distance  \\\n",
       "6500       700    Айдар   22       Омск              free  2515.690719   \n",
       "6501       700    Айдар   22       Омск              free   846.932642   \n",
       "6502       700    Айдар   22       Омск              free  4004.434142   \n",
       "6503       700    Айдар   22       Омск              free  1205.911290   \n",
       "6504       700    Айдар   22       Омск              free  3047.379435   \n",
       "...        ...      ...  ...        ...               ...          ...   \n",
       "17968     1534  Альберт   25  Краснодар              free  3781.098080   \n",
       "17969     1534  Альберт   25  Краснодар              free  2840.423057   \n",
       "17970     1534  Альберт   25  Краснодар              free  3826.185507   \n",
       "17971     1534  Альберт   25  Краснодар              free  2902.308661   \n",
       "17972     1534  Альберт   25  Краснодар              free  2371.711192   \n",
       "\n",
       "        duration       date  month  minute_price  start_ride_price  \\\n",
       "6500   14.944286 2021-01-02      1             8                50   \n",
       "6501   16.234663 2021-02-01      2             8                50   \n",
       "6502   20.016628 2021-02-04      2             8                50   \n",
       "6503    9.782872 2021-02-10      2             8                50   \n",
       "6504   17.427673 2021-02-14      2             8                50   \n",
       "...          ...        ...    ...           ...               ...   \n",
       "17968  19.822962 2021-11-04     11             8                50   \n",
       "17969  21.409799 2021-11-16     11             8                50   \n",
       "17970  18.435051 2021-11-18     11             8                50   \n",
       "17971  16.674362 2021-11-27     11             8                50   \n",
       "17972  15.893917 2021-12-29     12             8                50   \n",
       "\n",
       "       subscription_fee  \n",
       "6500                  0  \n",
       "6501                  0  \n",
       "6502                  0  \n",
       "6503                  0  \n",
       "6504                  0  \n",
       "...                 ...  \n",
       "17968                 0  \n",
       "17969                 0  \n",
       "17970                 0  \n",
       "17971                 0  \n",
       "17972                 0  \n",
       "\n",
       "[11473 rows x 12 columns]"
      ]
     },
     "execution_count": 35,
     "metadata": {},
     "output_type": "execute_result"
    }
   ],
   "source": [
    "# создаем датафрейм с пользователями без подписки\n",
    "free_subscriptions = merge_data.query(\"subscription_type == 'free'\")\n",
    "free_subscriptions"
   ]
  },
  {
   "cell_type": "markdown",
   "id": "37d03933",
   "metadata": {},
   "source": [
    "Визуализируем данные о расстоянии поездок в этих двух датафреймах."
   ]
  },
  {
   "cell_type": "code",
   "execution_count": 36,
   "id": "3696d5b9",
   "metadata": {},
   "outputs": [
    {
     "data": {
      "image/png": "[encoded data removed]",
      "text/plain": [
       "<Figure size 720x432 with 1 Axes>"
      ]
     },
     "metadata": {
      "needs_background": "light"
     },
     "output_type": "display_data"
    }
   ],
   "source": [
    "# график для пользователей с подпиской\n",
    "ultra_subscriptions.plot(kind='hist', y='distance', \n",
    "                         title='Распределение сессий по расстоянию среди пользователей с подпиской', \n",
    "                         bins=20, range = (0, 8000), figsize=(10,6), grid=True)\n",
    "\n",
    "plt.xlabel('Расстояние в метрах')\n",
    "plt.ylabel('Количество сессий')\n",
    "plt.show()"
   ]
  },
  {
   "cell_type": "code",
   "execution_count": 37,
   "id": "866bd570",
   "metadata": {},
   "outputs": [
    {
     "data": {
      "image/png": "[encoded data removed]",
      "text/plain": [
       "<Figure size 720x432 with 1 Axes>"
      ]
     },
     "metadata": {
      "needs_background": "light"
     },
     "output_type": "display_data"
    }
   ],
   "source": [
    "# график для пользователей без подписки\n",
    "free_subscriptions.plot(kind='hist', y='distance', \n",
    "                        title='Распределение сессий по расстоянию среди пользователей без подписки', \n",
    "                        bins=20, range = (0, 8000), figsize=(10,6), grid=True)\n",
    "\n",
    "plt.xlabel('Расстояние в метрах')\n",
    "plt.ylabel('Количество сессий')\n",
    "plt.show()"
   ]
  },
  {
   "cell_type": "markdown",
   "id": "863457b2",
   "metadata": {},
   "source": [
    "Пользователи с подпиской совершают более короткие поездки, пик приходится на 3000 метров. Для пользователей без подписки преодоленные расстояния имеют большую вариантивность. Можно предположить, что это связано с тем, что подписку оформляют в случаях, когда поездки регулярны, например ежедневные поездки до работы. А поездки без подписки более ситуативны, например прогулки."
   ]
  },
  {
   "cell_type": "markdown",
   "id": "45733fe6",
   "metadata": {},
   "source": [
    "Визуализируем данные о продолжительности поездок в этих двух датафреймах."
   ]
  },
  {
   "cell_type": "code",
   "execution_count": 38,
   "id": "006ddbb1",
   "metadata": {},
   "outputs": [
    {
     "data": {
      "image/png": "[encoded data removed]",
      "text/plain": [
       "<Figure size 720x432 with 1 Axes>"
      ]
     },
     "metadata": {
      "needs_background": "light"
     },
     "output_type": "display_data"
    }
   ],
   "source": [
    "# график для пользователей с подпиской\n",
    "ultra_subscriptions.plot(kind='hist', y='duration', \n",
    "                         title='Распределение сессий по продолжительности среди пользователей с подпиской', \n",
    "                         bins=20, range = (0, 50), figsize=(10,6), grid=True)\n",
    "\n",
    "plt.xlabel('Продолжительность в минутах')\n",
    "plt.ylabel('Количество сессий')\n",
    "plt.show()"
   ]
  },
  {
   "cell_type": "code",
   "execution_count": 39,
   "id": "5c84686b",
   "metadata": {},
   "outputs": [
    {
     "data": {
      "image/png": "[encoded data removed]",
      "text/plain": [
       "<Figure size 720x432 with 1 Axes>"
      ]
     },
     "metadata": {
      "needs_background": "light"
     },
     "output_type": "display_data"
    }
   ],
   "source": [
    "# график для пользователей без подписки\n",
    "free_subscriptions.plot(kind='hist', y='duration', \n",
    "                        title='Распределение сессий по продолжительности среди пользователей без подписки', \n",
    "                        bins=20, range = (0, 50), figsize=(10,6), grid=True)\n",
    "\n",
    "plt.xlabel('Продолжительность в минутах')\n",
    "plt.ylabel('Количество сессий')\n",
    "plt.show()"
   ]
  },
  {
   "cell_type": "markdown",
   "id": "83d2d101",
   "metadata": {},
   "source": [
    "В обоих случаях чаще всего продолжительность поездок составляет 15-20 минут."
   ]
  },
  {
   "cell_type": "markdown",
   "id": "402d620f",
   "metadata": {},
   "source": [
    "#### Шаг 5. Подсчёт выручки"
   ]
  },
  {
   "cell_type": "markdown",
   "id": "11ffabe3",
   "metadata": {},
   "source": [
    "Создадим датафрейм с агрегированными данными о поездках на основе датафрейма с объединёнными данными из шага 4: найдем суммарное расстояние, количество поездок и суммарное время для каждого пользователя за каждый месяц."
   ]
  },
  {
   "cell_type": "code",
   "execution_count": 40,
   "id": "5f84c2e4",
   "metadata": {},
   "outputs": [
    {
     "data": {
      "text/html": [
       "<div>\n",
       "<style scoped>\n",
       "    .dataframe tbody tr th:only-of-type {\n",
       "        vertical-align: middle;\n",
       "    }\n",
       "\n",
       "    .dataframe tbody tr th {\n",
       "        vertical-align: top;\n",
       "    }\n",
       "\n",
       "    .dataframe thead th {\n",
       "        text-align: right;\n",
       "    }\n",
       "</style>\n",
       "<table border=\"1\" class=\"dataframe\">\n",
       "  <thead>\n",
       "    <tr style=\"text-align: right;\">\n",
       "      <th></th>\n",
       "      <th></th>\n",
       "      <th>distance</th>\n",
       "      <th>duration</th>\n",
       "      <th>count_trips</th>\n",
       "      <th>subscription_type</th>\n",
       "    </tr>\n",
       "    <tr>\n",
       "      <th>month</th>\n",
       "      <th>user_id</th>\n",
       "      <th></th>\n",
       "      <th></th>\n",
       "      <th></th>\n",
       "      <th></th>\n",
       "    </tr>\n",
       "  </thead>\n",
       "  <tbody>\n",
       "    <tr>\n",
       "      <th rowspan=\"5\" valign=\"top\">1</th>\n",
       "      <th>1</th>\n",
       "      <td>7027.511294</td>\n",
       "      <td>42.0</td>\n",
       "      <td>2</td>\n",
       "      <td>ultra</td>\n",
       "    </tr>\n",
       "    <tr>\n",
       "      <th>3</th>\n",
       "      <td>3061.777147</td>\n",
       "      <td>13.0</td>\n",
       "      <td>1</td>\n",
       "      <td>ultra</td>\n",
       "    </tr>\n",
       "    <tr>\n",
       "      <th>5</th>\n",
       "      <td>3914.646990</td>\n",
       "      <td>13.0</td>\n",
       "      <td>1</td>\n",
       "      <td>ultra</td>\n",
       "    </tr>\n",
       "    <tr>\n",
       "      <th>7</th>\n",
       "      <td>6478.080979</td>\n",
       "      <td>28.0</td>\n",
       "      <td>2</td>\n",
       "      <td>ultra</td>\n",
       "    </tr>\n",
       "    <tr>\n",
       "      <th>12</th>\n",
       "      <td>3577.151148</td>\n",
       "      <td>33.0</td>\n",
       "      <td>1</td>\n",
       "      <td>ultra</td>\n",
       "    </tr>\n",
       "    <tr>\n",
       "      <th>...</th>\n",
       "      <th>...</th>\n",
       "      <td>...</td>\n",
       "      <td>...</td>\n",
       "      <td>...</td>\n",
       "      <td>...</td>\n",
       "    </tr>\n",
       "    <tr>\n",
       "      <th rowspan=\"5\" valign=\"top\">12</th>\n",
       "      <th>1525</th>\n",
       "      <td>4597.854350</td>\n",
       "      <td>34.0</td>\n",
       "      <td>1</td>\n",
       "      <td>free</td>\n",
       "    </tr>\n",
       "    <tr>\n",
       "      <th>1526</th>\n",
       "      <td>3644.121544</td>\n",
       "      <td>23.0</td>\n",
       "      <td>1</td>\n",
       "      <td>free</td>\n",
       "    </tr>\n",
       "    <tr>\n",
       "      <th>1528</th>\n",
       "      <td>3998.569324</td>\n",
       "      <td>11.0</td>\n",
       "      <td>1</td>\n",
       "      <td>free</td>\n",
       "    </tr>\n",
       "    <tr>\n",
       "      <th>1532</th>\n",
       "      <td>6111.889853</td>\n",
       "      <td>41.0</td>\n",
       "      <td>2</td>\n",
       "      <td>free</td>\n",
       "    </tr>\n",
       "    <tr>\n",
       "      <th>1534</th>\n",
       "      <td>2371.711192</td>\n",
       "      <td>16.0</td>\n",
       "      <td>1</td>\n",
       "      <td>free</td>\n",
       "    </tr>\n",
       "  </tbody>\n",
       "</table>\n",
       "<p>11300 rows × 4 columns</p>\n",
       "</div>"
      ],
      "text/plain": [
       "                  distance  duration  count_trips subscription_type\n",
       "month user_id                                                      \n",
       "1     1        7027.511294      42.0            2             ultra\n",
       "      3        3061.777147      13.0            1             ultra\n",
       "      5        3914.646990      13.0            1             ultra\n",
       "      7        6478.080979      28.0            2             ultra\n",
       "      12       3577.151148      33.0            1             ultra\n",
       "...                    ...       ...          ...               ...\n",
       "12    1525     4597.854350      34.0            1              free\n",
       "      1526     3644.121544      23.0            1              free\n",
       "      1528     3998.569324      11.0            1              free\n",
       "      1532     6111.889853      41.0            2              free\n",
       "      1534     2371.711192      16.0            1              free\n",
       "\n",
       "[11300 rows x 4 columns]"
      ]
     },
     "execution_count": 40,
     "metadata": {},
     "output_type": "execute_result"
    }
   ],
   "source": [
    "# создаем сводную таблицу \n",
    "total_by_month_user = pd.pivot_table(merge_data,\n",
    "                                     index=['month', 'user_id'],\n",
    "                                     values = ['distance', 'duration', 'name', 'subscription_type'],\n",
    "                                     aggfunc = {'distance': sum, 'duration' : sum, 'name' : len, 'subscription_type' : min})\n",
    "total_by_month_user.rename(columns = {'name' : 'count_trips'}, inplace = True)\n",
    "\n",
    "# округляем значения duration до целого числа\n",
    "total_by_month_user['duration'] = np.ceil(total_by_month_user['duration'])\n",
    "total_by_month_user"
   ]
  },
  {
   "cell_type": "markdown",
   "id": "a839b4dd",
   "metadata": {},
   "source": [
    "В этот же датафрейм добавим столбец с помесячной выручкой, которую принёс каждый пользователь. Для этого обратимся к информации об условиях оплаты для подписчиков и тех, у кого нет подписки."
   ]
  },
  {
   "cell_type": "code",
   "execution_count": 41,
   "id": "39021d24",
   "metadata": {},
   "outputs": [],
   "source": [
    "# создаем функцию по вычислению помесячной выручки для каждого пользователя\n",
    "def revenue(row):\n",
    "    if row['subscription_type'] == 'ultra':\n",
    "        return 6 * row['duration'] + 199\n",
    "    elif row['subscription_type'] == 'free':\n",
    "        return 8 * row['duration'] + 50 * row['count_trips']\n",
    "    else:\n",
    "        return 'Другое'"
   ]
  },
  {
   "cell_type": "code",
   "execution_count": 42,
   "id": "37d31525",
   "metadata": {},
   "outputs": [],
   "source": [
    "# добавляем новый столбец о выручке\n",
    "total_by_month_user['revenue_month'] = total_by_month_user.apply(revenue, axis=1)"
   ]
  },
  {
   "cell_type": "code",
   "execution_count": 43,
   "id": "8372b90f",
   "metadata": {},
   "outputs": [
    {
     "data": {
      "text/html": [
       "<div>\n",
       "<style scoped>\n",
       "    .dataframe tbody tr th:only-of-type {\n",
       "        vertical-align: middle;\n",
       "    }\n",
       "\n",
       "    .dataframe tbody tr th {\n",
       "        vertical-align: top;\n",
       "    }\n",
       "\n",
       "    .dataframe thead th {\n",
       "        text-align: right;\n",
       "    }\n",
       "</style>\n",
       "<table border=\"1\" class=\"dataframe\">\n",
       "  <thead>\n",
       "    <tr style=\"text-align: right;\">\n",
       "      <th></th>\n",
       "      <th></th>\n",
       "      <th>distance</th>\n",
       "      <th>duration</th>\n",
       "      <th>count_trips</th>\n",
       "      <th>subscription_type</th>\n",
       "      <th>revenue_month</th>\n",
       "    </tr>\n",
       "    <tr>\n",
       "      <th>month</th>\n",
       "      <th>user_id</th>\n",
       "      <th></th>\n",
       "      <th></th>\n",
       "      <th></th>\n",
       "      <th></th>\n",
       "      <th></th>\n",
       "    </tr>\n",
       "  </thead>\n",
       "  <tbody>\n",
       "    <tr>\n",
       "      <th rowspan=\"5\" valign=\"top\">1</th>\n",
       "      <th>1</th>\n",
       "      <td>7027.511294</td>\n",
       "      <td>42.0</td>\n",
       "      <td>2</td>\n",
       "      <td>ultra</td>\n",
       "      <td>451.0</td>\n",
       "    </tr>\n",
       "    <tr>\n",
       "      <th>3</th>\n",
       "      <td>3061.777147</td>\n",
       "      <td>13.0</td>\n",
       "      <td>1</td>\n",
       "      <td>ultra</td>\n",
       "      <td>277.0</td>\n",
       "    </tr>\n",
       "    <tr>\n",
       "      <th>5</th>\n",
       "      <td>3914.646990</td>\n",
       "      <td>13.0</td>\n",
       "      <td>1</td>\n",
       "      <td>ultra</td>\n",
       "      <td>277.0</td>\n",
       "    </tr>\n",
       "    <tr>\n",
       "      <th>7</th>\n",
       "      <td>6478.080979</td>\n",
       "      <td>28.0</td>\n",
       "      <td>2</td>\n",
       "      <td>ultra</td>\n",
       "      <td>367.0</td>\n",
       "    </tr>\n",
       "    <tr>\n",
       "      <th>12</th>\n",
       "      <td>3577.151148</td>\n",
       "      <td>33.0</td>\n",
       "      <td>1</td>\n",
       "      <td>ultra</td>\n",
       "      <td>397.0</td>\n",
       "    </tr>\n",
       "    <tr>\n",
       "      <th>...</th>\n",
       "      <th>...</th>\n",
       "      <td>...</td>\n",
       "      <td>...</td>\n",
       "      <td>...</td>\n",
       "      <td>...</td>\n",
       "      <td>...</td>\n",
       "    </tr>\n",
       "    <tr>\n",
       "      <th rowspan=\"5\" valign=\"top\">12</th>\n",
       "      <th>1525</th>\n",
       "      <td>4597.854350</td>\n",
       "      <td>34.0</td>\n",
       "      <td>1</td>\n",
       "      <td>free</td>\n",
       "      <td>322.0</td>\n",
       "    </tr>\n",
       "    <tr>\n",
       "      <th>1526</th>\n",
       "      <td>3644.121544</td>\n",
       "      <td>23.0</td>\n",
       "      <td>1</td>\n",
       "      <td>free</td>\n",
       "      <td>234.0</td>\n",
       "    </tr>\n",
       "    <tr>\n",
       "      <th>1528</th>\n",
       "      <td>3998.569324</td>\n",
       "      <td>11.0</td>\n",
       "      <td>1</td>\n",
       "      <td>free</td>\n",
       "      <td>138.0</td>\n",
       "    </tr>\n",
       "    <tr>\n",
       "      <th>1532</th>\n",
       "      <td>6111.889853</td>\n",
       "      <td>41.0</td>\n",
       "      <td>2</td>\n",
       "      <td>free</td>\n",
       "      <td>428.0</td>\n",
       "    </tr>\n",
       "    <tr>\n",
       "      <th>1534</th>\n",
       "      <td>2371.711192</td>\n",
       "      <td>16.0</td>\n",
       "      <td>1</td>\n",
       "      <td>free</td>\n",
       "      <td>178.0</td>\n",
       "    </tr>\n",
       "  </tbody>\n",
       "</table>\n",
       "<p>11300 rows × 5 columns</p>\n",
       "</div>"
      ],
      "text/plain": [
       "                  distance  duration  count_trips subscription_type  \\\n",
       "month user_id                                                         \n",
       "1     1        7027.511294      42.0            2             ultra   \n",
       "      3        3061.777147      13.0            1             ultra   \n",
       "      5        3914.646990      13.0            1             ultra   \n",
       "      7        6478.080979      28.0            2             ultra   \n",
       "      12       3577.151148      33.0            1             ultra   \n",
       "...                    ...       ...          ...               ...   \n",
       "12    1525     4597.854350      34.0            1              free   \n",
       "      1526     3644.121544      23.0            1              free   \n",
       "      1528     3998.569324      11.0            1              free   \n",
       "      1532     6111.889853      41.0            2              free   \n",
       "      1534     2371.711192      16.0            1              free   \n",
       "\n",
       "               revenue_month  \n",
       "month user_id                 \n",
       "1     1                451.0  \n",
       "      3                277.0  \n",
       "      5                277.0  \n",
       "      7                367.0  \n",
       "      12               397.0  \n",
       "...                      ...  \n",
       "12    1525             322.0  \n",
       "      1526             234.0  \n",
       "      1528             138.0  \n",
       "      1532             428.0  \n",
       "      1534             178.0  \n",
       "\n",
       "[11300 rows x 5 columns]"
      ]
     },
     "execution_count": 43,
     "metadata": {},
     "output_type": "execute_result"
    }
   ],
   "source": [
    "total_by_month_user"
   ]
  },
  {
   "cell_type": "markdown",
   "id": "41545ac0",
   "metadata": {},
   "source": [
    "#### Шаг 6. Проверка гипотез"
   ]
  },
  {
   "cell_type": "markdown",
   "id": "457c8196",
   "metadata": {},
   "source": [
    "**Гипотеза 1.**"
   ]
  },
  {
   "cell_type": "markdown",
   "id": "fdecd1bd",
   "metadata": {},
   "source": [
    "Важно понять, тратят ли пользователи с подпиской больше времени на поездки? Если да, то пользователи с подпиской могут быть «выгоднее» для компании."
   ]
  },
  {
   "cell_type": "markdown",
   "id": "94df9d1d",
   "metadata": {},
   "source": [
    "Проверим гипотезу: пользователи с подпиской тратят больше времени на поездку."
   ]
  },
  {
   "cell_type": "markdown",
   "id": "f355fb2d",
   "metadata": {},
   "source": [
    "- Нулевая гипотеза: средние значения продолжительности поездок пользователей из двух групп равны.\n",
    "- Альтернативная гипотеза: среднее значение продолжительности поездок пользователей с подпиской больше, чем среднее значение продолжительности поездок пользователей без подписки."
   ]
  },
  {
   "cell_type": "code",
   "execution_count": 44,
   "id": "9e7096b5",
   "metadata": {},
   "outputs": [
    {
     "name": "stdout",
     "output_type": "stream",
     "text": [
      "p-value: 4.704468074453899e-28\n",
      "Отвергаем нулевую гипотезу\n"
     ]
    }
   ],
   "source": [
    "# задаём уровень значимости\n",
    "alpha = 0.05\n",
    "\n",
    "# первая группа пользователей (с подпиской)\n",
    "first_group_duration = ultra_subscriptions['duration']\n",
    "\n",
    "# вторая группа пользователей (без подписки)\n",
    "second_group_duration = free_subscriptions['duration']\n",
    "\n",
    "# проводим ttest для двух групп, в качестве альтернативной используем одностороннюю гипотезу «больше»\n",
    "results = st.ttest_ind(first_group_duration, second_group_duration, alternative='greater')\n",
    "\n",
    "print(f'p-value: {results.pvalue}')\n",
    "\n",
    "# проверяем p-value\n",
    "if results.pvalue < alpha:\n",
    "    print('Отвергаем нулевую гипотезу')\n",
    "else:\n",
    "    print('Нет оснований отвергнуть нулевую гипотезу')"
   ]
  },
  {
   "cell_type": "markdown",
   "id": "f6275515",
   "metadata": {},
   "source": [
    "Полученное значение p-value меньше заданного уровня значимости, поэтому можно отвергнуть нулевую гипотезу. Есть основания говорить, что продолжительность поездок пользователей с подпиской выше."
   ]
  },
  {
   "cell_type": "markdown",
   "id": "b69780ed",
   "metadata": {},
   "source": [
    "**Гипотеза 2.**"
   ]
  },
  {
   "cell_type": "markdown",
   "id": "b0a1eb6f",
   "metadata": {},
   "source": [
    "Расстояние одной поездки в 3130 метров — оптимальное с точки зрения износа самоката. Можно ли сказать, что среднее расстояние, которое проезжают пользователи с подпиской за одну поездку, не превышает 3130 метров? "
   ]
  },
  {
   "cell_type": "markdown",
   "id": "032b684f",
   "metadata": {},
   "source": [
    "Проверим гипотезу: среднее расстояние, которое проезжают пользователи с подпиской за одну поездку, не превышает 3130 метров."
   ]
  },
  {
   "cell_type": "markdown",
   "id": "b6087d7f",
   "metadata": {},
   "source": [
    "- Нулевая гипотеза: среднее расстояние, которое проезжают пользователи с подпиской за одну поездку, равно 3130 метров.\n",
    "- Альтернативная гипотеза: среднее расстояние, которое проезжают пользователи с подпиской за одну поездку, меньше 3130 метров."
   ]
  },
  {
   "cell_type": "code",
   "execution_count": 45,
   "id": "e20b340a",
   "metadata": {},
   "outputs": [
    {
     "name": "stdout",
     "output_type": "stream",
     "text": [
      "p-значение: 0.08046311521502146\n",
      "Не получилось отвергнуть нулевую гипотезу\n"
     ]
    }
   ],
   "source": [
    "# группа пользователей с подпиской\n",
    "mean_distance = ultra_subscriptions['distance']\n",
    "\n",
    "# оптимальное расстояние\n",
    "optimal_value = 3130\n",
    "\n",
    "# задаём уровень значимости\n",
    "alpha = 0.05\n",
    "\n",
    "# проводим ttest\n",
    "results = st.ttest_1samp(\n",
    "    mean_distance, \n",
    "    optimal_value,\n",
    "      alternative='less')\n",
    "\n",
    "print('p-значение:', results.pvalue)\n",
    "\n",
    "# проверяем p-value\n",
    "if results.pvalue < alpha:\n",
    "    print('Отвергаем нулевую гипотезу')\n",
    "else:\n",
    "    print('Не получилось отвергнуть нулевую гипотезу')"
   ]
  },
  {
   "cell_type": "markdown",
   "id": "70860a55",
   "metadata": {},
   "source": [
    "Проверили гипотезу, и мы не можем утверждать, что расстояние, которое проехали пользователи с подпиской не превышает 3130 метров."
   ]
  },
  {
   "cell_type": "markdown",
   "id": "f402677e",
   "metadata": {},
   "source": [
    "**Гипотеза 3.**"
   ]
  },
  {
   "cell_type": "markdown",
   "id": "7b7a04a6",
   "metadata": {},
   "source": [
    "Проверим гипотезу о том, будет ли помесячная выручка от пользователей с подпиской по месяцам выше, чем выручка от пользователей без подписки. "
   ]
  },
  {
   "cell_type": "markdown",
   "id": "dbf0d39d",
   "metadata": {},
   "source": [
    "- Нулевая гипотеза: помесячная выручка от пользователей с подпиской по месяцам выше, чем выручка от пользователей без подписки.\n",
    "- Альтернативная гипотеза: помесячная выручка от пользователей с подпиской по месяцам выше, чем выручка от пользователей без подписки."
   ]
  },
  {
   "cell_type": "code",
   "execution_count": 46,
   "id": "ea872e04",
   "metadata": {},
   "outputs": [
    {
     "name": "stdout",
     "output_type": "stream",
     "text": [
      "p-value: 3.914474385320123e-34\n",
      "Отвергаем нулевую гипотезу\n"
     ]
    }
   ],
   "source": [
    "# задаём уровень значимости\n",
    "alpha = 0.05\n",
    "\n",
    "# первая группа пользователей (с подпиской)\n",
    "first_group_revenue = total_by_month_user.loc[total_by_month_user.subscription_type == 'ultra', 'revenue_month'] \n",
    "\n",
    "# вторая группа пользователей (без подписки)\n",
    "second_group_revenue = total_by_month_user.loc[total_by_month_user.subscription_type == 'free', 'revenue_month'] \n",
    "\n",
    "# проводим ttest для двух групп, в качестве альтернативной используем одностороннюю гипотезу «больше»\n",
    "results = st.ttest_ind(first_group_revenue, second_group_revenue, alternative='greater')\n",
    "\n",
    "print(f'p-value: {results.pvalue}')\n",
    "\n",
    "# проверяем p-value\n",
    "if results.pvalue < alpha:\n",
    "    print('Отвергаем нулевую гипотезу')\n",
    "else:\n",
    "    print('Нет оснований отвергнуть нулевую гипотезу')"
   ]
  },
  {
   "cell_type": "markdown",
   "id": "62c81c07",
   "metadata": {},
   "source": [
    "Полученное значение p-value меньше заданного уровня значимости, поэтому можно отвергнуть нулевую гипотезу. Есть основания говорить, что выручка от пользователей с подпиской выше."
   ]
  },
  {
   "cell_type": "markdown",
   "id": "b89c0327",
   "metadata": {},
   "source": [
    "**Гипотеза 4.**"
   ]
  },
  {
   "cell_type": "markdown",
   "id": "f45f6d43",
   "metadata": {},
   "source": [
    "Представьте такую ситуацию: техническая команда сервиса обновила сервера, с которыми взаимодействует мобильное приложение. Она надеется, что из-за этого количество обращений в техподдержку значимо снизилось. Некоторый файл содержит для каждого пользователя данные о количестве обращений до обновления и после него. Какой тест вам понадобился бы для проверки этой гипотезы?"
   ]
  },
  {
   "cell_type": "markdown",
   "id": "e12a704a",
   "metadata": {},
   "source": [
    "Ответ:\n",
    "Будем использовать гипотезу о равенстве средних для зависимых (парных) выборок.\n",
    "\n",
    "Гипотезы будут сформулированы так:\n",
    "\n",
    "H0 : μ1 = μ2\n",
    "\n",
    "H1 : μ1 != μ2\n",
    "\n",
    "где μ1 и μ2 - средние значения количество обращений в техподдержку до и после изменения.\n",
    "\n",
    "Чтобы проверить гипотезу о равенстве среднего генеральной совокупности для зависимых (парных) выборок в Python, применим метод scipy.stats.ttest_rel()."
   ]
  },
  {
   "cell_type": "markdown",
   "id": "61213c5e",
   "metadata": {},
   "source": [
    "#### Шаг 7. Общий вывод"
   ]
  },
  {
   "cell_type": "markdown",
   "id": "9383c908",
   "metadata": {},
   "source": [
    "В ходе данного исследования был проведен анализ данных популярного сервиса аренды самокатов GoFast о некоторых пользователях из нескольких городов, а также об их поездках.\n",
    "\n",
    "Пользователи распределены примерно одинаково среди городов, наибольшее количество пользователей в Пятигорске - 14%, наименьшее количество в Москве - 11%.\n",
    "\n",
    "Среди всех пользователей больше тех, у кого нет подписки - их 54% от общего числа.\n",
    "\n",
    "Чаще всего самокатами пользуются пользователи в возрасте от 20 до 30 лет.\n",
    "\n",
    "Одна поездка в среднем составляет примерно 3000 метров и длится от 10 до 25 минут.\n",
    "\n",
    "Далее были проверены несколько гипотез и сделаны следующие выводы:\n",
    "- Пользователи с подпиской тратят больше времени на поездки, чем пользователи на бесплатном тарифе.\n",
    "- Нельзя утверждать, что расстояние, которое проехали пользователи с подпиской не превышает 3130 метров.\n",
    "- Помесячная выручка от пользователей с подпиской выше, чем выручка от пользователей без подписки.\n"
   ]
  }
 ],
 "metadata": {
  "ExecuteTimeLog": [
   {
    "duration": 376,
    "start_time": "2023-11-04T10:15:20.168Z"
   },
   {
    "duration": 435,
    "start_time": "2023-11-04T12:07:35.094Z"
   },
   {
    "duration": 76,
    "start_time": "2023-11-04T12:13:43.022Z"
   },
   {
    "duration": 145,
    "start_time": "2023-11-04T12:16:53.903Z"
   },
   {
    "duration": 69,
    "start_time": "2023-11-04T12:17:50.368Z"
   },
   {
    "duration": 54,
    "start_time": "2023-11-04T12:17:52.488Z"
   },
   {
    "duration": 924,
    "start_time": "2023-11-04T12:32:25.627Z"
   },
   {
    "duration": 3,
    "start_time": "2023-11-04T12:32:57.291Z"
   },
   {
    "duration": 385,
    "start_time": "2023-11-04T12:33:02.515Z"
   },
   {
    "duration": 281,
    "start_time": "2023-11-04T12:33:34.858Z"
   },
   {
    "duration": 176,
    "start_time": "2023-11-04T12:33:47.199Z"
   },
   {
    "duration": 142,
    "start_time": "2023-11-04T12:33:56.379Z"
   },
   {
    "duration": 148,
    "start_time": "2023-11-04T12:34:02.658Z"
   },
   {
    "duration": 155,
    "start_time": "2023-11-04T12:34:43.137Z"
   },
   {
    "duration": 444,
    "start_time": "2023-11-04T12:35:28.457Z"
   },
   {
    "duration": 1265,
    "start_time": "2023-11-04T12:36:33.867Z"
   },
   {
    "duration": 178,
    "start_time": "2023-11-04T12:37:23.008Z"
   },
   {
    "duration": 207,
    "start_time": "2023-11-04T12:37:41.690Z"
   },
   {
    "duration": 172,
    "start_time": "2023-11-04T12:37:58.864Z"
   },
   {
    "duration": 247,
    "start_time": "2023-11-04T12:38:09.702Z"
   },
   {
    "duration": 206,
    "start_time": "2023-11-04T12:38:35.024Z"
   },
   {
    "duration": 169,
    "start_time": "2023-11-04T12:38:44.472Z"
   },
   {
    "duration": 412,
    "start_time": "2023-11-04T12:39:19.467Z"
   },
   {
    "duration": 705,
    "start_time": "2023-11-04T12:39:56.135Z"
   },
   {
    "duration": 76,
    "start_time": "2023-11-04T12:39:56.842Z"
   },
   {
    "duration": 49,
    "start_time": "2023-11-04T12:39:56.919Z"
   },
   {
    "duration": 192,
    "start_time": "2023-11-04T12:39:56.970Z"
   },
   {
    "duration": 207,
    "start_time": "2023-11-04T12:39:57.165Z"
   },
   {
    "duration": 181,
    "start_time": "2023-11-04T12:39:57.374Z"
   },
   {
    "duration": 453,
    "start_time": "2023-11-04T12:39:57.557Z"
   },
   {
    "duration": 915,
    "start_time": "2023-11-04T14:20:08.394Z"
   },
   {
    "duration": 206,
    "start_time": "2023-11-04T14:20:09.311Z"
   },
   {
    "duration": 51,
    "start_time": "2023-11-04T14:20:09.518Z"
   },
   {
    "duration": 177,
    "start_time": "2023-11-04T14:20:09.570Z"
   },
   {
    "duration": 180,
    "start_time": "2023-11-04T14:20:09.750Z"
   },
   {
    "duration": 168,
    "start_time": "2023-11-04T14:20:09.931Z"
   },
   {
    "duration": 455,
    "start_time": "2023-11-04T14:20:10.101Z"
   },
   {
    "duration": 693,
    "start_time": "2023-11-04T15:24:27.470Z"
   },
   {
    "duration": 88,
    "start_time": "2023-11-04T15:24:28.165Z"
   },
   {
    "duration": 83,
    "start_time": "2023-11-04T15:24:28.257Z"
   },
   {
    "duration": 282,
    "start_time": "2023-11-04T15:24:28.342Z"
   },
   {
    "duration": 218,
    "start_time": "2023-11-04T15:24:28.627Z"
   },
   {
    "duration": 179,
    "start_time": "2023-11-04T15:24:28.846Z"
   },
   {
    "duration": 478,
    "start_time": "2023-11-04T15:24:29.026Z"
   },
   {
    "duration": 51,
    "start_time": "2023-11-04T17:00:57.375Z"
   },
   {
    "duration": 908,
    "start_time": "2023-11-04T17:01:29.861Z"
   },
   {
    "duration": 206,
    "start_time": "2023-11-04T17:01:30.772Z"
   },
   {
    "duration": 122,
    "start_time": "2023-11-04T17:01:30.980Z"
   },
   {
    "duration": 310,
    "start_time": "2023-11-04T17:01:31.104Z"
   },
   {
    "duration": 201,
    "start_time": "2023-11-04T17:01:31.416Z"
   },
   {
    "duration": 191,
    "start_time": "2023-11-04T17:01:31.618Z"
   },
   {
    "duration": 498,
    "start_time": "2023-11-04T17:01:31.811Z"
   },
   {
    "duration": 13,
    "start_time": "2023-11-04T17:01:32.311Z"
   },
   {
    "duration": 12,
    "start_time": "2023-11-04T17:01:52.070Z"
   },
   {
    "duration": 12,
    "start_time": "2023-11-04T17:02:00.586Z"
   },
   {
    "duration": 12,
    "start_time": "2023-11-04T17:02:04.196Z"
   },
   {
    "duration": 10,
    "start_time": "2023-11-04T17:02:21.756Z"
   },
   {
    "duration": 13,
    "start_time": "2023-11-04T17:04:50.338Z"
   },
   {
    "duration": 8,
    "start_time": "2023-11-04T17:07:25.215Z"
   },
   {
    "duration": 7,
    "start_time": "2023-11-04T17:08:59.759Z"
   },
   {
    "duration": 14,
    "start_time": "2023-11-04T17:09:01.934Z"
   },
   {
    "duration": 6,
    "start_time": "2023-11-04T17:54:03.925Z"
   },
   {
    "duration": 7,
    "start_time": "2023-11-04T17:54:30.107Z"
   },
   {
    "duration": 46,
    "start_time": "2023-11-04T20:26:36.417Z"
   },
   {
    "duration": 1252,
    "start_time": "2023-11-04T20:26:42.266Z"
   },
   {
    "duration": 198,
    "start_time": "2023-11-04T20:26:43.520Z"
   },
   {
    "duration": 49,
    "start_time": "2023-11-04T20:26:43.720Z"
   },
   {
    "duration": 166,
    "start_time": "2023-11-04T20:26:43.772Z"
   },
   {
    "duration": 172,
    "start_time": "2023-11-04T20:26:43.940Z"
   },
   {
    "duration": 153,
    "start_time": "2023-11-04T20:26:44.114Z"
   },
   {
    "duration": 390,
    "start_time": "2023-11-04T20:26:44.269Z"
   },
   {
    "duration": 9,
    "start_time": "2023-11-04T20:26:44.661Z"
   },
   {
    "duration": 30,
    "start_time": "2023-11-04T20:26:44.672Z"
   },
   {
    "duration": 14,
    "start_time": "2023-11-04T20:26:44.705Z"
   },
   {
    "duration": 5,
    "start_time": "2023-11-04T20:26:44.721Z"
   },
   {
    "duration": 31,
    "start_time": "2023-11-04T20:26:44.727Z"
   },
   {
    "duration": 19,
    "start_time": "2023-11-04T20:26:44.759Z"
   },
   {
    "duration": 116,
    "start_time": "2023-11-04T20:26:44.780Z"
   },
   {
    "duration": 120,
    "start_time": "2023-11-04T20:27:16.329Z"
   },
   {
    "duration": 217,
    "start_time": "2023-11-04T20:27:52.326Z"
   },
   {
    "duration": 138,
    "start_time": "2023-11-04T20:27:57.470Z"
   },
   {
    "duration": 161,
    "start_time": "2023-11-04T20:28:11.629Z"
   },
   {
    "duration": 183,
    "start_time": "2023-11-04T20:28:16.838Z"
   },
   {
    "duration": 156,
    "start_time": "2023-11-04T20:28:26.030Z"
   },
   {
    "duration": 8,
    "start_time": "2023-11-04T20:29:20.654Z"
   },
   {
    "duration": 8,
    "start_time": "2023-11-04T20:31:43.230Z"
   },
   {
    "duration": 88,
    "start_time": "2023-11-04T20:33:51.301Z"
   },
   {
    "duration": 111,
    "start_time": "2023-11-04T20:34:01.080Z"
   },
   {
    "duration": 101,
    "start_time": "2023-11-04T20:35:00.893Z"
   },
   {
    "duration": 94,
    "start_time": "2023-11-04T20:35:06.388Z"
   },
   {
    "duration": 99,
    "start_time": "2023-11-04T20:35:12.031Z"
   },
   {
    "duration": 106,
    "start_time": "2023-11-04T20:35:22.405Z"
   },
   {
    "duration": 76,
    "start_time": "2023-11-04T20:39:04.398Z"
   },
   {
    "duration": 6,
    "start_time": "2023-11-04T20:39:13.845Z"
   },
   {
    "duration": 12,
    "start_time": "2023-11-04T20:39:21.990Z"
   },
   {
    "duration": 14,
    "start_time": "2023-11-04T20:39:39.194Z"
   },
   {
    "duration": 13,
    "start_time": "2023-11-04T20:40:23.365Z"
   },
   {
    "duration": 13,
    "start_time": "2023-11-04T20:44:04.362Z"
   },
   {
    "duration": 8,
    "start_time": "2023-11-04T20:50:54.503Z"
   },
   {
    "duration": 15,
    "start_time": "2023-11-04T20:51:18.040Z"
   },
   {
    "duration": 8,
    "start_time": "2023-11-04T20:51:35.542Z"
   },
   {
    "duration": 8,
    "start_time": "2023-11-04T20:51:40.255Z"
   },
   {
    "duration": 8,
    "start_time": "2023-11-04T20:51:45.537Z"
   },
   {
    "duration": 103,
    "start_time": "2023-11-04T20:51:50.216Z"
   },
   {
    "duration": 12,
    "start_time": "2023-11-04T20:52:23.008Z"
   },
   {
    "duration": 13,
    "start_time": "2023-11-04T20:52:57.344Z"
   },
   {
    "duration": 106,
    "start_time": "2023-11-04T20:57:23.256Z"
   },
   {
    "duration": 3,
    "start_time": "2023-11-04T20:57:54.300Z"
   },
   {
    "duration": 94,
    "start_time": "2023-11-04T20:57:59.637Z"
   },
   {
    "duration": 102,
    "start_time": "2023-11-04T20:59:10.333Z"
   },
   {
    "duration": 11,
    "start_time": "2023-11-04T21:00:12.260Z"
   },
   {
    "duration": 98,
    "start_time": "2023-11-04T21:05:40.229Z"
   },
   {
    "duration": 10,
    "start_time": "2023-11-04T21:06:12.156Z"
   },
   {
    "duration": 12,
    "start_time": "2023-11-04T21:08:42.665Z"
   },
   {
    "duration": 13,
    "start_time": "2023-11-04T21:12:21.890Z"
   },
   {
    "duration": 1387,
    "start_time": "2023-11-04T21:18:54.663Z"
   },
   {
    "duration": 14,
    "start_time": "2023-11-04T21:19:08.087Z"
   },
   {
    "duration": 98,
    "start_time": "2023-11-04T21:20:41.695Z"
   },
   {
    "duration": 5,
    "start_time": "2023-11-04T21:20:56.126Z"
   },
   {
    "duration": 5,
    "start_time": "2023-11-04T21:22:45.501Z"
   },
   {
    "duration": 5,
    "start_time": "2023-11-04T21:29:20.490Z"
   },
   {
    "duration": 12,
    "start_time": "2023-11-04T21:29:35.714Z"
   },
   {
    "duration": 1167,
    "start_time": "2023-11-04T21:30:30.557Z"
   },
   {
    "duration": 72,
    "start_time": "2023-11-04T21:30:31.726Z"
   },
   {
    "duration": 47,
    "start_time": "2023-11-04T21:30:31.800Z"
   },
   {
    "duration": 9,
    "start_time": "2023-11-04T21:30:31.849Z"
   },
   {
    "duration": 204,
    "start_time": "2023-11-04T21:30:31.860Z"
   },
   {
    "duration": 169,
    "start_time": "2023-11-04T21:30:32.066Z"
   },
   {
    "duration": 353,
    "start_time": "2023-11-04T21:30:32.236Z"
   },
   {
    "duration": 7,
    "start_time": "2023-11-04T21:30:32.591Z"
   },
   {
    "duration": 25,
    "start_time": "2023-11-04T21:30:32.606Z"
   },
   {
    "duration": 14,
    "start_time": "2023-11-04T21:30:32.633Z"
   },
   {
    "duration": 11,
    "start_time": "2023-11-04T21:30:32.648Z"
   },
   {
    "duration": 39,
    "start_time": "2023-11-04T21:30:32.661Z"
   },
   {
    "duration": 15,
    "start_time": "2023-11-04T21:30:32.702Z"
   },
   {
    "duration": 131,
    "start_time": "2023-11-04T21:30:32.719Z"
   },
   {
    "duration": 8,
    "start_time": "2023-11-04T21:30:32.852Z"
   },
   {
    "duration": 115,
    "start_time": "2023-11-04T21:30:32.861Z"
   },
   {
    "duration": 9,
    "start_time": "2023-11-04T21:30:32.977Z"
   },
   {
    "duration": 25,
    "start_time": "2023-11-04T21:30:32.988Z"
   },
   {
    "duration": 11,
    "start_time": "2023-11-04T21:30:33.014Z"
   },
   {
    "duration": 5,
    "start_time": "2023-11-04T21:30:33.026Z"
   },
   {
    "duration": 13,
    "start_time": "2023-11-04T21:30:33.032Z"
   },
   {
    "duration": 1158,
    "start_time": "2023-11-04T21:31:41.523Z"
   },
   {
    "duration": 71,
    "start_time": "2023-11-04T21:31:42.683Z"
   },
   {
    "duration": 50,
    "start_time": "2023-11-04T21:31:42.755Z"
   },
   {
    "duration": 7,
    "start_time": "2023-11-04T21:31:42.807Z"
   },
   {
    "duration": 180,
    "start_time": "2023-11-04T21:31:42.815Z"
   },
   {
    "duration": 166,
    "start_time": "2023-11-04T21:31:42.996Z"
   },
   {
    "duration": 365,
    "start_time": "2023-11-04T21:31:43.163Z"
   },
   {
    "duration": 8,
    "start_time": "2023-11-04T21:31:43.530Z"
   },
   {
    "duration": 10,
    "start_time": "2023-11-04T21:31:43.540Z"
   },
   {
    "duration": 11,
    "start_time": "2023-11-04T21:31:43.553Z"
   },
   {
    "duration": 6,
    "start_time": "2023-11-04T21:31:43.566Z"
   },
   {
    "duration": 7,
    "start_time": "2023-11-04T21:31:43.606Z"
   },
   {
    "duration": 6,
    "start_time": "2023-11-04T21:31:43.615Z"
   },
   {
    "duration": 122,
    "start_time": "2023-11-04T21:31:43.623Z"
   },
   {
    "duration": 9,
    "start_time": "2023-11-04T21:31:43.747Z"
   },
   {
    "duration": 119,
    "start_time": "2023-11-04T21:31:43.758Z"
   },
   {
    "duration": 9,
    "start_time": "2023-11-04T21:31:43.879Z"
   },
   {
    "duration": 23,
    "start_time": "2023-11-04T21:31:43.890Z"
   },
   {
    "duration": 6,
    "start_time": "2023-11-04T21:31:43.915Z"
   },
   {
    "duration": 13,
    "start_time": "2023-11-04T21:31:43.922Z"
   },
   {
    "duration": 7,
    "start_time": "2023-11-04T21:35:57.750Z"
   },
   {
    "duration": 96,
    "start_time": "2023-11-04T21:36:49.213Z"
   },
   {
    "duration": 11,
    "start_time": "2023-11-04T21:36:56.853Z"
   },
   {
    "duration": 12,
    "start_time": "2023-11-04T21:39:00.894Z"
   },
   {
    "duration": 1147,
    "start_time": "2023-11-04T21:39:14.177Z"
   },
   {
    "duration": 69,
    "start_time": "2023-11-04T21:39:15.326Z"
   },
   {
    "duration": 49,
    "start_time": "2023-11-04T21:39:15.397Z"
   },
   {
    "duration": 7,
    "start_time": "2023-11-04T21:39:15.448Z"
   },
   {
    "duration": 188,
    "start_time": "2023-11-04T21:39:15.458Z"
   },
   {
    "duration": 162,
    "start_time": "2023-11-04T21:39:15.648Z"
   },
   {
    "duration": 436,
    "start_time": "2023-11-04T21:39:15.811Z"
   },
   {
    "duration": 7,
    "start_time": "2023-11-04T21:39:16.249Z"
   },
   {
    "duration": 15,
    "start_time": "2023-11-04T21:39:16.258Z"
   },
   {
    "duration": 15,
    "start_time": "2023-11-04T21:39:16.274Z"
   },
   {
    "duration": 5,
    "start_time": "2023-11-04T21:39:16.307Z"
   },
   {
    "duration": 16,
    "start_time": "2023-11-04T21:39:16.313Z"
   },
   {
    "duration": 20,
    "start_time": "2023-11-04T21:39:16.330Z"
   },
   {
    "duration": 122,
    "start_time": "2023-11-04T21:39:16.353Z"
   },
   {
    "duration": 8,
    "start_time": "2023-11-04T21:39:16.476Z"
   },
   {
    "duration": 116,
    "start_time": "2023-11-04T21:39:16.486Z"
   },
   {
    "duration": 8,
    "start_time": "2023-11-04T21:39:16.606Z"
   },
   {
    "duration": 12,
    "start_time": "2023-11-04T21:39:16.616Z"
   },
   {
    "duration": 4,
    "start_time": "2023-11-04T21:39:16.630Z"
   },
   {
    "duration": 12,
    "start_time": "2023-11-04T21:39:16.635Z"
   },
   {
    "duration": 5,
    "start_time": "2023-11-04T21:39:16.649Z"
   },
   {
    "duration": 54,
    "start_time": "2023-11-04T21:39:16.655Z"
   },
   {
    "duration": 11,
    "start_time": "2023-11-04T21:48:27.930Z"
   },
   {
    "duration": 98,
    "start_time": "2023-11-04T21:52:53.811Z"
   },
   {
    "duration": 11,
    "start_time": "2023-11-04T21:53:21.306Z"
   },
   {
    "duration": 1219,
    "start_time": "2023-11-04T21:54:16.674Z"
   },
   {
    "duration": 14,
    "start_time": "2023-11-04T21:54:32.937Z"
   },
   {
    "duration": 77,
    "start_time": "2023-11-04T21:56:25.310Z"
   },
   {
    "duration": 14,
    "start_time": "2023-11-04T21:56:30.023Z"
   },
   {
    "duration": 1170,
    "start_time": "2023-11-04T21:57:36.384Z"
   },
   {
    "duration": 147,
    "start_time": "2023-11-04T21:57:56.232Z"
   },
   {
    "duration": 145,
    "start_time": "2023-11-04T21:59:02.495Z"
   },
   {
    "duration": 6,
    "start_time": "2023-11-04T22:03:36.582Z"
   },
   {
    "duration": 9,
    "start_time": "2023-11-04T22:03:43.430Z"
   },
   {
    "duration": 5,
    "start_time": "2023-11-04T22:04:52.086Z"
   },
   {
    "duration": 9,
    "start_time": "2023-11-04T22:05:15.437Z"
   },
   {
    "duration": 10,
    "start_time": "2023-11-04T22:07:00.669Z"
   },
   {
    "duration": 223,
    "start_time": "2023-11-04T22:07:47.347Z"
   },
   {
    "duration": 129,
    "start_time": "2023-11-04T22:08:26.378Z"
   },
   {
    "duration": 125,
    "start_time": "2023-11-04T22:09:34.010Z"
   },
   {
    "duration": 148,
    "start_time": "2023-11-04T22:11:57.026Z"
   },
   {
    "duration": 138,
    "start_time": "2023-11-04T22:12:31.034Z"
   },
   {
    "duration": 135,
    "start_time": "2023-11-04T22:12:42.347Z"
   },
   {
    "duration": 194,
    "start_time": "2023-11-04T22:14:35.632Z"
   },
   {
    "duration": 175,
    "start_time": "2023-11-04T22:14:47.569Z"
   },
   {
    "duration": 179,
    "start_time": "2023-11-04T22:14:58.410Z"
   },
   {
    "duration": 188,
    "start_time": "2023-11-04T22:15:09.577Z"
   },
   {
    "duration": 193,
    "start_time": "2023-11-04T22:15:20.137Z"
   },
   {
    "duration": 274,
    "start_time": "2023-11-04T22:15:26.255Z"
   },
   {
    "duration": 189,
    "start_time": "2023-11-04T22:16:43.169Z"
   },
   {
    "duration": 173,
    "start_time": "2023-11-04T22:17:38.264Z"
   },
   {
    "duration": 184,
    "start_time": "2023-11-04T22:18:02.968Z"
   },
   {
    "duration": 189,
    "start_time": "2023-11-04T22:19:02.591Z"
   },
   {
    "duration": 181,
    "start_time": "2023-11-04T22:19:21.271Z"
   },
   {
    "duration": 165,
    "start_time": "2023-11-04T22:19:47.920Z"
   },
   {
    "duration": 81,
    "start_time": "2023-11-04T22:21:35.742Z"
   },
   {
    "duration": 12,
    "start_time": "2023-11-04T22:24:05.679Z"
   },
   {
    "duration": 15,
    "start_time": "2023-11-04T22:28:22.786Z"
   },
   {
    "duration": 476,
    "start_time": "2023-11-04T22:29:59.388Z"
   },
   {
    "duration": 541,
    "start_time": "2023-11-04T22:30:37.504Z"
   },
   {
    "duration": 450,
    "start_time": "2023-11-04T22:31:27.979Z"
   },
   {
    "duration": 10,
    "start_time": "2023-11-04T22:40:05.288Z"
   },
   {
    "duration": 9,
    "start_time": "2023-11-04T22:41:40.855Z"
   },
   {
    "duration": 160,
    "start_time": "2023-11-04T22:45:02.766Z"
   },
   {
    "duration": 80,
    "start_time": "2023-11-04T22:45:35.788Z"
   },
   {
    "duration": 171,
    "start_time": "2023-11-04T22:45:41.733Z"
   },
   {
    "duration": 195,
    "start_time": "2023-11-04T22:45:51.180Z"
   },
   {
    "duration": 281,
    "start_time": "2023-11-04T22:46:46.669Z"
   },
   {
    "duration": 174,
    "start_time": "2023-11-04T22:47:37.949Z"
   },
   {
    "duration": 1233,
    "start_time": "2023-11-04T22:56:35.382Z"
   },
   {
    "duration": 72,
    "start_time": "2023-11-04T22:56:36.616Z"
   },
   {
    "duration": 45,
    "start_time": "2023-11-04T22:56:36.689Z"
   },
   {
    "duration": 7,
    "start_time": "2023-11-04T22:56:36.736Z"
   },
   {
    "duration": 193,
    "start_time": "2023-11-04T22:56:36.744Z"
   },
   {
    "duration": 161,
    "start_time": "2023-11-04T22:56:36.939Z"
   },
   {
    "duration": 381,
    "start_time": "2023-11-04T22:56:37.102Z"
   },
   {
    "duration": 7,
    "start_time": "2023-11-04T22:56:37.485Z"
   },
   {
    "duration": 22,
    "start_time": "2023-11-04T22:56:37.494Z"
   },
   {
    "duration": 14,
    "start_time": "2023-11-04T22:56:37.519Z"
   },
   {
    "duration": 6,
    "start_time": "2023-11-04T22:56:37.535Z"
   },
   {
    "duration": 18,
    "start_time": "2023-11-04T22:56:37.542Z"
   },
   {
    "duration": 6,
    "start_time": "2023-11-04T22:56:37.562Z"
   },
   {
    "duration": 127,
    "start_time": "2023-11-04T22:56:37.569Z"
   },
   {
    "duration": 16,
    "start_time": "2023-11-04T22:56:37.697Z"
   },
   {
    "duration": 102,
    "start_time": "2023-11-04T22:56:37.714Z"
   },
   {
    "duration": 9,
    "start_time": "2023-11-04T22:56:37.817Z"
   },
   {
    "duration": 20,
    "start_time": "2023-11-04T22:56:37.827Z"
   },
   {
    "duration": 5,
    "start_time": "2023-11-04T22:56:37.849Z"
   },
   {
    "duration": 12,
    "start_time": "2023-11-04T22:56:37.855Z"
   },
   {
    "duration": 5,
    "start_time": "2023-11-04T22:56:37.869Z"
   },
   {
    "duration": 46,
    "start_time": "2023-11-04T22:56:37.876Z"
   },
   {
    "duration": 12,
    "start_time": "2023-11-04T22:56:37.924Z"
   },
   {
    "duration": 159,
    "start_time": "2023-11-04T22:56:37.938Z"
   },
   {
    "duration": 16,
    "start_time": "2023-11-04T22:56:38.099Z"
   },
   {
    "duration": 134,
    "start_time": "2023-11-04T22:56:38.117Z"
   },
   {
    "duration": 238,
    "start_time": "2023-11-04T22:56:38.253Z"
   },
   {
    "duration": 14,
    "start_time": "2023-11-04T22:56:38.493Z"
   },
   {
    "duration": 201,
    "start_time": "2023-11-04T22:56:38.508Z"
   },
   {
    "duration": 8,
    "start_time": "2023-11-04T22:56:38.710Z"
   },
   {
    "duration": 189,
    "start_time": "2023-11-04T22:56:38.720Z"
   },
   {
    "duration": 1388,
    "start_time": "2023-11-05T14:55:07.626Z"
   },
   {
    "duration": 298,
    "start_time": "2023-11-05T14:55:09.017Z"
   },
   {
    "duration": 49,
    "start_time": "2023-11-05T14:55:09.317Z"
   },
   {
    "duration": 11,
    "start_time": "2023-11-05T14:55:09.368Z"
   },
   {
    "duration": 214,
    "start_time": "2023-11-05T14:55:09.381Z"
   },
   {
    "duration": 165,
    "start_time": "2023-11-05T14:55:09.597Z"
   },
   {
    "duration": 380,
    "start_time": "2023-11-05T14:55:09.764Z"
   },
   {
    "duration": 7,
    "start_time": "2023-11-05T14:55:10.146Z"
   },
   {
    "duration": 85,
    "start_time": "2023-11-05T14:55:10.155Z"
   },
   {
    "duration": 56,
    "start_time": "2023-11-05T14:55:10.242Z"
   },
   {
    "duration": 38,
    "start_time": "2023-11-05T14:55:10.300Z"
   },
   {
    "duration": 24,
    "start_time": "2023-11-05T14:55:10.340Z"
   },
   {
    "duration": 55,
    "start_time": "2023-11-05T14:55:10.366Z"
   },
   {
    "duration": 167,
    "start_time": "2023-11-05T14:55:10.424Z"
   },
   {
    "duration": 8,
    "start_time": "2023-11-05T14:55:10.593Z"
   },
   {
    "duration": 136,
    "start_time": "2023-11-05T14:55:10.603Z"
   },
   {
    "duration": 9,
    "start_time": "2023-11-05T14:55:10.741Z"
   },
   {
    "duration": 84,
    "start_time": "2023-11-05T14:55:10.751Z"
   },
   {
    "duration": 7,
    "start_time": "2023-11-05T14:55:10.837Z"
   },
   {
    "duration": 18,
    "start_time": "2023-11-05T14:55:10.845Z"
   },
   {
    "duration": 10,
    "start_time": "2023-11-05T14:55:10.865Z"
   },
   {
    "duration": 26,
    "start_time": "2023-11-05T14:55:10.877Z"
   },
   {
    "duration": 13,
    "start_time": "2023-11-05T14:55:10.905Z"
   },
   {
    "duration": 192,
    "start_time": "2023-11-05T14:55:10.919Z"
   },
   {
    "duration": 14,
    "start_time": "2023-11-05T14:55:11.113Z"
   },
   {
    "duration": 174,
    "start_time": "2023-11-05T14:55:11.129Z"
   },
   {
    "duration": 255,
    "start_time": "2023-11-05T14:55:11.306Z"
   },
   {
    "duration": 7,
    "start_time": "2023-11-05T14:55:11.563Z"
   },
   {
    "duration": 202,
    "start_time": "2023-11-05T14:55:11.572Z"
   },
   {
    "duration": 8,
    "start_time": "2023-11-05T14:55:11.776Z"
   },
   {
    "duration": 200,
    "start_time": "2023-11-05T14:55:11.786Z"
   },
   {
    "duration": 1203,
    "start_time": "2023-11-05T15:11:13.280Z"
   },
   {
    "duration": 93,
    "start_time": "2023-11-05T15:11:14.485Z"
   },
   {
    "duration": 51,
    "start_time": "2023-11-05T15:11:14.580Z"
   },
   {
    "duration": 11,
    "start_time": "2023-11-05T15:11:14.633Z"
   },
   {
    "duration": 179,
    "start_time": "2023-11-05T15:11:14.646Z"
   },
   {
    "duration": 159,
    "start_time": "2023-11-05T15:11:14.826Z"
   },
   {
    "duration": 403,
    "start_time": "2023-11-05T15:11:14.986Z"
   },
   {
    "duration": 6,
    "start_time": "2023-11-05T15:11:15.390Z"
   },
   {
    "duration": 22,
    "start_time": "2023-11-05T15:11:15.398Z"
   },
   {
    "duration": 10,
    "start_time": "2023-11-05T15:11:15.423Z"
   },
   {
    "duration": 6,
    "start_time": "2023-11-05T15:11:15.444Z"
   },
   {
    "duration": 6,
    "start_time": "2023-11-05T15:11:15.451Z"
   },
   {
    "duration": 16,
    "start_time": "2023-11-05T15:11:15.458Z"
   },
   {
    "duration": 117,
    "start_time": "2023-11-05T15:11:15.475Z"
   },
   {
    "duration": 8,
    "start_time": "2023-11-05T15:11:15.594Z"
   },
   {
    "duration": 110,
    "start_time": "2023-11-05T15:11:15.603Z"
   },
   {
    "duration": 8,
    "start_time": "2023-11-05T15:11:15.715Z"
   },
   {
    "duration": 30,
    "start_time": "2023-11-05T15:11:15.724Z"
   },
   {
    "duration": 4,
    "start_time": "2023-11-05T15:11:15.756Z"
   },
   {
    "duration": 21,
    "start_time": "2023-11-05T15:11:15.762Z"
   },
   {
    "duration": 5,
    "start_time": "2023-11-05T15:11:15.785Z"
   },
   {
    "duration": 15,
    "start_time": "2023-11-05T15:11:15.791Z"
   },
   {
    "duration": 13,
    "start_time": "2023-11-05T15:11:15.807Z"
   },
   {
    "duration": 162,
    "start_time": "2023-11-05T15:11:15.822Z"
   },
   {
    "duration": 12,
    "start_time": "2023-11-05T15:11:15.986Z"
   },
   {
    "duration": 165,
    "start_time": "2023-11-05T15:11:15.999Z"
   },
   {
    "duration": 270,
    "start_time": "2023-11-05T15:11:16.166Z"
   },
   {
    "duration": 10,
    "start_time": "2023-11-05T15:11:16.443Z"
   },
   {
    "duration": 227,
    "start_time": "2023-11-05T15:11:16.454Z"
   },
   {
    "duration": 9,
    "start_time": "2023-11-05T15:11:16.683Z"
   },
   {
    "duration": 237,
    "start_time": "2023-11-05T15:11:16.694Z"
   },
   {
    "duration": 11,
    "start_time": "2023-11-05T15:13:27.189Z"
   },
   {
    "duration": 14,
    "start_time": "2023-11-05T15:13:43.813Z"
   },
   {
    "duration": 16,
    "start_time": "2023-11-05T15:14:49.965Z"
   },
   {
    "duration": 13,
    "start_time": "2023-11-05T15:14:52.394Z"
   },
   {
    "duration": 7,
    "start_time": "2023-11-05T15:29:54.738Z"
   },
   {
    "duration": 25,
    "start_time": "2023-11-05T15:30:04.018Z"
   },
   {
    "duration": 20,
    "start_time": "2023-11-05T15:31:20.106Z"
   },
   {
    "duration": 20,
    "start_time": "2023-11-05T15:31:33.818Z"
   },
   {
    "duration": 203,
    "start_time": "2023-11-05T15:47:46.444Z"
   },
   {
    "duration": 214,
    "start_time": "2023-11-05T16:03:11.791Z"
   },
   {
    "duration": 204,
    "start_time": "2023-11-05T16:03:51.894Z"
   },
   {
    "duration": 199,
    "start_time": "2023-11-05T16:04:10.636Z"
   },
   {
    "duration": 245,
    "start_time": "2023-11-05T16:15:14.123Z"
   },
   {
    "duration": 210,
    "start_time": "2023-11-05T16:15:16.734Z"
   },
   {
    "duration": 207,
    "start_time": "2023-11-05T16:18:39.930Z"
   },
   {
    "duration": 181,
    "start_time": "2023-11-05T16:19:27.489Z"
   },
   {
    "duration": 1222,
    "start_time": "2023-11-05T16:22:17.065Z"
   },
   {
    "duration": 70,
    "start_time": "2023-11-05T16:22:18.289Z"
   },
   {
    "duration": 47,
    "start_time": "2023-11-05T16:22:18.361Z"
   },
   {
    "duration": 8,
    "start_time": "2023-11-05T16:22:18.409Z"
   },
   {
    "duration": 189,
    "start_time": "2023-11-05T16:22:18.419Z"
   },
   {
    "duration": 166,
    "start_time": "2023-11-05T16:22:18.609Z"
   },
   {
    "duration": 387,
    "start_time": "2023-11-05T16:22:18.776Z"
   },
   {
    "duration": 6,
    "start_time": "2023-11-05T16:22:19.165Z"
   },
   {
    "duration": 13,
    "start_time": "2023-11-05T16:22:19.173Z"
   },
   {
    "duration": 12,
    "start_time": "2023-11-05T16:22:19.187Z"
   },
   {
    "duration": 6,
    "start_time": "2023-11-05T16:22:19.201Z"
   },
   {
    "duration": 40,
    "start_time": "2023-11-05T16:22:19.209Z"
   },
   {
    "duration": 6,
    "start_time": "2023-11-05T16:22:19.251Z"
   },
   {
    "duration": 125,
    "start_time": "2023-11-05T16:22:19.261Z"
   },
   {
    "duration": 9,
    "start_time": "2023-11-05T16:22:19.387Z"
   },
   {
    "duration": 109,
    "start_time": "2023-11-05T16:22:19.397Z"
   },
   {
    "duration": 8,
    "start_time": "2023-11-05T16:22:19.508Z"
   },
   {
    "duration": 29,
    "start_time": "2023-11-05T16:22:19.518Z"
   },
   {
    "duration": 9,
    "start_time": "2023-11-05T16:22:19.548Z"
   },
   {
    "duration": 16,
    "start_time": "2023-11-05T16:22:19.559Z"
   },
   {
    "duration": 5,
    "start_time": "2023-11-05T16:22:19.577Z"
   },
   {
    "duration": 10,
    "start_time": "2023-11-05T16:22:19.584Z"
   },
   {
    "duration": 17,
    "start_time": "2023-11-05T16:22:19.596Z"
   },
   {
    "duration": 167,
    "start_time": "2023-11-05T16:22:19.645Z"
   },
   {
    "duration": 12,
    "start_time": "2023-11-05T16:22:19.814Z"
   },
   {
    "duration": 146,
    "start_time": "2023-11-05T16:22:19.827Z"
   },
   {
    "duration": 252,
    "start_time": "2023-11-05T16:22:19.974Z"
   },
   {
    "duration": 9,
    "start_time": "2023-11-05T16:22:20.227Z"
   },
   {
    "duration": 202,
    "start_time": "2023-11-05T16:22:20.244Z"
   },
   {
    "duration": 8,
    "start_time": "2023-11-05T16:22:20.448Z"
   },
   {
    "duration": 195,
    "start_time": "2023-11-05T16:22:20.458Z"
   },
   {
    "duration": 17,
    "start_time": "2023-11-05T16:22:20.655Z"
   },
   {
    "duration": 29,
    "start_time": "2023-11-05T16:22:20.673Z"
   },
   {
    "duration": 37,
    "start_time": "2023-11-05T16:22:20.703Z"
   },
   {
    "duration": 19,
    "start_time": "2023-11-05T16:22:20.743Z"
   },
   {
    "duration": 217,
    "start_time": "2023-11-05T16:22:20.764Z"
   },
   {
    "duration": 219,
    "start_time": "2023-11-05T16:22:20.982Z"
   },
   {
    "duration": 197,
    "start_time": "2023-11-05T16:22:21.202Z"
   },
   {
    "duration": 195,
    "start_time": "2023-11-05T16:22:21.401Z"
   },
   {
    "duration": 900,
    "start_time": "2023-11-05T17:31:00.917Z"
   },
   {
    "duration": 94,
    "start_time": "2023-11-05T17:31:52.382Z"
   },
   {
    "duration": 829,
    "start_time": "2023-11-05T17:32:00.219Z"
   },
   {
    "duration": 832,
    "start_time": "2023-11-05T17:36:05.002Z"
   },
   {
    "duration": 3,
    "start_time": "2023-11-05T17:36:32.764Z"
   },
   {
    "duration": 783,
    "start_time": "2023-11-05T17:36:39.609Z"
   },
   {
    "duration": 3,
    "start_time": "2023-11-05T17:45:14.445Z"
   },
   {
    "duration": 14,
    "start_time": "2023-11-05T17:45:52.348Z"
   },
   {
    "duration": 1464,
    "start_time": "2023-11-05T17:46:09.635Z"
   },
   {
    "duration": 3,
    "start_time": "2023-11-05T17:46:32.703Z"
   },
   {
    "duration": 142,
    "start_time": "2023-11-05T17:46:38.580Z"
   },
   {
    "duration": 17,
    "start_time": "2023-11-05T17:46:46.040Z"
   },
   {
    "duration": 3,
    "start_time": "2023-11-05T17:54:03.527Z"
   },
   {
    "duration": 1427,
    "start_time": "2023-11-05T20:13:54.388Z"
   },
   {
    "duration": 189,
    "start_time": "2023-11-05T20:13:55.817Z"
   },
   {
    "duration": 50,
    "start_time": "2023-11-05T20:13:56.008Z"
   },
   {
    "duration": 10,
    "start_time": "2023-11-05T20:13:56.060Z"
   },
   {
    "duration": 195,
    "start_time": "2023-11-05T20:13:56.101Z"
   },
   {
    "duration": 168,
    "start_time": "2023-11-05T20:13:56.298Z"
   },
   {
    "duration": 355,
    "start_time": "2023-11-05T20:13:56.468Z"
   },
   {
    "duration": 8,
    "start_time": "2023-11-05T20:13:56.825Z"
   },
   {
    "duration": 22,
    "start_time": "2023-11-05T20:13:56.835Z"
   },
   {
    "duration": 53,
    "start_time": "2023-11-05T20:13:56.861Z"
   },
   {
    "duration": 11,
    "start_time": "2023-11-05T20:13:56.916Z"
   },
   {
    "duration": 73,
    "start_time": "2023-11-05T20:13:56.929Z"
   },
   {
    "duration": 77,
    "start_time": "2023-11-05T20:13:57.004Z"
   },
   {
    "duration": 197,
    "start_time": "2023-11-05T20:13:57.083Z"
   },
   {
    "duration": 9,
    "start_time": "2023-11-05T20:13:57.282Z"
   },
   {
    "duration": 109,
    "start_time": "2023-11-05T20:13:57.302Z"
   },
   {
    "duration": 9,
    "start_time": "2023-11-05T20:13:57.413Z"
   },
   {
    "duration": 14,
    "start_time": "2023-11-05T20:13:57.423Z"
   },
   {
    "duration": 7,
    "start_time": "2023-11-05T20:13:57.440Z"
   },
   {
    "duration": 43,
    "start_time": "2023-11-05T20:13:57.449Z"
   },
   {
    "duration": 10,
    "start_time": "2023-11-05T20:13:57.493Z"
   },
   {
    "duration": 11,
    "start_time": "2023-11-05T20:13:57.505Z"
   },
   {
    "duration": 13,
    "start_time": "2023-11-05T20:13:57.518Z"
   },
   {
    "duration": 175,
    "start_time": "2023-11-05T20:13:57.533Z"
   },
   {
    "duration": 11,
    "start_time": "2023-11-05T20:13:57.709Z"
   },
   {
    "duration": 149,
    "start_time": "2023-11-05T20:13:57.722Z"
   },
   {
    "duration": 249,
    "start_time": "2023-11-05T20:13:57.873Z"
   },
   {
    "duration": 8,
    "start_time": "2023-11-05T20:13:58.125Z"
   },
   {
    "duration": 216,
    "start_time": "2023-11-05T20:13:58.134Z"
   },
   {
    "duration": 9,
    "start_time": "2023-11-05T20:13:58.351Z"
   },
   {
    "duration": 208,
    "start_time": "2023-11-05T20:13:58.362Z"
   },
   {
    "duration": 29,
    "start_time": "2023-11-05T20:13:58.572Z"
   },
   {
    "duration": 13,
    "start_time": "2023-11-05T20:13:58.604Z"
   },
   {
    "duration": 24,
    "start_time": "2023-11-05T20:13:58.619Z"
   },
   {
    "duration": 27,
    "start_time": "2023-11-05T20:13:58.646Z"
   },
   {
    "duration": 233,
    "start_time": "2023-11-05T20:13:58.675Z"
   },
   {
    "duration": 217,
    "start_time": "2023-11-05T20:13:58.909Z"
   },
   {
    "duration": 206,
    "start_time": "2023-11-05T20:13:59.128Z"
   },
   {
    "duration": 195,
    "start_time": "2023-11-05T20:13:59.336Z"
   },
   {
    "duration": 890,
    "start_time": "2023-11-05T20:13:59.533Z"
   },
   {
    "duration": 3,
    "start_time": "2023-11-05T20:14:00.425Z"
   },
   {
    "duration": 256,
    "start_time": "2023-11-05T20:14:00.430Z"
   },
   {
    "duration": 25,
    "start_time": "2023-11-05T20:14:00.687Z"
   },
   {
    "duration": 78,
    "start_time": "2023-11-05T20:34:48.304Z"
   },
   {
    "duration": 6,
    "start_time": "2023-11-05T20:40:43.453Z"
   },
   {
    "duration": 6,
    "start_time": "2023-11-05T20:46:08.356Z"
   },
   {
    "duration": 6,
    "start_time": "2023-11-05T20:46:24.145Z"
   },
   {
    "duration": 5,
    "start_time": "2023-11-05T20:58:53.023Z"
   },
   {
    "duration": 6,
    "start_time": "2023-11-05T21:02:10.586Z"
   },
   {
    "duration": 127,
    "start_time": "2023-11-05T21:05:14.017Z"
   },
   {
    "duration": 5,
    "start_time": "2023-11-05T21:09:48.736Z"
   },
   {
    "duration": 10,
    "start_time": "2023-11-05T21:12:19.008Z"
   },
   {
    "duration": 155,
    "start_time": "2023-11-05T21:13:14.835Z"
   },
   {
    "duration": 19,
    "start_time": "2023-11-05T21:13:16.609Z"
   },
   {
    "duration": 1135,
    "start_time": "2023-11-05T21:27:49.537Z"
   },
   {
    "duration": 69,
    "start_time": "2023-11-05T21:27:50.675Z"
   },
   {
    "duration": 49,
    "start_time": "2023-11-05T21:27:50.745Z"
   },
   {
    "duration": 11,
    "start_time": "2023-11-05T21:27:50.796Z"
   },
   {
    "duration": 205,
    "start_time": "2023-11-05T21:27:50.809Z"
   },
   {
    "duration": 158,
    "start_time": "2023-11-05T21:27:51.016Z"
   },
   {
    "duration": 371,
    "start_time": "2023-11-05T21:27:51.176Z"
   },
   {
    "duration": 7,
    "start_time": "2023-11-05T21:27:51.549Z"
   },
   {
    "duration": 50,
    "start_time": "2023-11-05T21:27:51.557Z"
   },
   {
    "duration": 34,
    "start_time": "2023-11-05T21:27:51.609Z"
   },
   {
    "duration": 8,
    "start_time": "2023-11-05T21:27:51.645Z"
   },
   {
    "duration": 36,
    "start_time": "2023-11-05T21:27:51.655Z"
   },
   {
    "duration": 31,
    "start_time": "2023-11-05T21:27:51.693Z"
   },
   {
    "duration": 140,
    "start_time": "2023-11-05T21:27:51.726Z"
   },
   {
    "duration": 10,
    "start_time": "2023-11-05T21:27:51.868Z"
   },
   {
    "duration": 256,
    "start_time": "2023-11-05T21:27:51.880Z"
   },
   {
    "duration": 10,
    "start_time": "2023-11-05T21:27:52.138Z"
   },
   {
    "duration": 14,
    "start_time": "2023-11-05T21:27:52.149Z"
   },
   {
    "duration": 19,
    "start_time": "2023-11-05T21:27:52.165Z"
   },
   {
    "duration": 20,
    "start_time": "2023-11-05T21:27:52.186Z"
   },
   {
    "duration": 12,
    "start_time": "2023-11-05T21:27:52.208Z"
   },
   {
    "duration": 12,
    "start_time": "2023-11-05T21:27:52.222Z"
   },
   {
    "duration": 12,
    "start_time": "2023-11-05T21:27:52.235Z"
   },
   {
    "duration": 170,
    "start_time": "2023-11-05T21:27:52.248Z"
   },
   {
    "duration": 14,
    "start_time": "2023-11-05T21:27:52.420Z"
   },
   {
    "duration": 167,
    "start_time": "2023-11-05T21:27:52.436Z"
   },
   {
    "duration": 255,
    "start_time": "2023-11-05T21:27:52.605Z"
   },
   {
    "duration": 9,
    "start_time": "2023-11-05T21:27:52.865Z"
   },
   {
    "duration": 220,
    "start_time": "2023-11-05T21:27:52.876Z"
   },
   {
    "duration": 8,
    "start_time": "2023-11-05T21:27:53.101Z"
   },
   {
    "duration": 192,
    "start_time": "2023-11-05T21:27:53.111Z"
   },
   {
    "duration": 14,
    "start_time": "2023-11-05T21:27:53.305Z"
   },
   {
    "duration": 60,
    "start_time": "2023-11-05T21:27:53.321Z"
   },
   {
    "duration": 20,
    "start_time": "2023-11-05T21:27:53.383Z"
   },
   {
    "duration": 21,
    "start_time": "2023-11-05T21:27:53.405Z"
   },
   {
    "duration": 219,
    "start_time": "2023-11-05T21:27:53.428Z"
   },
   {
    "duration": 217,
    "start_time": "2023-11-05T21:27:53.649Z"
   },
   {
    "duration": 199,
    "start_time": "2023-11-05T21:27:53.868Z"
   },
   {
    "duration": 207,
    "start_time": "2023-11-05T21:27:54.069Z"
   },
   {
    "duration": 927,
    "start_time": "2023-11-05T21:27:54.278Z"
   },
   {
    "duration": 3,
    "start_time": "2023-11-05T21:27:55.206Z"
   },
   {
    "duration": 143,
    "start_time": "2023-11-05T21:27:55.211Z"
   },
   {
    "duration": 18,
    "start_time": "2023-11-05T21:27:55.355Z"
   },
   {
    "duration": 5,
    "start_time": "2023-11-05T21:27:55.374Z"
   },
   {
    "duration": 7,
    "start_time": "2023-11-05T21:27:55.400Z"
   },
   {
    "duration": 11,
    "start_time": "2023-11-05T21:27:55.409Z"
   },
   {
    "duration": 1193,
    "start_time": "2023-11-05T21:49:36.965Z"
   },
   {
    "duration": 66,
    "start_time": "2023-11-05T21:49:38.160Z"
   },
   {
    "duration": 45,
    "start_time": "2023-11-05T21:49:38.228Z"
   },
   {
    "duration": 8,
    "start_time": "2023-11-05T21:49:38.275Z"
   },
   {
    "duration": 193,
    "start_time": "2023-11-05T21:49:38.285Z"
   },
   {
    "duration": 188,
    "start_time": "2023-11-05T21:49:38.479Z"
   },
   {
    "duration": 370,
    "start_time": "2023-11-05T21:49:38.669Z"
   },
   {
    "duration": 7,
    "start_time": "2023-11-05T21:49:39.041Z"
   },
   {
    "duration": 32,
    "start_time": "2023-11-05T21:49:39.049Z"
   },
   {
    "duration": 21,
    "start_time": "2023-11-05T21:49:39.083Z"
   },
   {
    "duration": 5,
    "start_time": "2023-11-05T21:49:39.106Z"
   },
   {
    "duration": 8,
    "start_time": "2023-11-05T21:49:39.113Z"
   },
   {
    "duration": 8,
    "start_time": "2023-11-05T21:49:39.122Z"
   },
   {
    "duration": 120,
    "start_time": "2023-11-05T21:49:39.132Z"
   },
   {
    "duration": 8,
    "start_time": "2023-11-05T21:49:39.254Z"
   },
   {
    "duration": 143,
    "start_time": "2023-11-05T21:49:39.264Z"
   },
   {
    "duration": 9,
    "start_time": "2023-11-05T21:49:39.408Z"
   },
   {
    "duration": 12,
    "start_time": "2023-11-05T21:49:39.418Z"
   },
   {
    "duration": 5,
    "start_time": "2023-11-05T21:49:39.431Z"
   },
   {
    "duration": 11,
    "start_time": "2023-11-05T21:49:39.437Z"
   },
   {
    "duration": 5,
    "start_time": "2023-11-05T21:49:39.450Z"
   },
   {
    "duration": 46,
    "start_time": "2023-11-05T21:49:39.456Z"
   },
   {
    "duration": 12,
    "start_time": "2023-11-05T21:49:39.504Z"
   },
   {
    "duration": 157,
    "start_time": "2023-11-05T21:49:39.518Z"
   },
   {
    "duration": 12,
    "start_time": "2023-11-05T21:49:39.676Z"
   },
   {
    "duration": 134,
    "start_time": "2023-11-05T21:49:39.700Z"
   },
   {
    "duration": 249,
    "start_time": "2023-11-05T21:49:39.836Z"
   },
   {
    "duration": 16,
    "start_time": "2023-11-05T21:49:40.089Z"
   },
   {
    "duration": 214,
    "start_time": "2023-11-05T21:49:40.106Z"
   },
   {
    "duration": 8,
    "start_time": "2023-11-05T21:49:40.322Z"
   },
   {
    "duration": 188,
    "start_time": "2023-11-05T21:49:40.332Z"
   },
   {
    "duration": 20,
    "start_time": "2023-11-05T21:49:40.521Z"
   },
   {
    "duration": 14,
    "start_time": "2023-11-05T21:49:40.543Z"
   },
   {
    "duration": 25,
    "start_time": "2023-11-05T21:49:40.559Z"
   },
   {
    "duration": 35,
    "start_time": "2023-11-05T21:49:40.586Z"
   },
   {
    "duration": 210,
    "start_time": "2023-11-05T21:49:40.623Z"
   },
   {
    "duration": 204,
    "start_time": "2023-11-05T21:49:40.834Z"
   },
   {
    "duration": 185,
    "start_time": "2023-11-05T21:49:41.040Z"
   },
   {
    "duration": 192,
    "start_time": "2023-11-05T21:49:41.227Z"
   },
   {
    "duration": 913,
    "start_time": "2023-11-05T21:49:41.420Z"
   },
   {
    "duration": 3,
    "start_time": "2023-11-05T21:49:42.335Z"
   },
   {
    "duration": 178,
    "start_time": "2023-11-05T21:49:42.340Z"
   },
   {
    "duration": 20,
    "start_time": "2023-11-05T21:49:42.520Z"
   },
   {
    "duration": 7,
    "start_time": "2023-11-05T21:49:42.542Z"
   },
   {
    "duration": 14,
    "start_time": "2023-11-05T21:49:42.550Z"
   },
   {
    "duration": 11,
    "start_time": "2023-11-05T21:49:42.566Z"
   },
   {
    "duration": 213,
    "start_time": "2023-11-05T21:51:08.674Z"
   },
   {
    "duration": 1141,
    "start_time": "2023-11-05T21:51:35.850Z"
   },
   {
    "duration": 67,
    "start_time": "2023-11-05T21:51:36.992Z"
   },
   {
    "duration": 45,
    "start_time": "2023-11-05T21:51:37.061Z"
   },
   {
    "duration": 8,
    "start_time": "2023-11-05T21:51:37.108Z"
   },
   {
    "duration": 171,
    "start_time": "2023-11-05T21:51:37.117Z"
   },
   {
    "duration": 157,
    "start_time": "2023-11-05T21:51:37.290Z"
   },
   {
    "duration": 352,
    "start_time": "2023-11-05T21:51:37.449Z"
   },
   {
    "duration": 6,
    "start_time": "2023-11-05T21:51:37.803Z"
   },
   {
    "duration": 12,
    "start_time": "2023-11-05T21:51:37.811Z"
   },
   {
    "duration": 11,
    "start_time": "2023-11-05T21:51:37.825Z"
   },
   {
    "duration": 4,
    "start_time": "2023-11-05T21:51:37.837Z"
   },
   {
    "duration": 6,
    "start_time": "2023-11-05T21:51:37.843Z"
   },
   {
    "duration": 5,
    "start_time": "2023-11-05T21:51:37.850Z"
   },
   {
    "duration": 146,
    "start_time": "2023-11-05T21:51:37.857Z"
   },
   {
    "duration": 8,
    "start_time": "2023-11-05T21:51:38.005Z"
   },
   {
    "duration": 113,
    "start_time": "2023-11-05T21:51:38.015Z"
   },
   {
    "duration": 9,
    "start_time": "2023-11-05T21:51:38.130Z"
   },
   {
    "duration": 13,
    "start_time": "2023-11-05T21:51:38.141Z"
   },
   {
    "duration": 5,
    "start_time": "2023-11-05T21:51:38.157Z"
   },
   {
    "duration": 45,
    "start_time": "2023-11-05T21:51:38.164Z"
   },
   {
    "duration": 10,
    "start_time": "2023-11-05T21:51:38.211Z"
   },
   {
    "duration": 13,
    "start_time": "2023-11-05T21:51:38.222Z"
   },
   {
    "duration": 11,
    "start_time": "2023-11-05T21:51:38.237Z"
   },
   {
    "duration": 170,
    "start_time": "2023-11-05T21:51:38.249Z"
   },
   {
    "duration": 12,
    "start_time": "2023-11-05T21:51:38.421Z"
   },
   {
    "duration": 148,
    "start_time": "2023-11-05T21:51:38.435Z"
   },
   {
    "duration": 268,
    "start_time": "2023-11-05T21:51:38.584Z"
   },
   {
    "duration": 9,
    "start_time": "2023-11-05T21:51:38.856Z"
   },
   {
    "duration": 223,
    "start_time": "2023-11-05T21:51:38.866Z"
   },
   {
    "duration": 17,
    "start_time": "2023-11-05T21:51:39.090Z"
   },
   {
    "duration": 190,
    "start_time": "2023-11-05T21:51:39.108Z"
   },
   {
    "duration": 17,
    "start_time": "2023-11-05T21:51:39.302Z"
   },
   {
    "duration": 13,
    "start_time": "2023-11-05T21:51:39.321Z"
   },
   {
    "duration": 26,
    "start_time": "2023-11-05T21:51:39.336Z"
   },
   {
    "duration": 45,
    "start_time": "2023-11-05T21:51:39.363Z"
   },
   {
    "duration": 208,
    "start_time": "2023-11-05T21:51:39.410Z"
   },
   {
    "duration": 217,
    "start_time": "2023-11-05T21:51:39.619Z"
   },
   {
    "duration": 200,
    "start_time": "2023-11-05T21:51:39.837Z"
   },
   {
    "duration": 196,
    "start_time": "2023-11-05T21:51:40.038Z"
   },
   {
    "duration": 907,
    "start_time": "2023-11-05T21:51:40.236Z"
   },
   {
    "duration": 4,
    "start_time": "2023-11-05T21:51:41.144Z"
   },
   {
    "duration": 152,
    "start_time": "2023-11-05T21:51:41.149Z"
   },
   {
    "duration": 18,
    "start_time": "2023-11-05T21:51:41.302Z"
   },
   {
    "duration": 6,
    "start_time": "2023-11-05T21:51:41.321Z"
   },
   {
    "duration": 6,
    "start_time": "2023-11-05T21:51:41.328Z"
   },
   {
    "duration": 9,
    "start_time": "2023-11-05T21:51:41.336Z"
   },
   {
    "duration": 1417,
    "start_time": "2024-11-25T09:32:16.334Z"
   },
   {
    "duration": 302,
    "start_time": "2024-11-25T09:32:17.753Z"
   },
   {
    "duration": 59,
    "start_time": "2024-11-25T09:32:18.057Z"
   },
   {
    "duration": 10,
    "start_time": "2024-11-25T09:32:18.118Z"
   },
   {
    "duration": 224,
    "start_time": "2024-11-25T09:32:18.129Z"
   },
   {
    "duration": 177,
    "start_time": "2024-11-25T09:32:18.354Z"
   },
   {
    "duration": 407,
    "start_time": "2024-11-25T09:32:18.532Z"
   },
   {
    "duration": 8,
    "start_time": "2024-11-25T09:32:18.941Z"
   },
   {
    "duration": 20,
    "start_time": "2024-11-25T09:32:18.950Z"
   },
   {
    "duration": 37,
    "start_time": "2024-11-25T09:32:18.972Z"
   },
   {
    "duration": 6,
    "start_time": "2024-11-25T09:32:19.011Z"
   },
   {
    "duration": 17,
    "start_time": "2024-11-25T09:32:19.019Z"
   },
   {
    "duration": 6,
    "start_time": "2024-11-25T09:32:19.037Z"
   },
   {
    "duration": 118,
    "start_time": "2024-11-25T09:32:19.045Z"
   },
   {
    "duration": 9,
    "start_time": "2024-11-25T09:32:19.165Z"
   },
   {
    "duration": 128,
    "start_time": "2024-11-25T09:32:19.175Z"
   },
   {
    "duration": 12,
    "start_time": "2024-11-25T09:32:19.305Z"
   },
   {
    "duration": 20,
    "start_time": "2024-11-25T09:32:19.319Z"
   },
   {
    "duration": 12,
    "start_time": "2024-11-25T09:32:19.341Z"
   },
   {
    "duration": 22,
    "start_time": "2024-11-25T09:32:19.354Z"
   },
   {
    "duration": 5,
    "start_time": "2024-11-25T09:32:19.378Z"
   },
   {
    "duration": 30,
    "start_time": "2024-11-25T09:32:19.400Z"
   },
   {
    "duration": 17,
    "start_time": "2024-11-25T09:32:19.432Z"
   },
   {
    "duration": 222,
    "start_time": "2024-11-25T09:32:19.451Z"
   },
   {
    "duration": 12,
    "start_time": "2024-11-25T09:32:19.675Z"
   },
   {
    "duration": 148,
    "start_time": "2024-11-25T09:32:19.688Z"
   },
   {
    "duration": 253,
    "start_time": "2024-11-25T09:32:19.838Z"
   },
   {
    "duration": 20,
    "start_time": "2024-11-25T09:32:20.095Z"
   },
   {
    "duration": 220,
    "start_time": "2024-11-25T09:32:20.116Z"
   },
   {
    "duration": 8,
    "start_time": "2024-11-25T09:32:20.338Z"
   },
   {
    "duration": 199,
    "start_time": "2024-11-25T09:32:20.347Z"
   },
   {
    "duration": 16,
    "start_time": "2024-11-25T09:32:20.547Z"
   },
   {
    "duration": 13,
    "start_time": "2024-11-25T09:32:20.564Z"
   },
   {
    "duration": 44,
    "start_time": "2024-11-25T09:32:20.578Z"
   },
   {
    "duration": 30,
    "start_time": "2024-11-25T09:32:20.623Z"
   },
   {
    "duration": 233,
    "start_time": "2024-11-25T09:32:20.654Z"
   },
   {
    "duration": 235,
    "start_time": "2024-11-25T09:32:20.889Z"
   },
   {
    "duration": 235,
    "start_time": "2024-11-25T09:32:21.126Z"
   },
   {
    "duration": 204,
    "start_time": "2024-11-25T09:32:21.362Z"
   },
   {
    "duration": 1199,
    "start_time": "2024-11-25T09:32:34.211Z"
   },
   {
    "duration": 69,
    "start_time": "2024-11-25T09:32:35.416Z"
   },
   {
    "duration": 58,
    "start_time": "2024-11-25T09:32:35.487Z"
   },
   {
    "duration": 8,
    "start_time": "2024-11-25T09:32:35.547Z"
   },
   {
    "duration": 232,
    "start_time": "2024-11-25T09:32:35.558Z"
   },
   {
    "duration": 186,
    "start_time": "2024-11-25T09:32:35.792Z"
   },
   {
    "duration": 396,
    "start_time": "2024-11-25T09:32:35.980Z"
   },
   {
    "duration": 7,
    "start_time": "2024-11-25T09:32:36.378Z"
   },
   {
    "duration": 71,
    "start_time": "2024-11-25T09:32:36.403Z"
   },
   {
    "duration": 24,
    "start_time": "2024-11-25T09:32:36.475Z"
   },
   {
    "duration": 68,
    "start_time": "2024-11-25T09:32:36.503Z"
   },
   {
    "duration": 6,
    "start_time": "2024-11-25T09:32:36.573Z"
   },
   {
    "duration": 7,
    "start_time": "2024-11-25T09:32:36.581Z"
   },
   {
    "duration": 162,
    "start_time": "2024-11-25T09:32:36.592Z"
   },
   {
    "duration": 9,
    "start_time": "2024-11-25T09:32:36.755Z"
   },
   {
    "duration": 126,
    "start_time": "2024-11-25T09:32:36.766Z"
   },
   {
    "duration": 20,
    "start_time": "2024-11-25T09:32:36.893Z"
   },
   {
    "duration": 51,
    "start_time": "2024-11-25T09:32:36.915Z"
   },
   {
    "duration": 8,
    "start_time": "2024-11-25T09:32:36.968Z"
   },
   {
    "duration": 15,
    "start_time": "2024-11-25T09:32:36.978Z"
   },
   {
    "duration": 45,
    "start_time": "2024-11-25T09:32:36.995Z"
   },
   {
    "duration": 46,
    "start_time": "2024-11-25T09:32:37.041Z"
   },
   {
    "duration": 25,
    "start_time": "2024-11-25T09:32:37.089Z"
   },
   {
    "duration": 201,
    "start_time": "2024-11-25T09:32:37.116Z"
   },
   {
    "duration": 15,
    "start_time": "2024-11-25T09:32:37.320Z"
   },
   {
    "duration": 178,
    "start_time": "2024-11-25T09:32:37.337Z"
   },
   {
    "duration": 302,
    "start_time": "2024-11-25T09:32:37.517Z"
   },
   {
    "duration": 10,
    "start_time": "2024-11-25T09:32:37.821Z"
   },
   {
    "duration": 233,
    "start_time": "2024-11-25T09:32:37.833Z"
   },
   {
    "duration": 9,
    "start_time": "2024-11-25T09:32:38.067Z"
   },
   {
    "duration": 220,
    "start_time": "2024-11-25T09:32:38.077Z"
   },
   {
    "duration": 29,
    "start_time": "2024-11-25T09:32:38.301Z"
   },
   {
    "duration": 16,
    "start_time": "2024-11-25T09:32:38.331Z"
   },
   {
    "duration": 23,
    "start_time": "2024-11-25T09:32:38.349Z"
   },
   {
    "duration": 43,
    "start_time": "2024-11-25T09:32:38.374Z"
   },
   {
    "duration": 243,
    "start_time": "2024-11-25T09:32:38.419Z"
   },
   {
    "duration": 240,
    "start_time": "2024-11-25T09:32:38.664Z"
   },
   {
    "duration": 219,
    "start_time": "2024-11-25T09:32:38.907Z"
   },
   {
    "duration": 226,
    "start_time": "2024-11-25T09:32:39.128Z"
   },
   {
    "duration": 925,
    "start_time": "2024-11-25T09:32:39.355Z"
   },
   {
    "duration": 19,
    "start_time": "2024-11-25T09:32:40.284Z"
   },
   {
    "duration": 157,
    "start_time": "2024-11-25T09:32:40.304Z"
   },
   {
    "duration": 17,
    "start_time": "2024-11-25T09:32:40.463Z"
   },
   {
    "duration": 30,
    "start_time": "2024-11-25T09:32:40.481Z"
   },
   {
    "duration": 6,
    "start_time": "2024-11-25T09:32:40.516Z"
   },
   {
    "duration": 11,
    "start_time": "2024-11-25T09:32:40.524Z"
   }
  ],
  "kernelspec": {
   "display_name": "Python 3 (ipykernel)",
   "language": "python",
   "name": "python3"
  },
  "language_info": {
   "codemirror_mode": {
    "name": "ipython",
    "version": 3
   },
   "file_extension": ".py",
   "mimetype": "text/x-python",
   "name": "python",
   "nbconvert_exporter": "python",
   "pygments_lexer": "ipython3",
   "version": "3.10.9"
  },
  "toc": {
   "base_numbering": 1,
   "nav_menu": {},
   "number_sections": true,
   "sideBar": true,
   "skip_h1_title": true,
   "title_cell": "Table of Contents",
   "title_sidebar": "Contents",
   "toc_cell": false,
   "toc_position": {},
   "toc_section_display": true,
   "toc_window_display": true
  }
 },
 "nbformat": 4,
 "nbformat_minor": 5
}
