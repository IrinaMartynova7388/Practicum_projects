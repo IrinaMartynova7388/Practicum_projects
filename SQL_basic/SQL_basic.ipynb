{
 "cells": [
  {
   "cell_type": "markdown",
   "id": "0eeb06fe",
   "metadata": {},
   "source": [
    "## Исследование данных об инвестициях венчурных фондов в компании-стартапы"
   ]
  },
  {
   "cell_type": "markdown",
   "id": "d6f7edc5",
   "metadata": {},
   "source": [
    "В рамках данного исследования необходимо проанализировать данные о фондах и инвестициях и написать запросы к базе. База данных хранит информацию о венчурных фондах и инвестициях в компании-стартапы. Эта база данных основана на датасете Startup Investments, опубликованном на популярной платформе для соревнований по исследованию данных Kaggle. "
   ]
  },
  {
   "cell_type": "markdown",
   "id": "13da235c",
   "metadata": {},
   "source": [
    "### Задание 1"
   ]
  },
  {
   "cell_type": "markdown",
   "id": "bf2cb892",
   "metadata": {},
   "source": [
    "Отобразите все записи из таблицы company по компаниям, которые закрылись."
   ]
  },
  {
   "cell_type": "code",
   "execution_count": null,
   "id": "ca3ab00a",
   "metadata": {},
   "outputs": [],
   "source": [
    "'''\n",
    "SELECT COUNT(status)\n",
    "FROM company\n",
    "WHERE status = 'closed';\n",
    "'''"
   ]
  },
  {
   "cell_type": "markdown",
   "id": "fe8952a4",
   "metadata": {},
   "source": [
    "### Задание 2"
   ]
  },
  {
   "cell_type": "markdown",
   "id": "a535d4c6",
   "metadata": {},
   "source": [
    "Отобразите количество привлечённых средств для новостных компаний США. Используйте данные из таблицы company. Отсортируйте таблицу по убыванию значений в поле funding_total."
   ]
  },
  {
   "cell_type": "code",
   "execution_count": null,
   "id": "8046d3c2",
   "metadata": {},
   "outputs": [],
   "source": [
    "'''\n",
    "SELECT funding_total\n",
    "FROM company\n",
    "WHERE category_code LIKE 'news' AND country_code LIKE 'USA'\n",
    "ORDER BY funding_total DESC;\n",
    "'''"
   ]
  },
  {
   "cell_type": "markdown",
   "id": "13812c87",
   "metadata": {},
   "source": [
    "### Задание 3"
   ]
  },
  {
   "cell_type": "markdown",
   "id": "8dfff512",
   "metadata": {},
   "source": [
    "Найдите общую сумму сделок по покупке одних компаний другими в долларах. Отберите сделки, которые осуществлялись только за наличные с 2011 по 2013 год включительно."
   ]
  },
  {
   "cell_type": "code",
   "execution_count": null,
   "id": "728fe330",
   "metadata": {},
   "outputs": [],
   "source": [
    "'''\n",
    "SELECT SUM(price_amount)\n",
    "FROM acquisition\n",
    "WHERE term_code LIKE 'cash'\n",
    "AND EXTRACT(YEAR FROM CAST(acquired_at AS date)) BETWEEN 2011 AND 2013;\n",
    "'''"
   ]
  },
  {
   "cell_type": "markdown",
   "id": "e9e30fef",
   "metadata": {},
   "source": [
    "### Задание 4"
   ]
  },
  {
   "cell_type": "markdown",
   "id": "1f3ce666",
   "metadata": {},
   "source": [
    "Отобразите имя, фамилию и названия аккаунтов людей в поле network_username, у которых названия аккаунтов начинаются на 'Silver'."
   ]
  },
  {
   "cell_type": "code",
   "execution_count": null,
   "id": "c431c05f",
   "metadata": {},
   "outputs": [],
   "source": [
    "'''\n",
    "SELECT first_name, last_name, twitter_username\n",
    "FROM people\n",
    "WHERE twitter_username LIKE 'Silver%';\n",
    "'''"
   ]
  },
  {
   "cell_type": "markdown",
   "id": "ade24565",
   "metadata": {},
   "source": [
    "### Задание 5"
   ]
  },
  {
   "cell_type": "markdown",
   "id": "938cd23b",
   "metadata": {},
   "source": [
    "Выведите на экран всю информацию о людях, у которых названия аккаунтов в поле network_username содержат подстроку 'money', а фамилия начинается на 'K'."
   ]
  },
  {
   "cell_type": "code",
   "execution_count": null,
   "id": "22ac7161",
   "metadata": {},
   "outputs": [],
   "source": [
    "'''\n",
    "SELECT *\n",
    "FROM people\n",
    "WHERE twitter_username LIKE '%money%'\n",
    "AND last_name LIKE 'K%';\n",
    "'''"
   ]
  },
  {
   "cell_type": "markdown",
   "id": "030c8c69",
   "metadata": {},
   "source": [
    "### Задание 6"
   ]
  },
  {
   "cell_type": "markdown",
   "id": "5da13cb7",
   "metadata": {},
   "source": [
    "Для каждой страны отобразите общую сумму привлечённых инвестиций, которые получили компании, зарегистрированные в этой стране. Страну, в которой зарегистрирована компания, можно определить по коду страны. Отсортируйте данные по убыванию суммы."
   ]
  },
  {
   "cell_type": "code",
   "execution_count": null,
   "id": "d936d039",
   "metadata": {},
   "outputs": [],
   "source": [
    "'''\n",
    "SELECT country_code, SUM(funding_total)\n",
    "FROM company\n",
    "GROUP BY country_code\n",
    "ORDER BY SUM(funding_total) DESC;\n",
    "'''"
   ]
  },
  {
   "cell_type": "markdown",
   "id": "d5f8d1e3",
   "metadata": {},
   "source": [
    "### Задание 7"
   ]
  },
  {
   "cell_type": "markdown",
   "id": "b540bab4",
   "metadata": {},
   "source": [
    "Составьте таблицу, в которую войдёт дата проведения раунда, а также минимальное и максимальное значения суммы инвестиций, привлечённых в эту дату.\n",
    "Оставьте в итоговой таблице только те записи, в которых минимальное значение суммы инвестиций не равно нулю и не равно максимальному значению."
   ]
  },
  {
   "cell_type": "code",
   "execution_count": null,
   "id": "ebf14406",
   "metadata": {},
   "outputs": [],
   "source": [
    "'''\n",
    "SELECT funded_at, MIN(raised_amount), MAX(raised_amount)\n",
    "FROM funding_round\n",
    "GROUP BY funded_at\n",
    "HAVING MIN(raised_amount) != 0 AND MIN(raised_amount) != MAX(raised_amount);\n",
    "'''"
   ]
  },
  {
   "cell_type": "markdown",
   "id": "f63afe68",
   "metadata": {},
   "source": [
    "### Задание 8"
   ]
  },
  {
   "cell_type": "markdown",
   "id": "fb458c37",
   "metadata": {},
   "source": [
    "Создайте поле с категориями:\n",
    "Для фондов, которые инвестируют в 100 и более компаний, назначьте категорию high_activity.\n",
    "Для фондов, которые инвестируют в 20 и более компаний до 100, назначьте категорию middle_activity.\n",
    "Если количество инвестируемых компаний фонда не достигает 20, назначьте категорию low_activity.\n",
    "Отобразите все поля таблицы fund и новое поле с категориями."
   ]
  },
  {
   "cell_type": "code",
   "execution_count": null,
   "id": "c911fd3b",
   "metadata": {},
   "outputs": [],
   "source": [
    "'''\n",
    "SELECT *,\n",
    "        CASE\n",
    "           WHEN invested_companies >= 100 THEN 'high_activity' \n",
    "           WHEN invested_companies >= 20 AND invested_companies < 100 THEN 'middle_activity'\n",
    "           WHEN invested_companies < 20 THEN 'low_activity'\n",
    "        END\n",
    "FROM fund;\n",
    "'''"
   ]
  },
  {
   "cell_type": "markdown",
   "id": "85455a58",
   "metadata": {},
   "source": [
    "### Задание 9"
   ]
  },
  {
   "cell_type": "markdown",
   "id": "ef7f8561",
   "metadata": {},
   "source": [
    "Для каждой из категорий, назначенных в предыдущем задании, посчитайте округлённое до ближайшего целого числа среднее количество инвестиционных раундов, в которых фонд принимал участие. Выведите на экран категории и среднее число инвестиционных раундов. Отсортируйте таблицу по возрастанию среднего."
   ]
  },
  {
   "cell_type": "code",
   "execution_count": null,
   "id": "d7f1f45d",
   "metadata": {},
   "outputs": [],
   "source": [
    "'''\n",
    "SELECT \n",
    "       CASE\n",
    "           WHEN invested_companies>=100 THEN 'high_activity'\n",
    "           WHEN invested_companies>=20 THEN 'middle_activity'\n",
    "           ELSE 'low_activity'\n",
    "       END AS activity,\n",
    "ROUND(AVG(investment_rounds))\n",
    "FROM fund\n",
    "GROUP BY activity\n",
    "ORDER BY ROUND(AVG(investment_rounds));\n",
    "'''"
   ]
  },
  {
   "cell_type": "markdown",
   "id": "e3974557",
   "metadata": {},
   "source": [
    "### Задание 10"
   ]
  },
  {
   "cell_type": "markdown",
   "id": "67fee47c",
   "metadata": {},
   "source": [
    "Проанализируйте, в каких странах находятся фонды, которые чаще всего инвестируют в стартапы. \n",
    "Для каждой страны посчитайте минимальное, максимальное и среднее число компаний, в которые инвестировали фонды этой страны, основанные с 2010 по 2012 год включительно. Исключите страны с фондами, у которых минимальное число компаний, получивших инвестиции, равно нулю. \n",
    "Выгрузите десять самых активных стран-инвесторов: отсортируйте таблицу по среднему количеству компаний от большего к меньшему. Затем добавьте сортировку по коду страны в лексикографическом порядке."
   ]
  },
  {
   "cell_type": "code",
   "execution_count": null,
   "id": "af3922c9",
   "metadata": {},
   "outputs": [],
   "source": [
    "'''\n",
    "SELECT country_code, \n",
    "MIN(invested_companies),\n",
    "MAX(invested_companies),\n",
    "AVG(invested_companies)\n",
    "FROM fund\n",
    "WHERE EXTRACT(YEAR FROM CAST(founded_at AS date)) BETWEEN 2010 AND 2012\n",
    "GROUP BY country_code\n",
    "HAVING MIN(invested_companies) > 0\n",
    "ORDER BY AVG(invested_companies) DESC, country_code\n",
    "LIMIT 10;\n",
    "'''"
   ]
  },
  {
   "cell_type": "markdown",
   "id": "17c5183f",
   "metadata": {},
   "source": [
    "### Задание 11"
   ]
  },
  {
   "cell_type": "markdown",
   "id": "158cce02",
   "metadata": {},
   "source": [
    "Отобразите имя и фамилию всех сотрудников стартапов. Добавьте поле с названием учебного заведения, которое окончил сотрудник, если эта информация известна."
   ]
  },
  {
   "cell_type": "code",
   "execution_count": null,
   "id": "f3b967ae",
   "metadata": {},
   "outputs": [],
   "source": [
    "'''\n",
    "SELECT first_name, last_name, instituition\n",
    "FROM people\n",
    "LEFT JOIN education ON people.id = education.person_id;\n",
    "'''"
   ]
  },
  {
   "cell_type": "markdown",
   "id": "61c16ffd",
   "metadata": {},
   "source": [
    "### Задание 12"
   ]
  },
  {
   "cell_type": "markdown",
   "id": "9826d210",
   "metadata": {},
   "source": [
    "Для каждой компании найдите количество учебных заведений, которые окончили её сотрудники. Выведите название компании и число уникальных названий учебных заведений. Составьте топ-5 компаний по количеству университетов."
   ]
  },
  {
   "cell_type": "code",
   "execution_count": null,
   "id": "cf3143a5",
   "metadata": {},
   "outputs": [],
   "source": [
    "'''\n",
    "SELECT c.name,\n",
    "COUNT(DISTINCT(instituition))\n",
    "FROM company AS c\n",
    "LEFT JOIN people AS p ON c.id = p.company_id\n",
    "LEFT JOIN education AS e ON p.id = e.person_id\n",
    "GROUP BY c.id\n",
    "ORDER BY COUNT(DISTINCT(instituition)) DESC\n",
    "LIMIT 5;\n",
    "'''"
   ]
  },
  {
   "cell_type": "markdown",
   "id": "3240bfca",
   "metadata": {},
   "source": [
    "### Задание 13"
   ]
  },
  {
   "cell_type": "markdown",
   "id": "84eb8365",
   "metadata": {},
   "source": [
    "Составьте список с уникальными названиями закрытых компаний, для которых первый раунд финансирования оказался последним."
   ]
  },
  {
   "cell_type": "code",
   "execution_count": null,
   "id": "f7122aa3",
   "metadata": {},
   "outputs": [],
   "source": [
    "'''\n",
    "SELECT DISTINCT(c.name)\n",
    "FROM company AS c\n",
    "JOIN funding_round AS fr ON c.id=fr.company_id\n",
    "WHERE c.status = 'closed' AND fr.is_last_round = 1 AND fr.is_first_round = 1;\n",
    "'''"
   ]
  },
  {
   "cell_type": "markdown",
   "id": "8e4cf4f3",
   "metadata": {},
   "source": [
    "### Задание 14"
   ]
  },
  {
   "cell_type": "markdown",
   "id": "752d3421",
   "metadata": {},
   "source": [
    "Составьте список уникальных номеров сотрудников, которые работают в компаниях, отобранных в предыдущем задании."
   ]
  },
  {
   "cell_type": "code",
   "execution_count": null,
   "id": "6e5221ef",
   "metadata": {},
   "outputs": [],
   "source": [
    "'''\n",
    "SELECT p.id\n",
    "FROM people AS p\n",
    "WHERE p.company_id IN\n",
    "(SELECT DISTINCT(c.id)\n",
    "FROM company AS c\n",
    "JOIN funding_round AS fr ON c.id=fr.company_id\n",
    "WHERE c.status = 'closed' AND fr.is_last_round = 1 AND fr.is_first_round = 1)\n",
    "'''"
   ]
  },
  {
   "cell_type": "markdown",
   "id": "ca0cb2fe",
   "metadata": {},
   "source": [
    "### Задание 15"
   ]
  },
  {
   "cell_type": "markdown",
   "id": "3ee365f0",
   "metadata": {},
   "source": [
    "Составьте таблицу, куда войдут уникальные пары с номерами сотрудников из предыдущей задачи и учебным заведением, которое окончил сотрудник."
   ]
  },
  {
   "cell_type": "code",
   "execution_count": null,
   "id": "de0549c0",
   "metadata": {},
   "outputs": [],
   "source": [
    "'''\n",
    "WITH\n",
    "p_id AS\n",
    "(SELECT p.id\n",
    "FROM people AS p\n",
    "WHERE p.company_id IN\n",
    "(SELECT DISTINCT(c.id)\n",
    "FROM company AS c\n",
    "JOIN funding_round AS fr ON c.id=fr.company_id\n",
    "WHERE c.status = 'closed' AND fr.is_last_round = 1 AND fr.is_first_round = 1))\n",
    "\n",
    "SELECT DISTINCT(person_id), instituition\n",
    "FROM education AS e\n",
    "JOIN p_id ON e.person_id=p_id.id\n",
    "'''"
   ]
  },
  {
   "cell_type": "markdown",
   "id": "04384125",
   "metadata": {},
   "source": [
    "### Задание 16"
   ]
  },
  {
   "cell_type": "markdown",
   "id": "857d2227",
   "metadata": {},
   "source": [
    "Посчитайте количество учебных заведений для каждого сотрудника из предыдущего задания. При подсчёте учитывайте, что некоторые сотрудники могли окончить одно и то же заведение дважды."
   ]
  },
  {
   "cell_type": "code",
   "execution_count": null,
   "id": "7758226a",
   "metadata": {},
   "outputs": [],
   "source": [
    "'''\n",
    "WITH\n",
    "p_id AS\n",
    "(SELECT p.id\n",
    "FROM people AS p\n",
    "WHERE p.company_id IN\n",
    "(SELECT DISTINCT(c.id)\n",
    "FROM company AS c\n",
    "JOIN funding_round AS fr ON c.id=fr.company_id\n",
    "WHERE c.status = 'closed' AND fr.is_last_round = 1 AND fr.is_first_round = 1))\n",
    "\n",
    "SELECT person_id, COUNT(instituition)\n",
    "FROM education AS e\n",
    "JOIN p_id ON e.person_id=p_id.id\n",
    "GROUP BY person_id\n",
    "'''"
   ]
  },
  {
   "cell_type": "markdown",
   "id": "9d3b0641",
   "metadata": {},
   "source": [
    "### Задание 17"
   ]
  },
  {
   "cell_type": "markdown",
   "id": "f24f01c0",
   "metadata": {},
   "source": [
    "Дополните предыдущий запрос и выведите среднее число учебных заведений (всех, не только уникальных), которые окончили сотрудники разных компаний. Нужно вывести только одну запись, группировка здесь не понадобится."
   ]
  },
  {
   "cell_type": "code",
   "execution_count": null,
   "id": "7e95aa69",
   "metadata": {},
   "outputs": [],
   "source": [
    "'''\n",
    "WITH\n",
    "p_id AS\n",
    "(SELECT p.id\n",
    "FROM people AS p\n",
    "WHERE p.company_id IN\n",
    "(SELECT DISTINCT(c.id)\n",
    "FROM company AS c\n",
    "JOIN funding_round AS fr ON c.id=fr.company_id\n",
    "WHERE c.status = 'closed' AND fr.is_last_round = 1 AND fr.is_first_round = 1)),\n",
    "\n",
    "total AS\n",
    "(SELECT person_id, COUNT(instituition)\n",
    "FROM education AS e\n",
    "JOIN p_id ON e.person_id=p_id.id\n",
    "GROUP BY person_id)\n",
    "\n",
    "SELECT AVG(count)\n",
    "FROM total;\n",
    "'''"
   ]
  },
  {
   "cell_type": "markdown",
   "id": "672be9f8",
   "metadata": {},
   "source": [
    "### Задание 18"
   ]
  },
  {
   "cell_type": "markdown",
   "id": "f3c82d51",
   "metadata": {},
   "source": [
    "Напишите похожий запрос: выведите среднее число учебных заведений (всех, не только уникальных), которые окончили сотрудники Socialnet."
   ]
  },
  {
   "cell_type": "code",
   "execution_count": null,
   "id": "9b9f70ca",
   "metadata": {},
   "outputs": [],
   "source": [
    "'''\n",
    "WITH\n",
    "table_1 AS\n",
    "(SELECT p.id\n",
    "FROM people AS p \n",
    "JOIN company AS c ON p.company_id=c.id\n",
    "WHERE c.name = 'Socialnet'),\n",
    "\n",
    "table_2 AS\n",
    "(SELECT person_id, COUNT(instituition)\n",
    "FROM education\n",
    "GROUP BY person_id),\n",
    "\n",
    "total AS\n",
    "(SELECT person_id, COUNT(instituition)\n",
    "FROM education AS e\n",
    "JOIN table_1 ON e.person_id=table_1.id\n",
    "GROUP BY person_id)\n",
    "\n",
    "SELECT AVG(count)\n",
    "FROM total;\n",
    "'''"
   ]
  },
  {
   "cell_type": "markdown",
   "id": "85a9bfe6",
   "metadata": {},
   "source": [
    "### Задание 19"
   ]
  },
  {
   "cell_type": "markdown",
   "id": "31450d92",
   "metadata": {},
   "source": [
    "Составьте таблицу из полей:\n",
    "name_of_fund — название фонда;\n",
    "name_of_company — название компании;\n",
    "amount — сумма инвестиций, которую привлекла компания в раунде.\n",
    "В таблицу войдут данные о компаниях, в истории которых было больше шести важных этапов, а раунды финансирования проходили с 2012 по 2013 год включительно."
   ]
  },
  {
   "cell_type": "code",
   "execution_count": null,
   "id": "5b28f61b",
   "metadata": {},
   "outputs": [],
   "source": [
    "'''\n",
    "SELECT \n",
    "f.name AS name_of_fund,\n",
    "c.name AS name_of_company,\n",
    "fr.raised_amount AS amount\n",
    "FROM funding_round AS fr\n",
    "INNER JOIN investment AS i ON fr.id = i.funding_round_id\n",
    "INNER JOIN fund AS f ON i.fund_id = f.id\n",
    "INNER JOIN company AS c ON fr.company_id = c.id\n",
    "WHERE EXTRACT(YEAR FROM CAST(fr.funded_at AS date)) BETWEEN 2012 AND 2013\n",
    "AND c.milestones > 6;\n",
    "'''"
   ]
  },
  {
   "cell_type": "markdown",
   "id": "e67cae61",
   "metadata": {},
   "source": [
    "### Задание 20"
   ]
  },
  {
   "cell_type": "markdown",
   "id": "a7ea55e6",
   "metadata": {},
   "source": [
    "Выгрузите таблицу, в которой будут такие поля:\n",
    "- название компании-покупателя;\n",
    "- сумма сделки;\n",
    "- название компании, которую купили;\n",
    "- сумма инвестиций, вложенных в купленную компанию;\n",
    "- доля, которая отображает, во сколько раз сумма покупки превысила сумму вложенных в компанию инвестиций, округлённая до ближайшего целого числа.\n",
    "\n",
    "Не учитывайте те сделки, в которых сумма покупки равна нулю. Если сумма инвестиций в компанию равна нулю, исключите такую компанию из таблицы. \n",
    "Отсортируйте таблицу по сумме сделки от большей к меньшей, а затем по названию купленной компании в лексикографическом порядке. Ограничьте таблицу первыми десятью записями."
   ]
  },
  {
   "cell_type": "code",
   "execution_count": null,
   "id": "7ec53b11",
   "metadata": {},
   "outputs": [],
   "source": [
    "'''\n",
    "SELECT c_acquiring.name, \n",
    "       a.price_amount, \n",
    "       c_acquired.name,\n",
    "       c_acquired.funding_total, \n",
    "       ROUND(a.price_amount/c_acquired.funding_total)\n",
    "FROM acquisition AS a\n",
    "LEFT JOIN company AS c_acquiring ON c_acquiring.id = a.acquiring_company_id\n",
    "LEFT JOIN company AS c_acquired ON c_acquired.id =a.acquired_company_id\n",
    "WHERE a.price_amount > 0 AND c_acquired.funding_total > 0\n",
    "ORDER BY a.price_amount DESC, c_acquired.name\n",
    "LIMIT 10;\n",
    "'''"
   ]
  },
  {
   "cell_type": "markdown",
   "id": "faa36572",
   "metadata": {},
   "source": [
    "### Задание 21"
   ]
  },
  {
   "cell_type": "markdown",
   "id": "37a2fe91",
   "metadata": {},
   "source": [
    "Выгрузите таблицу, в которую войдут названия компаний из категории social, получившие финансирование с 2010 по 2013 год включительно. Проверьте, что сумма инвестиций не равна нулю. Выведите также номер месяца, в котором проходил раунд финансирования."
   ]
  },
  {
   "cell_type": "code",
   "execution_count": null,
   "id": "162c70d9",
   "metadata": {},
   "outputs": [],
   "source": [
    "'''\n",
    "SELECT c.name, EXTRACT(MONTH FROM CAST(fr.funded_at AS date))\n",
    "FROM company AS c\n",
    "LEFT JOIN funding_round AS fr ON c.id = fr.company_id\n",
    "WHERE c.category_code LIKE 'social'\n",
    "AND EXTRACT(YEAR FROM CAST(fr.funded_at AS date)) BETWEEN 2010 AND 2013\n",
    "AND fr.raised_amount > 0;\n",
    "'''"
   ]
  },
  {
   "cell_type": "markdown",
   "id": "ce46781b",
   "metadata": {},
   "source": [
    "### Задание 22"
   ]
  },
  {
   "cell_type": "markdown",
   "id": "ceab21df",
   "metadata": {},
   "source": [
    "Отберите данные по месяцам с 2010 по 2013 год, когда проходили инвестиционные раунды. Сгруппируйте данные по номеру месяца и получите таблицу, в которой будут поля:\n",
    "- номер месяца, в котором проходили раунды;\n",
    "- количество уникальных названий фондов из США, которые инвестировали в этом месяце;\n",
    "- количество компаний, купленных за этот месяц;\n",
    "- общая сумма сделок по покупкам в этом месяце."
   ]
  },
  {
   "cell_type": "code",
   "execution_count": null,
   "id": "6cd74d41",
   "metadata": {},
   "outputs": [],
   "source": [
    "'''\n",
    "WITH\n",
    "table_1 AS\n",
    "(SELECT EXTRACT(MONTH FROM CAST(fr.funded_at AS date)) AS month,\n",
    "COUNT(DISTINCT(f.name)) AS funds\n",
    "FROM funding_round AS fr\n",
    "INNER JOIN investment AS i ON fr.id=i.funding_round_id\n",
    "INNER JOIN fund AS f ON i.fund_id=f.id\n",
    "WHERE f.country_code = 'USA'\n",
    "AND EXTRACT(YEAR FROM CAST(fr.funded_at AS date)) BETWEEN 2010 AND 2013\n",
    "GROUP BY month),\n",
    "\n",
    "table_2 AS\n",
    "(SELECT EXTRACT(MONTH FROM CAST(a.acquired_at AS date)) AS month,\n",
    "COUNT(a.acquired_company_id) AS count,\n",
    "SUM(a.price_amount) AS sum\n",
    "FROM acquisition AS a\n",
    "WHERE EXTRACT(YEAR FROM CAST(a.acquired_at AS date)) BETWEEN 2010 AND 2013\n",
    "GROUP BY month)\n",
    "\n",
    "SELECT table_1.month, table_1.funds, table_2.count, table_2.sum\n",
    "FROM table_2\n",
    "JOIN table_1 ON table_2.month = table_1.month;\n",
    "'''"
   ]
  },
  {
   "cell_type": "markdown",
   "id": "b7133c92",
   "metadata": {},
   "source": [
    "### Задание 23"
   ]
  },
  {
   "cell_type": "markdown",
   "id": "12fa1aab",
   "metadata": {},
   "source": [
    "Составьте сводную таблицу и выведите среднюю сумму инвестиций для стран, в которых есть стартапы, зарегистрированные в 2011, 2012 и 2013 годах. Данные за каждый год должны быть в отдельном поле. Отсортируйте таблицу по среднему значению инвестиций за 2011 год от большего к меньшему."
   ]
  },
  {
   "cell_type": "code",
   "execution_count": null,
   "id": "3f2b860a",
   "metadata": {},
   "outputs": [],
   "source": [
    "'''\n",
    "WITH\n",
    "inv_2011 AS (SELECT country_code, AVG(funding_total) AS avg_2011\n",
    "FROM company\n",
    "WHERE EXTRACT(YEAR FROM CAST(founded_at AS date)) = 2011\n",
    "GROUP BY country_code),\n",
    "\n",
    "inv_2012 AS (SELECT country_code, AVG(funding_total) AS avg_2012\n",
    "FROM company\n",
    "WHERE EXTRACT(YEAR FROM CAST(founded_at AS date)) = 2012\n",
    "GROUP BY country_code),\n",
    "\n",
    "inv_2013 AS (SELECT country_code, AVG(funding_total) AS avg_2013\n",
    "FROM company\n",
    "WHERE EXTRACT(YEAR FROM CAST(founded_at AS date)) = 2013\n",
    "GROUP BY country_code)\n",
    "\n",
    "SELECT inv_2011.country_code, \n",
    "       inv_2011.avg_2011, \n",
    "       inv_2012.avg_2012, \n",
    "       inv_2013.avg_2013       \n",
    "FROM inv_2011 \n",
    "INNER JOIN inv_2012 ON inv_2011.country_code = inv_2012.country_code\n",
    "INNER JOIN inv_2013 ON inv_2011.country_code = inv_2013.country_code\n",
    "ORDER BY inv_2011.avg_2011 DESC;\n",
    "'''"
   ]
  }
 ],
 "metadata": {
  "kernelspec": {
   "display_name": "Python 3 (ipykernel)",
   "language": "python",
   "name": "python3"
  },
  "language_info": {
   "codemirror_mode": {
    "name": "ipython",
    "version": 3
   },
   "file_extension": ".py",
   "mimetype": "text/x-python",
   "name": "python",
   "nbconvert_exporter": "python",
   "pygments_lexer": "ipython3",
   "version": "3.10.9"
  }
 },
 "nbformat": 4,
 "nbformat_minor": 5
}
